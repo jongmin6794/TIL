{
 "cells": [
  {
   "cell_type": "code",
   "execution_count": 8,
   "metadata": {},
   "outputs": [
    {
     "data": {
      "text/plain": [
       "'\\n전처리 : 결측치, 표준화, 정규화\\n\\n정규화 : (각 속성값-최소값) / (각 속성의 최대값 - 최소값) => 0~1사이의 값으로\\n표준화 : 평균을 0으로 표준편차를 1로 (각 속성값-평균) / 표준편차\\none-hot encoding : 메모리 낭비 심함 => 사이즈가 작은 것은 괜찮지만 큰건 비효율 => 밀집벡터\\n밀집벡터(워드2벡터)\\n'"
      ]
     },
     "execution_count": 8,
     "metadata": {},
     "output_type": "execute_result"
    }
   ],
   "source": [
    "# numpy(전처리). pandas(분석)\n",
    "# matplotlib, seaborn 시각화\n",
    "\n",
    "'''\n",
    "전처리 : 결측치, 표준화, 정규화\n",
    "\n",
    "정규화 : (각 속성값-최소값) / (각 속성의 최대값 - 최소값) => 0~1사이의 값으로\n",
    "표준화 : 평균을 0으로 표준편차를 1로 (각 속성값-평균) / 표준편차\n",
    "one-hot encoding : 메모리 낭비 심함 => 사이즈가 작은 것은 괜찮지만 큰건 비효율 => 밀집벡터\n",
    "밀집벡터(워드2벡터)\n",
    "'''"
   ]
  },
  {
   "cell_type": "code",
   "execution_count": 9,
   "metadata": {},
   "outputs": [
    {
     "data": {
      "text/plain": [
       "'\\n리스트 : 속도 느림, 메모리 많이 차지\\n배열(array) : 속도 빠름, 메모리 적게 차지\\n\\n넘파이 배열과 리스트의 차이점\\n- 리스트: 모든 데이터저장 가능\\n- 배열: 모두 같은 자료형으로 통일해 주어야함, 원소개수 변경 못함\\n- 배열은 파이썬에서 제공하지 않음\\n- 파이썬 환경에서 넘파이 패키지를 활용하여 배열을 사용할 수 있음\\n\\n\\n넘파이 : 수치해서 패키지, 다차원 배열 구조 \\n        벡터, 행렬을 사용하는 선행대수 계산시 사용\\n        넘파이 배열 연산 빠름(벡터화 연산)'"
      ]
     },
     "execution_count": 9,
     "metadata": {},
     "output_type": "execute_result"
    }
   ],
   "source": [
    "'''\n",
    "리스트 : 속도 느림, 메모리 많이 차지\n",
    "배열(array) : 속도 빠름, 메모리 적게 차지\n",
    "\n",
    "넘파이 배열과 리스트의 차이점\n",
    "- 리스트: 모든 데이터저장 가능\n",
    "- 배열: 모두 같은 자료형으로 통일해 주어야함, 원소개수 변경 못함\n",
    "- 배열은 파이썬에서 제공하지 않음\n",
    "- 파이썬 환경에서 넘파이 패키지를 활용하여 배열을 사용할 수 있음\n",
    "\n",
    "\n",
    "넘파이 : 수치해서 패키지, 다차원 배열 구조 \n",
    "        벡터, 행렬을 사용하는 선행대수 계산시 사용\n",
    "        넘파이 배열 연산 빠름(벡터화 연산)'''"
   ]
  },
  {
   "cell_type": "code",
   "execution_count": 1,
   "metadata": {},
   "outputs": [
    {
     "data": {
      "text/plain": [
       "numpy.ndarray"
      ]
     },
     "execution_count": 1,
     "metadata": {},
     "output_type": "execute_result"
    }
   ],
   "source": [
    "#1차원 배열\n",
    "import numpy\n",
    "ar=numpy.array([0,1,2,3,4])\n",
    "ar\n",
    "type(ar)"
   ]
  },
  {
   "cell_type": "code",
   "execution_count": 2,
   "metadata": {},
   "outputs": [],
   "source": [
    "#100*100 크기의 이미지 픽셀 :10000개\n",
    "#    0~255사이의 gray scale\n",
    "#    => 몇차원? 10000차원...???"
   ]
  },
  {
   "cell_type": "code",
   "execution_count": 14,
   "metadata": {},
   "outputs": [
    {
     "name": "stdout",
     "output_type": "stream",
     "text": [
      "[0, 2, 4, 6, 8, 10, 12, 14, 16, 18]\n"
     ]
    }
   ],
   "source": [
    "data=list(range(0,10))\n",
    "#data에 저장된 모든 값들에 대해 2배\n",
    "# for i in range(0,10):\n",
    "#     data[i]=data[i]*2\n",
    "data=list(range(0,20,2))# 2띄엄띄엄\n",
    "print(data)\n",
    "\n",
    "# 시간복잡도(CPU)\n",
    "# 연산 결과가 나오기까지 수해오디는 라인의 수\n",
    "# 빅오 O(1) 은 1번수행되는 것만 의미가 아니라 횟수가 정해진 상수 복잡도\n",
    "# 예로 어떠한 함수가 항상 5번 수행인 O(5)도 O(1)로 표기\n",
    "\n",
    "# 공간 복잡도(MEM) <- 차지하게 되는 메모리 양\n",
    "#"
   ]
  },
  {
   "cell_type": "code",
   "execution_count": 16,
   "metadata": {},
   "outputs": [
    {
     "name": "stdout",
     "output_type": "stream",
     "text": [
      "[0, 2, 4, 6, 8, 10, 12, 14, 16, 18]\n"
     ]
    }
   ],
   "source": [
    "data1=list(range(0,10))\n",
    "ans=[]\n",
    "for i in data1:\n",
    "    ans.append(i*2)\n",
    "print(ans)"
   ]
  },
  {
   "cell_type": "code",
   "execution_count": 17,
   "metadata": {},
   "outputs": [
    {
     "data": {
      "text/plain": [
       "array([ 0,  4,  8, 12, 16, 20, 24, 28, 32, 36])"
      ]
     },
     "execution_count": 17,
     "metadata": {},
     "output_type": "execute_result"
    }
   ],
   "source": [
    "import numpy as np\n",
    "x=np.array(data)\n",
    "x*2"
   ]
  },
  {
   "cell_type": "code",
   "execution_count": 18,
   "metadata": {},
   "outputs": [],
   "source": [
    "a=np.array([1,2,3])\n",
    "b=np.array([4,5,6])\n",
    "a2=[1,2,3]\n",
    "b2=[4,5,6]"
   ]
  },
  {
   "cell_type": "code",
   "execution_count": 22,
   "metadata": {},
   "outputs": [
    {
     "name": "stdout",
     "output_type": "stream",
     "text": [
      "[1, 2, 3, 1, 2, 3, 4, 5, 6]\n",
      "[ 6  9 12]\n"
     ]
    }
   ],
   "source": [
    "print(2*a2+b2)\n",
    "print(2*a+b) #벡터화 연산\n",
    "#리스트 연산은 덧셈이 append"
   ]
  },
  {
   "cell_type": "code",
   "execution_count": 24,
   "metadata": {},
   "outputs": [
    {
     "data": {
      "text/plain": [
       "array([False,  True, False])"
      ]
     },
     "execution_count": 24,
     "metadata": {},
     "output_type": "execute_result"
    }
   ],
   "source": [
    "#a\n",
    "a2==2\n",
    "a==2"
   ]
  },
  {
   "cell_type": "code",
   "execution_count": null,
   "metadata": {},
   "outputs": [],
   "source": [
    "# 2차원 배열 (행렬, matrix)\n",
    "# 가로줄 : 행, 세로줄 : 열"
   ]
  },
  {
   "cell_type": "code",
   "execution_count": 31,
   "metadata": {},
   "outputs": [
    {
     "data": {
      "text/plain": [
       "3"
      ]
     },
     "execution_count": 31,
     "metadata": {},
     "output_type": "execute_result"
    }
   ],
   "source": [
    "# 2차원 배열 : 리스트의 리스트\n",
    "m=[[0,1,2],[3,4,5]]\n",
    "# 열 : 안쪽 리스트 길이, 가로 크기\n",
    "# 행 : 바깥쪽 리스트 길이, 세로 크기\n",
    "# 2행 3열\n",
    "# 0 1 2\n",
    "# 3 4 5\n",
    "len(m) #행의 개수\n",
    "len(m[0]) #열의 개수"
   ]
  },
  {
   "cell_type": "code",
   "execution_count": 73,
   "metadata": {},
   "outputs": [
    {
     "name": "stdout",
     "output_type": "stream",
     "text": [
      "3\n",
      "(2, 3, 4)\n"
     ]
    }
   ],
   "source": [
    "# 3차원 배열 : 리스트의 리스트의 리스트\n",
    "m=np.array([[[1,2,3,4],\n",
    "        [5,6,7,8],\n",
    "        [9,10,11,12]],\n",
    "        [[31,2,3,4],\n",
    "        [35,6,7,8],\n",
    "        [39,10,11,12]]])\n",
    "# 2행 3열 4깊이(면)\n",
    "# 2*3*4\n",
    "len(m)\n",
    "len(m[0])\n",
    "len(m[0][0])\n",
    "print(m.ndim)\n",
    "print(m.shape)"
   ]
  },
  {
   "cell_type": "code",
   "execution_count": 38,
   "metadata": {},
   "outputs": [
    {
     "data": {
      "text/plain": [
       "(3,)"
      ]
     },
     "execution_count": 38,
     "metadata": {},
     "output_type": "execute_result"
    }
   ],
   "source": [
    "a=np.array([4,5,6])\n",
    "a.ndim#배열의 차원\n",
    "a.shape #배열의 크기\n"
   ]
  },
  {
   "cell_type": "code",
   "execution_count": 41,
   "metadata": {},
   "outputs": [
    {
     "data": {
      "text/plain": [
       "(2, 3)"
      ]
     },
     "execution_count": 41,
     "metadata": {},
     "output_type": "execute_result"
    }
   ],
   "source": [
    "m=np.array([[0,1,2],[3,4,5]])\n",
    "m.ndim\n",
    "m.shape # 2행 3열\n"
   ]
  },
  {
   "cell_type": "code",
   "execution_count": 147,
   "metadata": {},
   "outputs": [
    {
     "name": "stdout",
     "output_type": "stream",
     "text": [
      "문제1\n",
      "[6, -8, 28, -252, 504, 360, -120, 15]\n",
      "max는 : 504\n",
      "( -7 , -9 , 8 ), data[4~6] 구간\n",
      "\n",
      "문제2\n",
      "[[-6 -6]\n",
      " [ 0  0]]\n",
      "arrb[2][1],arrb[2][2],arrb[3][1],arrb[3][2]\n",
      "arrb[2][2],arrb[2][3],arrb[3][2],arrb[3][3]\n"
     ]
    }
   ],
   "source": [
    "#1.연속으로 숫자 3개를 곱했을때 얻어진 결과값이 가장 큰 구간이 어디인지\n",
    "listdata=[]\n",
    "data=[3,2,1,-4,-7,-9,8,-5,3,-1]\n",
    "print(\"문제1\")\n",
    "for i in range(0,8):\n",
    "    listdata.append(data[i]*data[i+1]*data[i+2])\n",
    "print(listdata)\n",
    "for i in range(0,8):\n",
    "    if listdata[i]==max(listdata):\n",
    "        print(\"max는 :\",max(listdata))\n",
    "        print(\"(\",data[i],\",\",data[i+1],\",\",data[i+2],\"), \",end=\"\")\n",
    "        print(\"data[\",i,\"~\",i+2,\"] 구간\",sep=\"\")\n",
    "\n",
    "    \n",
    "\n",
    "#2\n",
    "#2*2의 영역을 구성하는 수를 곱했을때 얻어진 결과값이 가장 큰 구간어디\n",
    "arrb = np.array([[3,1,-2],[2,-1,-3],[-2,0,-7]])\n",
    "listb=[]\n",
    "print(\"\\n문제2\")\n",
    "for i in range(0,2):\n",
    "    for j in range(0,2):\n",
    "        listb.append(arrb[i][j]*arrb[i+1][j]*arrb[i][j+1]*arrb[i+1][j+1])\n",
    "arrT=np.array([[0,0],[0,0]])\n",
    "count=0\n",
    "for i in range(0,2):\n",
    "    for j in range(0,2):\n",
    "        arrT[i][j]=listb[count]\n",
    "        count+=1\n",
    "print(arrT)\n",
    "for i in range(0,2):\n",
    "    for j in range(0,2):\n",
    "        if arrT[i][j]==np.max(arrT):\n",
    "            print(\"arrb[\",i+1,\"][\",j+1,\"],arrb[\",i+1,\"][\",j+2,\"],arrb[\",i+2,\"][\",j+1,\"],arrb[\",i+2,\"][\",j+2,\"]\",sep=\"\")\n",
    "#print(listb)"
   ]
  },
  {
   "cell_type": "code",
   "execution_count": 71,
   "metadata": {},
   "outputs": [
    {
     "name": "stdout",
     "output_type": "stream",
     "text": [
      "[1 2 3 4]\n",
      "[1 2 3 4]\n",
      "[2 6]\n",
      "[6 7 8]\n",
      "[[1 2]\n",
      " [5 6]]\n",
      "[[1 2]\n",
      " [5 6]]\n"
     ]
    }
   ],
   "source": [
    "#array slicing\n",
    "ar=np.array([[1,2,3,4],[5,6,7,8]])\n",
    "ar\n",
    "print(ar[0])\n",
    "print(ar[0,:])#첫번째 행 전체\n",
    "print(ar[:,1]) #전체 행에서 2번째열\n",
    "print(ar[1,1:])#두번째 행에서 두번째 열부터 마지막까지\n",
    "print(ar[:,:2])# 1,2,5,6 나오게\n",
    "print(ar[0:2,0:2])"
   ]
  },
  {
   "cell_type": "code",
   "execution_count": 84,
   "metadata": {},
   "outputs": [
    {
     "name": "stdout",
     "output_type": "stream",
     "text": [
      "1\n",
      "6\n",
      "[5 6 7 8]\n",
      "6\n",
      "6\n",
      "6\n"
     ]
    }
   ],
   "source": [
    "#indexing : 데이터 1개를 참조\n",
    "ar=np.array([0,1,2])\n",
    "ar[1]\n",
    "ar[-1]\n",
    "ar=np.array([[1,2,3,4],[5,6,7,8]])\n",
    "print(ar[0,0])# 다차원 배열에서는컴마로 접근\n",
    "print(ar[1,1])\n",
    "print(ar[-1])\n",
    "print(ar[-1,1])\n",
    "print(ar[-1][1])\n",
    "print(ar[-1,-3])\n"
   ]
  },
  {
   "cell_type": "code",
   "execution_count": 98,
   "metadata": {},
   "outputs": [
    {
     "name": "stdout",
     "output_type": "stream",
     "text": [
      "[ True  True  True False]\n",
      "[ True False  True False]\n",
      "[2 4]\n",
      "[4 5]\n"
     ]
    }
   ],
   "source": [
    "#불린 참조 : 조건에 대해 만족하는 값을 추출\n",
    "ar=np.array([2,3,4,5])\n",
    "bidx=np.array([True, True, False, True])\n",
    "ar[bidx]\n",
    "print(ar!=5)\n",
    "# ar 요소값이 짝수인 것들만 추출\n",
    "print(ar%2==0)\n",
    "print(ar[ar%2==0])\n",
    "# ar 요소값이 3보다 큰 값들만\n",
    "print(ar[ar>3])"
   ]
  },
  {
   "cell_type": "code",
   "execution_count": 100,
   "metadata": {},
   "outputs": [
    {
     "data": {
      "text/plain": [
       "array([2, 2, 3, 3])"
      ]
     },
     "execution_count": 100,
     "metadata": {},
     "output_type": "execute_result"
    }
   ],
   "source": [
    "#정수 참조 추출\n",
    "ar=np.array([2,3,4,5])\n",
    "idx=np.array([0,3])\n",
    "ar[idx]\n",
    "idx=np.array([0,0,1,1])\n",
    "ar[idx]"
   ]
  },
  {
   "cell_type": "code",
   "execution_count": 112,
   "metadata": {},
   "outputs": [
    {
     "name": "stdout",
     "output_type": "stream",
     "text": [
      "[[1 4]\n",
      " [5 8]]\n",
      "[[1 4]\n",
      " [5 8]]\n",
      "[[1 4]\n",
      " [5 8]]\n",
      "[[1 4]\n",
      " [5 8]]\n"
     ]
    }
   ],
   "source": [
    "ar=np.array([[1,2,3,4],[5,6,7,8]])\n",
    "#[[1,5],\n",
    "#[5,8]]\n",
    "idx=np.array([0,3])\n",
    "print(ar[:,idx])\n",
    "print(ar[:,(0,3)])\n",
    "print(ar[:,[0,3]])\n",
    "print(ar[:,[True,False,False,True]])"
   ]
  },
  {
   "cell_type": "code",
   "execution_count": 114,
   "metadata": {},
   "outputs": [
    {
     "name": "stdout",
     "output_type": "stream",
     "text": [
      "[[1 2 3 4]\n",
      " [5 6 7 8]]\n",
      "[[1 2 3 4]\n",
      " [5 6 7 8]]\n",
      "[[1 2 3 4]\n",
      " [5 6 7 8]]\n"
     ]
    }
   ],
   "source": [
    "ar=np.array([[1,2,3,4],[5,6,7,8]])\n",
    "print(ar[:])#전체 행\n",
    "print(ar)#배열 전체\n",
    "print(ar[:,:])#전체 행 전체 열\n"
   ]
  },
  {
   "cell_type": "code",
   "execution_count": 118,
   "metadata": {},
   "outputs": [
    {
     "name": "stdout",
     "output_type": "stream",
     "text": [
      "[25 26 27 28]\n",
      "[[25 26 27 28]\n",
      " [ 1  2  3  4]]\n",
      "[[25 26 27 28]\n",
      " [ 1  2  3  4]\n",
      " [35 36 37 38]]\n"
     ]
    }
   ],
   "source": [
    "ar=np.array([[1,2,3,4],\n",
    "             [15,16,17,18],\n",
    "             [25,26,27,28],\n",
    "             [35,36,37,38]])\n",
    "print(ar[2,:])\n",
    "print(ar[[2,0],:])\n",
    "print(ar[[2,0,-1],:])"
   ]
  },
  {
   "cell_type": "code",
   "execution_count": null,
   "metadata": {},
   "outputs": [],
   "source": [
    "# 원데이터 : csv(콤마로 구분형태), tsv(테이블로 구분형태), txt, xls, xlsx, json, ...\n",
    "# Pandas : 데이터프레임-원데이터를 데이터프레임으로 읽어서 분석\n",
    "# Numpy : 다차원배열-원데이터를 다차원배열로 읽어서 처리\n"
   ]
  },
  {
   "cell_type": "code",
   "execution_count": 122,
   "metadata": {},
   "outputs": [
    {
     "name": "stdout",
     "output_type": "stream",
     "text": [
      "   ID LAST_NAME  AGE\n",
      "0   1       KIM   25\n",
      "1   1       LEE   22\n",
      "2   3      PARK   33\n",
      "3   4      CHOI   24\n",
      "4   5       CHO   30\n",
      "<class 'pandas.core.frame.DataFrame'>\n"
     ]
    }
   ],
   "source": [
    "import pandas as pd\n",
    "csvTest=pd.read_csv(\"test_csv.csv\")\n",
    "print(csvTest)\n",
    "print(type(csvTest))"
   ]
  },
  {
   "cell_type": "code",
   "execution_count": 123,
   "metadata": {},
   "outputs": [
    {
     "data": {
      "text/plain": [
       "3"
      ]
     },
     "execution_count": 123,
     "metadata": {},
     "output_type": "execute_result"
    }
   ],
   "source": [
    "#http://pandas.pydata.org\n",
    "csvTest.shape[1]"
   ]
  },
  {
   "cell_type": "code",
   "execution_count": 132,
   "metadata": {},
   "outputs": [
    {
     "name": "stdout",
     "output_type": "stream",
     "text": [
      "  ID|LAST_NAME|AGE\n",
      "0         1|KIM|25\n",
      "1         1|LEE|22\n",
      "2        3|PARK|33\n",
      "3        4|CHOI|24\n",
      "4        5|CHO|30B\n",
      "(5, 1)\n",
      "   ID LAST_NAME  AGE\n",
      "0   1       KIM   25\n",
      "1   1       LEE   22\n",
      "2   3      PARK   33\n",
      "3   4      CHOI   24\n",
      "4   5       CHO  30B\n",
      "(5, 3)\n"
     ]
    }
   ],
   "source": [
    "#test_txt.txt\n",
    "#구분자:|\n",
    "text=pd.read_csv(\"test_txt.txt\")\n",
    "print(text)\n",
    "print(text.shape)\n",
    "text=pd.read_csv(\"test_txt.txt\",sep=\"|\")\n",
    "print(text)\n",
    "print(text.shape)"
   ]
  },
  {
   "cell_type": "code",
   "execution_count": 166,
   "metadata": {},
   "outputs": [
    {
     "name": "stdout",
     "output_type": "stream",
     "text": [
      "7\n",
      "14\n",
      "[6 7]\n",
      "[2 7]\n",
      "[[3 4]\n",
      " [8 9]]\n",
      "[[3 4]\n",
      " [8 9]]\n"
     ]
    }
   ],
   "source": [
    "#문제3\n",
    "m=np.array([[0,1,2,3,4],[5,6,7,8,9],[10,11,12,13,14]])\n",
    "#print(m)\n",
    "print(m[1,2])\n",
    "print(m[-1,-1])\n",
    "print(m[1,(1,2)])\n",
    "print(m[(0,1),2])\n",
    "print(m[(0,1),3:])\n",
    "print(m[0:2,3:5])"
   ]
  },
  {
   "cell_type": "code",
   "execution_count": 212,
   "metadata": {},
   "outputs": [
    {
     "name": "stdout",
     "output_type": "stream",
     "text": [
      "[ 3  6  9 12 15 18]\n",
      "[ 1  5  9 13 17]\n",
      "[9]\n"
     ]
    }
   ],
   "source": [
    "#문제4\n",
    "x = np.array([1, 2, 3, 4, 5, 6, 7, 8, 9, 10,\n",
    "              11, 12, 13, 14, 15, 16, 17, 18, 19, 20])\n",
    "print(x[x%3==0])\n",
    "print(x[x%4==1])\n",
    "x=np.array(x[x%4==1])\n",
    "# t=[x%4==1]\n",
    "# print(x[t][x[t]%3==0])\n",
    "print(x[x%3==0])"
   ]
  },
  {
   "cell_type": "code",
   "execution_count": 268,
   "metadata": {},
   "outputs": [
    {
     "name": "stdout",
     "output_type": "stream",
     "text": [
      "[[1 1 1 ... 0 0 0]\n",
      " [1 1 1 ... 0 0 0]\n",
      " [1 1 0 ... 0 0 0]\n",
      " ...\n",
      " [0 0 0 ... 0 0 0]\n",
      " [0 0 0 ... 0 0 0]\n",
      " [0 0 0 ... 0 0 0]]\n",
      "[[1 1 1 ... 0 0 0]\n",
      " [1 1 1 ... 0 0 0]\n",
      " [1 1 0 ... 0 0 0]\n",
      " ...\n",
      " [0 0 0 ... 0 0 0]\n",
      " [0 0 0 ... 0 0 0]\n",
      " [0 0 0 ... 0 0 0]]\n",
      "[95, 95, 96, 96, 97, 97, 98, 0, 0, 0, 0, 0, 0, 0, 0, 0, 0, 0, 0, 0, 0, 0, 0, 0, 0, 0, 0, 0, 0, 0, 0, 0, 0, 0, 0, 0, 0, 0, 0, 0, 0, 0, 0, 0, 0, 0, 0, 0, 0, 0, 0, 0, 0, 0, 0, 0, 0, 0, 0, 0, 0, 0, 0, 0, 0, 0, 0, 0, 0, 0, 0, 0, 0, 0, 0, 0, 0, 0, 0, 0, 0, 0, 0, 0, 0, 0, 0, 0, 0, 0, 0, 0, 0, 0, 0, 0, 0, 0, 0, 0]\n",
      "98\n"
     ]
    }
   ],
   "source": [
    "#문제5\n",
    "boxData=[7,4,2,0,0,6,0,7,0]\n",
    "boxData=np.array(boxData)\n",
    "x=100\n",
    "y=100\n",
    "arr=[[0]*y]*x\n",
    "arr=np.array(arr)\n",
    "# print(arr)\n",
    "for i in range(0,len(boxData)):\n",
    "    for j in range(0,boxData[i]):\n",
    "        arr[i][j]=1\n",
    "arr2=[[0]*x]*y\n",
    "arr2=np.array(arr2)\n",
    "for i in range(0,x):\n",
    "    for j in range(0,y):\n",
    "        arr2[i][j]=arr[j][i]\n",
    "print(arr)\n",
    "print(arr2)#회전 데이터\n",
    "listResult=[]# 0갯수 카운트를 위한 리스트\n",
    "for i in range(0,x):\n",
    "    count=0\n",
    "    for j in range(0,y):\n",
    "        if arr2[i][j]==1:\n",
    "            for k in range(j+1,y):\n",
    "                if arr2[i][k]==0:\n",
    "                    count+=1\n",
    "#                     print(i,j,count)\n",
    "            break;        \n",
    "    listResult.append(count)    \n",
    "print(listResult)\n",
    "print(max(listResult))\n",
    "    \n",
    "            "
   ]
  },
  {
   "cell_type": "code",
   "execution_count": null,
   "metadata": {},
   "outputs": [],
   "source": []
  }
 ],
 "metadata": {
  "kernelspec": {
   "display_name": "Python 3",
   "language": "python",
   "name": "python3"
  },
  "language_info": {
   "codemirror_mode": {
    "name": "ipython",
    "version": 3
   },
   "file_extension": ".py",
   "mimetype": "text/x-python",
   "name": "python",
   "nbconvert_exporter": "python",
   "pygments_lexer": "ipython3",
   "version": "3.7.4"
  }
 },
 "nbformat": 4,
 "nbformat_minor": 2
}
