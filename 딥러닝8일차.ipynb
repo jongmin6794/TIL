{
 "cells": [
  {
   "cell_type": "code",
   "execution_count": 1,
   "metadata": {},
   "outputs": [
    {
     "data": {
      "text/plain": [
       "\"\\ncritics={\\n    'BTS':{'암수살인':5, '바울':4, '할로윈':1.5},\\n    '손흥민':{'바울':5, '할로윈':2},\\n    '레드벨벳':{'암수살인':2.5, '바울':2, '할로윈':1},\\n    '트와이스':{'암수살인':3.5, '바울':4, '할로윈':5}\\n}\\n\\n\\ncritics = {\\n    '레드벨벳': {\\n        '택시운전사': 2.5,\\n        '겨울왕국': 3.5,\\n        '리빙라스베가스': 3.0,\\n        '넘버3': 3.5,\\n        '사랑과전쟁': 2.5,\\n        '세계대전': 3.0,\\n    },\\n    'BTS': {\\n        '택시운전사': 1.0,\\n        '겨울왕국': 4.5,\\n        '리빙라스베가스': 0.5,\\n        '넘버3': 1.5,\\n        '사랑과전쟁': 4.5,\\n        '세계대전': 5.0,\\n    },\\n    '블랙핑크': {\\n        '택시운전사': 3.0,\\n        '겨울왕국': 3.5,\\n        '리빙라스베가스': 1.5,\\n        '넘버3': 5.0,\\n        '세계대전': 3.0,\\n        '사랑과전쟁': 3.5,\\n    },\\n    '소녀시대': {\\n        '택시운전사': 2.5,\\n        '겨울왕국': 3.0,\\n        '넘버3': 3.5,\\n        '세계대전': 4.0,\\n    },\\n    '마마무': {\\n        '겨울왕국': 3.5,\\n        '리빙라스베가스': 3.0,\\n        '세계대전': 4.5,\\n        '넘버3': 4.0,\\n        '사랑과전쟁': 2.5,\\n    },\\n    '오마이걸': {\\n        '택시운전사': 3.0,\\n        '겨울왕국': 4.0,\\n        '리빙라스베가스': 2.0,\\n        '넘버3': 3.0,\\n        '세계대전': 3.5,\\n        '사랑과전쟁': 2.0,\\n    },\\n    '모모랜드': {\\n        '택시운전사': 3.0,\\n        '겨울왕국': 4.0,\\n        '세계대전': 3.0,\\n        '넘버3': 5.0,\\n        '사랑과전쟁': 3.5,\\n    },\\n    '우주소녀': {'겨울왕국': 4.5, '사랑과전쟁': 1.0,\\n             '넘버3': 4.0},\\n}\\n\\n\""
      ]
     },
     "execution_count": 1,
     "metadata": {},
     "output_type": "execute_result"
    }
   ],
   "source": [
    "\"\"\"\n",
    "critics={\n",
    "    'BTS':{'암수살인':5, '바울':4, '할로윈':1.5},\n",
    "    '손흥민':{'바울':5, '할로윈':2},\n",
    "    '레드벨벳':{'암수살인':2.5, '바울':2, '할로윈':1},\n",
    "    '트와이스':{'암수살인':3.5, '바울':4, '할로윈':5}\n",
    "}\n",
    "\n",
    "\n",
    "critics = {\n",
    "    '레드벨벳': {\n",
    "        '택시운전사': 2.5,\n",
    "        '겨울왕국': 3.5,\n",
    "        '리빙라스베가스': 3.0,\n",
    "        '넘버3': 3.5,\n",
    "        '사랑과전쟁': 2.5,\n",
    "        '세계대전': 3.0,\n",
    "    },\n",
    "    'BTS': {\n",
    "        '택시운전사': 1.0,\n",
    "        '겨울왕국': 4.5,\n",
    "        '리빙라스베가스': 0.5,\n",
    "        '넘버3': 1.5,\n",
    "        '사랑과전쟁': 4.5,\n",
    "        '세계대전': 5.0,\n",
    "    },\n",
    "    '블랙핑크': {\n",
    "        '택시운전사': 3.0,\n",
    "        '겨울왕국': 3.5,\n",
    "        '리빙라스베가스': 1.5,\n",
    "        '넘버3': 5.0,\n",
    "        '세계대전': 3.0,\n",
    "        '사랑과전쟁': 3.5,\n",
    "    },\n",
    "    '소녀시대': {\n",
    "        '택시운전사': 2.5,\n",
    "        '겨울왕국': 3.0,\n",
    "        '넘버3': 3.5,\n",
    "        '세계대전': 4.0,\n",
    "    },\n",
    "    '마마무': {\n",
    "        '겨울왕국': 3.5,\n",
    "        '리빙라스베가스': 3.0,\n",
    "        '세계대전': 4.5,\n",
    "        '넘버3': 4.0,\n",
    "        '사랑과전쟁': 2.5,\n",
    "    },\n",
    "    '오마이걸': {\n",
    "        '택시운전사': 3.0,\n",
    "        '겨울왕국': 4.0,\n",
    "        '리빙라스베가스': 2.0,\n",
    "        '넘버3': 3.0,\n",
    "        '세계대전': 3.5,\n",
    "        '사랑과전쟁': 2.0,\n",
    "    },\n",
    "    '모모랜드': {\n",
    "        '택시운전사': 3.0,\n",
    "        '겨울왕국': 4.0,\n",
    "        '세계대전': 3.0,\n",
    "        '넘버3': 5.0,\n",
    "        '사랑과전쟁': 3.5,\n",
    "    },\n",
    "    '우주소녀': {'겨울왕국': 4.5, '사랑과전쟁': 1.0,\n",
    "             '넘버3': 4.0},\n",
    "}\n",
    "\n",
    "\"\"\""
   ]
  },
  {
   "cell_type": "code",
   "execution_count": 2,
   "metadata": {},
   "outputs": [],
   "source": [
    "critics={\n",
    "    'BTS':{'암수살인':5, '바울':4, '할로윈':1.5},\n",
    "    '손흥민':{'바울':5, '할로윈':2},\n",
    "    '레드벨벳':{'암수살인':2.5, '바울':2, '할로윈':1},\n",
    "    '트와이스':{'암수살인':3.5, '바울':4, '할로윈':5}\n",
    "}"
   ]
  },
  {
   "cell_type": "code",
   "execution_count": 4,
   "metadata": {},
   "outputs": [],
   "source": [
    "import pandas as pd\n",
    "import numpy as np\n",
    "import warnings\n",
    "warnings.filterwarnings(action='ignore')"
   ]
  },
  {
   "cell_type": "code",
   "execution_count": 12,
   "metadata": {},
   "outputs": [
    {
     "name": "stdout",
     "output_type": "stream",
     "text": [
      "None\n"
     ]
    },
    {
     "data": {
      "text/plain": [
       "4"
      ]
     },
     "execution_count": 12,
     "metadata": {},
     "output_type": "execute_result"
    }
   ],
   "source": [
    "critics['BTS']\n",
    "# critics.get('BTS') 같은 결과\n",
    "# critics['super']#key error\n",
    "print(critics.get('super'))#None\n",
    "# if citics.get('super'):\n",
    "# else:  #None\n",
    "critics.get('BTS').get('바울')"
   ]
  },
  {
   "cell_type": "code",
   "execution_count": 13,
   "metadata": {},
   "outputs": [],
   "source": [
    "from math import sqrt"
   ]
  },
  {
   "cell_type": "code",
   "execution_count": 16,
   "metadata": {},
   "outputs": [],
   "source": [
    "# sqrt(pow(3,2)+pow(1,2))\n",
    "def sim(i,j):#i:x좌표 거리, j:y좌표 거리\n",
    "    return sqrt(pow(i,2)+pow(j,2))"
   ]
  },
  {
   "cell_type": "code",
   "execution_count": 20,
   "metadata": {},
   "outputs": [
    {
     "name": "stdout",
     "output_type": "stream",
     "text": [
      "3.1622776601683795\n"
     ]
    }
   ],
   "source": [
    "v1=critics['손흥민']['바울']-critics['레드벨벳']['바울']\n",
    "v2=critics['손흥민']['할로윈']-critics['레드벨벳']['할로윈']\n",
    "print(sim(v1,v2))"
   ]
  },
  {
   "cell_type": "code",
   "execution_count": 25,
   "metadata": {},
   "outputs": [
    {
     "name": "stdout",
     "output_type": "stream",
     "text": [
      "BTS 와의 거리 : 1.118033988749895\n",
      "레드벨벳 와의 거리 : 3.1622776601683795\n",
      "트와이스 와의 거리 : 3.1622776601683795\n"
     ]
    }
   ],
   "source": [
    "for i in critics: # i에는 key가 들어감\n",
    "    if i!=\"손흥민\":\n",
    "        d1=critics.get('손흥민').get('바울')-critics.get(i).get('바울')\n",
    "        d2=critics.get('손흥민').get('할로윈')-critics.get(i).get('할로윈')\n",
    "        print(i,\"와의 거리 :\",sim(d1,d2))"
   ]
  },
  {
   "cell_type": "code",
   "execution_count": 29,
   "metadata": {},
   "outputs": [
    {
     "name": "stdout",
     "output_type": "stream",
     "text": [
      "BTS 와의 유사도(0~1) : 0.4721359549995794\n",
      "레드벨벳 와의 유사도(0~1) : 0.2402530733520421\n",
      "트와이스 와의 유사도(0~1) : 0.2402530733520421\n"
     ]
    }
   ],
   "source": [
    "for i in critics: # i에는 key가 들어감\n",
    "    if i!=\"손흥민\":\n",
    "        d1=critics.get('손흥민').get('바울')-critics.get(i).get('바울')\n",
    "        d2=critics.get('손흥민').get('할로윈')-critics.get(i).get('할로윈')\n",
    "#         print(i,\"와의 거리 :\",sim(d1,d2))\n",
    "        #0 <= 유사도 <= 1 로 표현한 것이 해석하기 편하다\n",
    "        print(i,\"와의 유사도(0~1) :\",1/(sim(d1,d2)+1))\n",
    "        "
   ]
  },
  {
   "cell_type": "code",
   "execution_count": 30,
   "metadata": {},
   "outputs": [],
   "source": [
    "#유클리디안 거리 : 다차원 공간에서 두 점 사이의 거리"
   ]
  },
  {
   "cell_type": "code",
   "execution_count": 35,
   "metadata": {},
   "outputs": [
    {
     "name": "stdout",
     "output_type": "stream",
     "text": [
      "0.20799159651347807\n"
     ]
    }
   ],
   "source": [
    "def sim_distance(data, name1, name2):\n",
    "    #구현부분\n",
    "    sum=0\n",
    "    for i in data[name1]:#{'암수살인':5, '바울':4, '할로윈':1.5},\n",
    "        if i in data[name2]:#동일한 영화를 봤다면\n",
    "            #{'암수살인':3.5, '바울':4, '할로윈':5}{'암수살인':3.5, '바울':4, '할로윈':5}\n",
    "            sum+=pow(data[name1][i]-data[name2][i],2)\n",
    "    return 1/(1+sqrt(sum))\n",
    "    \n",
    "print(sim_distance(critics, 'BTS','트와이스'))"
   ]
  },
  {
   "cell_type": "code",
   "execution_count": 40,
   "metadata": {},
   "outputs": [
    {
     "name": "stdout",
     "output_type": "stream",
     "text": [
      "[(0.4721359549995794, '손흥민'), (0.23582845781094, '레드벨벳'), (0.20799159651347807, '트와이스')]\n"
     ]
    }
   ],
   "source": [
    "# top_match(영화평점데이터, 기준관객, 등수, 유사도함수)\n",
    "def top_match(data,name,rank=3,simf=sim_distance):\n",
    "    simList=[]\n",
    "    #sim_distance함수를 simf라는 이름으로 사용하겠다\n",
    "    #구현 부분\n",
    "    for i in data:\n",
    "        if name!=i:#BTS(자기 자신)을 제외\n",
    "            simList.append((simf(data,name,i),i))\n",
    "    simList.sort()\n",
    "    simList.reverse()\n",
    "    return simList[:rank]\n",
    "print(top_match(critics,'BTS'))#2 생략하면 기본값 rank=3\n",
    "#critics에서 BTS와 공통으로 본 영화 중에서,\n",
    "#가장 유사하게 평점을 준 관객 3명을 출력\n"
   ]
  },
  {
   "cell_type": "code",
   "execution_count": 41,
   "metadata": {},
   "outputs": [],
   "source": [
    "import matplotlib.pyplot as plt"
   ]
  },
  {
   "cell_type": "code",
   "execution_count": 48,
   "metadata": {},
   "outputs": [],
   "source": [
    "### 한글 깨짐 방지 ###\n",
    "import matplotlib\n",
    "from matplotlib import font_manager, rc\n",
    "import platform\n",
    "if platform.system()==\"Windows\":\n",
    "    font_name=font_manager.FontProperties(fname=\"c:/Windows/Fonts/malgun.ttf\").get_name()\n",
    "    rc('font', family=font_name)\n",
    "matplotlib.rcParams['axes.unicode_minus']=False"
   ]
  },
  {
   "cell_type": "code",
   "execution_count": 49,
   "metadata": {},
   "outputs": [],
   "source": [
    "def myBar(data, lab):\n",
    "    #시각화\n",
    "    pos=range(len(data))#3\n",
    "    plt.barh(pos,data,height=0.5,color='b')#가로\n",
    "    plt.yticks(pos,lab)\n",
    "    plt.xlabel('similarity')\n",
    "    plt.ylabel('name')\n",
    "    plt.show()"
   ]
  },
  {
   "cell_type": "code",
   "execution_count": 50,
   "metadata": {},
   "outputs": [
    {
     "data": {
      "image/png": "[encoded data removed]",
      "text/plain": [
       "<Figure size 432x288 with 1 Axes>"
      ]
     },
     "metadata": {
      "needs_background": "light"
     },
     "output_type": "display_data"
    }
   ],
   "source": [
    "li=top_match(critics, 'BTS',3)\n",
    "scoreList=[]\n",
    "nameList=[]\n",
    "for i in li:\n",
    "    scoreList.append(i[0])\n",
    "    nameList.append(i[1])\n",
    "myBar(scoreList,nameList)"
   ]
  },
  {
   "cell_type": "code",
   "execution_count": 51,
   "metadata": {},
   "outputs": [],
   "source": [
    "critics = {\n",
    "    '레드벨벳': {\n",
    "        '택시운전사': 2.5,\n",
    "        '겨울왕국': 3.5,\n",
    "        '리빙라스베가스': 3.0,\n",
    "        '넘버3': 3.5,\n",
    "        '사랑과전쟁': 2.5,\n",
    "        '세계대전': 3.0,\n",
    "    },\n",
    "    'BTS': {\n",
    "        '택시운전사': 1.0,\n",
    "        '겨울왕국': 4.5,\n",
    "        '리빙라스베가스': 0.5,\n",
    "        '넘버3': 1.5,\n",
    "        '사랑과전쟁': 4.5,\n",
    "        '세계대전': 5.0,\n",
    "    },\n",
    "    '블랙핑크': {\n",
    "        '택시운전사': 3.0,\n",
    "        '겨울왕국': 3.5,\n",
    "        '리빙라스베가스': 1.5,\n",
    "        '넘버3': 5.0,\n",
    "        '세계대전': 3.0,\n",
    "        '사랑과전쟁': 3.5,\n",
    "    },\n",
    "    '소녀시대': {\n",
    "        '택시운전사': 2.5,\n",
    "        '겨울왕국': 3.0,\n",
    "        '넘버3': 3.5,\n",
    "        '세계대전': 4.0,\n",
    "    },\n",
    "    '마마무': {\n",
    "        '겨울왕국': 3.5,\n",
    "        '리빙라스베가스': 3.0,\n",
    "        '세계대전': 4.5,\n",
    "        '넘버3': 4.0,\n",
    "        '사랑과전쟁': 2.5,\n",
    "    },\n",
    "    '오마이걸': {\n",
    "        '택시운전사': 3.0,\n",
    "        '겨울왕국': 4.0,\n",
    "        '리빙라스베가스': 2.0,\n",
    "        '넘버3': 3.0,\n",
    "        '세계대전': 3.5,\n",
    "        '사랑과전쟁': 2.0,\n",
    "    },\n",
    "    '모모랜드': {\n",
    "        '택시운전사': 3.0,\n",
    "        '겨울왕국': 4.0,\n",
    "        '세계대전': 3.0,\n",
    "        '넘버3': 5.0,\n",
    "        '사랑과전쟁': 3.5,\n",
    "    },\n",
    "    '우주소녀': {'겨울왕국': 4.5, '사랑과전쟁': 1.0,\n",
    "             '넘버3': 4.0},\n",
    "}"
   ]
  },
  {
   "cell_type": "code",
   "execution_count": 57,
   "metadata": {},
   "outputs": [
    {
     "data": {
      "image/png": "[encoded data removed]",
      "text/plain": [
       "<Figure size 1008x576 with 1 Axes>"
      ]
     },
     "metadata": {
      "needs_background": "light"
     },
     "output_type": "display_data"
    }
   ],
   "source": [
    "def scoreGraph(data,n1,n2):\n",
    "    #스케터 플롯 출력\n",
    "    plt.figure(figsize=(14,8))\n",
    "    li1=[]\n",
    "    li2=[]\n",
    "    for i in data[n1]:#BTS가 본 영화중에\n",
    "        if i in data[n2]:#블랙핑크도 본 영화라면\n",
    "            li1.append(data[n1][i])\n",
    "            li2.append(data[n2][i])\n",
    "            plt.text(data[n1][i],data[n2][i],i)\n",
    "    plt.plot(li1,li2,'ro')\n",
    "    plt.xlabel(n1)\n",
    "    plt.ylabel(n2)\n",
    "    plt.axis([0,6,0,6])#범위 주기\n",
    "    \n",
    "    plt.show()\n",
    "            \n",
    "scoreGraph(critics,'BTS','블랙핑크')\n"
   ]
  },
  {
   "cell_type": "code",
   "execution_count": 63,
   "metadata": {},
   "outputs": [],
   "source": [
    "def sim_pearson(data,n1, n2):\n",
    "    #구현\n",
    "    sumX=0\n",
    "    sumY=0\n",
    "    sumSqX=0#x제곱의합\n",
    "    sumSqY=0#y제곱의합\n",
    "    sumXY=0\n",
    "    cnt=0 #영화 개수\n",
    "    for i in data[n1]:\n",
    "        if i in data[n2]:\n",
    "            sumX+=data[n1][i]\n",
    "            sumY+=data[n2][i]\n",
    "            sumSqX+=pow(data[n1][i],2)\n",
    "            sumSqY+=pow(data[n2][i],2)\n",
    "            sumXY+=data[n1][i]*data[n2][i]\n",
    "            cnt+=1\n",
    "    return (sumXY-((sumX*sumY)/cnt)) / sqrt((sumSqX-(pow(sumX,2)/cnt))*(sumSqY-(pow(sumY,2)/cnt)))"
   ]
  },
  {
   "cell_type": "code",
   "execution_count": 64,
   "metadata": {},
   "outputs": [
    {
     "data": {
      "text/plain": [
       "0.41791069697885247"
      ]
     },
     "execution_count": 64,
     "metadata": {},
     "output_type": "execute_result"
    }
   ],
   "source": [
    "sim_pearson(critics,'BTS','오마이걸')"
   ]
  },
  {
   "cell_type": "code",
   "execution_count": 76,
   "metadata": {},
   "outputs": [
    {
     "name": "stdout",
     "output_type": "stream",
     "text": [
      "[(0.5692099788303083, '소녀시대'), (0.41791069697885247, '오마이걸'), (0.21693045781865616, '블랙핑크'), (0.15430334996209194, '마마무'), (0.05477225575051661, '레드벨벳')]\n"
     ]
    }
   ],
   "source": [
    "##전체 관객들에 대한 상관계수 \n",
    "# top_match(영화평점데이터, 기준관객, 등수, 유사도함수)\n",
    "def top_match(data,name,rank=3,simf=sim_pearson):\n",
    "    simList=[]\n",
    "    #sim_pearson함수를 simf라는 이름으로 사용하겠다\n",
    "    #구현 부분\n",
    "    for i in data:\n",
    "        if name!=i:#BTS(자기 자신)을 제외\n",
    "            simList.append((simf(data,name,i),i))\n",
    "    simList.sort()#오름차순\n",
    "    simList.reverse()#역순(내림차순)\n",
    "    return simList[:rank]\n",
    "print(top_match(critics,'BTS',5))#2 생략하면 기본값 rank=3\n",
    "#critics에서 BTS와 공통으로 본 영화 중에서,\n",
    "#가장 상관계수가 가장 높은 5명 추출\n",
    "#상관계수, 블랙핑크\n",
    "#상관계수, 트와이스\n",
    "#...\n"
   ]
  },
  {
   "cell_type": "code",
   "execution_count": 77,
   "metadata": {},
   "outputs": [
    {
     "data": {
      "text/plain": [
       "'\\n1) 평점 추측:유사도*상대방의 영화평점\\nex) 소녀시대가 3점 부여, BTS와 소녀시대가 90% 유사도\\n=> 3*0.9 =>2.7점 줄것으로 예측\\n=> 모든 관객에 대해 평점 추측\\n=> 추측평점 총합/ 유사도 총합\\n=> 예상되는 평점을 기준으로 예상되는 평점이 가장 높은 \\n아직 안본 영화를 추천\\n\\n'"
      ]
     },
     "execution_count": 77,
     "metadata": {},
     "output_type": "execute_result"
    }
   ],
   "source": [
    "#유사도 값에 대한 기준치를 충족하는 사람에 한해\n",
    "#예상 평점과 / 추천영화를 구하는데 데이터를 활용\n",
    "\"\"\"\n",
    "1) 평점 추측:유사도*상대방의 영화평점\n",
    "ex) 소녀시대가 3점 부여, BTS와 소녀시대가 90% 유사도\n",
    "=> 3*0.9 =>2.7점 줄것으로 예측\n",
    "=> 모든 관객에 대해 평점 추측\n",
    "=> 추측평점 총합/ 유사도 총합\n",
    "=> 예상되는 평점을 기준으로 예상되는 평점이 가장 높은 \n",
    "아직 안본 영화를 추천\n",
    "\n",
    "\"\"\""
   ]
  },
  {
   "cell_type": "code",
   "execution_count": 78,
   "metadata": {},
   "outputs": [],
   "source": [
    "def recommendation(data,person,simf=sim_pearson):\n",
    "    res=top_match(data,person, len(data))\n",
    "#     print(res)\n",
    "    simSum=0 #상관계수(유사도)의 합\n",
    "    score_dic={} #상관계수의 총합을 저장하기 위한 dic\n",
    "    sim_dic={} #유사도의 합을 저장하기 위한 dic\n",
    "    myList=[]\n",
    "    for sim,name in res:\n",
    "        if sim<0:continue\n",
    "        for movie in data[name]:\n",
    "            if movie not in data[person]:\n",
    "                #name이 본 movie를 person이 보지 않았다면...\n",
    "                simSum+=sim*data[name][movie]\n",
    "                score_dic.setdefault(movie,0)\n",
    "                score_dic[movie]+=simSum\n",
    "                \n",
    "                sim_dic.setdefault(movie,0)\n",
    "                sim_dic[movie]+=sim\n",
    "            simSum=0 #영화 변경 -> 0으로 초기화\n",
    "    for key in score_dic:\n",
    "        score_dic[key]=score_dic[key]/sim_dic[key]#평점총합/유사도\n",
    "        myList.append((score_dic[key],key))\n",
    "    myList.sort()\n",
    "    myList.reverse()\n",
    "    return myList"
   ]
  },
  {
   "cell_type": "code",
   "execution_count": 79,
   "metadata": {},
   "outputs": [
    {
     "data": {
      "text/plain": [
       "[(3.0761574975571793, '사랑과전쟁'), (2.1938491995536373, '리빙라스베가스')]"
      ]
     },
     "execution_count": 79,
     "metadata": {},
     "output_type": "execute_result"
    }
   ],
   "source": [
    "recommendation(critics,\"소녀시대\")\n",
    "#소녀시대가 안본 영화 중에서 가장 높은 예상 평점을\n",
    "#갖는 영화 3편을 출력"
   ]
  },
  {
   "cell_type": "code",
   "execution_count": 80,
   "metadata": {},
   "outputs": [
    {
     "data": {
      "text/plain": [
       "{'a': 10, 'b': 20, 'c': None}"
      ]
     },
     "execution_count": 80,
     "metadata": {},
     "output_type": "execute_result"
    }
   ],
   "source": [
    "#setdefault 연습\n",
    "x={'a':10,'b':20}\n",
    "x.setdefault('c')\n",
    "x"
   ]
  },
  {
   "cell_type": "code",
   "execution_count": 81,
   "metadata": {},
   "outputs": [
    {
     "data": {
      "text/plain": [
       "{'a': 10, 'b': 20, 'c': None, 'd': 30}"
      ]
     },
     "execution_count": 81,
     "metadata": {},
     "output_type": "execute_result"
    }
   ],
   "source": [
    "x.setdefault('d',30)\n",
    "x"
   ]
  },
  {
   "cell_type": "code",
   "execution_count": 82,
   "metadata": {},
   "outputs": [
    {
     "data": {
      "text/plain": [
       "{'a': 50, 'b': 20, 'c': None, 'd': 30}"
      ]
     },
     "execution_count": 82,
     "metadata": {},
     "output_type": "execute_result"
    }
   ],
   "source": [
    "x.update(a=50)\n",
    "x"
   ]
  },
  {
   "cell_type": "code",
   "execution_count": 83,
   "metadata": {},
   "outputs": [
    {
     "data": {
      "text/plain": [
       "{'a': 50, 'b': 20, 'c': None, 'd': 30}"
      ]
     },
     "execution_count": 83,
     "metadata": {},
     "output_type": "execute_result"
    }
   ],
   "source": [
    "x.setdefault('a',100)\n",
    "x"
   ]
  },
  {
   "cell_type": "code",
   "execution_count": 84,
   "metadata": {},
   "outputs": [
    {
     "data": {
      "text/plain": [
       "'\\n1.나와 가장 상관계수가 높게 나온 사람? 5명 출력\\n2.내가 안본 영화 중에서 추천 점수가 가장 높은 순으로\\n영화제목과 예상평점을 출력\\n'"
      ]
     },
     "execution_count": 84,
     "metadata": {},
     "output_type": "execute_result"
    }
   ],
   "source": [
    "\"\"\"\n",
    "1.나와 가장 상관계수가 높게 나온 사람? 5명 출력\n",
    "2.내가 안본 영화 중에서 추천 점수가 가장 높은 순으로\n",
    "영화제목과 예상평점을 출력\n",
    "\"\"\""
   ]
  },
  {
   "cell_type": "code",
   "execution_count": 148,
   "metadata": {},
   "outputs": [
    {
     "ename": "KeyError",
     "evalue": "'오종민'",
     "output_type": "error",
     "traceback": [
      "\u001b[1;31m---------------------------------------------------------------------------\u001b[0m",
      "\u001b[1;31mKeyError\u001b[0m                                  Traceback (most recent call last)",
      "\u001b[1;32m~\\Anaconda3\\lib\\site-packages\\pandas\\core\\indexes\\base.py\u001b[0m in \u001b[0;36mget_loc\u001b[1;34m(self, key, method, tolerance)\u001b[0m\n\u001b[0;32m   2896\u001b[0m             \u001b[1;32mtry\u001b[0m\u001b[1;33m:\u001b[0m\u001b[1;33m\u001b[0m\u001b[1;33m\u001b[0m\u001b[0m\n\u001b[1;32m-> 2897\u001b[1;33m                 \u001b[1;32mreturn\u001b[0m \u001b[0mself\u001b[0m\u001b[1;33m.\u001b[0m\u001b[0m_engine\u001b[0m\u001b[1;33m.\u001b[0m\u001b[0mget_loc\u001b[0m\u001b[1;33m(\u001b[0m\u001b[0mkey\u001b[0m\u001b[1;33m)\u001b[0m\u001b[1;33m\u001b[0m\u001b[1;33m\u001b[0m\u001b[0m\n\u001b[0m\u001b[0;32m   2898\u001b[0m             \u001b[1;32mexcept\u001b[0m \u001b[0mKeyError\u001b[0m\u001b[1;33m:\u001b[0m\u001b[1;33m\u001b[0m\u001b[1;33m\u001b[0m\u001b[0m\n",
      "\u001b[1;32mpandas\\_libs\\index.pyx\u001b[0m in \u001b[0;36mpandas._libs.index.IndexEngine.get_loc\u001b[1;34m()\u001b[0m\n",
      "\u001b[1;32mpandas\\_libs\\index.pyx\u001b[0m in \u001b[0;36mpandas._libs.index.IndexEngine.get_loc\u001b[1;34m()\u001b[0m\n",
      "\u001b[1;32mpandas\\_libs\\hashtable_class_helper.pxi\u001b[0m in \u001b[0;36mpandas._libs.hashtable.PyObjectHashTable.get_item\u001b[1;34m()\u001b[0m\n",
      "\u001b[1;32mpandas\\_libs\\hashtable_class_helper.pxi\u001b[0m in \u001b[0;36mpandas._libs.hashtable.PyObjectHashTable.get_item\u001b[1;34m()\u001b[0m\n",
      "\u001b[1;31mKeyError\u001b[0m: '오종민'",
      "\nDuring handling of the above exception, another exception occurred:\n",
      "\u001b[1;31mKeyError\u001b[0m                                  Traceback (most recent call last)",
      "\u001b[1;32m<ipython-input-148-c69c22901cd2>\u001b[0m in \u001b[0;36m<module>\u001b[1;34m\u001b[0m\n\u001b[0;32m     27\u001b[0m \u001b[1;31m# top_match(영화평점데이터, 기준관객, 등수, 유사도함수)\u001b[0m\u001b[1;33m\u001b[0m\u001b[1;33m\u001b[0m\u001b[1;33m\u001b[0m\u001b[0m\n\u001b[0;32m     28\u001b[0m \u001b[1;31m# sim_pearson(movie_data,'오종민','차유화'):\u001b[0m\u001b[1;33m\u001b[0m\u001b[1;33m\u001b[0m\u001b[1;33m\u001b[0m\u001b[0m\n\u001b[1;32m---> 29\u001b[1;33m \u001b[0mmovie_data\u001b[0m\u001b[1;33m[\u001b[0m\u001b[1;34m'오종민'\u001b[0m\u001b[1;33m]\u001b[0m\u001b[1;33m[\u001b[0m\u001b[1;34m'명량'\u001b[0m\u001b[1;33m]\u001b[0m\u001b[1;33m\u001b[0m\u001b[1;33m\u001b[0m\u001b[0m\n\u001b[0m",
      "\u001b[1;32m~\\Anaconda3\\lib\\site-packages\\pandas\\core\\frame.py\u001b[0m in \u001b[0;36m__getitem__\u001b[1;34m(self, key)\u001b[0m\n\u001b[0;32m   2978\u001b[0m             \u001b[1;32mif\u001b[0m \u001b[0mself\u001b[0m\u001b[1;33m.\u001b[0m\u001b[0mcolumns\u001b[0m\u001b[1;33m.\u001b[0m\u001b[0mnlevels\u001b[0m \u001b[1;33m>\u001b[0m \u001b[1;36m1\u001b[0m\u001b[1;33m:\u001b[0m\u001b[1;33m\u001b[0m\u001b[1;33m\u001b[0m\u001b[0m\n\u001b[0;32m   2979\u001b[0m                 \u001b[1;32mreturn\u001b[0m \u001b[0mself\u001b[0m\u001b[1;33m.\u001b[0m\u001b[0m_getitem_multilevel\u001b[0m\u001b[1;33m(\u001b[0m\u001b[0mkey\u001b[0m\u001b[1;33m)\u001b[0m\u001b[1;33m\u001b[0m\u001b[1;33m\u001b[0m\u001b[0m\n\u001b[1;32m-> 2980\u001b[1;33m             \u001b[0mindexer\u001b[0m \u001b[1;33m=\u001b[0m \u001b[0mself\u001b[0m\u001b[1;33m.\u001b[0m\u001b[0mcolumns\u001b[0m\u001b[1;33m.\u001b[0m\u001b[0mget_loc\u001b[0m\u001b[1;33m(\u001b[0m\u001b[0mkey\u001b[0m\u001b[1;33m)\u001b[0m\u001b[1;33m\u001b[0m\u001b[1;33m\u001b[0m\u001b[0m\n\u001b[0m\u001b[0;32m   2981\u001b[0m             \u001b[1;32mif\u001b[0m \u001b[0mis_integer\u001b[0m\u001b[1;33m(\u001b[0m\u001b[0mindexer\u001b[0m\u001b[1;33m)\u001b[0m\u001b[1;33m:\u001b[0m\u001b[1;33m\u001b[0m\u001b[1;33m\u001b[0m\u001b[0m\n\u001b[0;32m   2982\u001b[0m                 \u001b[0mindexer\u001b[0m \u001b[1;33m=\u001b[0m \u001b[1;33m[\u001b[0m\u001b[0mindexer\u001b[0m\u001b[1;33m]\u001b[0m\u001b[1;33m\u001b[0m\u001b[1;33m\u001b[0m\u001b[0m\n",
      "\u001b[1;32m~\\Anaconda3\\lib\\site-packages\\pandas\\core\\indexes\\base.py\u001b[0m in \u001b[0;36mget_loc\u001b[1;34m(self, key, method, tolerance)\u001b[0m\n\u001b[0;32m   2897\u001b[0m                 \u001b[1;32mreturn\u001b[0m \u001b[0mself\u001b[0m\u001b[1;33m.\u001b[0m\u001b[0m_engine\u001b[0m\u001b[1;33m.\u001b[0m\u001b[0mget_loc\u001b[0m\u001b[1;33m(\u001b[0m\u001b[0mkey\u001b[0m\u001b[1;33m)\u001b[0m\u001b[1;33m\u001b[0m\u001b[1;33m\u001b[0m\u001b[0m\n\u001b[0;32m   2898\u001b[0m             \u001b[1;32mexcept\u001b[0m \u001b[0mKeyError\u001b[0m\u001b[1;33m:\u001b[0m\u001b[1;33m\u001b[0m\u001b[1;33m\u001b[0m\u001b[0m\n\u001b[1;32m-> 2899\u001b[1;33m                 \u001b[1;32mreturn\u001b[0m \u001b[0mself\u001b[0m\u001b[1;33m.\u001b[0m\u001b[0m_engine\u001b[0m\u001b[1;33m.\u001b[0m\u001b[0mget_loc\u001b[0m\u001b[1;33m(\u001b[0m\u001b[0mself\u001b[0m\u001b[1;33m.\u001b[0m\u001b[0m_maybe_cast_indexer\u001b[0m\u001b[1;33m(\u001b[0m\u001b[0mkey\u001b[0m\u001b[1;33m)\u001b[0m\u001b[1;33m)\u001b[0m\u001b[1;33m\u001b[0m\u001b[1;33m\u001b[0m\u001b[0m\n\u001b[0m\u001b[0;32m   2900\u001b[0m         \u001b[0mindexer\u001b[0m \u001b[1;33m=\u001b[0m \u001b[0mself\u001b[0m\u001b[1;33m.\u001b[0m\u001b[0mget_indexer\u001b[0m\u001b[1;33m(\u001b[0m\u001b[1;33m[\u001b[0m\u001b[0mkey\u001b[0m\u001b[1;33m]\u001b[0m\u001b[1;33m,\u001b[0m \u001b[0mmethod\u001b[0m\u001b[1;33m=\u001b[0m\u001b[0mmethod\u001b[0m\u001b[1;33m,\u001b[0m \u001b[0mtolerance\u001b[0m\u001b[1;33m=\u001b[0m\u001b[0mtolerance\u001b[0m\u001b[1;33m)\u001b[0m\u001b[1;33m\u001b[0m\u001b[1;33m\u001b[0m\u001b[0m\n\u001b[0;32m   2901\u001b[0m         \u001b[1;32mif\u001b[0m \u001b[0mindexer\u001b[0m\u001b[1;33m.\u001b[0m\u001b[0mndim\u001b[0m \u001b[1;33m>\u001b[0m \u001b[1;36m1\u001b[0m \u001b[1;32mor\u001b[0m \u001b[0mindexer\u001b[0m\u001b[1;33m.\u001b[0m\u001b[0msize\u001b[0m \u001b[1;33m>\u001b[0m \u001b[1;36m1\u001b[0m\u001b[1;33m:\u001b[0m\u001b[1;33m\u001b[0m\u001b[1;33m\u001b[0m\u001b[0m\n",
      "\u001b[1;32mpandas\\_libs\\index.pyx\u001b[0m in \u001b[0;36mpandas._libs.index.IndexEngine.get_loc\u001b[1;34m()\u001b[0m\n",
      "\u001b[1;32mpandas\\_libs\\index.pyx\u001b[0m in \u001b[0;36mpandas._libs.index.IndexEngine.get_loc\u001b[1;34m()\u001b[0m\n",
      "\u001b[1;32mpandas\\_libs\\hashtable_class_helper.pxi\u001b[0m in \u001b[0;36mpandas._libs.hashtable.PyObjectHashTable.get_item\u001b[1;34m()\u001b[0m\n",
      "\u001b[1;32mpandas\\_libs\\hashtable_class_helper.pxi\u001b[0m in \u001b[0;36mpandas._libs.hashtable.PyObjectHashTable.get_item\u001b[1;34m()\u001b[0m\n",
      "\u001b[1;31mKeyError\u001b[0m: '오종민'"
     ]
    }
   ],
   "source": [
    "import pandas as pd\n",
    "movie_data=pd.read_excel(\"movie22.xlsx\",header=1)\n",
    "a=movie_data.columns\n",
    "# a[0]=\"이름\"\n",
    "a=list(a)\n",
    "a[0]='이름'\n",
    "movie_data.columns=a\n",
    "movie_data=movie_data.set_index('이름')\n",
    "# def sim_pearson(data,n1, n2):\n",
    "#     #구현\n",
    "#     sumX=0\n",
    "#     sumY=0\n",
    "#     sumSqX=0#x제곱의합\n",
    "#     sumSqY=0#y제곱의합\n",
    "#     sumXY=0\n",
    "#     cnt=0 #영화 개수\n",
    "#     for i in data[n1]:\n",
    "#         if i in data[n2]:\n",
    "#             sumX+=data[n1][i]\n",
    "#             sumY+=data[n2][i]\n",
    "#             sumSqX+=pow(data[n1][i],2)\n",
    "#             sumSqY+=pow(data[n2][i],2)\n",
    "#             sumXY+=data[n1][i]*data[n2][i]\n",
    "#             cnt+=1\n",
    "#     return (sumXY-((sumX*sumY)/cnt)) / sqrt((sumSqX-(pow(sumX,2)/cnt))*(sumSqY-(pow(sumY,2)/cnt)))\n",
    "##전체 관객들에 대한 상관계수 \n",
    "# top_match(영화평점데이터, 기준관객, 등수, 유사도함수)\n",
    "# sim_pearson(movie_data,'오종민','차유화'):\n",
    "movie_data["
   ]
  },
  {
   "cell_type": "code",
   "execution_count": 144,
   "metadata": {},
   "outputs": [
    {
     "data": {
      "text/html": [
       "<div>\n",
       "<style scoped>\n",
       "    .dataframe tbody tr th:only-of-type {\n",
       "        vertical-align: middle;\n",
       "    }\n",
       "\n",
       "    .dataframe tbody tr th {\n",
       "        vertical-align: top;\n",
       "    }\n",
       "\n",
       "    .dataframe thead th {\n",
       "        text-align: right;\n",
       "    }\n",
       "</style>\n",
       "<table border=\"1\" class=\"dataframe\">\n",
       "  <thead>\n",
       "    <tr style=\"text-align: right;\">\n",
       "      <th></th>\n",
       "      <th>명량</th>\n",
       "      <th>국제시장</th>\n",
       "      <th>아바타</th>\n",
       "      <th>택시운전사</th>\n",
       "      <th>부산행</th>\n",
       "      <th>변호인</th>\n",
       "      <th>겨울왕국</th>\n",
       "      <th>기생충</th>\n",
       "    </tr>\n",
       "    <tr>\n",
       "      <th>이름</th>\n",
       "      <th></th>\n",
       "      <th></th>\n",
       "      <th></th>\n",
       "      <th></th>\n",
       "      <th></th>\n",
       "      <th></th>\n",
       "      <th></th>\n",
       "      <th></th>\n",
       "    </tr>\n",
       "  </thead>\n",
       "  <tbody>\n",
       "    <tr>\n",
       "      <td>고재형</td>\n",
       "      <td>NaN</td>\n",
       "      <td>NaN</td>\n",
       "      <td>4.5</td>\n",
       "      <td>3.5</td>\n",
       "      <td>4.0</td>\n",
       "      <td>NaN</td>\n",
       "      <td>4.0</td>\n",
       "      <td>4.0</td>\n",
       "    </tr>\n",
       "    <tr>\n",
       "      <td>김건우</td>\n",
       "      <td>4.0</td>\n",
       "      <td>4.5</td>\n",
       "      <td>NaN</td>\n",
       "      <td>NaN</td>\n",
       "      <td>NaN</td>\n",
       "      <td>3.5</td>\n",
       "      <td>2.5</td>\n",
       "      <td>NaN</td>\n",
       "    </tr>\n",
       "    <tr>\n",
       "      <td>박경호</td>\n",
       "      <td>4.0</td>\n",
       "      <td>5.0</td>\n",
       "      <td>4.5</td>\n",
       "      <td>NaN</td>\n",
       "      <td>2.0</td>\n",
       "      <td>3.5</td>\n",
       "      <td>0.0</td>\n",
       "      <td>5.0</td>\n",
       "    </tr>\n",
       "    <tr>\n",
       "      <td>박찬</td>\n",
       "      <td>4.0</td>\n",
       "      <td>5.0</td>\n",
       "      <td>3.0</td>\n",
       "      <td>NaN</td>\n",
       "      <td>4.5</td>\n",
       "      <td>3.5</td>\n",
       "      <td>3.0</td>\n",
       "      <td>5.0</td>\n",
       "    </tr>\n",
       "    <tr>\n",
       "      <td>김경아</td>\n",
       "      <td>4.0</td>\n",
       "      <td>4.0</td>\n",
       "      <td>NaN</td>\n",
       "      <td>4.0</td>\n",
       "      <td>4.0</td>\n",
       "      <td>3.0</td>\n",
       "      <td>4.0</td>\n",
       "      <td>5.0</td>\n",
       "    </tr>\n",
       "    <tr>\n",
       "      <td>정서영</td>\n",
       "      <td>3.0</td>\n",
       "      <td>2.0</td>\n",
       "      <td>5.0</td>\n",
       "      <td>3.0</td>\n",
       "      <td>1.0</td>\n",
       "      <td>NaN</td>\n",
       "      <td>3.0</td>\n",
       "      <td>5.0</td>\n",
       "    </tr>\n",
       "    <tr>\n",
       "      <td>정한음</td>\n",
       "      <td>4.0</td>\n",
       "      <td>5.0</td>\n",
       "      <td>5.0</td>\n",
       "      <td>4.0</td>\n",
       "      <td>5.0</td>\n",
       "      <td>NaN</td>\n",
       "      <td>5.0</td>\n",
       "      <td>NaN</td>\n",
       "    </tr>\n",
       "    <tr>\n",
       "      <td>오종민</td>\n",
       "      <td>3.0</td>\n",
       "      <td>4.5</td>\n",
       "      <td>4.5</td>\n",
       "      <td>1.5</td>\n",
       "      <td>NaN</td>\n",
       "      <td>3.5</td>\n",
       "      <td>4.0</td>\n",
       "      <td>NaN</td>\n",
       "    </tr>\n",
       "    <tr>\n",
       "      <td>차유화</td>\n",
       "      <td>NaN</td>\n",
       "      <td>3.5</td>\n",
       "      <td>4.0</td>\n",
       "      <td>3.5</td>\n",
       "      <td>2.0</td>\n",
       "      <td>3.5</td>\n",
       "      <td>4.0</td>\n",
       "      <td>3.0</td>\n",
       "    </tr>\n",
       "    <tr>\n",
       "      <td>이성천</td>\n",
       "      <td>NaN</td>\n",
       "      <td>NaN</td>\n",
       "      <td>5.0</td>\n",
       "      <td>NaN</td>\n",
       "      <td>NaN</td>\n",
       "      <td>NaN</td>\n",
       "      <td>3.0</td>\n",
       "      <td>NaN</td>\n",
       "    </tr>\n",
       "    <tr>\n",
       "      <td>이은성</td>\n",
       "      <td>2.0</td>\n",
       "      <td>NaN</td>\n",
       "      <td>4.5</td>\n",
       "      <td>NaN</td>\n",
       "      <td>NaN</td>\n",
       "      <td>3.5</td>\n",
       "      <td>4.0</td>\n",
       "      <td>5.0</td>\n",
       "    </tr>\n",
       "    <tr>\n",
       "      <td>김나연</td>\n",
       "      <td>3.0</td>\n",
       "      <td>3.5</td>\n",
       "      <td>NaN</td>\n",
       "      <td>4.0</td>\n",
       "      <td>3.0</td>\n",
       "      <td>4.0</td>\n",
       "      <td>4.0</td>\n",
       "      <td>3.0</td>\n",
       "    </tr>\n",
       "    <tr>\n",
       "      <td>조준형</td>\n",
       "      <td>4.0</td>\n",
       "      <td>3.0</td>\n",
       "      <td>3.5</td>\n",
       "      <td>4.0</td>\n",
       "      <td>NaN</td>\n",
       "      <td>4.5</td>\n",
       "      <td>NaN</td>\n",
       "      <td>5.0</td>\n",
       "    </tr>\n",
       "    <tr>\n",
       "      <td>김태현</td>\n",
       "      <td>NaN</td>\n",
       "      <td>4.0</td>\n",
       "      <td>3.0</td>\n",
       "      <td>NaN</td>\n",
       "      <td>3.0</td>\n",
       "      <td>4.0</td>\n",
       "      <td>3.0</td>\n",
       "      <td>4.0</td>\n",
       "    </tr>\n",
       "    <tr>\n",
       "      <td>한미래</td>\n",
       "      <td>3.0</td>\n",
       "      <td>NaN</td>\n",
       "      <td>4.0</td>\n",
       "      <td>5.0</td>\n",
       "      <td>4.0</td>\n",
       "      <td>4.0</td>\n",
       "      <td>3.0</td>\n",
       "      <td>5.0</td>\n",
       "    </tr>\n",
       "    <tr>\n",
       "      <td>조현진</td>\n",
       "      <td>NaN</td>\n",
       "      <td>NaN</td>\n",
       "      <td>4.0</td>\n",
       "      <td>NaN</td>\n",
       "      <td>NaN</td>\n",
       "      <td>NaN</td>\n",
       "      <td>4.0</td>\n",
       "      <td>NaN</td>\n",
       "    </tr>\n",
       "    <tr>\n",
       "      <td>유기욱</td>\n",
       "      <td>3.5</td>\n",
       "      <td>4.0</td>\n",
       "      <td>4.5</td>\n",
       "      <td>4.5</td>\n",
       "      <td>4.5</td>\n",
       "      <td>4.0</td>\n",
       "      <td>4.0</td>\n",
       "      <td>4.5</td>\n",
       "    </tr>\n",
       "    <tr>\n",
       "      <td>김경한</td>\n",
       "      <td>2.0</td>\n",
       "      <td>4.0</td>\n",
       "      <td>5.0</td>\n",
       "      <td>3.0</td>\n",
       "      <td>5.0</td>\n",
       "      <td>NaN</td>\n",
       "      <td>5.0</td>\n",
       "      <td>5.0</td>\n",
       "    </tr>\n",
       "    <tr>\n",
       "      <td>신아영</td>\n",
       "      <td>NaN</td>\n",
       "      <td>NaN</td>\n",
       "      <td>NaN</td>\n",
       "      <td>NaN</td>\n",
       "      <td>2.5</td>\n",
       "      <td>NaN</td>\n",
       "      <td>3.0</td>\n",
       "      <td>NaN</td>\n",
       "    </tr>\n",
       "    <tr>\n",
       "      <td>엄다연</td>\n",
       "      <td>3.0</td>\n",
       "      <td>5.0</td>\n",
       "      <td>NaN</td>\n",
       "      <td>NaN</td>\n",
       "      <td>4.0</td>\n",
       "      <td>3.5</td>\n",
       "      <td>NaN</td>\n",
       "      <td>4.0</td>\n",
       "    </tr>\n",
       "  </tbody>\n",
       "</table>\n",
       "</div>"
      ],
      "text/plain": [
       "      명량  국제시장  아바타  택시운전사  부산행  변호인  겨울왕국  기생충\n",
       "이름                                             \n",
       "고재형  NaN   NaN  4.5    3.5  4.0  NaN   4.0  4.0\n",
       "김건우  4.0   4.5  NaN    NaN  NaN  3.5   2.5  NaN\n",
       "박경호  4.0   5.0  4.5    NaN  2.0  3.5   0.0  5.0\n",
       "박찬   4.0   5.0  3.0    NaN  4.5  3.5   3.0  5.0\n",
       "김경아  4.0   4.0  NaN    4.0  4.0  3.0   4.0  5.0\n",
       "정서영  3.0   2.0  5.0    3.0  1.0  NaN   3.0  5.0\n",
       "정한음  4.0   5.0  5.0    4.0  5.0  NaN   5.0  NaN\n",
       "오종민  3.0   4.5  4.5    1.5  NaN  3.5   4.0  NaN\n",
       "차유화  NaN   3.5  4.0    3.5  2.0  3.5   4.0  3.0\n",
       "이성천  NaN   NaN  5.0    NaN  NaN  NaN   3.0  NaN\n",
       "이은성  2.0   NaN  4.5    NaN  NaN  3.5   4.0  5.0\n",
       "김나연  3.0   3.5  NaN    4.0  3.0  4.0   4.0  3.0\n",
       "조준형  4.0   3.0  3.5    4.0  NaN  4.5   NaN  5.0\n",
       "김태현  NaN   4.0  3.0    NaN  3.0  4.0   3.0  4.0\n",
       "한미래  3.0   NaN  4.0    5.0  4.0  4.0   3.0  5.0\n",
       "조현진  NaN   NaN  4.0    NaN  NaN  NaN   4.0  NaN\n",
       "유기욱  3.5   4.0  4.5    4.5  4.5  4.0   4.0  4.5\n",
       "김경한  2.0   4.0  5.0    3.0  5.0  NaN   5.0  5.0\n",
       "신아영  NaN   NaN  NaN    NaN  2.5  NaN   3.0  NaN\n",
       "엄다연  3.0   5.0  NaN    NaN  4.0  3.5   NaN  4.0"
      ]
     },
     "execution_count": 144,
     "metadata": {},
     "output_type": "execute_result"
    }
   ],
   "source": [
    "movie_data"
   ]
  },
  {
   "cell_type": "code",
   "execution_count": 1,
   "metadata": {},
   "outputs": [
    {
     "ename": "NameError",
     "evalue": "name 'data' is not defined",
     "output_type": "error",
     "traceback": [
      "\u001b[1;31m---------------------------------------------------------------------------\u001b[0m",
      "\u001b[1;31mNameError\u001b[0m                                 Traceback (most recent call last)",
      "\u001b[1;32m<ipython-input-1-901d7d87d12f>\u001b[0m in \u001b[0;36m<module>\u001b[1;34m\u001b[0m\n\u001b[0;32m     57\u001b[0m     \u001b[1;32mreturn\u001b[0m \u001b[0mmyList\u001b[0m\u001b[1;33m\u001b[0m\u001b[1;33m\u001b[0m\u001b[0m\n\u001b[0;32m     58\u001b[0m \u001b[1;33m\u001b[0m\u001b[0m\n\u001b[1;32m---> 59\u001b[1;33m \u001b[0mrecommendation\u001b[0m\u001b[1;33m(\u001b[0m\u001b[0mmovie_data\u001b[0m\u001b[1;33m,\u001b[0m\u001b[1;34m\"오종민\"\u001b[0m\u001b[1;33m)\u001b[0m\u001b[1;33m\u001b[0m\u001b[1;33m\u001b[0m\u001b[0m\n\u001b[0m",
      "\u001b[1;32m<ipython-input-1-901d7d87d12f>\u001b[0m in \u001b[0;36mrecommendation\u001b[1;34m(movie_data, person, simf)\u001b[0m\n\u001b[0;32m     32\u001b[0m \u001b[1;31m#...\u001b[0m\u001b[1;33m\u001b[0m\u001b[1;33m\u001b[0m\u001b[1;33m\u001b[0m\u001b[0m\n\u001b[0;32m     33\u001b[0m \u001b[1;32mdef\u001b[0m \u001b[0mrecommendation\u001b[0m\u001b[1;33m(\u001b[0m\u001b[0mmovie_data\u001b[0m\u001b[1;33m,\u001b[0m\u001b[0mperson\u001b[0m\u001b[1;33m,\u001b[0m\u001b[0msimf\u001b[0m\u001b[1;33m=\u001b[0m\u001b[0msim_pearson\u001b[0m\u001b[1;33m)\u001b[0m\u001b[1;33m:\u001b[0m\u001b[1;33m\u001b[0m\u001b[1;33m\u001b[0m\u001b[0m\n\u001b[1;32m---> 34\u001b[1;33m     \u001b[0mres\u001b[0m\u001b[1;33m=\u001b[0m\u001b[0mtop_match\u001b[0m\u001b[1;33m(\u001b[0m\u001b[0mmovie_data\u001b[0m\u001b[1;33m,\u001b[0m\u001b[0mperson\u001b[0m\u001b[1;33m,\u001b[0m \u001b[0mlen\u001b[0m\u001b[1;33m(\u001b[0m\u001b[0mmovie_data\u001b[0m\u001b[1;33m)\u001b[0m\u001b[1;33m)\u001b[0m\u001b[1;33m\u001b[0m\u001b[1;33m\u001b[0m\u001b[0m\n\u001b[0m\u001b[0;32m     35\u001b[0m \u001b[1;31m#     print(res)\u001b[0m\u001b[1;33m\u001b[0m\u001b[1;33m\u001b[0m\u001b[1;33m\u001b[0m\u001b[0m\n\u001b[0;32m     36\u001b[0m     \u001b[0msimSum\u001b[0m\u001b[1;33m=\u001b[0m\u001b[1;36m0\u001b[0m \u001b[1;31m#상관계수(유사도)의 합\u001b[0m\u001b[1;33m\u001b[0m\u001b[1;33m\u001b[0m\u001b[0m\n",
      "\u001b[1;32m<ipython-input-1-901d7d87d12f>\u001b[0m in \u001b[0;36mtop_match\u001b[1;34m(movie_data, name, rank, simf)\u001b[0m\n\u001b[0;32m     26\u001b[0m     \u001b[1;32mfor\u001b[0m \u001b[0mi\u001b[0m \u001b[1;32min\u001b[0m \u001b[0mmovie_data\u001b[0m\u001b[1;33m:\u001b[0m\u001b[1;33m\u001b[0m\u001b[1;33m\u001b[0m\u001b[0m\n\u001b[0;32m     27\u001b[0m         \u001b[1;32mif\u001b[0m \u001b[0mname\u001b[0m\u001b[1;33m!=\u001b[0m\u001b[0mi\u001b[0m\u001b[1;33m:\u001b[0m\u001b[1;31m#BTS(자기 자신)을 제외\u001b[0m\u001b[1;33m\u001b[0m\u001b[1;33m\u001b[0m\u001b[0m\n\u001b[1;32m---> 28\u001b[1;33m             \u001b[0msimList\u001b[0m\u001b[1;33m.\u001b[0m\u001b[0mappend\u001b[0m\u001b[1;33m(\u001b[0m\u001b[1;33m(\u001b[0m\u001b[0msimf\u001b[0m\u001b[1;33m(\u001b[0m\u001b[0mmovie_data\u001b[0m\u001b[1;33m,\u001b[0m\u001b[0mname\u001b[0m\u001b[1;33m,\u001b[0m\u001b[0mi\u001b[0m\u001b[1;33m)\u001b[0m\u001b[1;33m,\u001b[0m\u001b[0mi\u001b[0m\u001b[1;33m)\u001b[0m\u001b[1;33m)\u001b[0m\u001b[1;33m\u001b[0m\u001b[1;33m\u001b[0m\u001b[0m\n\u001b[0m\u001b[0;32m     29\u001b[0m     \u001b[0msimList\u001b[0m\u001b[1;33m.\u001b[0m\u001b[0msort\u001b[0m\u001b[1;33m(\u001b[0m\u001b[1;33m)\u001b[0m\u001b[1;31m#오름차순\u001b[0m\u001b[1;33m\u001b[0m\u001b[1;33m\u001b[0m\u001b[0m\n\u001b[0;32m     30\u001b[0m     \u001b[0msimList\u001b[0m\u001b[1;33m.\u001b[0m\u001b[0mreverse\u001b[0m\u001b[1;33m(\u001b[0m\u001b[1;33m)\u001b[0m\u001b[1;31m#역순(내림차순)\u001b[0m\u001b[1;33m\u001b[0m\u001b[1;33m\u001b[0m\u001b[0m\n",
      "\u001b[1;32m<ipython-input-1-901d7d87d12f>\u001b[0m in \u001b[0;36msim_pearson\u001b[1;34m(movie_data, n1, n2)\u001b[0m\n\u001b[0;32m      9\u001b[0m     \u001b[0msumXY\u001b[0m\u001b[1;33m=\u001b[0m\u001b[1;36m0\u001b[0m\u001b[1;33m\u001b[0m\u001b[1;33m\u001b[0m\u001b[0m\n\u001b[0;32m     10\u001b[0m     \u001b[0mcnt\u001b[0m\u001b[1;33m=\u001b[0m\u001b[1;36m0\u001b[0m \u001b[1;31m#영화 개수\u001b[0m\u001b[1;33m\u001b[0m\u001b[1;33m\u001b[0m\u001b[0m\n\u001b[1;32m---> 11\u001b[1;33m     \u001b[1;32mfor\u001b[0m \u001b[0mi\u001b[0m \u001b[1;32min\u001b[0m \u001b[0mdata\u001b[0m\u001b[1;33m[\u001b[0m\u001b[0mn1\u001b[0m\u001b[1;33m]\u001b[0m\u001b[1;33m:\u001b[0m\u001b[1;33m\u001b[0m\u001b[1;33m\u001b[0m\u001b[0m\n\u001b[0m\u001b[0;32m     12\u001b[0m         \u001b[1;32mif\u001b[0m \u001b[0mi\u001b[0m \u001b[1;32min\u001b[0m \u001b[0mmovie_data\u001b[0m\u001b[1;33m[\u001b[0m\u001b[0mn2\u001b[0m\u001b[1;33m]\u001b[0m\u001b[1;33m:\u001b[0m\u001b[1;33m\u001b[0m\u001b[1;33m\u001b[0m\u001b[0m\n\u001b[0;32m     13\u001b[0m             \u001b[0msumX\u001b[0m\u001b[1;33m+=\u001b[0m\u001b[0mmovie_data\u001b[0m\u001b[1;33m[\u001b[0m\u001b[0mn1\u001b[0m\u001b[1;33m]\u001b[0m\u001b[1;33m[\u001b[0m\u001b[0mi\u001b[0m\u001b[1;33m]\u001b[0m\u001b[1;33m\u001b[0m\u001b[1;33m\u001b[0m\u001b[0m\n",
      "\u001b[1;31mNameError\u001b[0m: name 'data' is not defined"
     ]
    }
   ],
   "source": [
    "import pandas as pd\n",
    "movie_data=pd.read_excel(\"movie22.xlsx\",header=1)\n",
    "def sim_pearson(movie_data,n1, n2):\n",
    "    #구현\n",
    "    sumX=0\n",
    "    sumY=0\n",
    "    sumSqX=0#x제곱의합\n",
    "    sumSqY=0#y제곱의합\n",
    "    sumXY=0\n",
    "    cnt=0 #영화 개수\n",
    "    for i in data[n1]:\n",
    "        if i in movie_data[n2]:\n",
    "            sumX+=movie_data[n1][i]\n",
    "            sumY+=movie_data[n2][i]\n",
    "            sumSqX+=pow(movie_data[n1][i],2)\n",
    "            sumSqY+=pow(movie_data[n2][i],2)\n",
    "            sumXY+=movie_data[n1][i]*movie_data[n2][i]\n",
    "            cnt+=1\n",
    "    return (sumXY-((sumX*sumY)/cnt)) / sqrt((sumSqX-(pow(sumX,2)/cnt))*(sumSqY-(pow(sumY,2)/cnt)))\n",
    "##전체 관객들에 대한 상관계수 \n",
    "# top_match(영화평점데이터, 기준관객, 등수, 유사도함수)\n",
    "def top_match(movie_data,name,rank=3,simf=sim_pearson):\n",
    "    simList=[]\n",
    "    #sim_pearson함수를 simf라는 이름으로 사용하겠다\n",
    "    #구현 부분\n",
    "    for i in movie_data:\n",
    "        if name!=i:#BTS(자기 자신)을 제외\n",
    "            simList.append((simf(movie_data,name,i),i))\n",
    "    simList.sort()#오름차순\n",
    "    simList.reverse()#역순(내림차순)\n",
    "    return simList[:rank]\n",
    "#...\n",
    "def recommendation(movie_data,person,simf=sim_pearson):\n",
    "    res=top_match(movie_data,person, len(movie_data))\n",
    "#     print(res)\n",
    "    simSum=0 #상관계수(유사도)의 합\n",
    "    score_dic={} #상관계수의 총합을 저장하기 위한 dic\n",
    "    sim_dic={} #유사도의 합을 저장하기 위한 dic\n",
    "    myList=[]\n",
    "    for sim,name in res:\n",
    "        if sim<0:continue\n",
    "        for movie in movie_data[name]:\n",
    "            if movie not in movie_data[person]:\n",
    "                #name이 본 movie를 person이 보지 않았다면...\n",
    "                simSum+=sim*movie_data[name][movie]\n",
    "                score_dic.setdefault(movie,0)\n",
    "                score_dic[movie]+=simSum\n",
    "                \n",
    "                sim_dic.setdefault(movie,0)\n",
    "                sim_dic[movie]+=sim\n",
    "            simSum=0 #영화 변경 -> 0으로 초기화\n",
    "    for key in score_dic:\n",
    "        score_dic[key]=score_dic[key]/sim_dic[key]#평점총합/유사도\n",
    "        myList.append((score_dic[key],key))\n",
    "    myList.sort()\n",
    "    myList.reverse()\n",
    "    return myList\n",
    "\n",
    "recommendation(movie_data,\"오종민\")"
   ]
  },
  {
   "cell_type": "code",
   "execution_count": null,
   "metadata": {},
   "outputs": [],
   "source": []
  }
 ],
 "metadata": {
  "kernelspec": {
   "display_name": "Python 3",
   "language": "python",
   "name": "python3"
  },
  "language_info": {
   "codemirror_mode": {
    "name": "ipython",
    "version": 3
   },
   "file_extension": ".py",
   "mimetype": "text/x-python",
   "name": "python",
   "nbconvert_exporter": "python",
   "pygments_lexer": "ipython3",
   "version": "3.7.4"
  }
 },
 "nbformat": 4,
 "nbformat_minor": 2
}
