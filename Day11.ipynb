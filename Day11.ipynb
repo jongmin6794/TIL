{
 "cells": [
  {
   "cell_type": "code",
   "execution_count": 1,
   "metadata": {},
   "outputs": [],
   "source": [
    "#로그인 스크래핑_크롤링\n",
    "#서버와 클라우드 사이에 데이터가 어떻게 오가는지 학습\n",
    "#동작 메커니즘 이해\n"
   ]
  },
  {
   "cell_type": "code",
   "execution_count": 2,
   "metadata": {},
   "outputs": [
    {
     "name": "stdout",
     "output_type": "stream",
     "text": [
      "경로를 입력하세요: c:/da\n"
     ]
    }
   ],
   "source": [
    "#www.hanbit.co.kr <- 회원가입"
   ]
  },
  {
   "cell_type": "code",
   "execution_count": 77,
   "metadata": {},
   "outputs": [],
   "source": [
    "#로그인 모듈\n",
    "import requests\n",
    "from bs4 import BeautifulSoup\n"
   ]
  },
  {
   "cell_type": "code",
   "execution_count": 78,
   "metadata": {},
   "outputs": [],
   "source": [
    "USER=\"ojm6794\"\n",
    "PASS=\"*********\" # <- 비번으로 바꿔서"
   ]
  },
  {
   "cell_type": "code",
   "execution_count": 79,
   "metadata": {},
   "outputs": [],
   "source": [
    "#세션(서버와 클라이언트간 연결)시작하기\n",
    "session=requests.session()\n",
    "login_info={\"m_id\":USER,\"m_passwd\":PASS}\n",
    "url_login=\"https://www.hanbit.co.kr/member/login_proc.php\""
   ]
  },
  {
   "cell_type": "code",
   "execution_count": 82,
   "metadata": {},
   "outputs": [],
   "source": [
    "res=session.post(url_login,login_info)\n",
    "#로그인 처리\n",
    "res.raise_for_status() #오류가 발생하면 예외상황을 출력\n",
    "#주소가 잘못됐음에도 실행이 되는 경우가 많으므로 오류 알림 <- 써주는 것이 좋음"
   ]
  },
  {
   "cell_type": "code",
   "execution_count": 83,
   "metadata": {},
   "outputs": [
    {
     "data": {
      "text/plain": [
       "\"<script>location.href='http://www.hanbit.co.kr';</script>\""
      ]
     },
     "execution_count": 83,
     "metadata": {},
     "output_type": "execute_result"
    }
   ],
   "source": [
    "res.text"
   ]
  },
  {
   "cell_type": "code",
   "execution_count": 84,
   "metadata": {},
   "outputs": [],
   "source": [
    "res=session.get(\"http://www.hanbit.co.kr/myhanbit/myhanbit.html\")\n",
    "res.raise_for_status()"
   ]
  },
  {
   "cell_type": "code",
   "execution_count": 85,
   "metadata": {},
   "outputs": [
    {
     "name": "stdout",
     "output_type": "stream",
     "text": [
      "마일리지:2,000\n",
      "코인:0\n"
     ]
    }
   ],
   "source": [
    "soup=BeautifulSoup(res.text,\"html.parser\")\n",
    "mileage=soup.select_one(\"#container > div > div.sm_mymileage > dl.mileage_section1 > dd > span\").string\n",
    "ecoin=soup.select_one(\"#container > div > div.sm_mymileage > dl.mileage_section2 > dd > span\").string\n",
    "print(\"마일리지:\"+mileage)\n",
    "print(\"코인:\"+ecoin)"
   ]
  },
  {
   "cell_type": "code",
   "execution_count": null,
   "metadata": {},
   "outputs": [],
   "source": [
    "# 웹브라우저를 이용한 스크래핑\n",
    "# Selenium : 웹 브라우저를 조작(스크래핑) 도구\n",
    "# Phantomjs : 화면없이 명령줄에서 이용할 수 있는 웹브라우저 \n",
    "\n",
    "# Phantomjs(크롬)를 이용하여 사이트 탐색(이동), Selenium을 이용하여 \n",
    "# 해당 사이트에서 자동으로 url열기, 클릭, 스크롤, 문자입력, 화면캡쳐 등의 작업을 수행"
   ]
  },
  {
   "cell_type": "code",
   "execution_count": null,
   "metadata": {},
   "outputs": [],
   "source": [
    "\"\"\"\n",
    "1. 아나콘다 프롬프트 : pip install selenium\n",
    "-자동으로 url열기, 클릭, 스크롤, 문자 입력 가능, 화면캡쳐 등\n",
    "2. \n",
    "\"\"\""
   ]
  },
  {
   "cell_type": "code",
   "execution_count": 87,
   "metadata": {},
   "outputs": [
    {
     "name": "stderr",
     "output_type": "stream",
     "text": [
      "C:\\Users\\student\\Anaconda3\\lib\\site-packages\\selenium\\webdriver\\phantomjs\\webdriver.py:49: UserWarning: Selenium support for PhantomJS has been deprecated, please use headless versions of Chrome or Firefox instead\n",
      "  warnings.warn('Selenium support for PhantomJS has been deprecated, please use headless '\n"
     ]
    }
   ],
   "source": [
    "from selenium import webdriver\n",
    "url=\"http://www.naver.com\"\n",
    "#PhantomJS 드라이버 추출\n",
    "browser = webdriver.PhantomJS()\n",
    "#3초 대기\n",
    "browser.implicitly_wait(3)\n",
    "#url 열기\n",
    "browser.get(url)\n",
    "# 화면 캡쳐 및 저장\n",
    "browser.save_screenshot(\"myshot.png\")\n",
    "# 브라우저 종료\n",
    "browser.quit()"
   ]
  },
  {
   "cell_type": "code",
   "execution_count": 104,
   "metadata": {},
   "outputs": [
    {
     "name": "stdout",
     "output_type": "stream",
     "text": [
      "\n",
      "Star Wars: The Rise of Skywalker\n",
      "\n",
      "https://rottentomatoes.com/m/star_wars_the_rise_of_skywalker\n",
      "\n",
      "Jumanji: The Next Level\n",
      "\n",
      "https://rottentomatoes.com/m/jumanji_the_next_level\n",
      "\n",
      "Little Women\n",
      "\n",
      "https://rottentomatoes.com/m/little_women_2019\n",
      "\n",
      "Frozen II\n",
      "\n",
      "https://rottentomatoes.com/m/frozen_ii\n",
      "\n",
      "Spies in Disguise\n",
      "\n",
      "https://rottentomatoes.com/m/spies_in_disguise\n",
      "\n",
      "Knives Out\n",
      "\n",
      "https://rottentomatoes.com/m/knives_out\n",
      "\n",
      "Uncut Gems\n",
      "\n",
      "https://rottentomatoes.com/m/uncut_gems\n",
      "\n",
      "Cats\n",
      "\n",
      "https://rottentomatoes.com/m/cats_2019\n",
      "\n",
      "Bombshell\n",
      "\n",
      "https://rottentomatoes.com/m/bombshell_2019\n",
      "\n",
      "Richard Jewell\n",
      "\n",
      "https://rottentomatoes.com/m/richard_jewell\n"
     ]
    }
   ],
   "source": [
    "# rottentomatoes.com\n",
    "import urllib.request as req\n",
    "page=req.urlopen(\"https://rottentomatoes.com/\")\n",
    "doc=page.read()\n",
    "#doc\n",
    "soup=BeautifulSoup(doc,\"html.parser\")\n",
    "movies=soup.find(id=\"homepage-top-box-office\")\n",
    "movies_list=movies.find_all(\"td\",class_=\"middle_col\")\n",
    "#print(movie_list.get(\"a\"))\n",
    "for movie in movies_list:\n",
    "    print(movie.get_text())\n",
    "    print(\"https://rottentomatoes.com\"+movie.find(\"a\").get(\"href\"))"
   ]
  },
  {
   "cell_type": "code",
   "execution_count": null,
   "metadata": {},
   "outputs": [],
   "source": [
    "#https://stackoverflow.com/ <- 전세계 개발자들 코딩 커뮤티니(오류) 사이트\n",
    "#question-summary-59573352 > div.summary > h3\n",
    "#question-summary-59573349 > div.summary > h3\n",
    "#https://stackoverflow.com/questions/tagged/python?tab=newest&page=1&pagesize=15\n",
    "#https://stackoverflow.com/questions/tagged/python?tab=newest&page=2&pagesize=15\n",
    "#https://stackoverflow.com/questions/tagged/python?tab=newest&page=3&pagesize=15"
   ]
  },
  {
   "cell_type": "code",
   "execution_count": 116,
   "metadata": {},
   "outputs": [
    {
     "name": "stdout",
     "output_type": "stream",
     "text": [
      "So I'm super new on everything Spark and I'm pulling my hair out trying to find out why I'm getting this error. This is what I've done so far:\n",
      "from pyspark.sql.functions import lit, col, count, sum, when\n",
      "from pyspark.sql import SparkSession\n",
      "from pyspark import SparkContext\n",
      "no errors there\n",
      "spark = SparkSession.builder.appName(\"app1\").getOrCreate()\n",
      "and I got this gigantic error, I run out of ideas on why this is happening. And just to be clear; my first installation was with Anaconda Navigator and I got the same error! ... any help about this will be greatly appreciated:\n",
      "\n",
      "======================================== \n",
      "\n",
      "Hi I've tired to find the right selenium code to get click the main parent class if the following requirements exist in the class :\n",
      "\n",
      "Here is the code bellow\n",
      "I've tried to locate:\n",
      "   -Div the whole class\n",
      "   -locate classes and the href individualy\n",
      "   -click the first five columns\n",
      "but it all always fails.\n",
      "Can I be solved?\n",
      "======================================== \n",
      "\n",
      "I am newbie in machine learning and just figured out the core principals of gradient descent algorithm, so far I have successfully implemented NNs with single input -> single output, single input -> multiple outputs and multiple input -> multiple outputs (where number of inputs matches number of outputs), but I got stuck with multiple input -> multiple output NNs\n",
      "(where number of inputs are greater than number of outputs)\n",
      "I tried following, and it adjusts weights to predict correct output, but I am not sure if this is correct way.\n",
      "======================================== \n",
      "\n",
      "I am developing an application to detect objects based on their colour and variant and send the data to a table in a database.\n",
      "With the help of OpenCV module, I can detect the colour on the objects without any issue. But detecting variants is a bit tricky. For instance, I have three variants i.e square, rectangle and circle. How do I detect an object and send the variant data to the Database? \n",
      "I know one of the methods is by drawing contours but I want to know if there's any alternate method like comparing the detected object with the image file (as reference) of the same variant.\n",
      "======================================== \n",
      "\n",
      "I have a dataframe(df) with column A and B:\n",
      "I want to multiply value of column B by 100 if column A value is 'a' so my output should be:\n",
      "Could anyone please suggest a cleaner way to do this. Thanks.\n",
      "Use pandas.Series.where with str.contains:\n",
      "Output:\n",
      "I think test substrings is not necessary, only use DataFrame.loc:\n",
      "Could you please try following.\n",
      "After running above code, value of dataframe will be as follows. np.where could be read for knowing about np.where\n",
      "======================================== \n",
      "\n",
      "\n",
      "Want to improve this question? Add details and clarify the problem by editing this post.\n",
      "                        \n",
      "Closed 14 mins ago.\n",
      "======================================== \n",
      "\n",
      "So I have this code which makes text boxes on the pygame screen so that the user can input details. However, as I have multiple boxes on each page I don't know how to make it so that my code returns the inputted value to a different variable name every time (instead of just printing it), which I can then use outside of the class in order to validate the user's input. Furthermore, I am also struggling as my code allows the user to change their input even after pressing enter but I don't want them to be able to do this as after pressing enter the code should validate the input and move to the next screen or display an error message and make the user re-input the details from scratch. This is the code:\n",
      "Thankyou for any help !\n",
      "======================================== \n",
      "\n",
      "I am coding a tools to play game Automatically, I use PyAutoGUI to control the mouse and keyboard. But I want PyAutoGUI only works in my game frame. How can I do that?\n",
      "Thanks for your helping!!\n",
      "======================================== \n",
      "\n",
      "I'm using Windows right now but am interested in the answer for any operating systems.\n",
      "I'm writing a program that hashes a large number of files stored on multiple disks, each of which is split into multiple partitions. For example, Disk #1 has partitions C, D, and E, while Disk #2 has partitions F and G, and Disk #3 has partition H.\n",
      "I would like to save some time by hashing files in parallel: three threads or processes for the three disks, so 3 files are going at once but only one from each disk. However, I'm not sure how to determine which physical disk a given file is on. (Within my code, that is. I could obviously hardcode it today, but I'm interested in making this re-usable and general.)\n",
      "Is this information exposed by the operating system in a way that I can access?\n",
      "You can use the st_dev part of a stat result to determine what device a directory is on. You're looking for directories that are on different devices:\n",
      "======================================== \n",
      "\n",
      "I am trying to extract a few features from text data of terrorist events to create a dataset. Using name entity recognition, I have successfully extracted the features like name, place, organization now I want to extract the number of members involved in the incidence.\n",
      "from the above text how can I extract 10 members of Lashkar-e-Taiba and place 10 in the column of the number of attackers.\n",
      "Is that even possible using nlp techniques?\n",
      "======================================== \n",
      "\n",
      "how to update date field with elasticsearch spark.\n",
      "you will get error like Caused by: org.elasticsearch.hadoop.EsHadoopIllegalArgumentException: Invalid param definition timestamp:2020-01-03T14:46:51\n",
      "I've tried using timestamp (epoch) and isoformat and hoped for ES to detect it and insert it as date field, but it's recognized either as long or string..\n",
      "======================================== \n",
      "\n",
      "Want to remove all rows containing TOTAL\n",
      "\n",
      "the following code to import and then selecting first column with iloc or using data['State/Union Territory')\n",
      "iloc results in selecting the 1st column \"type\" as well, while data['coloumn_NAME_HERE'] ends up in error. \n",
      "I want to fetch the rows and delete it. \n",
      "pandas has vectorized string operations, so you can just filter out the rows that contain the string you don't want:\n",
      "Another approach (if you have more than one string to filter):\n",
      "Hope this helps. Good luck.\n",
      "======================================== \n",
      "\n",
      "I am new to Python.  We have an application using Python + nginx + uwsgi and able to start 'uwsgi' as service.  However, it errors with the following message on uwsgi.log\n",
      "Error\n",
      "I tried the following\n",
      "INSTALLED_APPS\n",
      "I googled but I am unable to spot the issue.  To my understanding there's something wrong 'websocket' app.  I am not sure what environment settings should be added.  Any help is highly appreciated\n",
      "======================================== \n",
      "\n",
      "I'm using Python 3.7 and I have stored a value inside a variable. This variable holds the value of padding which I want to use within curly braces for string formatting. The code explains what I am trying to do.\n",
      "This is the code that I have been trying to run. What I am trying to do is to right align the numbers by padding it by the value of the length of the last binary number.\n",
      "ValueError: Invalid format specifier\n",
      "This is the error I get. What am I doing wrong?\n",
      "You must first incorporate the value of the variable length into your format string and, strangely, using .format() is the best way to do it.\n",
      "Change the following line\n",
      "to\n",
      "I usually do it in two steps, creating a format string first. It works by escaping the braces - {{,}} - that need to remain in the format string.\n",
      "You can use f-strings.\n",
      "======================================== \n",
      "\n",
      "I was earlier trying to solve a question that needs to generate this image shown below using matplotlib. \n",
      "\n",
      "For that, I wrote the code, which was somewhat okay but got stuck. But I got a problem when printing segments of the circle.\n",
      "Here's my code.\n",
      "Problem is around, these lines\n",
      "I got this as an output \n",
      ".\n",
      "It looks like you group values in wrong pairs - like \n",
      "but it should be \n",
      "\n",
      "======================================== \n",
      "\n",
      "Output is\n",
      "======================================== \n",
      "\n",
      "I create a invoice dataframe and a number of master dataframes from  csv files \n",
      "I drop a number of rows depending on availability in material masters and customer masters.  I reindex each time. \n",
      "I then need to copy data from the masters to the final, clean Invoice DataFrame.  Instead of doing a for loop over two data frames, I thought I would do a merge on select columns.  \n",
      "I end up with 4 extra rows even though I am merging on the left.  I can identify which rows have been repeated.  But I cant identify why.  What am I doing wrong here?\n",
      "The merge in your code is equivalent to left outer join. As discussed you have more than one matching keys Cust No for a value of Ship to Party. Remove the duplicate keys in the master dataframe. That might help.\n",
      "======================================== \n",
      "\n"
     ]
    },
    {
     "name": "stdout",
     "output_type": "stream",
     "text": [
      "I know that video streaming is possible with python using flask framework. But as twilio is a paid platform, is there any other platforms which can be freely used for video streaming.\n",
      "======================================== \n",
      "\n",
      "I have made an chrome extension that interacts with a native app made with python. On closing my browser my native app doesn't end. I read somewhere that chrome sends -1 as message before ending. Following is the code I used to receive from extension - \n",
      "======================================== \n",
      "\n",
      "I am using Flasgger 0.9.3 with Flask 1.0.2\n",
      "I have 5 endpoints which have the same 200 JSON response format. This is causing me to repeat (duplicate) the JSON format in the swagger definition on every endpoint. Is there any way that we can define the swagger at one place and re-use it in multiple endpoints? Or can we point the swagger definition to a python object containing the dict (JSON) response format?\n",
      "======================================== \n",
      "\n",
      "======================================== \n",
      "\n",
      "I ran the command virtualenv venv and aborted it halfway, and now, whenever I open a new terminal (Mac OS Catalina 10.15.2), I see the message:\n",
      "(Even though I uninstalled zsh quite awhile ago; not sure how it's still here).\n",
      "I can't be sure exactly how this new behaviour occurred, though. Aborting the virtualenv venv call was just the last thing I did, not necessarily the cause of the issue.\n",
      "There's a similar problem here, but the root causes don't appear to be similar (I wasn't downloading anything new...I think). \n",
      "======================================== \n",
      "\n",
      "I have written the following code which receives audio data in bytes and outputs it through the speaker. I want to combine the bytes received and save them in .wav file of 5 seconds each. \n",
      "======================================== \n",
      "\n",
      "Has anyone had this problem before? I get the below error message when I try to run a Python script in Spyder IDE while using NVIDIA Nsight Systems.\n",
      "CommError: Can't make a request to a closed comm\n",
      "======================================== \n",
      "\n",
      "I want to check if the user from request.user is allowed to watch the video. If he is allowed to watch the video, you can display video control. If not, you can dispaly \"buy now\" button.\n",
      "Now the question is: How can we check if a user is allowed to watch a video or not?\n",
      "I have videoaccess model and If we filter the objects of this model for the user and the model, and we have one entry, then we know the user is allowed to see the video.\n",
      "I can buy video and in videoaccess on admin have There is information purchased, but in template I can't request user I don't know how to check user. \n",
      "model.py\n",
      "views.py\n",
      "video_preview.html (template)\n",
      "I tired to print {{ request.user }} in video_preview.html it's not show data, but I print in another template it's show login user.\n",
      "Can anyone help me?\n",
      "Thank you in advance.\n",
      "======================================== \n",
      "\n",
      "This is that section of code. Here on clicking 1st button,only the 1st path should get opened. Instead am not getting any output of this app part at all.\n",
      "======================================== \n",
      "\n",
      "\n",
      "Want to improve this question? Update the question so it focuses on one problem only by editing this post.\n",
      "                        \n",
      "Closed 27 mins ago.\n",
      "I have a Lichee Pi nano with me, i just uploaded an image file in to the SD card and  details are showing on the display after inserting the SD card into the Licheepi nano. I don't have any input device, the commands are inputting via the USB to TTL converter to the UART0 of the Licheepi nano. I have tried Linux commands to create text file and writing data to the text file that's all worked perfectly. i don't have WiFi connection to the Licheepi , is there is any other image file with in-build python for Licheepi nano? and one more thing,  correct way of handling Licheepi nano(basic steps of image file upload and all).\n",
      "image file - image.7z form   https://steward-fu.github.io/website/mcu/lichee-nano/flash_image.htm\n",
      "======================================== \n",
      "\n",
      "======================================== \n",
      "\n",
      "======================================== \n",
      "\n",
      "======================================== \n",
      "\n",
      "\n",
      "Want to improve this question? Update the question so it's on-topic for Stack Overflow.\n",
      "                        \n",
      "Closed 1 hour ago.\n",
      "Essentially, create a class called DQNagent where it creates a neural network model and then the temp_func is meant to give the output of the neural network given the input \n",
      "The neural network model itself runs well if I don't declare them inside a class, so it should work as is in the code. \n",
      "But if I run this code, then I get the error message that \n",
      "But I declared everything in regards to input_vec. I'm confused why it gives me the error message \n",
      "======================================== \n",
      "\n",
      "======================================== \n",
      "\n",
      "======================================== \n",
      "\n",
      "======================================== \n",
      "\n",
      "======================================== \n",
      "\n",
      "======================================== \n",
      "\n",
      "======================================== \n",
      "\n",
      "======================================== \n",
      "\n",
      "======================================== \n",
      "\n",
      "======================================== \n",
      "\n",
      "======================================== \n",
      "\n",
      "======================================== \n",
      "\n",
      "======================================== \n",
      "\n",
      "======================================== \n",
      "\n",
      "======================================== \n",
      "\n",
      "======================================== \n",
      "\n",
      "======================================== \n",
      "\n",
      "======================================== \n",
      "\n",
      "======================================== \n",
      "\n",
      "======================================== \n",
      "\n"
     ]
    }
   ],
   "source": [
    "import requests # urllib.request ??\n",
    "url=\"https://stackoverflow.com/questions/tagged/python\"\n",
    "response=requests.get(url)\n",
    "soup=BeautifulSoup(response.text,'html.parser')\n",
    "links=[]\n",
    "for link in soup.select(\"div.question-summary h3 a\"):\n",
    "    links.append(link.attrs['href'])\n",
    "#    print(link.attrs['href'])\n",
    "for link in links:\n",
    "    url=\"https://stackoverflow.com\"+link\n",
    "    response=requests.get(url)\n",
    "    text=response.text\n",
    "    soup=BeautifulSoup(text,'html.parser')\n",
    "    for x in soup.select(\"div.postcell div.post-text p\"):\n",
    "        print(x.text)\n",
    "    for x in soup.select(\"div.answercell div.post-text p\"):\n",
    "        print(x.text)\n",
    "    print(\"=\"*40, \"\\n\")\n",
    "    \n",
    "#    print(soup)\n",
    "#     print(\"Question\\n\")\n",
    "#     print(\"\\nAnswer\\n\")\n",
    "#     print(\"=\"*50,\"\\n\")\n"
   ]
  },
  {
   "cell_type": "code",
   "execution_count": 145,
   "metadata": {},
   "outputs": [
    {
     "name": "stdout",
     "output_type": "stream",
     "text": [
      "   파이썬 관련   \n",
      "   c언어 하기 전에 파이썬을 꼭 먼저 해야 하나요?  \n",
      "   파이썬 인강 추천  \n",
      "   파이썬 프로그래밍 책 추천  \n",
      "   파이썬 책추천  \n",
      "   파이썬어떻게 하는건가요?  \n",
      "   C언어와 JAVA와 파이썬 언어의 차이점  \n",
      "   파이썬 명령어   \n",
      "   파이썬 강의 관심있어요  \n",
      "   파이썬 핸드폰용 드립니다  \n"
     ]
    }
   ],
   "source": [
    "#문제1\n",
    "#https://search.naver.com/search.naver?where=kin&kin_display=10&qt=&title=0&&answer=0&grade=0&choice=0&sec=0&nso=so%3Ar%2Ca%3Aall%2Cp%3Aall&query=%ED%8C%8C%EC%9D%B4%EC%8D%AC&c_id=&c_name=&sm=tab_pge&kin_start=11\n",
    "#https://search.naver.com/search.naver?where=kin&kin_display=10&qt=&title=0&&answer=0&grade=0&choice=0&sec=0&nso=so%3Ar%2Ca%3Aall%2Cp%3Aall&query=%ED%8C%8C%EC%9D%B4%EC%8D%AC&c_id=&c_name=&sm=tab_pge&kin_start=21\n",
    "import requests\n",
    "url=\"https://search.naver.com/search.naver?where=kin&kin_display=10&qt=&title=0&&answer=0&grade=0&choice=0&sec=0&nso=so%3Ar%2Ca%3Aall%2Cp%3Aall&query=%ED%8C%8C%EC%9D%B4%EC%8D%AC&c_id=&c_name=&sm=tab_pge&kin_start=1\"\n",
    "response=requests.get(url)\n",
    "#print(response.text)\n",
    "soup=BeautifulSoup(response.text,'html.parser')\n",
    "import re\n",
    "for i in soup.select(\"#elThumbnailResultArea  li > dl > dt\"):\n",
    "    keyword=re.sub(\"질문\",\"\",i.text)\n",
    "    print(keyword)\n",
    "    \n",
    "#print(soup)"
   ]
  },
  {
   "cell_type": "code",
   "execution_count": 167,
   "metadata": {},
   "outputs": [
    {
     "name": "stdout",
     "output_type": "stream",
     "text": [
      "https://kin.naver.com/qna/detail.nhn?d1id=1&dirId=10402&docId=342854837&qb=7YyM7J207I2s&enc=utf8§ion=kin&rank=1&search_sort=0&spq=0\n",
      "https://kin.naver.com/qna/detail.nhn?d1id=1&dirId=10402&docId=342170021&qb=7YyM7J207I2s&enc=utf8§ion=kin&rank=2&search_sort=0&spq=0\n",
      "https://kin.naver.com/qna/detail.nhn?d1id=1&dirId=10402&docId=342768010&qb=7YyM7J207I2s&enc=utf8§ion=kin&rank=3&search_sort=0&spq=0\n",
      "https://kin.naver.com/qna/detail.nhn?d1id=1&dirId=104&docId=341360209&qb=7YyM7J207I2s&enc=utf8§ion=kin&rank=4&search_sort=0&spq=0\n",
      "https://kin.naver.com/qna/detail.nhn?d1id=1&dirId=10402&docId=340568408&qb=7YyM7J207I2s&enc=utf8§ion=kin&rank=5&search_sort=0&spq=0\n",
      "https://kin.naver.com/qna/detail.nhn?d1id=1&dirId=10402&docId=337684207&qb=7YyM7J207I2s&enc=utf8§ion=kin&rank=6&search_sort=0&spq=0\n",
      "https://kin.naver.com/qna/detail.nhn?d1id=1&dirId=10402&docId=340719557&qb=7YyM7J207I2s&enc=utf8§ion=kin&rank=7&search_sort=0&spq=0\n",
      "https://kin.naver.com/qna/detail.nhn?d1id=1&dirId=104&docId=343847381&qb=7YyM7J207I2s&enc=utf8§ion=kin&rank=8&search_sort=0&spq=0\n",
      "https://kin.naver.com/qna/detail.nhn?d1id=4&dirId=40608&docId=343652043&qb=7YyM7J207I2s&enc=utf8§ion=kin&rank=9&search_sort=0&spq=0\n",
      "https://kin.naver.com/qna/detail.nhn?d1id=1&dirId=10402&docId=342741021&qb=7YyM7J207I2s&enc=utf8§ion=kin&rank=10&search_sort=0&spq=0\n"
     ]
    }
   ],
   "source": [
    "#문제2\n",
    "url=\"https://search.naver.com/search.naver?where=kin&kin_display=10&qt=&title=0&&answer=0&grade=0&choice=0&sec=0&nso=so%3Ar%2Ca%3Aall%2Cp%3Aall&query=%ED%8C%8C%EC%9D%B4%EC%8D%AC&c_id=&c_name=&sm=tab_pge&kin_start=1\"\n",
    "response=requests.get(url)\n",
    "soup=BeautifulSoup(response.text,'html.parser')\n",
    "listA=[]\n",
    "for i in soup.select(\"#elThumbnailResultArea dl a\"):\n",
    "    listA.append(i.attrs['href'])\n",
    "#print(listA)\n",
    "for i in range(len(listA)):\n",
    "    print(listA[i])"
   ]
  },
  {
   "cell_type": "code",
   "execution_count": null,
   "metadata": {},
   "outputs": [],
   "source": []
  }
 ],
 "metadata": {
  "kernelspec": {
   "display_name": "Python 3",
   "language": "python",
   "name": "python3"
  },
  "language_info": {
   "codemirror_mode": {
    "name": "ipython",
    "version": 3
   },
   "file_extension": ".py",
   "mimetype": "text/x-python",
   "name": "python",
   "nbconvert_exporter": "python",
   "pygments_lexer": "ipython3",
   "version": "3.7.4"
  }
 },
 "nbformat": 4,
 "nbformat_minor": 2
}
