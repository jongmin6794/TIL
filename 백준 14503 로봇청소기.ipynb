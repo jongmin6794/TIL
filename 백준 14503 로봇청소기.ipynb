{
 "cells": [
  {
   "cell_type": "code",
   "execution_count": 12,
   "metadata": {},
   "outputs": [
    {
     "name": "stdout",
     "output_type": "stream",
     "text": [
      "3 3\n",
      "1 1 0\n",
      "1 1 1\n",
      "1 0 1\n",
      "1 1 1\n"
     ]
    }
   ],
   "source": [
    "N,M=map(int,input().split())\n",
    "r,c,d=map(int,input().split())\n",
    "arr=[list(map(int,input().split()))for i in range(N)]"
   ]
  },
  {
   "cell_type": "code",
   "execution_count": 13,
   "metadata": {},
   "outputs": [
    {
     "data": {
      "text/plain": [
       "[[1, 1, 1], [1, 0, 1], [1, 1, 1]]"
      ]
     },
     "execution_count": 13,
     "metadata": {},
     "output_type": "execute_result"
    }
   ],
   "source": [
    "arr"
   ]
  },
  {
   "cell_type": "code",
   "execution_count": 15,
   "metadata": {},
   "outputs": [
    {
     "name": "stdout",
     "output_type": "stream",
     "text": [
      "1\n"
     ]
    }
   ],
   "source": [
    "count = 0\n",
    "cnt=0\n",
    "# print(arr)\n",
    "def Robot(r, c, d):\n",
    "    global cnt\n",
    "    arr[r][c]=2\n",
    "    if cnt == 4:\n",
    "        if d == 0:\n",
    "            if arr[r + 1][c] == 1:\n",
    "                return\n",
    "            else:\n",
    "                r = r + 1\n",
    "                cnt=0\n",
    "        elif d == 1:\n",
    "            if arr[r][c - 1] == 1:\n",
    "                return\n",
    "            else:\n",
    "                c = c - 1\n",
    "                cnt = 0\n",
    "        elif d == 2:\n",
    "            if arr[r - 1][c] == 1:\n",
    "                return\n",
    "            else:\n",
    "                r = r - 1\n",
    "                cnt = 0\n",
    "        elif d == 3:\n",
    "            if arr[r][c + 1] == 1:\n",
    "                return\n",
    "            else:\n",
    "                c = c + 1\n",
    "                cnt = 0\n",
    "    if d == 0:\n",
    "        if c - 1 >= 0:\n",
    "            d = 3\n",
    "            if arr[r][c - 1] != 0:  # 막힘 or 청소함\n",
    "                cnt += 1\n",
    "            else:\n",
    "                # 이동\n",
    "                c = c - 1\n",
    "                cnt = 0\n",
    "    elif d == 1:\n",
    "        if r - 1 >= 0:\n",
    "            d = 0\n",
    "            if arr[r - 1][c] != 0:\n",
    "                cnt += 1\n",
    "            else:\n",
    "                # 이동\n",
    "                r = r - 1\n",
    "                cnt = 0\n",
    "    elif d == 2:\n",
    "        if c + 1 <= M:\n",
    "            d = 1\n",
    "            if arr[r][c + 1] != 0:\n",
    "                cnt += 1\n",
    "            else:\n",
    "                # 이동\n",
    "                c = c + 1\n",
    "                cnt = 0\n",
    "    elif d == 3:\n",
    "        if r + 1 <= N:\n",
    "            d = 2\n",
    "            if arr[r + 1][c] != 0:\n",
    "                cnt += 1\n",
    "            else:\n",
    "                # 이동\n",
    "                r = r + 1\n",
    "                cnt = 0\n",
    "    # print(cnt)\n",
    "    # print(r,c,d)\n",
    "    Robot(r, c, d)\n",
    "\n",
    "Robot(r, c, d)\n",
    "for i in range(N):\n",
    "    for j in range(M):\n",
    "        if arr[i][j] == 2:\n",
    "            count += 1\n",
    "# print(arr)\n",
    "print(count)"
   ]
  },
  {
   "cell_type": "code",
   "execution_count": null,
   "metadata": {},
   "outputs": [],
   "source": []
  }
 ],
 "metadata": {
  "kernelspec": {
   "display_name": "Python 3",
   "language": "python",
   "name": "python3"
  },
  "language_info": {
   "codemirror_mode": {
    "name": "ipython",
    "version": 3
   },
   "file_extension": ".py",
   "mimetype": "text/x-python",
   "name": "python",
   "nbconvert_exporter": "python",
   "pygments_lexer": "ipython3",
   "version": "3.7.4"
  }
 },
 "nbformat": 4,
 "nbformat_minor": 2
}
