{
 "cells": [
  {
   "cell_type": "code",
   "execution_count": 1,
   "metadata": {},
   "outputs": [
    {
     "data": {
      "text/plain": [
       "'\\n데이터수집\\n- DB(정형, formal data)에서 데이터 가져오기\\n- 텍스트(비정형 데이터) 수집\\n\\n파이썬 웹 데이터 추출\\n-urllib 라이브러리(모듈집합) 모듈 : 관련 함수들의 모임\\n-request모듈(urllib.request)로 웹에 있는 데이터에 접근할 수 있음.\\nurlretrieve함수를 이용하여 웹 파일을 다운로드 수행\\n\\n라이브러리(패키지) : 모듈들 모임\\n\\n'"
      ]
     },
     "execution_count": 1,
     "metadata": {},
     "output_type": "execute_result"
    }
   ],
   "source": [
    "#스크리핑!!\n",
    "\"\"\"\n",
    "데이터수집\n",
    "- DB(정형, formal data)에서 데이터 가져오기\n",
    "- 텍스트(비정형 데이터) 수집\n",
    "\n",
    "파이썬 웹 데이터 추출\n",
    "-urllib 라이브러리(모듈집합) 모듈 : 관련 함수들의 모임\n",
    "-request모듈(urllib.request)로 웹에 있는 데이터에 접근할 수 있음.\n",
    "urlretrieve함수를 이용하여 웹 파일을 다운로드 수행\n",
    "\n",
    "라이브러리(패키지) : 모듈들 모임\n",
    "\n",
    "\"\"\""
   ]
  },
  {
   "cell_type": "code",
   "execution_count": 2,
   "metadata": {},
   "outputs": [
    {
     "name": "stdout",
     "output_type": "stream",
     "text": [
      "저장되었습니다.\n"
     ]
    }
   ],
   "source": [
    "#url과 저장경로 지정\n",
    "url=\"https://www.multicampus.com/img/saas/main/logo/CUS0001/pc_main.png\"\n",
    "savename=\"test.png\"\n",
    "\n",
    "#다운로드\n",
    "import urllib.request\n",
    "\n",
    "urllib.request.urlretrieve(url, savename)\n",
    "print(\"저장되었습니다.\")\n",
    "#다운로드 -> 파일로 저장됨"
   ]
  },
  {
   "cell_type": "code",
   "execution_count": 6,
   "metadata": {},
   "outputs": [
    {
     "name": "stdout",
     "output_type": "stream",
     "text": [
      "저장되었습니다.\n"
     ]
    }
   ],
   "source": [
    "#urlopen을 이용한 다운로드시, 바로 파일로\n",
    "#저장되는 것이 아니라, 데이터가 메모리에 적재\n",
    "savename=\"test2.png\"\n",
    "mem=urllib.request.urlopen(url).read()\n",
    "#print(mem)\n",
    "with open(savename,mode=\"wb\") as f:\n",
    "    f.write(mem)\n",
    "    print(\"저장되었습니다.\")"
   ]
  },
  {
   "cell_type": "code",
   "execution_count": 16,
   "metadata": {},
   "outputs": [],
   "source": [
    "import urllib.parse\n",
    "#http://www.weather.go.kr/weather/forecast/mid-term-rss3.jsp\n",
    "addr=\"http://www.weather.go.kr/weather/forecast/mid-term-rss3.jsp\"\n",
    "#values={'stnId':['156','108',...]}\n",
    "values={'stnId':'184'}\n",
    "param=urllib.parse.urlencode(values)"
   ]
  },
  {
   "cell_type": "code",
   "execution_count": 17,
   "metadata": {},
   "outputs": [
    {
     "data": {
      "text/plain": [
       "'stnId=184'"
      ]
     },
     "execution_count": 17,
     "metadata": {},
     "output_type": "execute_result"
    }
   ],
   "source": [
    "param"
   ]
  },
  {
   "cell_type": "code",
   "execution_count": 18,
   "metadata": {},
   "outputs": [
    {
     "data": {
      "text/plain": [
       "'http://www.weather.go.kr/weather/forecast/mid-term-rss3.jsp?stnId=184'"
      ]
     },
     "execution_count": 18,
     "metadata": {},
     "output_type": "execute_result"
    }
   ],
   "source": [
    "addr+\"?\"+param"
   ]
  },
  {
   "cell_type": "code",
   "execution_count": 19,
   "metadata": {},
   "outputs": [
    {
     "data": {
      "text/plain": [
       "'http://www.weather.go.kr/weather/forecast/mid-term-rss3.jsp?stnId=184'"
      ]
     },
     "execution_count": 19,
     "metadata": {},
     "output_type": "execute_result"
    }
   ],
   "source": [
    "url=addr+\"?\"+param\n",
    "url"
   ]
  },
  {
   "cell_type": "code",
   "execution_count": 24,
   "metadata": {},
   "outputs": [],
   "source": [
    "data=urllib.request.urlopen(url).read()\n",
    "text=data.decode('utf-8')\n",
    "#text"
   ]
  },
  {
   "cell_type": "code",
   "execution_count": 25,
   "metadata": {},
   "outputs": [
    {
     "data": {
      "text/plain": [
       "'\\n파이썬 문자열 인코딩\\n인코딩(encoding):유니코드 -> 바이트 열\\n디코딩(decoding):바이트 열 -> 유니코드\\n\\n인코딩:문자 표현 -> 2진수 열(바이트열)\\n인코딩방식:ASCII(글자 한글자 7bit), EUC-KR(한글자 16bit), CP949...\\n안녕 -> 통역(영) -> HI\\n3?>,. <- 통역(프) <- HI\\n\\n인코딩 방식을 통일하고자 => 유니코드 탄생\\n유니코딩(UTF-8, UTF-16, UTF-32,...)\\nUTF-8이 가장 일반적으로 사용됨\\n파이썬 문자열 자료형은 UTF-8\\n\\n'"
      ]
     },
     "execution_count": 25,
     "metadata": {},
     "output_type": "execute_result"
    }
   ],
   "source": [
    "\"\"\"\n",
    "파이썬 문자열 인코딩\n",
    "인코딩(encoding):유니코드 -> 바이트 열\n",
    "디코딩(decoding):바이트 열 -> 유니코드\n",
    "\n",
    "인코딩:문자 표현 -> 2진수 열(바이트열)\n",
    "인코딩방식:ASCII(글자 한글자 7bit), EUC-KR(한글자 16bit), CP949...\n",
    "안녕 -> 통역(영) -> HI\n",
    "3?>,. <- 통역(프) <- HI\n",
    "\n",
    "인코딩 방식을 통일하고자 => 유니코드 탄생\n",
    "유니코딩(UTF-8, UTF-16, UTF-32,...)\n",
    "UTF-8이 가장 일반적으로 사용됨\n",
    "파이썬 문자열 자료형은 UTF-8\n",
    "\n",
    "\"\"\""
   ]
  },
  {
   "cell_type": "code",
   "execution_count": 31,
   "metadata": {},
   "outputs": [
    {
     "name": "stdout",
     "output_type": "stream",
     "text": [
      "2\n",
      "bytearray(b'\\xbe\\xc8\\xb3\\xe7')\n",
      "4\n",
      "bytearray(b'\\xec\\x95\\x88\\xeb\\x85\\x95')\n",
      "6\n"
     ]
    }
   ],
   "source": [
    "text=\"안녕\" # 유니코드\n",
    "print(len(text))\n",
    "l=bytearray(text,'cp949' ) # 유니코드 -> 바이트\n",
    "print(l)\n",
    "print(len(l))\n",
    "l=bytearray(text,'utf-8')\n",
    "print(l)\n",
    "print(len(l))"
   ]
  },
  {
   "cell_type": "code",
   "execution_count": 35,
   "metadata": {},
   "outputs": [
    {
     "name": "stdout",
     "output_type": "stream",
     "text": [
      "<class 'bytes'>\n",
      "10\n",
      "<class 'bytes'>\n",
      "10\n",
      "<class 'bytes'>\n",
      "15\n"
     ]
    }
   ],
   "source": [
    "test=\"안녕하세요\" #인코딩:문자->바이트열\n",
    "type(test)\n",
    "s1=test.encode('cp949') #cp949로 인코딩된 결과가 저장\n",
    "print(type(s1))\n",
    "print(len(s1))\n",
    "\n",
    "s2=test.encode('euc-kr')\n",
    "print(type(s2))\n",
    "print(len(s2))\n",
    "\n",
    "s3=test.encode('utf-8')\n",
    "print(type(s3))\n",
    "print(len(s3))"
   ]
  },
  {
   "cell_type": "code",
   "execution_count": 41,
   "metadata": {},
   "outputs": [
    {
     "name": "stdout",
     "output_type": "stream",
     "text": [
      "안녕하세요\n",
      "안녕하세요\n"
     ]
    },
    {
     "ename": "UnicodeDecodeError",
     "evalue": "'utf-8' codec can't decode byte 0xbe in position 0: invalid start byte",
     "output_type": "error",
     "traceback": [
      "\u001b[1;31m---------------------------------------------------------------------------\u001b[0m",
      "\u001b[1;31mUnicodeDecodeError\u001b[0m                        Traceback (most recent call last)",
      "\u001b[1;32m<ipython-input-41-c6c69a1fae1e>\u001b[0m in \u001b[0;36m<module>\u001b[1;34m\u001b[0m\n\u001b[0;32m      1\u001b[0m \u001b[0mprint\u001b[0m\u001b[1;33m(\u001b[0m\u001b[0ms1\u001b[0m\u001b[1;33m.\u001b[0m\u001b[0mdecode\u001b[0m\u001b[1;33m(\u001b[0m\u001b[1;34m'cp949'\u001b[0m\u001b[1;33m)\u001b[0m\u001b[1;33m)\u001b[0m\u001b[1;33m\u001b[0m\u001b[1;33m\u001b[0m\u001b[0m\n\u001b[0;32m      2\u001b[0m \u001b[0mprint\u001b[0m\u001b[1;33m(\u001b[0m\u001b[0ms1\u001b[0m\u001b[1;33m.\u001b[0m\u001b[0mdecode\u001b[0m\u001b[1;33m(\u001b[0m\u001b[1;34m'euc-kr'\u001b[0m\u001b[1;33m)\u001b[0m\u001b[1;33m)\u001b[0m\u001b[1;33m\u001b[0m\u001b[1;33m\u001b[0m\u001b[0m\n\u001b[1;32m----> 3\u001b[1;33m \u001b[0mprint\u001b[0m\u001b[1;33m(\u001b[0m\u001b[0ms1\u001b[0m\u001b[1;33m.\u001b[0m\u001b[0mdecode\u001b[0m\u001b[1;33m(\u001b[0m\u001b[1;34m'utf-8'\u001b[0m\u001b[1;33m)\u001b[0m\u001b[1;33m)\u001b[0m\u001b[1;33m\u001b[0m\u001b[1;33m\u001b[0m\u001b[0m\n\u001b[0m",
      "\u001b[1;31mUnicodeDecodeError\u001b[0m: 'utf-8' codec can't decode byte 0xbe in position 0: invalid start byte"
     ]
    }
   ],
   "source": [
    "print(s1.decode('cp949'))\n",
    "print(s1.decode('euc-kr'))\n",
    "print(s1.decode('utf-8'))"
   ]
  },
  {
   "cell_type": "code",
   "execution_count": 50,
   "metadata": {},
   "outputs": [
    {
     "name": "stdout",
     "output_type": "stream",
     "text": [
      "\n",
      "\n",
      "\n",
      "1,156.50\n",
      "\n",
      "\n",
      "원\n",
      "\n"
     ]
    }
   ],
   "source": [
    "# 스크래핑? 원하는 정보를 추출\n",
    "\"\"\"\n",
    "데이터 수집 과정\n",
    "1) 수집 대상 웹사이트에서 개발자 도구를 활용하여\n",
    "스크랩 대상에 대한 선택자를 복사\n",
    "2) 파이썬에서 urlretrieve, urlopen등을 사용하여\n",
    "웹페이지를 가져온다\n",
    "3) 파서를 사용하여 파싱한다.(파싱 : parsing)\n",
    "파싱 : 가져온 웹 문서에서 태그를 기준으로 원하는 데이터를 추출\n",
    "4) 데이터에 대한 전처리를 수행\n",
    "5) 모델링...\n",
    "\n",
    "\"\"\"\n",
    "import urllib.request as req\n",
    "from bs4 import BeautifulSoup\n",
    "url=\"https://finance.naver.com/marketindex/exchangeDetail.nhn?marketindexCd=FX_USDKRW\"\n",
    "res=req.urlopen(url)\n",
    "soup=BeautifulSoup(res,'html.parser')\n",
    "#print(soup)\n",
    "p=soup.select_one(\"#content > div.spot > div.today > p.no_today\").text\n",
    "print(p)\n",
    "\n",
    "#mw-content-text > div > div:nth-child(77) > table > tbody > tr > td"
   ]
  },
  {
   "cell_type": "code",
   "execution_count": 52,
   "metadata": {},
   "outputs": [
    {
     "name": "stdout",
     "output_type": "stream",
     "text": [
      "23920000\n"
     ]
    }
   ],
   "source": [
    "#문제1\n",
    "dP=89000\n",
    "nP=751000\n",
    "per=dP*100+nP*20\n",
    "print(per)"
   ]
  },
  {
   "cell_type": "code",
   "execution_count": 54,
   "metadata": {},
   "outputs": [
    {
     "name": "stdout",
     "output_type": "stream",
     "text": [
      "1947000.0\n"
     ]
    }
   ],
   "source": [
    "#문제2\n",
    "per2=dP*100*(95/100)+nP*20*(90/100)\n",
    "print(per-per2)"
   ]
  },
  {
   "cell_type": "code",
   "execution_count": 55,
   "metadata": {},
   "outputs": [
    {
     "name": "stdout",
     "output_type": "stream",
     "text": [
      "10.0\n"
     ]
    }
   ],
   "source": [
    "#문제3\n",
    "#C = (F-32)/1.8\n",
    "f=50\n",
    "c=(f-32)/1.8\n",
    "print(c)"
   ]
  },
  {
   "cell_type": "code",
   "execution_count": 61,
   "metadata": {},
   "outputs": [
    {
     "name": "stdout",
     "output_type": "stream",
     "text": [
      "pizza 1\n",
      "pizza 2\n",
      "pizza 3\n",
      "pizza 4\n",
      "pizza 5\n",
      "pizza 6\n",
      "pizza 7\n",
      "pizza 8\n",
      "pizza 9\n",
      "pizza 10\n"
     ]
    }
   ],
   "source": [
    "#문제4\n",
    "for i in range(0,10):\n",
    "    print(\"pizza\",i+1)"
   ]
  },
  {
   "cell_type": "code",
   "execution_count": 64,
   "metadata": {},
   "outputs": [
    {
     "name": "stdout",
     "output_type": "stream",
     "text": [
      "700000.0\n",
      "490000.0\n",
      "343000.0\n",
      "343000.0\n"
     ]
    }
   ],
   "source": [
    "#문제5\n",
    "naver=1000000\n",
    "for i in range(0,3):\n",
    "    naver=naver*70/100\n",
    "    print(naver)\n",
    "print(naver)"
   ]
  },
  {
   "cell_type": "code",
   "execution_count": 65,
   "metadata": {},
   "outputs": [
    {
     "name": "stdout",
     "output_type": "stream",
     "text": [
      "이름을 입력하세요:오종민\n",
      "생년월일을 입력하세요: ex)2014년 12월 12일\n",
      "1990년 5월 22일\n",
      "주민등록번호를 입력하세요: ex)20141212-1623210\n",
      "900522-1623210\n",
      "이름: 오종민 생년월일: 1990년 5월 22일 주민등록번호: 900522-1623210\n"
     ]
    }
   ],
   "source": [
    "#문제6\n",
    "name=input(\"이름을 입력하세요:\")\n",
    "birth=input(\"생년월일을 입력하세요: ex)2014년 12월 12일\\n\")\n",
    "perNum=input(\"주민등록번호를 입력하세요: ex)20141212-1623210\\n\")\n",
    "print(\"이름:\",name,\"생년월일:\",birth,\"주민등록번호:\",perNum)"
   ]
  },
  {
   "cell_type": "code",
   "execution_count": 114,
   "metadata": {},
   "outputs": [
    {
     "name": "stdout",
     "output_type": "stream",
     "text": [
      "Daum\n",
      "KaKao\n",
      "KaKao Daum\n"
     ]
    }
   ],
   "source": [
    "#문제7\n",
    "s=\"Daum KaKao\"\n",
    "s1=s[0:4]\n",
    "s2=s[5:10]\n",
    "print(s1)\n",
    "print(s2)\n",
    "s3=[s2,s1]\n",
    "s3=\" \".join(s3)\n",
    "print(s3)"
   ]
  },
  {
   "cell_type": "code",
   "execution_count": 115,
   "metadata": {},
   "outputs": [
    {
     "name": "stdout",
     "output_type": "stream",
     "text": [
      "hi world\n"
     ]
    }
   ],
   "source": [
    "#문제8\n",
    "a=\"hello world\"\n",
    "if 'hello' in a:\n",
    "    a=a.replace(\"hello\",\"hi\")\n",
    "print(a)"
   ]
  },
  {
   "cell_type": "code",
   "execution_count": 149,
   "metadata": {},
   "outputs": [
    {
     "name": "stdout",
     "output_type": "stream",
     "text": [
      "abcdef\n",
      "bcdefa\n"
     ]
    }
   ],
   "source": [
    "#문제9\n",
    "x='abcdef'\n",
    "a=x\n",
    "b=[]\n",
    "for i in range(0,6):\n",
    "    if i==5:\n",
    "        b.append(a[0])\n",
    "    else:\n",
    "        b.append(a[i+1])\n",
    "print(a)\n",
    "y=\"\".join(b)\n",
    "print(y)"
   ]
  },
  {
   "cell_type": "code",
   "execution_count": 156,
   "metadata": {},
   "outputs": [
    {
     "name": "stdout",
     "output_type": "stream",
     "text": [
      "[474500, 461500, 501000, 500500, 488500]\n",
      "501000\n",
      "461500\n",
      "39500\n",
      "501000\n"
     ]
    }
   ],
   "source": [
    "#문제10~14\n",
    "naver_closing_price=[474500,461500,501000,500500,488500]\n",
    "print(naver_closing_price)\n",
    "print(max(naver_closing_price))\n",
    "print(min(naver_closing_price))\n",
    "print(max(naver_closing_price)-min(naver_closing_price))\n",
    "print(naver_closing_price[2])"
   ]
  },
  {
   "cell_type": "code",
   "execution_count": 166,
   "metadata": {},
   "outputs": [
    {
     "name": "stdout",
     "output_type": "stream",
     "text": [
      "{'09/07': 474500, '09/08': 461500, '09/09': 501000, '09/10': 500500, '09/11': 488500}\n",
      "501000\n"
     ]
    }
   ],
   "source": [
    "#문제15~16\n",
    "naver_closing_price2={'09/07':474500, '09/08':461500, '09/09':501000, '09/10':500500, '09/11':488500}\n",
    "print(naver_closing_price2)\n",
    "print(naver_closing_price2['09/09'])"
   ]
  },
  {
   "cell_type": "code",
   "execution_count": 179,
   "metadata": {},
   "outputs": [
    {
     "name": "stdout",
     "output_type": "stream",
     "text": [
      "[[102, 103, 104], [201, 202, 204], [302, 303, 304], [401, 402, 403]]\n"
     ]
    }
   ],
   "source": [
    "#문제17\n",
    "apart=[[101,102,103,104],[201,202,203,204],[301,302,303,304],[401,402,403,404]]\n",
    "arrears=[101,203,301,404]\n",
    "beadal=[]\n",
    "for i in range(0,4):\n",
    "    beadal.append([])\n",
    "    for j in range(0,4):\n",
    "        if arrears[i] != apart[i][j]:\n",
    "            beadal[i].append(apart[i][j])\n",
    "print(beadal)"
   ]
  },
  {
   "cell_type": "code",
   "execution_count": 185,
   "metadata": {},
   "outputs": [
    {
     "name": "stdout",
     "output_type": "stream",
     "text": [
      "3 5\n",
      "4.0\n"
     ]
    }
   ],
   "source": [
    "#문제18\n",
    "def myaverage(a,b):\n",
    "    a=int(a)\n",
    "    b=int(b)\n",
    "    aver=(a+b)/2\n",
    "    return aver\n",
    "a,b=input().split()\n",
    "print(myaverage(a,b))"
   ]
  },
  {
   "cell_type": "code",
   "execution_count": 186,
   "metadata": {},
   "outputs": [
    {
     "name": "stdout",
     "output_type": "stream",
     "text": [
      "최대: 99 최소: 10\n"
     ]
    }
   ],
   "source": [
    "#문제19\n",
    "def get_max_min(data_list):\n",
    "    maxData=max(data_list)\n",
    "    minData=min(data_list)\n",
    "    print(\"최대:\",maxData,\"최소:\",minData)\n",
    "    \n",
    "data_list=[10,11,20,80,41,60,99,25]\n",
    "get_max_min(data_list)"
   ]
  },
  {
   "cell_type": "code",
   "execution_count": 188,
   "metadata": {},
   "outputs": [
    {
     "name": "stdout",
     "output_type": "stream",
     "text": [
      "['과자\\n', '먹고\\n', '싶다\\n', '집에 가고 싶다\\n', '자고 싶다 졸리다']\n"
     ]
    }
   ],
   "source": [
    "#문제20\n",
    "def get_txt_list(path):\n",
    "    import re\n",
    "    f=open(path+\".txt\",\"r\")\n",
    "    lines=f.readlines()\n",
    "    print(lines)\n",
    "    f.close()\n",
    "get_txt_list(\"C:/Users/student/Downloads/Python_JP/1231_20\")"
   ]
  },
  {
   "cell_type": "code",
   "execution_count": 14,
   "metadata": {},
   "outputs": [
    {
     "name": "stdout",
     "output_type": "stream",
     "text": [
      "키(cm)와 몸무게(kg)를 입력하세요:180 80\n",
      "24.691358024691358\n",
      "표준\n"
     ]
    }
   ],
   "source": [
    "#문제21\n",
    "def BMI(kg,cm):\n",
    "    calBMI=int(kg)/((int(cm)/100)**2)\n",
    "    print(calBMI)\n",
    "    if calBMI<18.5:\n",
    "        print(\"마른체형\")\n",
    "    elif calBMI>=18.5 and calBMI<25.0:\n",
    "        print(\"표준\")\n",
    "    elif calBMI>=25.0 and calBMI<30.0:\n",
    "        print(\"비만\")\n",
    "    else:\n",
    "        print(\"고도비만\")\n",
    "\n",
    "height,weight=input(\"키(cm)와 몸무게(kg)를 입력하세요:\").split()\n",
    "BMI(weight,height)"
   ]
  },
  {
   "cell_type": "code",
   "execution_count": 5,
   "metadata": {},
   "outputs": [
    {
     "name": "stdout",
     "output_type": "stream",
     "text": [
      "키(cm)와 몸무게(kg)를 입력하세요: p p는 종료180 80\n",
      "24.691358024691358\n",
      "표준\n",
      "키(cm)와 몸무게(kg)를 입력하세요: p p는 종료178 85\n",
      "26.82742078020452\n",
      "비만\n",
      "키(cm)와 몸무게(kg)를 입력하세요: p p는 종료p p\n"
     ]
    }
   ],
   "source": [
    "#문제22\n",
    "def BMI(kg,cm):\n",
    "    calBMI=int(kg)/((int(cm)/100)**2)\n",
    "    print(calBMI)\n",
    "    if calBMI<18.5:\n",
    "        print(\"마른체형\")\n",
    "    elif calBMI>=18.5 and calBMI<25.0:\n",
    "        print(\"표준\")\n",
    "    elif calBMI>=25.0 and calBMI<30.0:\n",
    "        print(\"비만\")\n",
    "    else:\n",
    "        print(\"고도비만\")\n",
    "while True:\n",
    "    height,weight=input(\"키(cm)와 몸무게(kg)를 입력하세요: p p는 종료\").split()\n",
    "    if height ==\"p\":\n",
    "        break\n",
    "    BMI(weight,height)"
   ]
  },
  {
   "cell_type": "code",
   "execution_count": 21,
   "metadata": {},
   "outputs": [
    {
     "name": "stdout",
     "output_type": "stream",
     "text": [
      "삼각형의 높이와 밑변길이를 입력하세요.10 5\n",
      "25.0\n"
     ]
    }
   ],
   "source": [
    "#문제23\n",
    "def get_triangle_area(width,height):\n",
    "    w=int(width)\n",
    "    h=int(height)\n",
    "    area=w*h/2\n",
    "    return area\n",
    "\n",
    "width,height=input(\"삼각형의 높이와 밑변길이를 입력하세요.\").split()\n",
    "print(get_triangle_area(width,height))"
   ]
  },
  {
   "cell_type": "code",
   "execution_count": 33,
   "metadata": {},
   "outputs": [
    {
     "name": "stdout",
     "output_type": "stream",
     "text": [
      "시작과 끝수5 10\n",
      "45\n"
     ]
    }
   ],
   "source": [
    "#문제24\n",
    "def add_start_to_end(start,end):\n",
    "    total=0\n",
    "    alist=[]\n",
    "    for i in range(int(start),int(end)+1):\n",
    "        alist.append(i)\n",
    "    total=sum(alist)\n",
    "    return total\n",
    "start,end=input(\"시작과 끝수\").split()\n",
    "print(add_start_to_end(start,end))"
   ]
  },
  {
   "cell_type": "code",
   "execution_count": 37,
   "metadata": {},
   "outputs": [
    {
     "name": "stdout",
     "output_type": "stream",
     "text": [
      "[['S', 'e', 'o'], ['D', 'a', 'e'], ['K', 'w', 'a'], ['J', 'e', 'j']]\n"
     ]
    }
   ],
   "source": [
    "#문제25\n",
    "alist=['Seoul', 'Daegu', 'Kwangju', 'Jeju']\n",
    "def three_list(nonamelist):\n",
    "    blist=[]\n",
    "    for i in range(0,len(alist)):\n",
    "        blist.append([])\n",
    "        for j in range(0,3):\n",
    "            blist[i].append(alist[i][j])\n",
    "        \"\".join(blist[i])\n",
    "    return blist\n",
    "print(three_list(alist))"
   ]
  },
  {
   "cell_type": "code",
   "execution_count": null,
   "metadata": {},
   "outputs": [],
   "source": []
  }
 ],
 "metadata": {
  "kernelspec": {
   "display_name": "Python 3",
   "language": "python",
   "name": "python3"
  },
  "language_info": {
   "codemirror_mode": {
    "name": "ipython",
    "version": 3
   },
   "file_extension": ".py",
   "mimetype": "text/x-python",
   "name": "python",
   "nbconvert_exporter": "python",
   "pygments_lexer": "ipython3",
   "version": "3.7.4"
  }
 },
 "nbformat": 4,
 "nbformat_minor": 2
}
