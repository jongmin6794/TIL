{
 "cells": [
  {
   "cell_type": "code",
   "execution_count": 70,
   "metadata": {},
   "outputs": [
    {
     "name": "stdout",
     "output_type": "stream",
     "text": [
      "7 8 1\n",
      "0 0 0 0 0 0 0 9\n",
      "0 0 0 0 3 0 0 8\n",
      "-1 0 5 0 0 0 22 0\n",
      "-1 8 0 0 0 0 0 0\n",
      "0 0 0 0 0 10 43 0\n",
      "0 0 5 0 15 0 0 0\n",
      "0 0 40 0 0 0 20 0\n"
     ]
    }
   ],
   "source": [
    "jR,jC,jT=list(map(int, input().split()))\n",
    "jA=[list(map(int, input().split()))for i in range(jR)]"
   ]
  },
  {
   "cell_type": "code",
   "execution_count": 103,
   "metadata": {},
   "outputs": [],
   "source": [
    "R=jR\n",
    "C=jC\n",
    "T=50\n",
    "A=jA"
   ]
  },
  {
   "cell_type": "code",
   "execution_count": 104,
   "metadata": {
    "scrolled": true
   },
   "outputs": [
    {
     "name": "stdout",
     "output_type": "stream",
     "text": [
      "[(2, 0), (3, 0)]\n",
      "[(1, 2), (1, 3), (1, 4), (1, 5), (1, 6), (4, 0), (4, 1), (4, 2), (4, 3), (4, 4), (4, 5), (4, 6), (5, 0), (5, 1), (5, 2), (5, 3), (5, 4), (5, 5), (5, 6), (6, 0), (6, 2), (6, 4), (6, 7)]\n",
      "[[0, 0, 0, 0, 0, 0, 0, 0], [0, 0, 2, 2, 2, 3, 2, 0], [0, 0, 0, 0, 0, 0, 0, 0], [0, 0, 0, 0, 0, 0, 0, 0], [0, 1, 3, 3, 1, 2, 4, 0], [0, 3, 4, 4, 4, 2, 4, 0], [0, 0, 0, 0, 0, 0, 0, 0]]\n",
      "[[0, 0, 0, 0, 0, 0, 0, 0], [0, 0, 2, 2, 2, 3, 2, 0], [0, 0, 0, 0, 0, 0, 0, 0], [0, 0, 0, 0, 0, 0, 0, 0], [0, 1, 3, 3, 1, 2, 4, 0], [0, 3, 4, 4, 4, 2, 4, 0], [0, 0, 0, 0, 0, 0, 0, 0]] 46\n"
     ]
    }
   ],
   "source": [
    "# import sys\n",
    "import copy\n",
    "# sys.setrecursionlimit(10000)\n",
    "# R,C,T=list(map(int, input().split()))\n",
    "# A=[list(map(int, input().split()))for i in range(R)]\n",
    "dx, dy=[1,0,-1,0],[0,1,0,-1]\n",
    "# print(R,C,T,A)\n",
    "\n",
    "acPosition=[]\n",
    "result=0\n",
    "\n",
    "def dustP(arr):\n",
    "    global R,C\n",
    "    dp=[]\n",
    "    for i in range(R):# 먼지 위치\n",
    "        for j in range(C):\n",
    "            if arr[i][j]!=0 and arr[i][j]!=-1:\n",
    "                dp.append((i,j))\n",
    "    return dp\n",
    "            \n",
    "for i in range(R):# 공기청정기 위치\n",
    "    if A[i][0]==-1:\n",
    "        acPosition.append((i,0))\n",
    "        acPosition.append((i+1,0))\n",
    "        break\n",
    "\n",
    "def dustSpread(arr, r,c):#먼지 퍼짐\n",
    "    stack=[]\n",
    "    global R,C\n",
    "    if arr[r][c]<5 and arr[r][c]!=-1 and arr[r][c]!=0:\n",
    "        arr2[r][c]+=arr[r][c]\n",
    "    if arr[r][c]!=0 and arr[r][c]!=-1 and arr[r][c]>=5:\n",
    "        cnt=0\n",
    "        for i in range(4):\n",
    "            nR=r+dx[i]\n",
    "            nC=c+dy[i]\n",
    "            if nR>=0 and nR<R and nC>=0 and nC<C and arr[nR][nC]!=-1:\n",
    "                cnt+=1\n",
    "                stack.append((nR, nC))\n",
    "        for _ in range(len(stack)):\n",
    "            temp=stack.pop(0)\n",
    "            nR=temp[0]\n",
    "            nC=temp[1]\n",
    "            arr2[nR][nC]+=arr[r][c]//5\n",
    "        arr2[r][c]=arr2[r][c]+arr[r][c]-(arr[r][c]//5)*cnt\n",
    "\n",
    "# print(acPosition)\n",
    "# print(dustPosition)\n",
    "\n",
    "for i in range(T):\n",
    "    ### 1회전  \n",
    "    dustPosition=dustP(A)\n",
    "    arr2=[[0]*C for _ in range(R)]\n",
    "    for i in range(len(dustPosition)):##먼지 점들 퍼지기\n",
    "        dustSpread(A,dustPosition[i][0],dustPosition[i][1])\n",
    "    ## 공기 순환\n",
    "    for i in range(acPosition[0][0]):\n",
    "        arr2[acPosition[0][0]-i][0]=arr2[acPosition[0][0]-(i+1)][0]\n",
    "    arr2[acPosition[0][0]][0]=0\n",
    "    for i in range(C-1):\n",
    "        arr2[0][i]=arr2[0][i+1]\n",
    "    for i in range(acPosition[0][0]):\n",
    "        arr2[i][C-1]=arr2[i+1][C-1]\n",
    "    for i in range(C-1):\n",
    "        arr2[acPosition[0][0]][C-i-1]=arr2[acPosition[0][0]][C-(i+1)-1]\n",
    "\n",
    "    for i in range(R-acPosition[1][0]-1):\n",
    "        arr2[acPosition[1][0]+i][0]=arr2[acPosition[1][0]+i+1][0]\n",
    "    arr2[acPosition[1][0]][0]=0\n",
    "    for i in range(C-1):\n",
    "        arr2[R-1][i]=arr2[R-1][i+1]\n",
    "    for i in range(R-1,acPosition[1][0],-1):\n",
    "        arr2[i][C-1]=arr2[i-1][C-1]\n",
    "    for i in range(C-1,0,-1):\n",
    "        arr2[acPosition[1][0]][i]=arr2[acPosition[1][0]][i-1]\n",
    "    A=copy.deepcopy(arr2)\n",
    "        \n",
    "for i in range(R):\n",
    "    for j in range(C):\n",
    "        result+=A[i][j]\n",
    "# print(arr2)\n",
    "# print(A,result)\n",
    "print(result)"
   ]
  },
  {
   "cell_type": "code",
   "execution_count": 63,
   "metadata": {},
   "outputs": [
    {
     "name": "stdout",
     "output_type": "stream",
     "text": [
      "3\n",
      "2\n"
     ]
    }
   ],
   "source": [
    "for i in range(3,1,-1):\n",
    "    print(i)"
   ]
  },
  {
   "cell_type": "code",
   "execution_count": 41,
   "metadata": {},
   "outputs": [
    {
     "data": {
      "text/plain": [
       "[[1, 2, 3], [4, 5, 6], [7, 8, 9]]"
      ]
     },
     "execution_count": 41,
     "metadata": {},
     "output_type": "execute_result"
    }
   ],
   "source": [
    "arr=[[1,2,3],[4,5,6],[7,8,9]]\n",
    "arr2=[[1,1,1],[1,1,1],[1,1,1]]\n",
    "arr2=arr\n",
    "arr2"
   ]
  },
  {
   "cell_type": "code",
   "execution_count": null,
   "metadata": {},
   "outputs": [],
   "source": []
  }
 ],
 "metadata": {
  "kernelspec": {
   "display_name": "Python 3",
   "language": "python",
   "name": "python3"
  },
  "language_info": {
   "codemirror_mode": {
    "name": "ipython",
    "version": 3
   },
   "file_extension": ".py",
   "mimetype": "text/x-python",
   "name": "python",
   "nbconvert_exporter": "python",
   "pygments_lexer": "ipython3",
   "version": "3.7.4"
  }
 },
 "nbformat": 4,
 "nbformat_minor": 2
}
