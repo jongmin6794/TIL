{
 "cells": [
  {
   "cell_type": "code",
   "execution_count": 2,
   "metadata": {},
   "outputs": [
    {
     "ename": "NameError",
     "evalue": "name 'x' is not defined",
     "output_type": "error",
     "traceback": [
      "\u001b[1;31m---------------------------------------------------------------------------\u001b[0m",
      "\u001b[1;31mNameError\u001b[0m                                 Traceback (most recent call last)",
      "\u001b[1;32m<ipython-input-2-8a397cee05a4>\u001b[0m in \u001b[0;36m<module>\u001b[1;34m\u001b[0m\n\u001b[1;32m----> 1\u001b[1;33m \u001b[1;32mdel\u001b[0m \u001b[0mx\u001b[0m \u001b[1;31m#변수가 메모리에서 제거\u001b[0m\u001b[1;33m\u001b[0m\u001b[1;33m\u001b[0m\u001b[0m\n\u001b[0m",
      "\u001b[1;31mNameError\u001b[0m: name 'x' is not defined"
     ]
    }
   ],
   "source": [
    "del x #변수가 메모리에서 제거"
   ]
  },
  {
   "cell_type": "code",
   "execution_count": null,
   "metadata": {},
   "outputs": [],
   "source": [
    "#빈 변수\n",
    "x=None #변수는 만들어졌지만 값은 만들어지지 않은 상태\n",
    "x"
   ]
  },
  {
   "cell_type": "code",
   "execution_count": null,
   "metadata": {},
   "outputs": [],
   "source": [
    "x=10\n",
    "x=x+5 #아래와 같은 결과\n",
    "x+=5 #미묘한 차이지만 성능적인 측면에서 축약형이 나음\n",
    "x"
   ]
  },
  {
   "cell_type": "code",
   "execution_count": null,
   "metadata": {},
   "outputs": [],
   "source": [
    "input()"
   ]
  },
  {
   "cell_type": "code",
   "execution_count": null,
   "metadata": {},
   "outputs": [],
   "source": [
    "x=input(\"입력:\") #input함수는 문자로 입력되어진다."
   ]
  },
  {
   "cell_type": "code",
   "execution_count": null,
   "metadata": {},
   "outputs": [],
   "source": [
    "x"
   ]
  },
  {
   "cell_type": "code",
   "execution_count": null,
   "metadata": {},
   "outputs": [],
   "source": [
    "x+=2"
   ]
  },
  {
   "cell_type": "code",
   "execution_count": null,
   "metadata": {},
   "outputs": [],
   "source": [
    "int(x)"
   ]
  },
  {
   "cell_type": "code",
   "execution_count": null,
   "metadata": {},
   "outputs": [],
   "source": [
    "y=None\n",
    "y=int(input('입력:'))"
   ]
  },
  {
   "cell_type": "code",
   "execution_count": null,
   "metadata": {},
   "outputs": [],
   "source": [
    "y"
   ]
  },
  {
   "cell_type": "code",
   "execution_count": null,
   "metadata": {},
   "outputs": [],
   "source": [
    "#input에서 여러개 입력 -> split함수 사용(공백 구분)\n",
    "x,y=input(\"문자열 두개 입력:\").split()\n",
    "print(x)\n",
    "print(y)\n",
    "print(x+y)\n",
    "x=int(x)\n",
    "y=int(y)\n",
    "print(x+y)"
   ]
  },
  {
   "cell_type": "code",
   "execution_count": null,
   "metadata": {},
   "outputs": [],
   "source": [
    "#x, y=input(\"문자열 두개 입력:\").split()\n",
    "#print(type(input(\"문자열 두개 입력:\").split()))\n",
    "map(int, input(\"문자열 두개 입력:\").split())\n",
    "print(x+y)\n",
    "#형식 : map(함수, 데이터)"
   ]
  },
  {
   "cell_type": "code",
   "execution_count": 6,
   "metadata": {},
   "outputs": [
    {
     "name": "stdout",
     "output_type": "stream",
     "text": [
      "1 2 3 4\n",
      "hi hello\n",
      "1,2,3,4\n",
      "1,,,2,,,3,,,4\n",
      "1234\n",
      "1    2    3    4\n",
      "1x2x3x4\n",
      "1\n",
      "2\n",
      "3\n",
      "4\n"
     ]
    }
   ],
   "source": [
    "print(1,2,3,4)\n",
    "print(\"hi\",\"hello\")\n",
    "print(1,2,3,4, sep=\",\")\n",
    "print(1,2,3,4,sep=\",,,\")\n",
    "print(1,2,3,4, sep=\"\")\n",
    "print(1,2,3,4, sep=\"    \")\n",
    "print(1,2,3,4, sep=\"x\")\n",
    "print(1,2,3,4, sep=\"\\n\")"
   ]
  },
  {
   "cell_type": "code",
   "execution_count": 7,
   "metadata": {},
   "outputs": [
    {
     "name": "stdout",
     "output_type": "stream",
     "text": [
      "1\\2\n"
     ]
    }
   ],
   "source": [
    "print(\"1\\\\2\") #\\기호는 \\\\작성해서 출력"
   ]
  },
  {
   "cell_type": "code",
   "execution_count": 8,
   "metadata": {},
   "outputs": [
    {
     "name": "stdout",
     "output_type": "stream",
     "text": [
      "12\n",
      "3\n",
      "1 2 3\n"
     ]
    }
   ],
   "source": [
    "print(1, end='')\n",
    "print(2)\n",
    "print(3)\n",
    "print(1,2,3)"
   ]
  },
  {
   "cell_type": "code",
   "execution_count": 11,
   "metadata": {},
   "outputs": [
    {
     "data": {
      "text/plain": [
       "True"
      ]
     },
     "execution_count": 11,
     "metadata": {},
     "output_type": "execute_result"
    }
   ],
   "source": [
    "2>1\n",
    "1 is not 1.0"
   ]
  },
  {
   "cell_type": "code",
   "execution_count": 10,
   "metadata": {},
   "outputs": [
    {
     "data": {
      "text/plain": [
       "'\\n클래스 : 건축 설계도, 붕어빵기계, 자동차 공장\\n객체 : 건물, 붕어빵, 자동차\\n속성 : 건물의 특성(층, 평수, ...), 붕어빵의 특성(내용물, 크기, ...)\\n메서드 : 건물의 동작(???), 붕어빵의 동작, 달린다/ 멈춘다\\n상속 : 유사한 건물 설계시 기존 건축설계도의 재사용\\n'"
      ]
     },
     "execution_count": 10,
     "metadata": {},
     "output_type": "execute_result"
    }
   ],
   "source": [
    "\"\"\"\n",
    "클래스 : 건축 설계도, 붕어빵기계, 자동차 공장\n",
    "객체 : 건물, 붕어빵, 자동차\n",
    "속성 : 건물의 특성(층, 평수, ...), 붕어빵의 특성(내용물, 크기, ...), 배기량, 크기, 가격 등\n",
    "메서드 : 건물의 동작(???), 붕어빵의 동작, 달린다/ 멈춘다\n",
    "상속 : 유사한 건물 설계시 기존 건축설계도의 재사용\n",
    "\"\"\"\n",
    "#아빠 -> 코골이 -> 자식(이를 간다) -> 자식(코골이, 이를 간다, 잠꼬대)"
   ]
  },
  {
   "cell_type": "code",
   "execution_count": 12,
   "metadata": {},
   "outputs": [
    {
     "data": {
      "text/plain": [
       "True"
      ]
     },
     "execution_count": 12,
     "metadata": {},
     "output_type": "execute_result"
    }
   ],
   "source": [
    "#논리연산 : and, or, not\n",
    "True and True"
   ]
  },
  {
   "cell_type": "code",
   "execution_count": 19,
   "metadata": {},
   "outputs": [
    {
     "data": {
      "text/plain": [
       "False"
      ]
     },
     "execution_count": 19,
     "metadata": {},
     "output_type": "execute_result"
    }
   ],
   "source": [
    "#bool함수 : 정수, 실수, 문자열=>불린 타입 변환\n",
    "bool(1)\n",
    "bool(0)\n",
    "bool(-1)#정수 0을 제외한 모든 정수는 참\n",
    "bool(3.14)\n",
    "bool(0.0)#실수 0.0을 제외한 모든 실수는 참\n",
    "bool(\"hi\")\n",
    "bool(\"\")#false 빈 문자열(\"\",'')는 거짓\n",
    "bool('')#false"
   ]
  },
  {
   "cell_type": "code",
   "execution_count": 22,
   "metadata": {},
   "outputs": [
    {
     "data": {
      "text/plain": [
       "True"
      ]
     },
     "execution_count": 22,
     "metadata": {},
     "output_type": "execute_result"
    }
   ],
   "source": [
    "False and True #False 이므로 and 뒤에 있는 True는 실행 안함\n",
    "True or False #True 이므로 or 뒤에 있는 False는 실행 안함"
   ]
  },
  {
   "cell_type": "code",
   "execution_count": 32,
   "metadata": {},
   "outputs": [
    {
     "data": {
      "text/plain": [
       "'I ate 3 apples. so I was sick for two days. '"
      ]
     },
     "execution_count": 32,
     "metadata": {},
     "output_type": "execute_result"
    }
   ],
   "source": [
    "number=3\n",
    "day=\"two\"\n",
    "\"I eat %d apples. \" % 3\n",
    "\"I eat %s apples. \" % \"three\"\n",
    "\"I eat %d apples. \" % number\n",
    "\"I ate %d apples. so I was sick for %s days. \" %(number, day)"
   ]
  },
  {
   "cell_type": "code",
   "execution_count": 33,
   "metadata": {},
   "outputs": [
    {
     "data": {
      "text/plain": [
       "'I eat 3 apples. '"
      ]
     },
     "execution_count": 33,
     "metadata": {},
     "output_type": "execute_result"
    }
   ],
   "source": [
    "\"I eat %s apples. \" % \"3\""
   ]
  },
  {
   "cell_type": "code",
   "execution_count": 34,
   "metadata": {},
   "outputs": [
    {
     "data": {
      "text/plain": [
       "'I eat 3 apples. '"
      ]
     },
     "execution_count": 34,
     "metadata": {},
     "output_type": "execute_result"
    }
   ],
   "source": [
    "\"I eat %s apples. \" % 3 #%s는 타입과 관련없이 전달 받아서 출력해줌"
   ]
  },
  {
   "cell_type": "code",
   "execution_count": 35,
   "metadata": {},
   "outputs": [
    {
     "data": {
      "text/plain": [
       "'Error is 90'"
      ]
     },
     "execution_count": 35,
     "metadata": {},
     "output_type": "execute_result"
    }
   ],
   "source": [
    "\"Error is %d\"% 90"
   ]
  },
  {
   "cell_type": "code",
   "execution_count": 36,
   "metadata": {},
   "outputs": [
    {
     "data": {
      "text/plain": [
       "'Error is 90%'"
      ]
     },
     "execution_count": 36,
     "metadata": {},
     "output_type": "execute_result"
    }
   ],
   "source": [
    "\"Error is %d%%\" %90 #%기호 출력"
   ]
  },
  {
   "cell_type": "code",
   "execution_count": 39,
   "metadata": {},
   "outputs": [
    {
     "name": "stdout",
     "output_type": "stream",
     "text": [
      "        higd\n",
      "     hellogd\n",
      "hi        gd\n",
      "hello     gd\n"
     ]
    }
   ],
   "source": [
    "#%10s : 10자리 확보한 후, 오른쪽 정렬 출력\n",
    "print(\"%10sgd\" % \"hi\")\n",
    "print(\"%10sgd\" % \"hello\")\n",
    "\n",
    "#%-10s : 10자리를 확보한 후, 왼쪽 정렬 출력\n",
    "print(\"%-10sgd\" %\"hi\")\n",
    "print(\"%-10sgd\" % \"hello\")\n",
    "      "
   ]
  },
  {
   "cell_type": "code",
   "execution_count": 45,
   "metadata": {},
   "outputs": [
    {
     "data": {
      "text/plain": [
       "'      3.14'"
      ]
     },
     "execution_count": 45,
     "metadata": {},
     "output_type": "execute_result"
    }
   ],
   "source": [
    "\"%.2f\" %3.14 \n",
    "\"%10.2f\" %3.14 #10자리를 확보한 후, 소수 이하 둘째자리까지"
   ]
  },
  {
   "cell_type": "code",
   "execution_count": 52,
   "metadata": {},
   "outputs": [
    {
     "data": {
      "text/plain": [
       "'I ate 3 apples. so I was sick for three days. '"
      ]
     },
     "execution_count": 52,
     "metadata": {},
     "output_type": "execute_result"
    }
   ],
   "source": [
    "#format 함수를 이용한 포매팅\n",
    "\"I eat %d apples\" %3\n",
    "\"I eat {0} apples\".format(3) #중괄호 {0}안에 format 괄호안 인자.\n",
    "\"I eat {0} apples\".format(\"three\")#타입 신경 쓰지 않아도 된다.\n",
    "num=3\n",
    "\"I eat {0} apples\".format(num)\n",
    "\"I ate {1} apples. so I was sick for {0} days. \".format(3, \"three\")\n",
    "\"I ate {num} apples. so I was sick for {day} days. \".format(num=3, day=\"three\")"
   ]
  },
  {
   "cell_type": "code",
   "execution_count": 59,
   "metadata": {},
   "outputs": [
    {
     "data": {
      "text/plain": [
       "'**hello***'"
      ]
     },
     "execution_count": 59,
     "metadata": {},
     "output_type": "execute_result"
    }
   ],
   "source": [
    "\"{1} {0}\".format(\"hi\", \"hello\")\n",
    "#정렬 옵션\n",
    "\"{0}\".format(\"hello\")\n",
    "\"{0:<10}\".format(\"hello\")#10자리 확보, 왼쪽 정렬\n",
    "\"{0:>10}\".format(\"hello\")#10자리 확보, 오른쪽 정렬\n",
    "\"{0:^10}\".format(\"hello\")#10자리 확보, 가운데 정렬\n",
    "\"{0:=^10}\".format(\"hello\")#10자리 확보, 가운데 정렬, =로 채우기\n",
    "\"{0:*^10}\".format(\"hello\")#10자리 확보, 가운데 정렬, *로 채우기\n"
   ]
  },
  {
   "cell_type": "code",
   "execution_count": 65,
   "metadata": {},
   "outputs": [
    {
     "ename": "ValueError",
     "evalue": "substring not found",
     "output_type": "error",
     "traceback": [
      "\u001b[1;31m---------------------------------------------------------------------------\u001b[0m",
      "\u001b[1;31mValueError\u001b[0m                                Traceback (most recent call last)",
      "\u001b[1;32m<ipython-input-65-ee66dac0680f>\u001b[0m in \u001b[0;36m<module>\u001b[1;34m\u001b[0m\n\u001b[0;32m      7\u001b[0m \u001b[1;33m\u001b[0m\u001b[0m\n\u001b[0;32m      8\u001b[0m \u001b[0mb\u001b[0m\u001b[1;33m.\u001b[0m\u001b[0mindex\u001b[0m\u001b[1;33m(\u001b[0m\u001b[1;34m'y'\u001b[0m\u001b[1;33m)\u001b[0m \u001b[1;31m# 가장 왼쪽에서부터 위치 찾아 나감\u001b[0m\u001b[1;33m\u001b[0m\u001b[1;33m\u001b[0m\u001b[0m\n\u001b[1;32m----> 9\u001b[1;33m \u001b[0mb\u001b[0m\u001b[1;33m.\u001b[0m\u001b[0mindex\u001b[0m\u001b[1;33m(\u001b[0m\u001b[1;34m'k'\u001b[0m\u001b[1;33m)\u001b[0m\u001b[1;33m\u001b[0m\u001b[1;33m\u001b[0m\u001b[0m\n\u001b[0m",
      "\u001b[1;31mValueError\u001b[0m: substring not found"
     ]
    }
   ],
   "source": [
    "a=\"hello\"\n",
    "a.count('l')#'문자의 개수'\n",
    "\n",
    "b=\"Python is very easy.\"\n",
    "b.find('y') # 가장 왼쪽에서부터 위치 찾아 나감\n",
    "b.find('k') # 문자를 못찾는 경우에는 -1\n",
    "\n",
    "b.index('y') # 가장 왼쪽에서부터 위치 찾아 나감(find 동일)\n",
    "b.index('k') # 문자를 못찾는 경우에는 error\n"
   ]
  },
  {
   "cell_type": "code",
   "execution_count": 66,
   "metadata": {},
   "outputs": [
    {
     "data": {
      "text/plain": [
       "'h#e#l#l#o'"
      ]
     },
     "execution_count": 66,
     "metadata": {},
     "output_type": "execute_result"
    }
   ],
   "source": [
    "\"#\".join(\"hello\")"
   ]
  },
  {
   "cell_type": "code",
   "execution_count": 67,
   "metadata": {},
   "outputs": [
    {
     "data": {
      "text/plain": [
       "'m$u$l$t$i'"
      ]
     },
     "execution_count": 67,
     "metadata": {},
     "output_type": "execute_result"
    }
   ],
   "source": [
    "#리스트 : 대괄호([])로 표현, 자료를 나열하고자 할때 사용\n",
    "\"$\".join(['m','u','l','t','i'])"
   ]
  },
  {
   "cell_type": "code",
   "execution_count": 71,
   "metadata": {},
   "outputs": [
    {
     "data": {
      "text/plain": [
       "'TEST'"
      ]
     },
     "execution_count": 71,
     "metadata": {},
     "output_type": "execute_result"
    }
   ],
   "source": [
    "#자연어처리에서 'test','TEST', 'Test' => 일괄적으로 치환\n",
    "a='Test'\n",
    "a.lower() # 소문자로 변환\n",
    "a.upper() # 대분자로 변환"
   ]
  },
  {
   "cell_type": "code",
   "execution_count": 77,
   "metadata": {},
   "outputs": [
    {
     "data": {
      "text/plain": [
       "' hello'"
      ]
     },
     "execution_count": 77,
     "metadata": {},
     "output_type": "execute_result"
    }
   ],
   "source": [
    "# strip함수 : 양쪽 공백 제거\n",
    "# lstrip함수 : 왼쪽 공백 제거\n",
    "# rstrip함수 : 오른쪽 공백 제거\n",
    "word=\" hello       \"\n",
    "word\n",
    "word.strip()\n",
    "word.lstrip()\n",
    "word.rstrip()"
   ]
  },
  {
   "cell_type": "code",
   "execution_count": 78,
   "metadata": {},
   "outputs": [
    {
     "data": {
      "text/plain": [
       "'대한민국 대한민국 코리아'"
      ]
     },
     "execution_count": 78,
     "metadata": {},
     "output_type": "execute_result"
    }
   ],
   "source": [
    "# replace : 문자열 대체\n",
    "# 대한민국, 한국, 코리아, 조선, 고려, 우리나라, ...\n",
    "# => 대한민국으로\n",
    "x=\"대한민국 한국 코리아\"\n",
    "x.replace(\"한국\",\"대한민국\")"
   ]
  },
  {
   "cell_type": "code",
   "execution_count": 79,
   "metadata": {},
   "outputs": [
    {
     "data": {
      "text/plain": [
       "['a', 'b', 'c', 'd']"
      ]
     },
     "execution_count": 79,
     "metadata": {},
     "output_type": "execute_result"
    }
   ],
   "source": [
    "x=\"a?b?c?d\"\n",
    "x.split(\"?\")"
   ]
  },
  {
   "cell_type": "code",
   "execution_count": 91,
   "metadata": {},
   "outputs": [
    {
     "data": {
      "text/plain": [
       "4"
      ]
     },
     "execution_count": 91,
     "metadata": {},
     "output_type": "execute_result"
    }
   ],
   "source": [
    "\"\"\"\n",
    "배열과 같은 기능이지만, 타 배열은 데이터 타입 중요\n",
    "리스트 : 데이터 타입에 관계 없이 저장\n",
    "\"\"\"\n",
    "x1=[] # 빈 리스트\n",
    "x1\n",
    "x2=[1,2,3]\n",
    "x2\n",
    "x3=['programming', 'is', 'very', 'easy']\n",
    "x3\n",
    "x4=[1,2,'is', 'very']\n",
    "x4\n",
    "x5=[1,2,['is', 'very']] # 리스트의 요소로 리스트가 올 수 있다.\n",
    "x5 # 리스트 내부에는 어떠한 자료형도 모두 포함될 수 있다.\n",
    "a=list() #a=[] 과 같은 결과를 얻어내는 구문\n",
    "a\n",
    "a=[1,2,3]\n",
    "a[0]+a[2]\n",
    "a[-1] # -1 마지막 요소를 의미"
   ]
  },
  {
   "cell_type": "code",
   "execution_count": 103,
   "metadata": {},
   "outputs": [
    {
     "data": {
      "text/plain": [
       "[1, 2, 3]"
      ]
     },
     "execution_count": 103,
     "metadata": {},
     "output_type": "execute_result"
    }
   ],
   "source": [
    "x=[1,2,3,['a','b','c']]\n",
    "\"\"\"\n",
    "x리스트에서 1을 참조하여 출력\n",
    "x리스트에서  'a','b','c'을 참조하여 출력\n",
    "\"\"\"\n",
    "x[0]\n",
    "x[3]\n",
    "x[-1]\n",
    "\n",
    "# 리스트의 리스트를 참조\n",
    "# a를 참조\n",
    "x[3][0]\n",
    "#c를 참조해서 출력\n",
    "x[3][-1]\n",
    "x[0:3] #x변수에 저장된 데이터의 0번~ 3-1번 index 데이터 추출"
   ]
  },
  {
   "cell_type": "code",
   "execution_count": 107,
   "metadata": {},
   "outputs": [
    {
     "data": {
      "text/plain": [
       "[1]"
      ]
     },
     "execution_count": 107,
     "metadata": {},
     "output_type": "execute_result"
    }
   ],
   "source": [
    "# 삼중 리스트\n",
    "x=[1,2,['a','b',['Python','is']]]\n",
    "#\"Python 추출\"\n",
    "x[-1][-1][0]\n",
    "x[:2]"
   ]
  },
  {
   "cell_type": "code",
   "execution_count": 112,
   "metadata": {},
   "outputs": [
    {
     "data": {
      "text/plain": [
       "['a', 'b']"
      ]
     },
     "execution_count": 112,
     "metadata": {},
     "output_type": "execute_result"
    }
   ],
   "source": [
    "x2=[1,2,3,['a','b','c'],4, 5]\n",
    "x2\n",
    "x2[2:]\n",
    "x2[3][:2]"
   ]
  },
  {
   "cell_type": "code",
   "execution_count": 114,
   "metadata": {},
   "outputs": [
    {
     "data": {
      "text/plain": [
       "3"
      ]
     },
     "execution_count": 114,
     "metadata": {},
     "output_type": "execute_result"
    }
   ],
   "source": [
    "x=[1,2,3]\n",
    "len(x)"
   ]
  },
  {
   "cell_type": "code",
   "execution_count": 124,
   "metadata": {},
   "outputs": [
    {
     "data": {
      "text/plain": [
       "[1, 2, '4hi']"
      ]
     },
     "execution_count": 124,
     "metadata": {},
     "output_type": "execute_result"
    }
   ],
   "source": [
    "a=[1,2,3]\n",
    "#a[2]+\"hi\"\n",
    "a[2]=4\n",
    "a\n",
    "#a[2]+=\"hi\"\n",
    "str(a[2])+\"hi\"\n",
    "a[2]=str(a[2])+\"hi\"\n",
    "a"
   ]
  },
  {
   "cell_type": "code",
   "execution_count": 130,
   "metadata": {},
   "outputs": [
    {
     "data": {
      "text/plain": [
       "[13, 11, 9, 7, 5, 3]"
      ]
     },
     "execution_count": 130,
     "metadata": {},
     "output_type": "execute_result"
    }
   ],
   "source": [
    "#a=[0,1,2,...,9]\n",
    "range(5) #0부터 4까지 연속된 숫자 생성\n",
    "list(range(5))\n",
    "list(range(3,12,2))# 3에서 11까지 2간격(증가폭)으로\n",
    "list(range(13,2,-2))#13부터 2전까지(3) 2감소폭으로"
   ]
  },
  {
   "cell_type": "code",
   "execution_count": 133,
   "metadata": {},
   "outputs": [],
   "source": [
    "a=[1,2,3]\n",
    "a[2]=10 #리스트에서는 요소 바꿀 수 있다.\n",
    "a\n",
    "del a[1]"
   ]
  },
  {
   "cell_type": "raw",
   "metadata": {},
   "source": [
    "a"
   ]
  },
  {
   "cell_type": "code",
   "execution_count": 134,
   "metadata": {},
   "outputs": [
    {
     "data": {
      "text/plain": [
       "[1, 10]"
      ]
     },
     "execution_count": 134,
     "metadata": {},
     "output_type": "execute_result"
    }
   ],
   "source": [
    "a"
   ]
  },
  {
   "cell_type": "code",
   "execution_count": 136,
   "metadata": {},
   "outputs": [],
   "source": [
    "range(10) #1~10까지 숫자가 저장된 리스트를 생성\n",
    "a=list(range(1,11))"
   ]
  },
  {
   "cell_type": "code",
   "execution_count": 137,
   "metadata": {},
   "outputs": [],
   "source": [
    "del a[6:]#7~10 삭제"
   ]
  },
  {
   "cell_type": "code",
   "execution_count": 138,
   "metadata": {},
   "outputs": [
    {
     "data": {
      "text/plain": [
       "[1, 2, 3, 4, 5, 6]"
      ]
     },
     "execution_count": 138,
     "metadata": {},
     "output_type": "execute_result"
    }
   ],
   "source": [
    "a"
   ]
  },
  {
   "cell_type": "code",
   "execution_count": 139,
   "metadata": {},
   "outputs": [],
   "source": [
    "del a[2:5]#3~5삭제"
   ]
  },
  {
   "cell_type": "code",
   "execution_count": 142,
   "metadata": {},
   "outputs": [
    {
     "data": {
      "text/plain": [
       "[1, 2, 3, 5]"
      ]
     },
     "execution_count": 142,
     "metadata": {},
     "output_type": "execute_result"
    }
   ],
   "source": [
    "#리스트변수명.함수명()\n",
    "a=[1,2,3]\n",
    "x=5\n",
    "a.append(x)\n",
    "a\n",
    "#자료구조(리스트, 튜플, 딕셔너리, 셋)에 따라 사용 가능한 함수가 다름\n",
    "#(공통 사용 가능함수도 일부 있음)"
   ]
  },
  {
   "cell_type": "code",
   "execution_count": 140,
   "metadata": {
    "scrolled": true
   },
   "outputs": [
    {
     "data": {
      "text/plain": [
       "[1, 2, 6]"
      ]
     },
     "execution_count": 140,
     "metadata": {},
     "output_type": "execute_result"
    }
   ],
   "source": [
    "a"
   ]
  },
  {
   "cell_type": "code",
   "execution_count": 147,
   "metadata": {},
   "outputs": [
    {
     "data": {
      "text/plain": [
       "['z', 'a', 'K']"
      ]
     },
     "execution_count": 147,
     "metadata": {},
     "output_type": "execute_result"
    }
   ],
   "source": [
    "a=['K','a','z']\n",
    "a\n",
    "a.sort()\n",
    "a\n",
    "a.reverse()\n",
    "a"
   ]
  },
  {
   "cell_type": "code",
   "execution_count": 151,
   "metadata": {
    "scrolled": true
   },
   "outputs": [
    {
     "ename": "AttributeError",
     "evalue": "'list' object has no attribute 'find'",
     "output_type": "error",
     "traceback": [
      "\u001b[1;31m---------------------------------------------------------------------------\u001b[0m",
      "\u001b[1;31mAttributeError\u001b[0m                            Traceback (most recent call last)",
      "\u001b[1;32m<ipython-input-151-7b129e58c6e6>\u001b[0m in \u001b[0;36m<module>\u001b[1;34m\u001b[0m\n\u001b[0;32m      1\u001b[0m \u001b[0ma\u001b[0m\u001b[1;33m=\u001b[0m\u001b[1;33m[\u001b[0m\u001b[1;36m10\u001b[0m\u001b[1;33m,\u001b[0m\u001b[1;36m20\u001b[0m\u001b[1;33m,\u001b[0m\u001b[1;36m30\u001b[0m\u001b[1;33m]\u001b[0m\u001b[1;33m\u001b[0m\u001b[1;33m\u001b[0m\u001b[0m\n\u001b[0;32m      2\u001b[0m \u001b[0ma\u001b[0m\u001b[1;33m.\u001b[0m\u001b[0mindex\u001b[0m\u001b[1;33m(\u001b[0m\u001b[1;36m20\u001b[0m\u001b[1;33m)\u001b[0m\u001b[1;33m\u001b[0m\u001b[1;33m\u001b[0m\u001b[0m\n\u001b[1;32m----> 3\u001b[1;33m \u001b[0ma\u001b[0m\u001b[1;33m.\u001b[0m\u001b[0mfind\u001b[0m\u001b[1;33m(\u001b[0m\u001b[1;36m20\u001b[0m\u001b[1;33m)\u001b[0m\u001b[1;33m\u001b[0m\u001b[1;33m\u001b[0m\u001b[0m\n\u001b[0m\u001b[0;32m      4\u001b[0m \u001b[1;31m#a.index(1)\u001b[0m\u001b[1;33m\u001b[0m\u001b[1;33m\u001b[0m\u001b[1;33m\u001b[0m\u001b[0m\n",
      "\u001b[1;31mAttributeError\u001b[0m: 'list' object has no attribute 'find'"
     ]
    }
   ],
   "source": [
    "a=[10,20,30]\n",
    "a.index(20)\n",
    "#a.find(20)\n",
    "#a.index(1)"
   ]
  },
  {
   "cell_type": "code",
   "execution_count": 155,
   "metadata": {},
   "outputs": [
    {
     "data": {
      "text/plain": [
       "[100, 1, 2, 5, 3]"
      ]
     },
     "execution_count": 155,
     "metadata": {},
     "output_type": "execute_result"
    }
   ],
   "source": [
    "#insert:리스트 요소 원하는 위치에 추가\n",
    "#apend는 맨뒤에추가\n",
    "a=[1,2,3]\n",
    "a.insert(0,100) # 0번 인덱스 위치에 100추가\n",
    "a\n",
    "a.insert(3, 5)\n",
    "a"
   ]
  },
  {
   "cell_type": "code",
   "execution_count": 156,
   "metadata": {},
   "outputs": [
    {
     "data": {
      "text/plain": [
       "<function list.remove(value, /)>"
      ]
     },
     "execution_count": 156,
     "metadata": {},
     "output_type": "execute_result"
    }
   ],
   "source": [
    "a=[1,2,3,1,2,3,]\n",
    "a.remove"
   ]
  },
  {
   "cell_type": "code",
   "execution_count": 157,
   "metadata": {},
   "outputs": [
    {
     "data": {
      "text/plain": [
       "40"
      ]
     },
     "execution_count": 157,
     "metadata": {},
     "output_type": "execute_result"
    }
   ],
   "source": [
    "a=[10,20,30,40]\n",
    "a.pop()"
   ]
  },
  {
   "cell_type": "code",
   "execution_count": 158,
   "metadata": {},
   "outputs": [
    {
     "data": {
      "text/plain": [
       "[10, 20, 30]"
      ]
     },
     "execution_count": 158,
     "metadata": {},
     "output_type": "execute_result"
    }
   ],
   "source": [
    "a"
   ]
  },
  {
   "cell_type": "code",
   "execution_count": 159,
   "metadata": {},
   "outputs": [
    {
     "data": {
      "text/plain": [
       "20"
      ]
     },
     "execution_count": 159,
     "metadata": {},
     "output_type": "execute_result"
    }
   ],
   "source": [
    "a.pop(1)"
   ]
  },
  {
   "cell_type": "code",
   "execution_count": 160,
   "metadata": {},
   "outputs": [
    {
     "data": {
      "text/plain": [
       "[10, 30]"
      ]
     },
     "execution_count": 160,
     "metadata": {},
     "output_type": "execute_result"
    }
   ],
   "source": [
    "a"
   ]
  },
  {
   "cell_type": "code",
   "execution_count": 162,
   "metadata": {},
   "outputs": [
    {
     "data": {
      "text/plain": [
       "0"
      ]
     },
     "execution_count": 162,
     "metadata": {},
     "output_type": "execute_result"
    }
   ],
   "source": [
    "a=[1,2,3,1]\n",
    "a.count(1)\n",
    "a.count(0)"
   ]
  },
  {
   "cell_type": "code",
   "execution_count": 163,
   "metadata": {},
   "outputs": [],
   "source": [
    "a=[1,2,3]\n",
    "b=[4,5]\n",
    "a.append(b)"
   ]
  },
  {
   "cell_type": "code",
   "execution_count": 164,
   "metadata": {},
   "outputs": [
    {
     "data": {
      "text/plain": [
       "[1, 2, 3, [4, 5]]"
      ]
     },
     "execution_count": 164,
     "metadata": {},
     "output_type": "execute_result"
    }
   ],
   "source": [
    "a"
   ]
  },
  {
   "cell_type": "code",
   "execution_count": 171,
   "metadata": {},
   "outputs": [],
   "source": [
    "a=[1,2,3]\n",
    "b=[4,5]\n",
    "a.extend(b)"
   ]
  },
  {
   "cell_type": "code",
   "execution_count": 172,
   "metadata": {},
   "outputs": [
    {
     "data": {
      "text/plain": [
       "[1, 2, 3, 4, 5]"
      ]
     },
     "execution_count": 172,
     "metadata": {},
     "output_type": "execute_result"
    }
   ],
   "source": [
    "a"
   ]
  },
  {
   "cell_type": "code",
   "execution_count": 173,
   "metadata": {},
   "outputs": [
    {
     "data": {
      "text/plain": [
       "[1, 2, 3, 4, 5, 8, 9]"
      ]
     },
     "execution_count": 173,
     "metadata": {},
     "output_type": "execute_result"
    }
   ],
   "source": [
    "a+=[8,9]\n",
    "a"
   ]
  },
  {
   "cell_type": "code",
   "execution_count": 179,
   "metadata": {},
   "outputs": [
    {
     "name": "stdout",
     "output_type": "stream",
     "text": [
      "['921101', '1231234']\n"
     ]
    }
   ],
   "source": [
    "x=\"921101-1231234\"\n",
    "print(x.split(\"-\"))"
   ]
  },
  {
   "cell_type": "code",
   "execution_count": 218,
   "metadata": {},
   "outputs": [
    {
     "data": {
      "text/plain": [
       "'1'"
      ]
     },
     "execution_count": 218,
     "metadata": {},
     "output_type": "execute_result"
    }
   ],
   "source": [
    "x=\"921101-1231234\"\n",
    "list(x)\n",
    "x[7]"
   ]
  },
  {
   "cell_type": "raw",
   "metadata": {},
   "source": [
    "c=\"a:b:c:d\"\n",
    "c\n",
    "c.replace(\":\",\"#\")"
   ]
  },
  {
   "cell_type": "code",
   "execution_count": 206,
   "metadata": {},
   "outputs": [
    {
     "data": {
      "text/plain": [
       "'How are you'"
      ]
     },
     "execution_count": 206,
     "metadata": {},
     "output_type": "execute_result"
    }
   ],
   "source": [
    "\" \".join(['How','are','you'])"
   ]
  },
  {
   "cell_type": "code",
   "execution_count": 208,
   "metadata": {},
   "outputs": [
    {
     "data": {
      "text/plain": [
       "[5, 3, 1, -1, -3]"
      ]
     },
     "execution_count": 208,
     "metadata": {},
     "output_type": "execute_result"
    }
   ],
   "source": [
    "list(range(5,-4,-2))"
   ]
  },
  {
   "cell_type": "code",
   "execution_count": 216,
   "metadata": {},
   "outputs": [
    {
     "data": {
      "text/plain": [
       "4000"
      ]
     },
     "execution_count": 216,
     "metadata": {},
     "output_type": "execute_result"
    }
   ],
   "source": [
    "a=list(range(1,10001))\n",
    "a=str(a)\n",
    "a.count('8')"
   ]
  },
  {
   "cell_type": "code",
   "execution_count": null,
   "metadata": {},
   "outputs": [],
   "source": []
  }
 ],
 "metadata": {
  "kernelspec": {
   "display_name": "Python 3",
   "language": "python",
   "name": "python3"
  },
  "language_info": {
   "codemirror_mode": {
    "name": "ipython",
    "version": 3
   },
   "file_extension": ".py",
   "mimetype": "text/x-python",
   "name": "python",
   "nbconvert_exporter": "python",
   "pygments_lexer": "ipython3",
   "version": "3.7.4"
  }
 },
 "nbformat": 4,
 "nbformat_minor": 2
}
