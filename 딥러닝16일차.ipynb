{
 "cells": [
  {
   "cell_type": "code",
   "execution_count": 81,
   "metadata": {},
   "outputs": [],
   "source": [
    "#선형 회귀\n",
    "import numpy as np"
   ]
  },
  {
   "cell_type": "code",
   "execution_count": 82,
   "metadata": {},
   "outputs": [],
   "source": [
    "x=[2,4,6,8]\n",
    "y=[81,93,91,97]"
   ]
  },
  {
   "cell_type": "code",
   "execution_count": 83,
   "metadata": {},
   "outputs": [],
   "source": [
    "#x와 y의 평균값\n",
    "mx=np.mean(x)\n",
    "my=np.mean(y)"
   ]
  },
  {
   "cell_type": "code",
   "execution_count": 84,
   "metadata": {},
   "outputs": [
    {
     "data": {
      "text/plain": [
       "20.0"
      ]
     },
     "execution_count": 84,
     "metadata": {},
     "output_type": "execute_result"
    }
   ],
   "source": [
    "#기울기 공식의 분모\n",
    "divisor=sum([(mx-i)**2 for i in x])\n",
    "divisor"
   ]
  },
  {
   "cell_type": "code",
   "execution_count": 85,
   "metadata": {},
   "outputs": [],
   "source": [
    "def top(x,mx,y,my):\n",
    "    d=0\n",
    "    for i in range(len(x)):\n",
    "        d+=(x[i]-mx)*(y[i]-my)\n",
    "    return d\n",
    "dividend=top(x,mx,y,my)"
   ]
  },
  {
   "cell_type": "code",
   "execution_count": 86,
   "metadata": {},
   "outputs": [
    {
     "name": "stdout",
     "output_type": "stream",
     "text": [
      "분모: 20.0\n",
      "분자: 46.0\n"
     ]
    }
   ],
   "source": [
    "print(\"분모:\",divisor)\n",
    "print(\"분자:\",dividend)"
   ]
  },
  {
   "cell_type": "code",
   "execution_count": 87,
   "metadata": {},
   "outputs": [
    {
     "data": {
      "text/plain": [
       "79.0"
      ]
     },
     "execution_count": 87,
     "metadata": {},
     "output_type": "execute_result"
    }
   ],
   "source": [
    "# w:직선의 기울기=y값의 증가량/x값의 증가량\n",
    "w=dividend/divisor\n",
    "w # 기울기:2.3\n",
    "b=my-(mx*w) #y의 평균-(x평균*기울기w)\n",
    "b # 79\n",
    "# y = 2.3x + 79"
   ]
  },
  {
   "cell_type": "code",
   "execution_count": 88,
   "metadata": {},
   "outputs": [],
   "source": [
    "data=[[2,81],[4,93],[6,91],[8,97]]\n",
    "#공부한시간=2시간, 실제점수는 81, 예측점수=83.6\n",
    "#...\n",
    "#공부한시간=8, 실제점수=97, 예측점수=97.4\n",
    "#rmse:"
   ]
  },
  {
   "cell_type": "code",
   "execution_count": 89,
   "metadata": {},
   "outputs": [],
   "source": [
    "wb=[2.3,79]#기울기, y절편\n",
    "x=[i[0] for i in data]\n",
    "y=[i[1] for i in data]"
   ]
  },
  {
   "cell_type": "code",
   "execution_count": 90,
   "metadata": {},
   "outputs": [],
   "source": [
    "def predict(x):\n",
    "    return wb[0]*x+wb[1]"
   ]
  },
  {
   "cell_type": "code",
   "execution_count": 91,
   "metadata": {},
   "outputs": [
    {
     "name": "stdout",
     "output_type": "stream",
     "text": [
      "공부시간=2, 실점수=81, 예측점수=84\n",
      "공부시간=4, 실점수=93, 예측점수=88\n",
      "공부시간=6, 실점수=91, 예측점수=93\n",
      "공부시간=8, 실점수=97, 예측점수=97\n"
     ]
    }
   ],
   "source": [
    "predict_result=[]\n",
    "for i in range(len(x)):\n",
    "    predict_result.append(predict(x[i]))\n",
    "    print(\"공부시간=%.f, 실점수=%.f, 예측점수=%.f\" %(x[i], y[i], predict(x[i])))"
   ]
  },
  {
   "cell_type": "code",
   "execution_count": 92,
   "metadata": {},
   "outputs": [
    {
     "ename": "TypeError",
     "evalue": "can't multiply sequence by non-int of type 'list'",
     "output_type": "error",
     "traceback": [
      "\u001b[1;31m---------------------------------------------------------------------------\u001b[0m",
      "\u001b[1;31mTypeError\u001b[0m                                 Traceback (most recent call last)",
      "\u001b[1;32m<ipython-input-92-59d15c7ac85c>\u001b[0m in \u001b[0;36m<module>\u001b[1;34m\u001b[0m\n\u001b[1;32m----> 1\u001b[1;33m \u001b[0mprint\u001b[0m\u001b[1;33m(\u001b[0m\u001b[1;33m[\u001b[0m\u001b[1;36m1\u001b[0m\u001b[1;33m,\u001b[0m\u001b[1;36m2\u001b[0m\u001b[1;33m,\u001b[0m\u001b[1;36m3\u001b[0m\u001b[1;33m]\u001b[0m\u001b[1;33m*\u001b[0m\u001b[1;33m[\u001b[0m\u001b[1;36m2\u001b[0m\u001b[1;33m,\u001b[0m\u001b[1;36m3\u001b[0m\u001b[1;33m,\u001b[0m\u001b[1;36m4\u001b[0m\u001b[1;33m]\u001b[0m\u001b[1;33m)\u001b[0m\u001b[1;33m\u001b[0m\u001b[1;33m\u001b[0m\u001b[0m\n\u001b[0m",
      "\u001b[1;31mTypeError\u001b[0m: can't multiply sequence by non-int of type 'list'"
     ]
    }
   ],
   "source": [
    "print([1,2,3]*[2,3,4])"
   ]
  },
  {
   "cell_type": "code",
   "execution_count": 93,
   "metadata": {},
   "outputs": [],
   "source": [
    "def rmse(p,a):\n",
    "    print(np.sqrt(((p-a)**2).mean()))"
   ]
  },
  {
   "cell_type": "code",
   "execution_count": 94,
   "metadata": {},
   "outputs": [
    {
     "name": "stdout",
     "output_type": "stream",
     "text": [
      "2.880972058177584\n",
      "rmse:None\n"
     ]
    }
   ],
   "source": [
    "print(\"rmse:\"+str(rmse(np.array(predict_result),np.array(y))))"
   ]
  },
  {
   "cell_type": "code",
   "execution_count": 28,
   "metadata": {},
   "outputs": [],
   "source": [
    "import tensorflow as tf"
   ]
  },
  {
   "cell_type": "code",
   "execution_count": 30,
   "metadata": {},
   "outputs": [],
   "source": [
    "#기울기 범위 : 0~10, y절편:0~100\n",
    "w=tf.Variable(tf.random_normal([1],0,10,dtype=tf.float32,seed=0))\n",
    "b=tf.Variable(tf.random_normal([1],0,100,dtype=tf.float32,seed=0))\n",
    "#0~10사이 난수"
   ]
  },
  {
   "cell_type": "code",
   "execution_count": 31,
   "metadata": {},
   "outputs": [],
   "source": [
    "hf=w*x+b\n",
    "rmse=tf.sqrt(tf.reduce_mean(tf.square(hf-y)))\n",
    "lr=0.1"
   ]
  },
  {
   "cell_type": "code",
   "execution_count": 32,
   "metadata": {},
   "outputs": [],
   "source": [
    "train=tf.train.GradientDescentOptimizer(lr).minimize(rmse)"
   ]
  },
  {
   "cell_type": "code",
   "execution_count": 34,
   "metadata": {},
   "outputs": [
    {
     "name": "stdout",
     "output_type": "stream",
     "text": [
      "rmse=148.2724, 기울기=-3.4730, y절편=-39.8162\n",
      "rmse=45.6344, 기울기=20.8727, y절편=-32.5576\n",
      "rmse=44.0149, 기울기=20.3265, y절편=-28.5748\n",
      "rmse=42.4007, 기울기=19.6626, y절편=-24.6124\n",
      "rmse=40.7871, 기울기=18.9987, y절편=-20.6507\n",
      "rmse=39.1741, 기울기=18.3349, y절편=-16.6897\n",
      "rmse=37.5619, 기울기=17.6714, y절편=-12.7297\n",
      "rmse=35.9505, 기울기=17.0079, y절편=-8.7706\n",
      "rmse=34.3400, 기울기=16.3447, y절편=-4.8127\n",
      "rmse=32.7306, 기울기=15.6817, y절편=-0.8562\n",
      "rmse=31.1224, 기울기=15.0189, y절편=3.0989\n",
      "rmse=29.5157, 기울기=14.3565, y절편=7.0522\n",
      "rmse=27.9106, 기울기=13.6943, y절편=11.0034\n",
      "rmse=26.3076, 기울기=13.0326, y절편=14.9522\n",
      "rmse=24.7069, 기울기=12.3714, y절편=18.8980\n",
      "rmse=23.1091, 기울기=11.7108, y절편=22.8404\n",
      "rmse=21.5147, 기울기=11.0509, y절편=26.7784\n",
      "rmse=19.9247, 기울기=10.3919, y절편=30.7110\n",
      "rmse=18.3402, 기울기=9.7340, y절편=34.6370\n",
      "rmse=16.7625, 기울기=9.0776, y절편=38.5543\n",
      "rmse=15.1940, 기울기=8.4230, y절편=42.4604\n",
      "rmse=13.6375, 기울기=7.7710, y절편=46.3514\n",
      "rmse=12.0977, 기울기=7.1225, y절편=50.2215\n",
      "rmse=10.5814, 기울기=6.4789, y절편=54.0620\n",
      "rmse=9.0998, 기울기=5.8428, y절편=57.8583\n",
      "rmse=7.6713, 기울기=5.2181, y절편=61.5861\n",
      "rmse=6.3276, 기울기=4.6123, y절편=65.2014\n",
      "rmse=5.1230, 기울기=4.0387, y절편=68.6242\n",
      "rmse=4.1415, 기울기=3.5212, y절편=71.7126\n",
      "rmse=3.4698, 기울기=3.0937, y절편=74.2636\n",
      "rmse=3.1116, 기울기=2.7825, y절편=76.1204\n",
      "rmse=2.9617, 기울기=2.5819, y절편=77.3176\n",
      "rmse=2.9078, 기울기=2.4619, y절편=78.0341\n",
      "rmse=2.8897, 기울기=2.3923, y절편=78.4490\n",
      "rmse=2.8838, 기울기=2.3526, y절편=78.6863\n",
      "rmse=2.8819, 기울기=2.3299, y절편=78.8215\n",
      "rmse=2.8813, 기울기=2.3170, y절편=78.8985\n",
      "rmse=2.8811, 기울기=2.3097, y절편=78.9423\n",
      "rmse=2.8810, 기울기=2.3055, y절편=78.9672\n",
      "rmse=2.8810, 기울기=2.3031, y절편=78.9813\n",
      "rmse=2.8810, 기울기=2.3018, y절편=78.9894\n",
      "rmse=2.8810, 기울기=2.3010, y절편=78.9940\n",
      "rmse=2.8810, 기울기=2.3006, y절편=78.9966\n",
      "rmse=2.8810, 기울기=2.3003, y절편=78.9980\n",
      "rmse=2.8810, 기울기=2.3002, y절편=78.9988\n",
      "rmse=2.8810, 기울기=2.3001, y절편=78.9993\n",
      "rmse=2.8810, 기울기=2.3001, y절편=78.9993\n",
      "rmse=2.8810, 기울기=2.3001, y절편=78.9993\n",
      "rmse=2.8810, 기울기=2.3001, y절편=78.9993\n",
      "rmse=2.8810, 기울기=2.3001, y절편=78.9993\n",
      "rmse=2.8810, 기울기=2.3001, y절편=78.9993\n"
     ]
    }
   ],
   "source": [
    "with tf.Session() as sess:\n",
    "    sess.run(tf.global_variables_initializer())\n",
    "    for step in range(5001):\n",
    "        sess.run(train)\n",
    "        if step % 100 == 0:\n",
    "            print(\"rmse=%.4f, 기울기=%.4f, y절편=%.4f\" %(sess.run(rmse),sess.run(w),sess.run(b)))"
   ]
  },
  {
   "cell_type": "code",
   "execution_count": 35,
   "metadata": {},
   "outputs": [],
   "source": [
    "## 다중 선형 회귀\n",
    "data=[[2,0,81],[4,4,93],[6,2,91],[8,3,97]]\n",
    "#공부한시간=2시간, 과외시간=0,실제점수는 81, 예측점수=83.6\n",
    "#...\n",
    "#공부한시간=8, 실제점수=97, 예측점수=97.4\n",
    "#rmse:"
   ]
  },
  {
   "cell_type": "code",
   "execution_count": 43,
   "metadata": {},
   "outputs": [],
   "source": [
    "wb=[2.3,79]#기울기, y절편\n",
    "x1=[i[0] for i in data]\n",
    "x2=[i[1] for i in data]\n",
    "y=[i[2] for i in data]"
   ]
  },
  {
   "cell_type": "code",
   "execution_count": 44,
   "metadata": {},
   "outputs": [],
   "source": [
    "#기울기 범위 : 0~10, y절편:0~100\n",
    "w1=tf.Variable(tf.random_normal([1],0,10,dtype=tf.float32,seed=0))\n",
    "w2=tf.Variable(tf.random_normal([1],0,10,dtype=tf.float32,seed=0))\n",
    "b=tf.Variable(tf.random_normal([1],0,100,dtype=tf.float32,seed=0))\n",
    "#0~10사이 난수"
   ]
  },
  {
   "cell_type": "code",
   "execution_count": 45,
   "metadata": {},
   "outputs": [],
   "source": [
    "hf=w1*x1+w2*x2+b\n",
    "rmse=tf.sqrt(tf.reduce_mean(tf.square(hf-y)))\n",
    "lr=0.1"
   ]
  },
  {
   "cell_type": "code",
   "execution_count": 46,
   "metadata": {},
   "outputs": [],
   "source": [
    "train=tf.train.GradientDescentOptimizer(lr).minimize(rmse)"
   ]
  },
  {
   "cell_type": "code",
   "execution_count": 51,
   "metadata": {},
   "outputs": [
    {
     "name": "stdout",
     "output_type": "stream",
     "text": [
      "rmse=157.1025, 기울기 w1=-3.4711, 기울기 w2=-3.7536, y절편=-39.8165\n",
      "rmse=44.6891, 기울기 w1=18.1984, 기울기 w2=6.5456, y절편=-32.9452\n",
      "rmse=43.0898, 기울기 w1=17.4979, 기울기 w2=6.7055, y절편=-29.0116\n",
      "rmse=41.4963, 기울기 w1=16.8068, 기울기 w2=6.7692, y절편=-25.0806\n",
      "rmse=39.9060, 기울기 w1=16.1451, 기울기 w2=6.7675, y절편=-21.1480\n",
      "rmse=38.3175, 기울기 w1=15.5062, 기울기 w2=6.7151, y절편=-17.2144\n",
      "rmse=36.7301, 기울기 w1=14.8849, 기울기 w2=6.6237, y절편=-13.2800\n",
      "rmse=35.1433, 기울기 w1=14.2769, 기울기 w2=6.5028, y절편=-9.3451\n",
      "rmse=33.5568, 기울기 w1=13.6789, 기울기 w2=6.3596, y절편=-5.4098\n",
      "rmse=31.9705, 기울기 w1=13.0883, 기울기 w2=6.2001, y절편=-1.4742\n",
      "rmse=30.3843, 기울기 w1=12.5031, 기울기 w2=6.0286, y절편=2.4616\n",
      "rmse=28.7982, 기울기 w1=11.9217, 기울기 w2=5.8485, y절편=6.3974\n",
      "rmse=27.2120, 기울기 w1=11.3431, 기울기 w2=5.6624, y절편=10.3334\n",
      "rmse=25.6259, 기울기 w1=10.7664, 기울기 w2=5.4721, y절편=14.2694\n",
      "rmse=24.0399, 기울기 w1=10.1910, 기울기 w2=5.2789, y절편=18.2054\n",
      "rmse=22.4538, 기울기 w1=9.6164, 기울기 w2=5.0839, y절편=22.1414\n",
      "rmse=20.8678, 기울기 w1=9.0424, 기울기 w2=4.8876, y절편=26.0774\n",
      "rmse=19.2818, 기울기 w1=8.4687, 기울기 w2=4.6907, y절편=30.0135\n",
      "rmse=17.6959, 기울기 w1=7.8952, 기울기 w2=4.4933, y절편=33.9495\n",
      "rmse=16.1100, 기울기 w1=7.3218, 기울기 w2=4.2956, y절편=37.8853\n",
      "rmse=14.5243, 기울기 w1=6.7485, 기울기 w2=4.0978, y절편=41.8210\n",
      "rmse=12.9386, 기울기 w1=6.1753, 기울기 w2=3.9000, y절편=45.7566\n",
      "rmse=11.3531, 기울기 w1=5.6021, 기울기 w2=3.7021, y절편=49.6919\n",
      "rmse=9.7679, 기울기 w1=5.0290, 기울기 w2=3.5042, y절편=53.6270\n",
      "rmse=8.1830, 기울기 w1=4.4560, 기울기 w2=3.3063, y절편=57.5616\n",
      "rmse=6.5989, 기울기 w1=3.8830, 기울기 w2=3.1085, y절편=61.4953\n",
      "rmse=5.0161, 기울기 w1=3.3103, 기울기 w2=2.9108, y절편=65.4273\n",
      "rmse=3.4364, 기울기 w1=2.7382, 기울기 w2=2.7132, y절편=69.3555\n",
      "rmse=1.8677, 기울기 w1=2.1681, 기울기 w2=2.5164, y절편=73.2700\n",
      "rmse=1.8355, 기울기 w1=2.0067, 기울기 w2=2.4875, y절편=76.1210\n",
      "rmse=1.8368, 기울기 w1=1.8749, 기울기 w2=2.4440, y절편=77.1553\n",
      "rmse=1.8370, 기울기 w1=1.8149, 기울기 w2=2.4236, y절편=77.5888\n",
      "rmse=1.8370, 기울기 w1=1.7890, 기울기 w2=2.4147, y절편=77.7708\n",
      "rmse=1.8370, 기울기 w1=1.7779, 기울기 w2=2.4109, y절편=77.8472\n",
      "rmse=1.8370, 기울기 w1=1.7733, 기울기 w2=2.4093, y절편=77.8793\n",
      "rmse=1.8370, 기울기 w1=1.7713, 기울기 w2=2.4087, y절편=77.8928\n",
      "rmse=1.8370, 기울기 w1=1.7705, 기울기 w2=2.4084, y절편=77.8985\n",
      "rmse=1.8370, 기울기 w1=1.7702, 기울기 w2=2.4082, y절편=77.9008\n",
      "rmse=1.8370, 기울기 w1=1.7700, 기울기 w2=2.4082, y절편=77.9018\n",
      "rmse=1.8370, 기울기 w1=1.7699, 기울기 w2=2.4082, y절편=77.9022\n",
      "rmse=1.8369, 기울기 w1=1.7699, 기울기 w2=2.4082, y절편=77.9022\n",
      "rmse=1.8369, 기울기 w1=1.7699, 기울기 w2=2.4082, y절편=77.9022\n",
      "rmse=1.8369, 기울기 w1=1.7699, 기울기 w2=2.4082, y절편=77.9022\n",
      "rmse=1.8369, 기울기 w1=1.7699, 기울기 w2=2.4082, y절편=77.9022\n",
      "rmse=1.8369, 기울기 w1=1.7699, 기울기 w2=2.4082, y절편=77.9022\n",
      "rmse=1.8369, 기울기 w1=1.7699, 기울기 w2=2.4082, y절편=77.9022\n",
      "rmse=1.8369, 기울기 w1=1.7699, 기울기 w2=2.4082, y절편=77.9022\n",
      "rmse=1.8369, 기울기 w1=1.7699, 기울기 w2=2.4082, y절편=77.9022\n",
      "rmse=1.8369, 기울기 w1=1.7699, 기울기 w2=2.4082, y절편=77.9022\n",
      "rmse=1.8369, 기울기 w1=1.7699, 기울기 w2=2.4082, y절편=77.9022\n",
      "rmse=1.8369, 기울기 w1=1.7699, 기울기 w2=2.4082, y절편=77.9022\n"
     ]
    }
   ],
   "source": [
    "with tf.Session() as sess:\n",
    "    sess.run(tf.global_variables_initializer())\n",
    "    for step in range(5001):\n",
    "        sess.run(train)\n",
    "        if step % 100 == 0:\n",
    "            print(\"rmse=%.4f, 기울기 w1=%.4f, 기울기 w2=%.4f, y절편=%.4f\"\n",
    "                  %(sess.run(rmse),sess.run(w1),sess.run(w2),sess.run(b)))"
   ]
  },
  {
   "cell_type": "code",
   "execution_count": 53,
   "metadata": {},
   "outputs": [],
   "source": [
    "## 로지스틱 회귀\n",
    "data=[[2,0],[4,0],[6,0],[8,1],[10,1],[12,1],[14,1]]\n",
    "xdata=[i[0] for i in data]\n",
    "ydata=[i[0] for i in data]"
   ]
  },
  {
   "cell_type": "code",
   "execution_count": 55,
   "metadata": {},
   "outputs": [],
   "source": [
    "w=tf.Variable(tf.random_normal([1],dtype=tf.float32,seed=0))\n",
    "b=tf.Variable(tf.random_normal([1],dtype=tf.float32,seed=0))"
   ]
  },
  {
   "cell_type": "code",
   "execution_count": 56,
   "metadata": {},
   "outputs": [],
   "source": [
    "hf=1/(1+np.e**(w*xdata+b))\n",
    "cost=-tf.reduce_mean(np.array(ydata)*tf.log(hf)+(1-np.array(ydata))*tf.log(1-hf))"
   ]
  },
  {
   "cell_type": "code",
   "execution_count": null,
   "metadata": {},
   "outputs": [],
   "source": [
    "# multi label classification(Multinomial Classification)"
   ]
  },
  {
   "cell_type": "code",
   "execution_count": 62,
   "metadata": {},
   "outputs": [],
   "source": [
    "xdata = [[1, 2, 1, 1],\n",
    "          [2, 1, 3, 2],\n",
    "          [3, 1, 3, 4],\n",
    "          [4, 1, 5, 5],\n",
    "          [1, 7, 5, 5],\n",
    "          [1, 2, 5, 6],\n",
    "          [1, 6, 6, 6],\n",
    "          [1, 7, 7, 7]]\n",
    "ydata = [[0, 0, 1],\n",
    "          [0, 0, 1],\n",
    "          [0, 0, 1],\n",
    "          [0, 1, 0],\n",
    "          [0, 1, 0],\n",
    "          [0, 1, 0],\n",
    "          [1, 0, 0],\n",
    "          [1, 0, 0]]"
   ]
  },
  {
   "cell_type": "code",
   "execution_count": 63,
   "metadata": {},
   "outputs": [],
   "source": [
    "x=tf.placeholder(\"float\",[None,4])\n",
    "y=tf.placeholder(\"float\",[None,3])\n",
    "nb_classes=3"
   ]
  },
  {
   "cell_type": "code",
   "execution_count": 64,
   "metadata": {},
   "outputs": [],
   "source": [
    "w=tf.Variable(tf.random_normal([4,3]))\n",
    "b=tf.Variable(tf.random_normal([3]))\n",
    "#hf=xw+b\n",
    "hf=tf.nn.softmax(tf.matmul(x,w)+b)"
   ]
  },
  {
   "cell_type": "code",
   "execution_count": 65,
   "metadata": {},
   "outputs": [],
   "source": [
    "cost=tf.reduce_mean(-tf.reduce_sum(y*tf.log(hf),axis=1))"
   ]
  },
  {
   "cell_type": "code",
   "execution_count": 66,
   "metadata": {},
   "outputs": [],
   "source": [
    "opt=tf.train.GradientDescentOptimizer(0.1).minimize(cost)"
   ]
  },
  {
   "cell_type": "code",
   "execution_count": 77,
   "metadata": {},
   "outputs": [
    {
     "name": "stdout",
     "output_type": "stream",
     "text": [
      "0 12.680313\n",
      "200 0.70831287\n",
      "400 0.59870446\n",
      "600 0.50681233\n",
      "800 0.41791946\n",
      "1000 0.32886648\n",
      "1200 0.24705654\n",
      "1400 0.22000149\n",
      "1600 0.20089212\n",
      "1800 0.18469107\n",
      "2000 0.1707988\n",
      "분류 결과 : 1\n",
      "--------------------------------------------------\n",
      "분류 결과 : [1 0 2]\n"
     ]
    }
   ],
   "source": [
    "with tf.Session() as sess:\n",
    "    sess.run(tf.global_variables_initializer())\n",
    "    for step in range(2001):\n",
    "        _,cv=sess.run([opt,cost], feed_dict={x:xdata,y:ydata})\n",
    "        if step%200==0:\n",
    "            print(step,cv)\n",
    "    res=sess.run(hf,feed_dict={x:[[1,11,7,9]]})\n",
    "    print(\"분류 결과 :\", str(sess.run(tf.argmax(res,1))[0]))\n",
    "    print(\"-\"*50)\n",
    "    res2=sess.run(hf,feed_dict={x:[[1,11,7,9],[1,3,4,3],[1,1,0,1]]})\n",
    "    print(\"분류 결과 :\", str(sess.run(tf.argmax(res2,1))))"
   ]
  },
  {
   "cell_type": "code",
   "execution_count": 68,
   "metadata": {},
   "outputs": [],
   "source": [
    "#x수집 : [1,11,7,9] => hf => 예측(0,1,2)?\n",
    "\n",
    "# [[1,11,7,9],[1,3,4,3],[1,1,0,1]] => hf => 예측?"
   ]
  },
  {
   "cell_type": "code",
   "execution_count": null,
   "metadata": {},
   "outputs": [],
   "source": []
  },
  {
   "cell_type": "code",
   "execution_count": null,
   "metadata": {},
   "outputs": [],
   "source": []
  }
 ],
 "metadata": {
  "kernelspec": {
   "display_name": "Python 3",
   "language": "python",
   "name": "python3"
  },
  "language_info": {
   "codemirror_mode": {
    "name": "ipython",
    "version": 3
   },
   "file_extension": ".py",
   "mimetype": "text/x-python",
   "name": "python",
   "nbconvert_exporter": "python",
   "pygments_lexer": "ipython3",
   "version": "3.7.4"
  }
 },
 "nbformat": 4,
 "nbformat_minor": 2
}
