{
 "cells": [
  {
   "cell_type": "code",
   "execution_count": 6,
   "metadata": {},
   "outputs": [
    {
     "name": "stdout",
     "output_type": "stream",
     "text": [
      "2 20 50\n",
      "50 30\n",
      "30 40\n"
     ]
    }
   ],
   "source": [
    "N,L,R=map(int,input().split())\n",
    "arr=[list(map(int,input().split())) for i in range(N)]"
   ]
  },
  {
   "cell_type": "code",
   "execution_count": 2,
   "metadata": {},
   "outputs": [
    {
     "data": {
      "text/plain": [
       "[[50, 30], [20, 40]]"
      ]
     },
     "execution_count": 2,
     "metadata": {},
     "output_type": "execute_result"
    }
   ],
   "source": [
    "arr"
   ]
  },
  {
   "cell_type": "code",
   "execution_count": 7,
   "metadata": {},
   "outputs": [
    {
     "name": "stdout",
     "output_type": "stream",
     "text": [
      "1\n"
     ]
    }
   ],
   "source": [
    "from collections import deque\n",
    "dxs=[-1,0,1,0]\n",
    "dys=[0,1,0,-1]\n",
    "answer=0\n",
    "def bfs(x,y):\n",
    "    visited=set([(x,y)]) ##???\n",
    "    q=deque([(x,y)])\n",
    "    \"\"\"\n",
    "    total:연합의 인구수\n",
    "    num:연합에서 나라의 갯수\n",
    "    \"\"\"\n",
    "    total, num=0,0\n",
    "    \n",
    "    while q:\n",
    "        x,y=q.popleft()\n",
    "        #방문한 현재 나라의 인구스를 연합의 인구수에 더해주고, 연합에 속한 나라도 증가해준다.\n",
    "        total += arr[x][y]\n",
    "        num+=1\n",
    "        for dx,dy in zip(dxs,dys):\n",
    "            nx,ny=x+dx,y+dy\n",
    "            \n",
    "            if nx>=0 and nx<N and ny>=0 and ny<N and(nx,ny) not in visited and (nx,ny) not in total_visited:\n",
    "                diff = abs(arr[nx][ny]-arr[x][y])\n",
    "                if diff>=L and diff<=R:\n",
    "                    #BFS를 한 번이라도 탄 것이므로, is_move를 True로 변환\n",
    "                    global is_move\n",
    "                    is_move = True\n",
    "                    q.append((nx,ny))\n",
    "                    visited.add((nx,ny))\n",
    "    # 이 연합의 바뀔 인구수와, 연합에 속한 나라(좌표)들을 반환한다.\n",
    "    return total // num,visited\n",
    "\n",
    "while True:\n",
    "    total_visited=set() #BFS 탐색에 한번이라도 들어간 경우, 재 탐색을 할 필요가 없으므로,\n",
    "    #이 집합에 담아둔다.\n",
    "    is_move=False #한 번이라도 BFS를 타게되면 True로 바뀐다.\n",
    "    unions=[] #(바뀔 인구수, 연합의 좌표들)을 담는다.\n",
    "    \n",
    "    #먼저, 연합들을 찾아서 unions에 담는다.\n",
    "    for i in range(N):\n",
    "        for j in range(N):\n",
    "            if(i,j)not in total_visited:\n",
    "                changed_num,visited=bfs(i,j)\n",
    "                unions.append((changed_num,visited))\n",
    "                total_visited = visited #??\n",
    "    \n",
    "    #찾은 연합들의 좌표들을 일괄적으로 바궈준다.\n",
    "    for(changed_num,union)in unions:\n",
    "        for country in union:\n",
    "            x,y=country\n",
    "            arr[x][y]=changed_num\n",
    "    #한 번이라도 BFS를 타고들어갔는지 확인한다.\n",
    "    if not is_move:\n",
    "        break\n",
    "    answer+=1\n",
    "print(answer)"
   ]
  },
  {
   "cell_type": "code",
   "execution_count": null,
   "metadata": {},
   "outputs": [],
   "source": []
  }
 ],
 "metadata": {
  "kernelspec": {
   "display_name": "Python 3",
   "language": "python",
   "name": "python3"
  },
  "language_info": {
   "codemirror_mode": {
    "name": "ipython",
    "version": 3
   },
   "file_extension": ".py",
   "mimetype": "text/x-python",
   "name": "python",
   "nbconvert_exporter": "python",
   "pygments_lexer": "ipython3",
   "version": "3.7.4"
  }
 },
 "nbformat": 4,
 "nbformat_minor": 2
}
