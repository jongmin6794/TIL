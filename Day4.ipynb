{
 "cells": [
  {
   "cell_type": "code",
   "execution_count": 9,
   "metadata": {},
   "outputs": [
    {
     "name": "stdout",
     "output_type": "stream",
     "text": [
      "사먹는다\n"
     ]
    }
   ],
   "source": [
    "money = True\n",
    "if money:\n",
    "    print(\"사먹는다\")\n",
    "else:\n",
    "    print(\"...\")"
   ]
  },
  {
   "cell_type": "code",
   "execution_count": 10,
   "metadata": {},
   "outputs": [
    {
     "name": "stdout",
     "output_type": "stream",
     "text": [
      "택시를 탄다\n"
     ]
    }
   ],
   "source": [
    "money=5000\n",
    "card=True\n",
    "if money>=10000 or card:\n",
    "    print(\"택시를 탄다\")\n",
    "else:\n",
    "    print(\"버스를 탄다\")"
   ]
  },
  {
   "cell_type": "code",
   "execution_count": 16,
   "metadata": {},
   "outputs": [
    {
     "name": "stdout",
     "output_type": "stream",
     "text": [
      "1227365\n",
      "[1, 3, 5, 7, 9, 20, 31, 42, 53, 64, 75, 86, 97, 108, 110, 121, 132, 143, 154, 165, 176, 187, 198, 209, 211, 222, 233, 244, 255, 266, 277, 288, 299, 310, 312, 323, 334, 345, 356, 367, 378, 389, 400, 411, 413, 424, 435, 446, 457, 468, 479, 490, 501, 512, 514, 525, 536, 547, 558, 569, 580, 591, 602, 613, 615, 626, 637, 648, 659, 670, 681, 692, 703, 714, 716, 727, 738, 749, 760, 771, 782, 793, 804, 815, 817, 828, 839, 850, 861, 872, 883, 894, 905, 916, 918, 929, 940, 951, 962, 973, 984, 995, 1006, 1021, 1032, 1043, 1054, 1065, 1076, 1087, 1098, 1109, 1111, 1122, 1133, 1144, 1155, 1166, 1177, 1188, 1199, 1210, 1212, 1223, 1234, 1245, 1256, 1267, 1278, 1289, 1300, 1311, 1313, 1324, 1335, 1346, 1357, 1368, 1379, 1390, 1401, 1412, 1414, 1425, 1436, 1447, 1458, 1469, 1480, 1491, 1502, 1513, 1515, 1526, 1537, 1548, 1559, 1570, 1581, 1592, 1603, 1614, 1616, 1627, 1638, 1649, 1660, 1671, 1682, 1693, 1704, 1715, 1717, 1728, 1739, 1750, 1761, 1772, 1783, 1794, 1805, 1816, 1818, 1829, 1840, 1851, 1862, 1873, 1884, 1895, 1906, 1917, 1919, 1930, 1941, 1952, 1963, 1974, 1985, 1996, 2007, 2022, 2033, 2044, 2055, 2066, 2077, 2088, 2099, 2110, 2112, 2123, 2134, 2145, 2156, 2167, 2178, 2189, 2200, 2211, 2213, 2224, 2235, 2246, 2257, 2268, 2279, 2290, 2301, 2312, 2314, 2325, 2336, 2347, 2358, 2369, 2380, 2391, 2402, 2413, 2415, 2426, 2437, 2448, 2459, 2470, 2481, 2492, 2503, 2514, 2516, 2527, 2538, 2549, 2560, 2571, 2582, 2593, 2604, 2615, 2617, 2628, 2639, 2650, 2661, 2672, 2683, 2694, 2705, 2716, 2718, 2729, 2740, 2751, 2762, 2773, 2784, 2795, 2806, 2817, 2819, 2830, 2841, 2852, 2863, 2874, 2885, 2896, 2907, 2918, 2920, 2931, 2942, 2953, 2964, 2975, 2986, 2997, 3008, 3023, 3034, 3045, 3056, 3067, 3078, 3089, 3100, 3111, 3113, 3124, 3135, 3146, 3157, 3168, 3179, 3190, 3201, 3212, 3214, 3225, 3236, 3247, 3258, 3269, 3280, 3291, 3302, 3313, 3315, 3326, 3337, 3348, 3359, 3370, 3381, 3392, 3403, 3414, 3416, 3427, 3438, 3449, 3460, 3471, 3482, 3493, 3504, 3515, 3517, 3528, 3539, 3550, 3561, 3572, 3583, 3594, 3605, 3616, 3618, 3629, 3640, 3651, 3662, 3673, 3684, 3695, 3706, 3717, 3719, 3730, 3741, 3752, 3763, 3774, 3785, 3796, 3807, 3818, 3820, 3831, 3842, 3853, 3864, 3875, 3886, 3897, 3908, 3919, 3921, 3932, 3943, 3954, 3965, 3976, 3987, 3998, 4009, 4024, 4035, 4046, 4057, 4068, 4079, 4090, 4101, 4112, 4114, 4125, 4136, 4147, 4158, 4169, 4180, 4191, 4202, 4213, 4215, 4226, 4237, 4248, 4259, 4270, 4281, 4292, 4303, 4314, 4316, 4327, 4338, 4349, 4360, 4371, 4382, 4393, 4404, 4415, 4417, 4428, 4439, 4450, 4461, 4472, 4483, 4494, 4505, 4516, 4518, 4529, 4540, 4551, 4562, 4573, 4584, 4595, 4606, 4617, 4619, 4630, 4641, 4652, 4663, 4674, 4685, 4696, 4707, 4718, 4720, 4731, 4742, 4753, 4764, 4775, 4786, 4797, 4808, 4819, 4821, 4832, 4843, 4854, 4865, 4876, 4887, 4898, 4909, 4920, 4922, 4933, 4944, 4955, 4966, 4977, 4988, 4999]\n"
     ]
    }
   ],
   "source": [
    "plus_s = set()\n",
    "sn_s = 0\n",
    "second_s=set()\n",
    "\n",
    "for i in range(1,5001) :\n",
    "    b = 0\n",
    "    for j in str(i) :\n",
    "        b += int(j)\n",
    "    plus_s.add(b+i)\n",
    "\n",
    "for i in range(1,5001) :\n",
    "    if i not in plus_s:\n",
    "        sn_s += i\n",
    "        second_s.add(i)\n",
    "print(sn_s)\n",
    "second_s = list(second_s)\n",
    "second_s.sort()\n",
    "print(second_s)"
   ]
  },
  {
   "cell_type": "code",
   "execution_count": 17,
   "metadata": {},
   "outputs": [
    {
     "name": "stdout",
     "output_type": "stream",
     "text": [
      "참\n",
      "참\n"
     ]
    }
   ],
   "source": [
    "x=1\n",
    "y=2\n",
    "if x==1 and y==2:\n",
    "    print(\"참\")\n",
    "else:\n",
    "    print(\"거짓\")\n",
    "\n",
    "if x==1:\n",
    "    if y==2:\n",
    "        print(\"참\")\n",
    "    else:\n",
    "        print(\"거짓\")\n",
    "else:\n",
    "    print(\"거짓\")"
   ]
  },
  {
   "cell_type": "code",
   "execution_count": 19,
   "metadata": {},
   "outputs": [
    {
     "name": "stdout",
     "output_type": "stream",
     "text": [
      "20보다 작은 양수\n",
      "20보다 작은 양수\n"
     ]
    }
   ],
   "source": [
    "x=10\n",
    "if x>0 and x<20:\n",
    "    print(\"20보다 작은 양수\")\n",
    "if 0<x<20:\n",
    "    print(\"20보다 작은 양수\")"
   ]
  },
  {
   "cell_type": "code",
   "execution_count": 20,
   "metadata": {},
   "outputs": [
    {
     "name": "stdout",
     "output_type": "stream",
     "text": [
      "택시탄다\n"
     ]
    }
   ],
   "source": [
    "poc=['cp', 'paper']\n",
    "card=True\n",
    "if 'money' in poc:\n",
    "    print(\"택시탄다\")\n",
    "else  :\n",
    "    if card:#else if 그렇지 않고 만약에\n",
    "        print(\"택시탄다\")\n",
    "    else:\n",
    "        print(\"걸어간다\")"
   ]
  },
  {
   "cell_type": "code",
   "execution_count": 23,
   "metadata": {},
   "outputs": [
    {
     "name": "stdout",
     "output_type": "stream",
     "text": [
      "걸어간다\n"
     ]
    }
   ],
   "source": [
    "poc=['cp', 'paper']\n",
    "card=False\n",
    "if 'money' in poc:\n",
    "    print(\"택시탄다\")\n",
    "elif card: # else if 그렇지 않고 만약에\n",
    "    print(\"택시탄다\")\n",
    "else: \n",
    "    print(\"걸어간다\")"
   ]
  },
  {
   "cell_type": "code",
   "execution_count": 24,
   "metadata": {},
   "outputs": [
    {
     "name": "stdout",
     "output_type": "stream",
     "text": [
      "카드 사용\n",
      "카드 사용\n"
     ]
    }
   ],
   "source": [
    "if 'money' in poc:\n",
    "    pass\n",
    "else:\n",
    "    print(\"카드 사용\")\n",
    "if 'money' in poc:pass\n",
    "else:print(\"카드 사용\")"
   ]
  },
  {
   "cell_type": "code",
   "execution_count": 26,
   "metadata": {},
   "outputs": [
    {
     "name": "stdout",
     "output_type": "stream",
     "text": [
      "failure\n",
      "success\n"
     ]
    }
   ],
   "source": [
    "score=80\n",
    "if score <= 60:\n",
    "    msg=\"success\"\n",
    "else:\n",
    "    msg=\"failure\"\n",
    "print(msg)\n",
    "\n",
    "#한줄로 표현\n",
    "msg=\"success\" if score>=60 else \"failure\"\n",
    "print(msg)\n",
    "#조건이 참인경우 if 조건문 else 조건문이 거짓인 경우"
   ]
  },
  {
   "cell_type": "code",
   "execution_count": 35,
   "metadata": {},
   "outputs": [
    {
     "name": "stdout",
     "output_type": "stream",
     "text": [
      "hi\n",
      "hi\n",
      "hi\n",
      "hi\n",
      "hi\n",
      "hi\n",
      "hi\n",
      "hi\n",
      "hi\n",
      "반복 횟수 입력?3\n",
      "hello 3\n"
     ]
    }
   ],
   "source": [
    "# for 변수 in range(범위):\n",
    "#     반복코드\n",
    "for i in range(10, 1, -1):\n",
    "    print(\"hi\")\n",
    "    \n",
    "#에러 cnt=input(\"반복 횟수 입력?\")\n",
    "cnt=int(input(\"반복 횟수 입력?\")\n",
    "for i in range(cnt):\n",
    "    print(\"hello\", i)"
   ]
  },
  {
   "cell_type": "code",
   "execution_count": 37,
   "metadata": {},
   "outputs": [
    {
     "name": "stdout",
     "output_type": "stream",
     "text": [
      "p y t h o n n o h t y p "
     ]
    }
   ],
   "source": [
    "a=[1,2,3]\n",
    "a2=(1,2,3)\n",
    "a3=\"python\"\n",
    "for i in a3:\n",
    "    print(i, end=\" \")\n",
    "for i in reversed(a3):\n",
    "    print(i, end=\" \")"
   ]
  },
  {
   "cell_type": "code",
   "execution_count": 43,
   "metadata": {},
   "outputs": [
    {
     "name": "stdout",
     "output_type": "stream",
     "text": [
      "hi 20\n",
      "hi 19\n",
      "hi 18\n",
      "hi 17\n",
      "hi 16\n",
      "hi 15\n",
      "hi 14\n",
      "hi 13\n",
      "hi 12\n",
      "hi 11\n"
     ]
    }
   ],
   "source": [
    "# while 조건식:\n",
    "#       수행문장1\n",
    "#       수행문장2\n",
    "#       ...\n",
    "\n",
    "i=20\n",
    "while i>10: #i가 10보다 작단ㄴ 조건을 만족하는 동안에 \n",
    "    print(\"hi\", i)\n",
    "    i-=1"
   ]
  },
  {
   "cell_type": "code",
   "execution_count": 41,
   "metadata": {},
   "outputs": [],
   "source": [
    "prompt=\"\"\"\n",
    "1. add\n",
    "2. del\n",
    "3. list\n",
    "4. quit\n",
    "\n",
    "enter number: \"\"\""
   ]
  },
  {
   "cell_type": "code",
   "execution_count": 42,
   "metadata": {},
   "outputs": [
    {
     "name": "stdout",
     "output_type": "stream",
     "text": [
      "\n",
      "1. add\n",
      "2. del\n",
      "3. list\n",
      "4. quit\n",
      "\n",
      "enter number: \n"
     ]
    }
   ],
   "source": [
    "print(prompt)"
   ]
  },
  {
   "cell_type": "code",
   "execution_count": 45,
   "metadata": {},
   "outputs": [
    {
     "name": "stdout",
     "output_type": "stream",
     "text": [
      "\n",
      "1. add\n",
      "2. del\n",
      "3. list\n",
      "4. quit\n",
      "\n",
      "enter number: \n",
      "1\n",
      "\n",
      "1. add\n",
      "2. del\n",
      "3. list\n",
      "4. quit\n",
      "\n",
      "enter number: \n",
      "2\n",
      "\n",
      "1. add\n",
      "2. del\n",
      "3. list\n",
      "4. quit\n",
      "\n",
      "enter number: \n",
      "4\n"
     ]
    }
   ],
   "source": [
    "number = 0\n",
    "while number != 4:\n",
    "    print(prompt)\n",
    "    number=int(input())"
   ]
  },
  {
   "cell_type": "code",
   "execution_count": 50,
   "metadata": {},
   "outputs": [
    {
     "data": {
      "text/plain": [
       "0.8295878351920734"
      ]
     },
     "execution_count": 50,
     "metadata": {},
     "output_type": "execute_result"
    }
   ],
   "source": [
    "#난수(random number): 컴푸터 임의의 수\n",
    "#radom \n",
    "#모듈(파일):함수들의 묶음(.py.or .ipynb)\n",
    "#패키지(폴더): 모듈 또는 서브 패키지(하위 폴더)\n",
    "#난수(random number): 컴퓨터 임의의 수\n",
    "import random #rand 모듈(random.py)을 가져온다\n",
    "random.random()"
   ]
  },
  {
   "cell_type": "code",
   "execution_count": 44,
   "metadata": {},
   "outputs": [
    {
     "name": "stdout",
     "output_type": "stream",
     "text": [
      "16 27 22 6 35 42 \n",
      "[1, 2, 3, 4, 5, 7, 8, 9, 10, 11, 12, 13, 14, 15, 17, 18, 19, 20, 21, 23, 24, 25, 26, 28, 29, 30, 31, 32, 33, 34, 36, 37, 38, 39, 40, 41, 43, 44, 45]\n"
     ]
    }
   ],
   "source": [
    "import random\n",
    "random.random()\n",
    "\n",
    "lotto_list=list(range(1,46))\n",
    "pop_num=0 #pop 시켜줄때마다 증가시키는 변수\n",
    "lotto_list_num=0 #pop시켜주기 위한 요소 위치 나타내는 변수\n",
    "i=0\n",
    "while i!= 6:\n",
    "    lotto_list_num=lotto_list[random.randint(0,len(lotto_list)-pop_num)]\n",
    "    print(lotto_list.pop(lotto_list_num),end=\" \")# 로또번호 출력 겹침x\n",
    "    pop_num+=1\n",
    "    i+=1\n",
    "print()\n",
    "print(lotto_list)#테스트용 남은 로또번호 출력"
   ]
  },
  {
   "cell_type": "code",
   "execution_count": 32,
   "metadata": {},
   "outputs": [
    {
     "name": "stdout",
     "output_type": "stream",
     "text": [
      "4\n",
      "l\n",
      "19\n"
     ]
    }
   ],
   "source": [
    "# choice 함수는 choice(시퀀스형) 와 같은 형식\n",
    "# 무작위로 추출\n",
    "print(random.choice([1,2,3,4,5,6]))\n",
    "print(random.choice('hello'))\n",
    "print(random.choice(range(10,20)))\n"
   ]
  },
  {
   "cell_type": "code",
   "execution_count": 59,
   "metadata": {},
   "outputs": [
    {
     "name": "stdout",
     "output_type": "stream",
     "text": [
      "0\n",
      "1\n",
      "2\n",
      "3\n",
      "4\n",
      "5\n",
      "6\n",
      "7\n",
      "8\n",
      "9\n"
     ]
    }
   ],
   "source": [
    "# break, continue 문은 반복문에서 제어하는 역할\n",
    "# break : 반복문 종료\n",
    "# continue : 특정 반복 문장을 건너뛸때 사용\n",
    "i=0\n",
    "while True: # 무한 반복\n",
    "    print(i)\n",
    "    i+=1\n",
    "    if i==10:\n",
    "        break # while문을 종료\n",
    "    "
   ]
  },
  {
   "cell_type": "code",
   "execution_count": 60,
   "metadata": {},
   "outputs": [
    {
     "name": "stdout",
     "output_type": "stream",
     "text": [
      "0\n",
      "1\n",
      "2\n",
      "3\n",
      "4\n",
      "5\n",
      "6\n",
      "7\n",
      "8\n",
      "9\n"
     ]
    }
   ],
   "source": [
    "for i in range (100):\n",
    "    print(i)\n",
    "    if i==9:\n",
    "        break"
   ]
  },
  {
   "cell_type": "code",
   "execution_count": 61,
   "metadata": {},
   "outputs": [
    {
     "name": "stdout",
     "output_type": "stream",
     "text": [
      "1\n",
      "3\n",
      "5\n",
      "7\n",
      "9\n",
      "11\n",
      "13\n",
      "15\n",
      "17\n",
      "19\n",
      "21\n",
      "23\n",
      "25\n",
      "27\n",
      "29\n",
      "31\n",
      "33\n",
      "35\n",
      "37\n",
      "39\n",
      "41\n",
      "43\n",
      "45\n",
      "47\n",
      "49\n",
      "51\n",
      "53\n",
      "55\n",
      "57\n",
      "59\n",
      "61\n",
      "63\n",
      "65\n",
      "67\n",
      "69\n",
      "71\n",
      "73\n",
      "75\n",
      "77\n",
      "79\n",
      "81\n",
      "83\n",
      "85\n",
      "87\n",
      "89\n",
      "91\n",
      "93\n",
      "95\n",
      "97\n",
      "99\n"
     ]
    }
   ],
   "source": [
    "for i in range(100):\n",
    "    if i %2 ==0: #짝수\n",
    "        continue\n",
    "        #반복문의 시작위치로 이동,\n",
    "        #따라서 continue 아래에 있는 문장들은 출력되지 않는다.\n",
    "    print(i)"
   ]
  },
  {
   "cell_type": "code",
   "execution_count": 1,
   "metadata": {},
   "outputs": [
    {
     "name": "stdout",
     "output_type": "stream",
     "text": [
      "2\n",
      "4\n",
      "6\n",
      "8\n",
      "10\n",
      "12\n",
      "14\n",
      "16\n",
      "18\n",
      "20\n",
      "22\n",
      "24\n",
      "26\n",
      "28\n",
      "30\n",
      "32\n",
      "34\n",
      "36\n",
      "38\n",
      "40\n",
      "42\n",
      "44\n",
      "46\n",
      "48\n",
      "50\n",
      "52\n",
      "54\n",
      "56\n",
      "58\n",
      "60\n",
      "62\n",
      "64\n",
      "66\n",
      "68\n",
      "70\n",
      "72\n",
      "74\n",
      "76\n",
      "78\n",
      "80\n",
      "82\n",
      "84\n",
      "86\n",
      "88\n",
      "90\n",
      "92\n",
      "94\n",
      "96\n",
      "98\n",
      "100\n"
     ]
    }
   ],
   "source": [
    "i=0\n",
    "while True: # 무한 반복\n",
    "    i+=1\n",
    "    if i == 101:\n",
    "        break\n",
    "    if i %2 !=0:\n",
    "        continue\n",
    "    print(i)\n",
    "   \n",
    "        "
   ]
  },
  {
   "cell_type": "code",
   "execution_count": 93,
   "metadata": {},
   "outputs": [
    {
     "name": "stdout",
     "output_type": "stream",
     "text": [
      "커피가 나옵니다\n",
      "남은 커피는 9잔 입니다\n",
      "잔액은 900원 입니다.\n",
      "커피가 나옵니다\n",
      "남은 커피는 8잔 입니다\n",
      "잔액은 700원 입니다.\n",
      "커피가 나옵니다\n",
      "남은 커피는 7잔 입니다\n",
      "잔액은 500원 입니다.\n",
      "커피가 나옵니다\n",
      "남은 커피는 6잔 입니다\n",
      "잔액은 300원 입니다.\n",
      "커피가 나옵니다\n",
      "남은 커피는 5잔 입니다\n",
      "잔액은 100원 입니다.\n",
      "남은 잔액이 부족합니다. 판매중지\n"
     ]
    }
   ],
   "source": [
    "coffee = 10 # 10잔 커피, 1잔=200원\n",
    "money=1100 #5천원\n",
    "# 잔액이 200원 미만이면 판매가 안되도록\n",
    "while money>=200:\n",
    "    print(\"커피가 나옵니다\")\n",
    "    coffee=coffee-1\n",
    "    money=money-200\n",
    "    print(\"남은 커피는 %d잔 입니다\" % coffee)\n",
    "    print(\"잔액은 %d원 입니다.\"% money)\n",
    "    if coffee==0:\n",
    "        print(\"커피가 떨어졌습니다. 판매중지\")\n",
    "        break\n",
    "    if money < 200:\n",
    "        print(\"남은 잔액이 부족합니다. 판매중지\")"
   ]
  },
  {
   "cell_type": "code",
   "execution_count": 11,
   "metadata": {},
   "outputs": [
    {
     "name": "stdout",
     "output_type": "stream",
     "text": [
      "1\n",
      "2\n",
      "3\n",
      "4\n"
     ]
    }
   ],
   "source": [
    "a=[(1,2),(3,4)]\n",
    "for (data1, data2) in a:\n",
    "    print(data1)\n",
    "    print(data2)\n",
    "    "
   ]
  },
  {
   "cell_type": "code",
   "execution_count": 23,
   "metadata": {},
   "outputs": [
    {
     "name": "stdout",
     "output_type": "stream",
     "text": [
      "1 2 3 4 5 6 7 8 9 \n",
      "\n",
      "2 4 6 8 10 12 14 16 18 \n",
      "\n",
      "3 6 9 12 15 18 21 24 27 \n",
      "\n",
      "4 8 12 16 20 24 28 32 36 \n",
      "\n",
      "5 10 15 20 25 30 35 40 45 \n",
      "\n",
      "6 12 18 24 30 36 42 48 54 \n",
      "\n",
      "7 14 21 28 35 42 49 56 63 \n",
      "\n",
      "8 16 24 32 40 48 56 64 72 \n",
      "\n",
      "9 18 27 36 45 54 63 72 81 \n",
      "\n"
     ]
    }
   ],
   "source": [
    "#구구단 9단 출력\n",
    "i=1\n",
    "for i in range(1,10):\n",
    "    i=int(i)\n",
    "    for j in range(1,10):\n",
    "        print(i*j, end=\" \")\n",
    "    print(\"\\n\")"
   ]
  },
  {
   "cell_type": "code",
   "execution_count": 30,
   "metadata": {},
   "outputs": [
    {
     "name": "stdout",
     "output_type": "stream",
     "text": [
      "*\n",
      "**\n",
      "***\n",
      "****\n"
     ]
    }
   ],
   "source": [
    "for i in range(1,5):\n",
    "    for j in range(i):\n",
    "        print(\"*\",end=\"\")\n",
    "    print()"
   ]
  },
  {
   "cell_type": "code",
   "execution_count": 33,
   "metadata": {},
   "outputs": [
    {
     "name": "stdout",
     "output_type": "stream",
     "text": [
      "*\n",
      "**\n",
      "***\n",
      "****\n"
     ]
    }
   ],
   "source": [
    "for i in range(4):\n",
    "    for j in range(4):\n",
    "        if j<=i:\n",
    "            print(\"*\", end=\"\")\n",
    "#            break\n",
    "    print()"
   ]
  },
  {
   "cell_type": "code",
   "execution_count": 37,
   "metadata": {},
   "outputs": [
    {
     "name": "stdout",
     "output_type": "stream",
     "text": [
      "*\n",
      " *\n",
      "  *\n",
      "   *\n"
     ]
    }
   ],
   "source": [
    "for i in range(0,4):\n",
    "    for j in range(i):\n",
    "        print(\" \",end=\"\")\n",
    "    print(\"*\")"
   ]
  },
  {
   "cell_type": "code",
   "execution_count": 41,
   "metadata": {},
   "outputs": [
    {
     "name": "stdout",
     "output_type": "stream",
     "text": [
      "*   \n",
      " *  \n",
      "  * \n",
      "   *\n"
     ]
    }
   ],
   "source": [
    "for i in range(4):\n",
    "    for j in range(4):\n",
    "        if j==i:\n",
    "            print(\"*\", end=\"\")\n",
    "            \n",
    "        else:\n",
    "            print(\" \", end=\"\")\n",
    "#            break\n",
    "    print()"
   ]
  },
  {
   "cell_type": "code",
   "execution_count": 48,
   "metadata": {},
   "outputs": [
    {
     "name": "stdout",
     "output_type": "stream",
     "text": [
      "  *\n",
      " ***\n",
      "*****\n"
     ]
    }
   ],
   "source": [
    "#출력 \n",
    "#   *   \n",
    "#  ***\n",
    "# *****\n",
    "i=2\n",
    "for j in range(1,6,2):\n",
    "    print(\" \"*i+\"*\"*j)\n",
    "    i-=1"
   ]
  },
  {
   "cell_type": "code",
   "execution_count": 1,
   "metadata": {},
   "outputs": [
    {
     "name": "stdout",
     "output_type": "stream",
     "text": [
      "[4]\n"
     ]
    }
   ],
   "source": [
    "#리스트 내포\n",
    "#리스트 내부에 for문을 포함\n",
    "x=[1,2,3]\n",
    "#res=[]\n",
    "#for n in x:\n",
    "#    res.append(n*2)\n",
    "#print(res)\n",
    "\n",
    "#res=[n for n in x]\n",
    "# [표현식 for 변수 in 반복가능형 if 조건문]\n",
    "\n",
    "res=[ n*2 for n in x if n%2==0]\n",
    "print(res)"
   ]
  },
  {
   "cell_type": "raw",
   "metadata": {},
   "source": []
  },
  {
   "cell_type": "code",
   "execution_count": 2,
   "metadata": {},
   "outputs": [
    {
     "name": "stdout",
     "output_type": "stream",
     "text": [
      "[2, 4, 6, 8, 10, 12, 14, 16, 18, 3, 6, 9, 12, 15, 18, 21, 24, 27, 4, 8, 12, 16, 20, 24, 28, 32, 36, 5, 10, 15, 20, 25, 30, 35, 40, 45, 6, 12, 18, 24, 30, 36, 42, 48, 54, 7, 14, 21, 28, 35, 42, 49, 56, 63, 8, 16, 24, 32, 40, 48, 56, 64, 72, 9, 18, 27, 36, 45, 54, 63, 72, 81]\n"
     ]
    }
   ],
   "source": [
    "res=[y*x for y in range(2,10) for x in range(1,10)]\n",
    "print(res)\n",
    "# for y in range(2,10) 밖 for\n",
    "# for x in range(1,10) 안 for"
   ]
  },
  {
   "cell_type": "code",
   "execution_count": 76,
   "metadata": {},
   "outputs": [
    {
     "name": "stdout",
     "output_type": "stream",
     "text": [
      "[2, 1, 4, 5, 4, 3]\n",
      "( 3 , 4 )\n"
     ]
    }
   ],
   "source": [
    "# 문제 1\n",
    "s_list=[1,3,4,8,13,17,20]\n",
    "distance=0 #거리변수\n",
    "dis_list=[] #거리 변수 저장 리스트\n",
    "for i in range(0,len(s_list)-1):\n",
    "    if  s_list[i]-(s_list[i+1])< 0:\n",
    "        distance= -(s_list[i]-s_list[i+1])\n",
    "        dis_list.append(distance)\n",
    "    else:\n",
    "        dis_list.append(distance)\n",
    "#minimum=dis_list[0]\n",
    "print(dis_list)\n",
    "minimum=dis_list[0]\n",
    "for i in range(0,len(dis_list)):\n",
    "    if minimum > dis_list[i]:\n",
    "        minimum = dis_list[i]\n",
    "for i in range(0,len(dis_list)):\n",
    "    if dis_list[i]==minimum:\n",
    "        print('(',s_list[i],',',s_list[i+1],')')\n",
    "#print(minimum)\n",
    "#print(dis_list.index(minimum))\n",
    "#print(dis_list.index())"
   ]
  },
  {
   "cell_type": "code",
   "execution_count": 134,
   "metadata": {},
   "outputs": [
    {
     "name": "stdout",
     "output_type": "stream",
     "text": [
      "2 6\n",
      "3\n",
      "{'권종표', '이유덕', '김지완', '박영서', '이재영', '최승혁', '송정환', '강상희', '이성연', '전경헌', '김재성', '박민호'}\n"
     ]
    }
   ],
   "source": [
    "# 문제2 \n",
    "names='이유덕,이재영,권종표,이재영,박민호,강상희,이재영,김지완,최승혁,이성연,박영서,박민호,전경헌,송정환,김재성,이유덕,전경헌'\n",
    "names_list=[]\n",
    "names_list=list(names.split(','))\n",
    "count_Kim=0\n",
    "count_Lee=0\n",
    "for i in range(0,len(names_list)):\n",
    "    if names_list[i][0]=='김':\n",
    "        count_Kim+=1\n",
    "    elif names_list[i][0]=='이':\n",
    "        count_Lee+=1\n",
    "print(count_Kim, count_Lee)\n",
    "print(data_list.count('이재영'))\n",
    "names_set=set(names_list)\n",
    "print(names_set)"
   ]
  },
  {
   "cell_type": "code",
   "execution_count": 150,
   "metadata": {
    "scrolled": true
   },
   "outputs": [
    {
     "name": "stdout",
     "output_type": "stream",
     "text": [
      "233168\n",
      "233168\n",
      "166833\n",
      "166833\n",
      "99500\n",
      "99500\n",
      "33165\n",
      "33165\n"
     ]
    }
   ],
   "source": [
    "# 문제 3\n",
    "total_three=0\n",
    "threeList=[]\n",
    "total_five=0\n",
    "fiveList=[]\n",
    "total_fifteen=0\n",
    "fifteenList=[]\n",
    "for i in range(3,1000,3):\n",
    "#    print(i)\n",
    "    total_three=total_three+(i)\n",
    "    threeList.append(i)\n",
    "#print(threeList)\n",
    "for i in range(5,1000,5):\n",
    "#    print(i)\n",
    "    total_five=total_five+(i)\n",
    "    fiveList.append(i)\n",
    "#print(fiveList)\n",
    "for i in range(15,1000,15):\n",
    "#    print(i)\n",
    "    total_fifteen=total_fifteen+(i)\n",
    "    fifteenList.append(i)\n",
    "#print(fifteenList)\n",
    "print(sum(threeList)+sum(fiveList)-sum(fifteenList))\n",
    "print(total_three+total_five-total_fifteen)\n",
    "#print(sum(threeList))\n",
    "#print(total_three)\n",
    "#print(sum(fiveList))\n",
    "#print(total_five)\n",
    "#print(sum(fifteenList))\n",
    "#print(total_fifteen)"
   ]
  },
  {
   "cell_type": "code",
   "execution_count": null,
   "metadata": {},
   "outputs": [],
   "source": []
  },
  {
   "cell_type": "code",
   "execution_count": 11,
   "metadata": {},
   "outputs": [
    {
     "name": "stdout",
     "output_type": "stream",
     "text": [
      "문자열입력 :aaaabbbccccccaaa\n",
      "a4b3c6a3\n"
     ]
    }
   ],
   "source": [
    "#문제 6\n",
    "#strInput='aaabbcccccca'\n",
    "strInput=input(\"문자열입력 :\")\n",
    "x_str=\"\" #비교문자 변수\n",
    "x_str=strInput[0]\n",
    "i=1\n",
    "count=0\n",
    "while i<len(strInput):\n",
    "    if x_str != strInput[i]:\n",
    "        print(x_str,count+1, sep=\"\", end=\"\")\n",
    "        x_str=strInput[i]\n",
    "        i+=1\n",
    "        count=0\n",
    "        continue\n",
    "    else:\n",
    "       # print(strInput[i])\n",
    "        count+=1\n",
    "        i+=1\n",
    "if i==len(strInput):\n",
    "    print(x_str,count+1, sep=\"\")\n"
   ]
  },
  {
   "cell_type": "code",
   "execution_count": 83,
   "metadata": {},
   "outputs": [
    {
     "name": "stdout",
     "output_type": "stream",
     "text": [
      "문자열입력 :0123456789 01234 01234567890 6789012345 012322456789\n",
      "[True, False, False, True, False]\n"
     ]
    }
   ],
   "source": [
    "# 문제5\n",
    "#inputData=\"0123456789 01234 01234567890 6789012345 012322456789\"\n",
    "inputData=input(\"문자열입력 :\")\n",
    "inputData = inputData.split(\" \")\n",
    "BoolList=[]\n",
    "for i in range(len(inputData)):\n",
    "    BoolList.append(0)\n",
    "for i in range(0,len(inputData)):\n",
    "    for x in range(0,10):\n",
    "        x=str(x)\n",
    "        if str(x) not in inputData[i]:\n",
    "            BoolList[i]=False\n",
    "            break\n",
    "        if inputData[i].count(x)>1:\n",
    "            BoolList[i]=False\n",
    "            break\n",
    "        else :\n",
    "            BoolList[i]=True\n",
    "print(BoolList)"
   ]
  },
  {
   "cell_type": "code",
   "execution_count": 1,
   "metadata": {},
   "outputs": [
    {
     "name": "stdout",
     "output_type": "stream",
     "text": [
      "[]\n",
      "[1]\n",
      "[1, 1]\n",
      "[1, 1, 1, 2]\n",
      "[1, 1, 1, 2, 1]\n",
      "[1, 1, 1, 2, 1, 1, 2, 3]\n",
      "[1, 1, 1, 2, 1, 1, 2, 3, 1]\n",
      "[1, 1, 1, 2, 1, 1, 2, 3, 1, 1, 2, 4]\n",
      "[1, 1, 1, 2, 1, 1, 2, 3, 1, 1, 2, 4, 1, 3]\n",
      "[1, 1, 1, 2, 1, 1, 2, 3, 1, 1, 2, 4, 1, 3, 1, 2, 5]\n",
      "[1, 1, 1, 2, 1, 1, 2, 3, 1, 1, 2, 4, 1, 3, 1, 2, 5, 1]\n",
      "[1, 1, 1, 2, 1, 1, 2, 3, 1, 1, 2, 4, 1, 3, 1, 2, 5, 1, 1, 2, 3, 4, 6]\n",
      "[1, 1, 1, 2, 1, 1, 2, 3, 1, 1, 2, 4, 1, 3, 1, 2, 5, 1, 1, 2, 3, 4, 6, 1]\n",
      "[1, 1, 1, 2, 1, 1, 2, 3, 1, 1, 2, 4, 1, 3, 1, 2, 5, 1, 1, 2, 3, 4, 6, 1, 1, 2, 7]\n",
      "[1, 1, 1, 2, 1, 1, 2, 3, 1, 1, 2, 4, 1, 3, 1, 2, 5, 1, 1, 2, 3, 4, 6, 1, 1, 2, 7, 1, 3, 5]\n",
      "[1, 1, 1, 2, 1, 1, 2, 3, 1, 1, 2, 4, 1, 3, 1, 2, 5, 1, 1, 2, 3, 4, 6, 1, 1, 2, 7, 1, 3, 5, 1, 2, 4, 8]\n",
      "[1, 1, 1, 2, 1, 1, 2, 3, 1, 1, 2, 4, 1, 3, 1, 2, 5, 1, 1, 2, 3, 4, 6, 1, 1, 2, 7, 1, 3, 5, 1, 2, 4, 8, 1]\n",
      "[1, 1, 1, 2, 1, 1, 2, 3, 1, 1, 2, 4, 1, 3, 1, 2, 5, 1, 1, 2, 3, 4, 6, 1, 1, 2, 7, 1, 3, 5, 1, 2, 4, 8, 1, 1, 2, 3, 6, 9]\n",
      "[1, 1, 1, 2, 1, 1, 2, 3, 1, 1, 2, 4, 1, 3, 1, 2, 5, 1, 1, 2, 3, 4, 6, 1, 1, 2, 7, 1, 3, 5, 1, 2, 4, 8, 1, 1, 2, 3, 6, 9, 1]\n",
      "[1, 1, 1, 2, 1, 1, 2, 3, 1, 1, 2, 4, 1, 3, 1, 2, 5, 1, 1, 2, 3, 4, 6, 1, 1, 2, 7, 1, 3, 5, 1, 2, 4, 8, 1, 1, 2, 3, 6, 9, 1, 1, 2, 4, 5, 10]\n",
      "[1, 1, 1, 2, 1, 1, 2, 3, 1, 1, 2, 4, 1, 3, 1, 2, 5, 1, 1, 2, 3, 4, 6, 1, 1, 2, 7, 1, 3, 5, 1, 2, 4, 8, 1, 1, 2, 3, 6, 9, 1, 1, 2, 4, 5, 10, 1, 3, 7]\n",
      "[1, 1, 1, 2, 1, 1, 2, 3, 1, 1, 2, 4, 1, 3, 1, 2, 5, 1, 1, 2, 3, 4, 6, 1, 1, 2, 7, 1, 3, 5, 1, 2, 4, 8, 1, 1, 2, 3, 6, 9, 1, 1, 2, 4, 5, 10, 1, 3, 7, 1, 2, 11]\n",
      "[1, 1, 1, 2, 1, 1, 2, 3, 1, 1, 2, 4, 1, 3, 1, 2, 5, 1, 1, 2, 3, 4, 6, 1, 1, 2, 7, 1, 3, 5, 1, 2, 4, 8, 1, 1, 2, 3, 6, 9, 1, 1, 2, 4, 5, 10, 1, 3, 7, 1, 2, 11, 1]\n",
      "[1, 1, 1, 2, 1, 1, 2, 3, 1, 1, 2, 4, 1, 3, 1, 2, 5, 1, 1, 2, 3, 4, 6, 1, 1, 2, 7, 1, 3, 5, 1, 2, 4, 8, 1, 1, 2, 3, 6, 9, 1, 1, 2, 4, 5, 10, 1, 3, 7, 1, 2, 11, 1, 1, 2, 3, 4, 6, 8, 12]\n",
      "[1, 1, 1, 2, 1, 1, 2, 3, 1, 1, 2, 4, 1, 3, 1, 2, 5, 1, 1, 2, 3, 4, 6, 1, 1, 2, 7, 1, 3, 5, 1, 2, 4, 8, 1, 1, 2, 3, 6, 9, 1, 1, 2, 4, 5, 10, 1, 3, 7, 1, 2, 11, 1, 1, 2, 3, 4, 6, 8, 12, 1, 5]\n",
      "[1, 1, 1, 2, 1, 1, 2, 3, 1, 1, 2, 4, 1, 3, 1, 2, 5, 1, 1, 2, 3, 4, 6, 1, 1, 2, 7, 1, 3, 5, 1, 2, 4, 8, 1, 1, 2, 3, 6, 9, 1, 1, 2, 4, 5, 10, 1, 3, 7, 1, 2, 11, 1, 1, 2, 3, 4, 6, 8, 12, 1, 5, 1, 2, 13]\n",
      "[1, 1, 1, 2, 1, 1, 2, 3, 1, 1, 2, 4, 1, 3, 1, 2, 5, 1, 1, 2, 3, 4, 6, 1, 1, 2, 7, 1, 3, 5, 1, 2, 4, 8, 1, 1, 2, 3, 6, 9, 1, 1, 2, 4, 5, 10, 1, 3, 7, 1, 2, 11, 1, 1, 2, 3, 4, 6, 8, 12, 1, 5, 1, 2, 13, 1, 3, 9]\n",
      "[1, 1, 1, 2, 1, 1, 2, 3, 1, 1, 2, 4, 1, 3, 1, 2, 5, 1, 1, 2, 3, 4, 6, 1, 1, 2, 7, 1, 3, 5, 1, 2, 4, 8, 1, 1, 2, 3, 6, 9, 1, 1, 2, 4, 5, 10, 1, 3, 7, 1, 2, 11, 1, 1, 2, 3, 4, 6, 8, 12, 1, 5, 1, 2, 13, 1, 3, 9, 1, 2, 4, 7, 14]\n",
      "[1, 1, 1, 2, 1, 1, 2, 3, 1, 1, 2, 4, 1, 3, 1, 2, 5, 1, 1, 2, 3, 4, 6, 1, 1, 2, 7, 1, 3, 5, 1, 2, 4, 8, 1, 1, 2, 3, 6, 9, 1, 1, 2, 4, 5, 10, 1, 3, 7, 1, 2, 11, 1, 1, 2, 3, 4, 6, 8, 12, 1, 5, 1, 2, 13, 1, 3, 9, 1, 2, 4, 7, 14, 1]\n",
      "[1, 1, 1, 2, 1, 1, 2, 3, 1, 1, 2, 4, 1, 3, 1, 2, 5, 1, 1, 2, 3, 4, 6, 1, 1, 2, 7, 1, 3, 5, 1, 2, 4, 8, 1, 1, 2, 3, 6, 9, 1, 1, 2, 4, 5, 10, 1, 3, 7, 1, 2, 11, 1, 1, 2, 3, 4, 6, 8, 12, 1, 5, 1, 2, 13, 1, 3, 9, 1, 2, 4, 7, 14, 1, 1, 2, 3, 5, 6, 10, 15]\n"
     ]
    }
   ],
   "source": [
    "# 문제 4\n",
    "n=30 #입력 데이터\n",
    "miniList=[]\n",
    "for i in range(1,n+1):\n",
    "    for j in range(1,i+1):\n",
    "        if i//2==j:\n",
    "            miniList.append(j)\n",
    "            if sum(miniList) == \n",
    "            break\n",
    "        elif i%j==0:\n",
    "            miniList.append(j)\n",
    "    print(miniList)\n",
    "            "
   ]
  },
  {
   "cell_type": "code",
   "execution_count": 25,
   "metadata": {},
   "outputs": [
    {
     "data": {
      "text/plain": [
       "1"
      ]
     },
     "execution_count": 25,
     "metadata": {},
     "output_type": "execute_result"
    }
   ],
   "source": [
    "6%5"
   ]
  },
  {
   "cell_type": "code",
   "execution_count": null,
   "metadata": {},
   "outputs": [],
   "source": []
  }
 ],
 "metadata": {
  "kernelspec": {
   "display_name": "Python 3",
   "language": "python",
   "name": "python3"
  },
  "language_info": {
   "codemirror_mode": {
    "name": "ipython",
    "version": 3
   },
   "file_extension": ".py",
   "mimetype": "text/x-python",
   "name": "python",
   "nbconvert_exporter": "python",
   "pygments_lexer": "ipython3",
   "version": "3.7.4"
  }
 },
 "nbformat": 4,
 "nbformat_minor": 2
}
