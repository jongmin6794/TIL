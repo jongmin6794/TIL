{
 "cells": [
  {
   "cell_type": "code",
   "execution_count": null,
   "metadata": {},
   "outputs": [],
   "source": [
    "N,M,x,y,k=map(int,input().split())\n",
    "arr=[list(map(int,input().split())) for i in range(N)]\n",
    "klist=list(map(int, input().split()))"
   ]
  },
  {
   "cell_type": "code",
   "execution_count": 53,
   "metadata": {},
   "outputs": [
    {
     "data": {
      "text/plain": [
       "[[1, 2], [3, 4], [5, 6], [7, 8]]"
      ]
     },
     "execution_count": 53,
     "metadata": {},
     "output_type": "execute_result"
    }
   ],
   "source": [
    "\"\"\"\n",
    "4 2 0 0 8\n",
    "0 2\n",
    "3 4\n",
    "5 6\n",
    "7 8\n",
    "4 4 4 1 3 3 3 2\n",
    "\"\"\""
   ]
  },
  {
   "cell_type": "code",
   "execution_count": 66,
   "metadata": {},
   "outputs": [
    {
     "name": "stdout",
     "output_type": "stream",
     "text": [
      "0\n",
      "0\n",
      "0\n",
      "6\n",
      "0\n",
      "8\n",
      "0\n",
      "2\n",
      "0\n",
      "0\n",
      "0\n",
      "0\n",
      "0\n",
      "0\n",
      "0\n",
      "0\n"
     ]
    }
   ],
   "source": [
    "import copy\n",
    "ju=[0,0,0,0,0,0]\n",
    "juTemp=[0,0,0,0,0,0]\n",
    "        \n",
    "def moveJu(d):\n",
    "    global ju,juTemp\n",
    "    if d==1:\n",
    "        juTemp[0]=ju[1]\n",
    "        juTemp[1]=ju[2]\n",
    "        juTemp[2]=ju[3]\n",
    "        juTemp[3]=ju[0]\n",
    "        juTemp[4]=ju[4]\n",
    "        juTemp[5]=ju[5]\n",
    "        ju=copy.deepcopy(juTemp)\n",
    "        \n",
    "    elif d==2:\n",
    "        juTemp[0]=ju[3]\n",
    "        juTemp[1]=ju[0]\n",
    "        juTemp[2]=ju[1]\n",
    "        juTemp[3]=ju[2]\n",
    "        juTemp[4]=ju[4]\n",
    "        juTemp[5]=ju[5]\n",
    "        ju=copy.deepcopy(juTemp)\n",
    "        \n",
    "    elif d==3:\n",
    "        juTemp[0]=ju[0]\n",
    "        juTemp[1]=ju[4]\n",
    "        juTemp[2]=ju[2]\n",
    "        juTemp[3]=ju[5]\n",
    "        juTemp[4]=ju[3]\n",
    "        juTemp[5]=ju[1]\n",
    "        ju=copy.deepcopy(juTemp)\n",
    "        \n",
    "    elif d==4:\n",
    "        juTemp[0]=ju[0]\n",
    "        juTemp[1]=ju[5]\n",
    "        juTemp[2]=ju[2]\n",
    "        juTemp[3]=ju[4]\n",
    "        juTemp[4]=ju[1]\n",
    "        juTemp[5]=ju[3]\n",
    "        ju=copy.deepcopy(juTemp)\n",
    "    print(juTemp[3])\n",
    "\n",
    "def changeN():\n",
    "    if arr[x][y]!=0:\n",
    "        ju[1]=arr[x][y]\n",
    "        arr[x][y]=0\n",
    "    else:\n",
    "        arr[x][y]=ju[1]\n",
    "\n",
    "for i in range(k):\n",
    "    if klist[i]==1:\n",
    "        if y+1<M:\n",
    "            changeN()\n",
    "            y = y + 1\n",
    "            moveJu(klist[i])\n",
    "            \n",
    "    elif klist[i]==2:\n",
    "        if y-1>=0:\n",
    "            changeN()\n",
    "            y = y - 1\n",
    "            moveJu(klist[i])\n",
    "            \n",
    "    elif klist[i]==3:\n",
    "        if x-1>=0:\n",
    "            changeN()\n",
    "            x = x - 1\n",
    "            moveJu(klist[i])\n",
    "            \n",
    "    elif klist[i]==4:\n",
    "        if x+1<N:\n",
    "            changeN()\n",
    "            x = x + 1\n",
    "            moveJu(klist[i])\n",
    "            "
   ]
  },
  {
   "cell_type": "code",
   "execution_count": 42,
   "metadata": {},
   "outputs": [],
   "source": [
    "for i in range(k):\n",
    "    if arr[x][y] != 0:\n",
    "        ju[1] = arr[x][y]\n",
    "        arr[x][y] = 0\n",
    "        if klist[i] == 1:\n",
    "            if y+1<M:\n",
    "                y = y + 1\n",
    "                moveJu(klist[i])\n",
    "        elif klist[i] == 2:\n",
    "            if y-1>=0:\n",
    "                y = y - 1\n",
    "                moveJu(klist[i])\n",
    "        elif klist[i] == 3:\n",
    "            if x-1>=0:\n",
    "                x = x - 1\n",
    "                moveJu(klist[i])\n",
    "        elif klist[i] == 4:\n",
    "            if x+1<N:\n",
    "                x = x + 1\n",
    "                moveJu(klist[i])\n",
    "    else:\n",
    "        arr[x][y] = ju[1]\n",
    "        if klist[i] == 1:\n",
    "            if y+1<M:\n",
    "                y = y + 1\n",
    "                moveJu(klist[i])\n",
    "        elif klist[i] == 2:\n",
    "            if y-1>=0:\n",
    "                y = y - 1\n",
    "                moveJu(klist[i])\n",
    "        elif klist[i] == 3:\n",
    "            if x-1>=0:\n",
    "                x = x - 1\n",
    "                moveJu(klist[i])\n",
    "        elif klist[i] == 4:\n",
    "            if x+1<N:\n",
    "                x = x + 1\n",
    "                moveJu(klist[i])"
   ]
  },
  {
   "cell_type": "code",
   "execution_count": 43,
   "metadata": {},
   "outputs": [],
   "source": []
  },
  {
   "cell_type": "code",
   "execution_count": 44,
   "metadata": {},
   "outputs": [
    {
     "data": {
      "text/plain": [
       "[4, 1, 2, 3, 4, 5]"
      ]
     },
     "execution_count": 44,
     "metadata": {},
     "output_type": "execute_result"
    }
   ],
   "source": []
  },
  {
   "cell_type": "code",
   "execution_count": 45,
   "metadata": {},
   "outputs": [],
   "source": [
    "ju=copy.deepcopy(juTemp)"
   ]
  },
  {
   "cell_type": "code",
   "execution_count": 46,
   "metadata": {},
   "outputs": [
    {
     "data": {
      "text/plain": [
       "[4, 1, 2, 3, 4, 5]"
      ]
     },
     "execution_count": 46,
     "metadata": {},
     "output_type": "execute_result"
    }
   ],
   "source": [
    "ju"
   ]
  },
  {
   "cell_type": "code",
   "execution_count": 47,
   "metadata": {},
   "outputs": [],
   "source": [
    "juTemp[1]=ju[5]"
   ]
  },
  {
   "cell_type": "code",
   "execution_count": 48,
   "metadata": {},
   "outputs": [
    {
     "data": {
      "text/plain": [
       "[4, 5, 2, 3, 4, 5]"
      ]
     },
     "execution_count": 48,
     "metadata": {},
     "output_type": "execute_result"
    }
   ],
   "source": [
    "juTemp"
   ]
  },
  {
   "cell_type": "code",
   "execution_count": 41,
   "metadata": {},
   "outputs": [
    {
     "data": {
      "text/plain": [
       "[4, 0, 0, 0, 0, 0]"
      ]
     },
     "execution_count": 41,
     "metadata": {},
     "output_type": "execute_result"
    }
   ],
   "source": [
    "ju"
   ]
  },
  {
   "cell_type": "code",
   "execution_count": null,
   "metadata": {},
   "outputs": [],
   "source": []
  }
 ],
 "metadata": {
  "kernelspec": {
   "display_name": "Python 3",
   "language": "python",
   "name": "python3"
  }
 },
 "nbformat": 4,
 "nbformat_minor": 2
}
