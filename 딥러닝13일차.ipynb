{
 "cells": [
  {
   "cell_type": "code",
   "execution_count": 1,
   "metadata": {},
   "outputs": [],
   "source": [
    "import tensorflow as tf"
   ]
  },
  {
   "cell_type": "code",
   "execution_count": 2,
   "metadata": {},
   "outputs": [],
   "source": [
    "a=tf.placeholder(\"float\")\n",
    "b=tf.placeholder(\"float\")\n",
    "#플레이스홀더:프로그램 실행 중에 값을 변경할\n",
    "#수 있는 변수를 2개 정의\n",
    "#데이터를 담는 버퍼와 같은 것\n"
   ]
  },
  {
   "cell_type": "code",
   "execution_count": 3,
   "metadata": {},
   "outputs": [
    {
     "name": "stdout",
     "output_type": "stream",
     "text": [
      "6.0\n"
     ]
    }
   ],
   "source": [
    "y=tf.multiply(a,b)\n",
    "sess=tf.Session() \n",
    "#그래프 실행을 위해서는 세션이 필요\n",
    "print(sess.run(y,feed_dict={a:3,b:2}))\n",
    "#y노드를 실행해라"
   ]
  },
  {
   "cell_type": "code",
   "execution_count": 4,
   "metadata": {},
   "outputs": [
    {
     "ename": "NameError",
     "evalue": "name 'tensorflow' is not defined",
     "output_type": "error",
     "traceback": [
      "\u001b[1;31m---------------------------------------------------------------------------\u001b[0m",
      "\u001b[1;31mNameError\u001b[0m                                 Traceback (most recent call last)",
      "\u001b[1;32m<ipython-input-4-4ec73558eb94>\u001b[0m in \u001b[0;36m<module>\u001b[1;34m\u001b[0m\n\u001b[1;32m----> 1\u001b[1;33m \u001b[0mtensorflow\u001b[0m\u001b[1;33m.\u001b[0m\u001b[0morg\u001b[0m\u001b[1;33m\u001b[0m\u001b[1;33m\u001b[0m\u001b[0m\n\u001b[0m",
      "\u001b[1;31mNameError\u001b[0m: name 'tensorflow' is not defined"
     ]
    }
   ],
   "source": [
    "tensorflow.org\n"
   ]
  },
  {
   "cell_type": "code",
   "execution_count": 5,
   "metadata": {},
   "outputs": [
    {
     "name": "stdout",
     "output_type": "stream",
     "text": [
      "b'Hello'\n"
     ]
    }
   ],
   "source": [
    "hello=tf.constant(\"Hello\")\n",
    "sess=tf.Session()\n",
    "print(sess.run(hello))"
   ]
  },
  {
   "cell_type": "code",
   "execution_count": 6,
   "metadata": {},
   "outputs": [
    {
     "data": {
      "text/plain": [
       "[[[1, 2, 3]], [[4, 5, 6]]]"
      ]
     },
     "execution_count": 6,
     "metadata": {},
     "output_type": "execute_result"
    }
   ],
   "source": [
    "3 #랭크:0 tensor, shape:[]\n",
    "[1,2,3] #랭크:1,  shape:[3]\n",
    "[[1,2,3],[1,2,3]] #랭크:2, shape:[2,3]\n",
    "[[[1,2,3]],[[4,5,6]]]\n",
    "#랭크:3, shape:[2,1,3]"
   ]
  },
  {
   "cell_type": "code",
   "execution_count": 7,
   "metadata": {},
   "outputs": [
    {
     "name": "stdout",
     "output_type": "stream",
     "text": [
      "10\n",
      "20\n",
      "[10, 20]\n"
     ]
    }
   ],
   "source": [
    "a=tf.constant(10)\n",
    "b=tf.constant(20)\n",
    "sess=tf.Session()\n",
    "#print(sess.run(tf.add(a,b)))\n",
    "c=tf.add(a,b)\n",
    "#print(sess.run(c))\n",
    "#print(c)\n",
    "print(sess.run(a))\n",
    "print(sess.run(b))\n",
    "print(sess.run([a,b]))\n",
    "sess.close()"
   ]
  },
  {
   "cell_type": "code",
   "execution_count": 8,
   "metadata": {},
   "outputs": [
    {
     "name": "stdout",
     "output_type": "stream",
     "text": [
      "[8. 3.]\n"
     ]
    }
   ],
   "source": [
    "a=tf.placeholder(tf.float32)\n",
    "b=tf.placeholder(tf.float32)\n",
    "adderNode=a+b\n",
    "sess=tf.Session()\n",
    "print(sess.run(adderNode, feed_dict={a:[5,1],b:[3,2]}))\n",
    "# print(sess.run(adderNode, feed_dict={a:1,b:2}))"
   ]
  },
  {
   "cell_type": "code",
   "execution_count": 9,
   "metadata": {},
   "outputs": [
    {
     "name": "stdout",
     "output_type": "stream",
     "text": [
      "15.0\n"
     ]
    }
   ],
   "source": [
    "# a=2, b=3\n",
    "# =>5 * 3 => 15가 출력되도록 노드 정의\n",
    "triple=adderNode*3 #구현\n",
    "print(sess.run(triple,feed_dict={a:2, b:3}))\n",
    "\n"
   ]
  },
  {
   "cell_type": "code",
   "execution_count": 10,
   "metadata": {},
   "outputs": [
    {
     "name": "stdout",
     "output_type": "stream",
     "text": [
      "[[1. 2. 3.]\n",
      " [4. 5. 6.]]\n"
     ]
    }
   ],
   "source": [
    "x=tf.placeholder(tf.float32,[None,3])\n",
    "#print(x)\n",
    "xdata=[[1,2,3],[4,5,6]]\n",
    "#xdata2=[[1,2,3,4],[4,5,4,5]] 에러\n",
    "print(sess.run(x, feed_dict={x:xdata}))\n",
    "#print(sess.run(x, feed_dict={x:xdata2}))"
   ]
  },
  {
   "cell_type": "code",
   "execution_count": 11,
   "metadata": {},
   "outputs": [],
   "source": [
    "#H(x)=wx+b\n",
    "#w=tf.Variable(tf.random_normal([2,1]))\n",
    "w=tf.Variable([[1],[2]])\n",
    "#hf=tf.matmul(x,w)+b"
   ]
  },
  {
   "cell_type": "code",
   "execution_count": 12,
   "metadata": {},
   "outputs": [
    {
     "name": "stdout",
     "output_type": "stream",
     "text": [
      "[[3.1124315]\n",
      " [6.8435454]]\n"
     ]
    }
   ],
   "source": [
    "xdata=[[1,2,3], #2행 3열(국어,영어,수학)\n",
    "      [4,5,6]]\n",
    "x=tf.placeholder(tf.float32, [None,3])\n",
    "w=tf.Variable(\n",
    "    tf.random_normal([3,1]))#각 과목 가중치\n",
    "b=tf.Variable(\n",
    "    tf.random_normal([1])) #편향\n",
    "hf=tf.matmul(x,w)+b\n",
    "sess=tf.Session()\n",
    "# hf=xw+b\n",
    "# hf실행\n",
    "sess.run(tf.global_variables_initializer())\n",
    "print(sess.run(hf,feed_dict={x:xdata}))\n",
    "#x shape=>(2,3) * (3,1) => (2,1)\n",
    "#w shape =>?"
   ]
  },
  {
   "cell_type": "code",
   "execution_count": 13,
   "metadata": {},
   "outputs": [],
   "source": [
    "#선형 회귀 모델"
   ]
  },
  {
   "cell_type": "code",
   "execution_count": 144,
   "metadata": {},
   "outputs": [],
   "source": [
    "xtrain=[80, 95, 97] #모의고사 점수(3명)\n",
    "ytrain=[82, 90, 98] #수능점수(3명)\n",
    "#모의고사 70점 -> 수능?\n",
    "#hf= x*w+b\n",
    "#82=80*1+2\n",
    "#90=95*0.9+1"
   ]
  },
  {
   "cell_type": "code",
   "execution_count": 145,
   "metadata": {},
   "outputs": [],
   "source": [
    "w=tf.Variable(tf.random_normal([1]))\n",
    "b=tf.Variable(tf.random_normal([1]))"
   ]
  },
  {
   "cell_type": "code",
   "execution_count": 146,
   "metadata": {},
   "outputs": [],
   "source": [
    "hf=xtrain*w+b"
   ]
  },
  {
   "cell_type": "code",
   "execution_count": 147,
   "metadata": {},
   "outputs": [],
   "source": [
    "sess=tf.Session()\n",
    "sess.run(tf.global_variables_initializer())"
   ]
  },
  {
   "cell_type": "code",
   "execution_count": 148,
   "metadata": {},
   "outputs": [
    {
     "name": "stdout",
     "output_type": "stream",
     "text": [
      "[array([-1.0412021], dtype=float32), array([-1.1127023], dtype=float32), array([ -84.40887, -100.0269 , -102.1093 ], dtype=float32)]\n"
     ]
    }
   ],
   "source": [
    "print(sess.run([w,b,hf]))#[80, 95, 97]\n",
    "#w=-0.35, b=0.49\n",
    "#hf(예상)=[-27,-33,-33]    hf=xtrain*w+b\n",
    "    #정답=[82, 90, 98]\n",
    "#cost=((-27-82)^2+(-33-80)^2+(-33-98)^2))/3\n",
    "#cost함수 미분 -> w, b업데이트(bp)\n",
    "\n",
    "#w=0.35, b=0\n",
    "#hf(예상)=[27,33,33]    hf=xtrain*w+b"
   ]
  },
  {
   "cell_type": "code",
   "execution_count": 149,
   "metadata": {},
   "outputs": [],
   "source": [
    "#우리의 모델\n",
    "hf=xtrain*w+b\n",
    "cost=tf.reduce_mean(tf.square(hf-ytrain))\n",
    "#(예상값-실제값)합의제곱에 대한 평균"
   ]
  },
  {
   "cell_type": "code",
   "execution_count": 150,
   "metadata": {},
   "outputs": [],
   "source": [
    "opt=tf.train.GradientDescentOptimizer(0.00001)\n",
    "train=opt.minimize(cost)"
   ]
  },
  {
   "cell_type": "code",
   "execution_count": 151,
   "metadata": {},
   "outputs": [
    {
     "name": "stdout",
     "output_type": "stream",
     "text": [
      "0 24104.068 [-0.7026963] [-1.108992]\n",
      "100 9.652096 [1.0031608] [-1.0900346]\n",
      "200 9.652035 [1.0031579] [-1.0897604]\n",
      "300 9.651948 [1.003155] [-1.0894862]\n",
      "400 9.651885 [1.0031519] [-1.0892121]\n",
      "500 9.651809 [1.0031489] [-1.0889379]\n",
      "600 9.651733 [1.0031459] [-1.0886637]\n",
      "700 9.651672 [1.003143] [-1.0883895]\n",
      "800 9.651578 [1.0031399] [-1.0881153]\n",
      "900 9.651519 [1.0031369] [-1.0878412]\n",
      "1000 9.651443 [1.0031339] [-1.087567]\n",
      "1100 9.651368 [1.0031309] [-1.0872928]\n",
      "1200 9.651274 [1.0031278] [-1.0870186]\n",
      "1300 9.651212 [1.0031248] [-1.0867444]\n",
      "1400 9.651136 [1.0031219] [-1.0864702]\n",
      "1500 9.651061 [1.0031189] [-1.0861961]\n",
      "1600 9.651 [1.0031159] [-1.0859219]\n",
      "1700 9.650906 [1.0031128] [-1.0856477]\n",
      "1800 9.650829 [1.0031098] [-1.0853735]\n",
      "1900 9.650755 [1.0031068] [-1.0850993]\n",
      "2000 9.650694 [1.0031039] [-1.0848252]\n"
     ]
    }
   ],
   "source": [
    "for step in range(2001):\n",
    "    sess.run(train)\n",
    "    if step%100==0:\n",
    "        print(step, sess.run(cost),\n",
    "             sess.run(w),sess.run(b))"
   ]
  },
  {
   "cell_type": "code",
   "execution_count": 154,
   "metadata": {},
   "outputs": [
    {
     "ename": "NameError",
     "evalue": "name 'wx' is not defined",
     "output_type": "error",
     "traceback": [
      "\u001b[1;31m---------------------------------------------------------------------------\u001b[0m",
      "\u001b[1;31mNameError\u001b[0m                                 Traceback (most recent call last)",
      "\u001b[1;32m<ipython-input-154-ff58a3a5a10f>\u001b[0m in \u001b[0;36m<module>\u001b[1;34m\u001b[0m\n\u001b[1;32m----> 1\u001b[1;33m \u001b[0mwx\u001b[0m\u001b[1;33m+\u001b[0m\u001b[0mb\u001b[0m\u001b[1;33m\u001b[0m\u001b[1;33m\u001b[0m\u001b[0m\n\u001b[0m\u001b[0;32m      2\u001b[0m \u001b[1;36m0.995\u001b[0m\u001b[1;33m*\u001b[0m\u001b[0mx\u001b[0m\u001b[1;33m-\u001b[0m\u001b[1;36m0.38\u001b[0m\u001b[1;33m\u001b[0m\u001b[1;33m\u001b[0m\u001b[0m\n",
      "\u001b[1;31mNameError\u001b[0m: name 'wx' is not defined"
     ]
    }
   ],
   "source": [
    "wx+b\n",
    "0.995*x-0.38"
   ]
  },
  {
   "cell_type": "code",
   "execution_count": 155,
   "metadata": {},
   "outputs": [
    {
     "name": "stdout",
     "output_type": "stream",
     "text": [
      "예상되는 수능점수는  49.07036745548248\n"
     ]
    }
   ],
   "source": [
    "#모의고사 점수가 50점 => 수능점수?\n",
    "# sess.run(w)[0]\n",
    "# sess.run(b)[0]\n",
    "yhat=sess.run(w)[0]*50+sess.run(b)[0]\n",
    "print(\"예상되는 수능점수는 \",yhat)"
   ]
  },
  {
   "cell_type": "code",
   "execution_count": null,
   "metadata": {},
   "outputs": [],
   "source": [
    "#car 데이터에서\n",
    "#임의의 실린더 수(10, 12, 16)가 입력 -> hp?\n",
    "#cost, w, b 출력\n",
    "#cost 함수 시각화(w축)\n",
    "#learning rate, training 조절"
   ]
  },
  {
   "cell_type": "code",
   "execution_count": null,
   "metadata": {},
   "outputs": [],
   "source": []
  },
  {
   "cell_type": "code",
   "execution_count": null,
   "metadata": {},
   "outputs": [],
   "source": []
  },
  {
   "cell_type": "code",
   "execution_count": null,
   "metadata": {},
   "outputs": [],
   "source": []
  }
 ],
 "metadata": {
  "kernelspec": {
   "display_name": "Python 3",
   "language": "python",
   "name": "python3"
  },
  "language_info": {
   "codemirror_mode": {
    "name": "ipython",
    "version": 3
   },
   "file_extension": ".py",
   "mimetype": "text/x-python",
   "name": "python",
   "nbconvert_exporter": "python",
   "pygments_lexer": "ipython3",
   "version": "3.7.4"
  }
 },
 "nbformat": 4,
 "nbformat_minor": 2
}
