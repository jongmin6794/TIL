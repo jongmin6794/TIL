{
 "cells": [
  {
   "cell_type": "code",
   "execution_count": 1,
   "metadata": {},
   "outputs": [
    {
     "name": "stderr",
     "output_type": "stream",
     "text": [
      "Using TensorFlow backend.\n"
     ]
    }
   ],
   "source": [
    "from keras.datasets import mnist\n",
    "from keras.utils import np_utils\n",
    "import numpy\n",
    "import sys\n",
    "import tensorflow as tf"
   ]
  },
  {
   "cell_type": "code",
   "execution_count": 47,
   "metadata": {},
   "outputs": [],
   "source": [
    "(xTrain,yTrain),(xTest,yTest)=mnist.load_data()"
   ]
  },
  {
   "cell_type": "code",
   "execution_count": 14,
   "metadata": {},
   "outputs": [
    {
     "data": {
      "text/plain": [
       "(60000,)"
      ]
     },
     "execution_count": 14,
     "metadata": {},
     "output_type": "execute_result"
    }
   ],
   "source": [
    "# xTrain.shape#60000,28*28\n",
    "# xTest.shape#10000,28*28\n",
    "yTrain.shape#60000"
   ]
  },
  {
   "cell_type": "code",
   "execution_count": 15,
   "metadata": {},
   "outputs": [],
   "source": [
    "import matplotlib.pyplot as plt"
   ]
  },
  {
   "cell_type": "code",
   "execution_count": 16,
   "metadata": {},
   "outputs": [
    {
     "data": {
      "image/png": "[encoded data removed]",
      "text/plain": [
       "<Figure size 432x288 with 1 Axes>"
      ]
     },
     "metadata": {
      "needs_background": "light"
     },
     "output_type": "display_data"
    }
   ],
   "source": [
    "plt.imshow(xTrain[0],cmap='Greys')\n",
    "plt.show()"
   ]
  },
  {
   "cell_type": "code",
   "execution_count": 17,
   "metadata": {},
   "outputs": [
    {
     "name": "stdout",
     "output_type": "stream",
     "text": [
      "0\t0\t0\t0\t0\t0\t0\t0\t0\t0\t0\t0\t0\t0\t0\t0\t0\t0\t0\t0\t0\t0\t0\t0\t0\t0\t0\t0\t\n",
      "0\t0\t0\t0\t0\t0\t0\t0\t0\t0\t0\t0\t0\t0\t0\t0\t0\t0\t0\t0\t0\t0\t0\t0\t0\t0\t0\t0\t\n",
      "0\t0\t0\t0\t0\t0\t0\t0\t0\t0\t0\t0\t0\t0\t0\t0\t0\t0\t0\t0\t0\t0\t0\t0\t0\t0\t0\t0\t\n",
      "0\t0\t0\t0\t0\t0\t0\t0\t0\t0\t0\t0\t0\t0\t0\t0\t0\t0\t0\t0\t0\t0\t0\t0\t0\t0\t0\t0\t\n",
      "0\t0\t0\t0\t0\t0\t0\t0\t0\t0\t0\t0\t0\t0\t0\t0\t0\t0\t0\t0\t0\t0\t0\t0\t0\t0\t0\t0\t\n",
      "0\t0\t0\t0\t0\t0\t0\t0\t0\t0\t0\t0\t3\t18\t18\t18\t126\t136\t175\t26\t166\t255\t247\t127\t0\t0\t0\t0\t\n",
      "0\t0\t0\t0\t0\t0\t0\t0\t30\t36\t94\t154\t170\t253\t253\t253\t253\t253\t225\t172\t253\t242\t195\t64\t0\t0\t0\t0\t\n",
      "0\t0\t0\t0\t0\t0\t0\t49\t238\t253\t253\t253\t253\t253\t253\t253\t253\t251\t93\t82\t82\t56\t39\t0\t0\t0\t0\t0\t\n",
      "0\t0\t0\t0\t0\t0\t0\t18\t219\t253\t253\t253\t253\t253\t198\t182\t247\t241\t0\t0\t0\t0\t0\t0\t0\t0\t0\t0\t\n",
      "0\t0\t0\t0\t0\t0\t0\t0\t80\t156\t107\t253\t253\t205\t11\t0\t43\t154\t0\t0\t0\t0\t0\t0\t0\t0\t0\t0\t\n",
      "0\t0\t0\t0\t0\t0\t0\t0\t0\t14\t1\t154\t253\t90\t0\t0\t0\t0\t0\t0\t0\t0\t0\t0\t0\t0\t0\t0\t\n",
      "0\t0\t0\t0\t0\t0\t0\t0\t0\t0\t0\t139\t253\t190\t2\t0\t0\t0\t0\t0\t0\t0\t0\t0\t0\t0\t0\t0\t\n",
      "0\t0\t0\t0\t0\t0\t0\t0\t0\t0\t0\t11\t190\t253\t70\t0\t0\t0\t0\t0\t0\t0\t0\t0\t0\t0\t0\t0\t\n",
      "0\t0\t0\t0\t0\t0\t0\t0\t0\t0\t0\t0\t35\t241\t225\t160\t108\t1\t0\t0\t0\t0\t0\t0\t0\t0\t0\t0\t\n",
      "0\t0\t0\t0\t0\t0\t0\t0\t0\t0\t0\t0\t0\t81\t240\t253\t253\t119\t25\t0\t0\t0\t0\t0\t0\t0\t0\t0\t\n",
      "0\t0\t0\t0\t0\t0\t0\t0\t0\t0\t0\t0\t0\t0\t45\t186\t253\t253\t150\t27\t0\t0\t0\t0\t0\t0\t0\t0\t\n",
      "0\t0\t0\t0\t0\t0\t0\t0\t0\t0\t0\t0\t0\t0\t0\t16\t93\t252\t253\t187\t0\t0\t0\t0\t0\t0\t0\t0\t\n",
      "0\t0\t0\t0\t0\t0\t0\t0\t0\t0\t0\t0\t0\t0\t0\t0\t0\t249\t253\t249\t64\t0\t0\t0\t0\t0\t0\t0\t\n",
      "0\t0\t0\t0\t0\t0\t0\t0\t0\t0\t0\t0\t0\t0\t46\t130\t183\t253\t253\t207\t2\t0\t0\t0\t0\t0\t0\t0\t\n",
      "0\t0\t0\t0\t0\t0\t0\t0\t0\t0\t0\t0\t39\t148\t229\t253\t253\t253\t250\t182\t0\t0\t0\t0\t0\t0\t0\t0\t\n",
      "0\t0\t0\t0\t0\t0\t0\t0\t0\t0\t24\t114\t221\t253\t253\t253\t253\t201\t78\t0\t0\t0\t0\t0\t0\t0\t0\t0\t\n",
      "0\t0\t0\t0\t0\t0\t0\t0\t23\t66\t213\t253\t253\t253\t253\t198\t81\t2\t0\t0\t0\t0\t0\t0\t0\t0\t0\t0\t\n",
      "0\t0\t0\t0\t0\t0\t18\t171\t219\t253\t253\t253\t253\t195\t80\t9\t0\t0\t0\t0\t0\t0\t0\t0\t0\t0\t0\t0\t\n",
      "0\t0\t0\t0\t55\t172\t226\t253\t253\t253\t253\t244\t133\t11\t0\t0\t0\t0\t0\t0\t0\t0\t0\t0\t0\t0\t0\t0\t\n",
      "0\t0\t0\t0\t136\t253\t253\t253\t212\t135\t132\t16\t0\t0\t0\t0\t0\t0\t0\t0\t0\t0\t0\t0\t0\t0\t0\t0\t\n",
      "0\t0\t0\t0\t0\t0\t0\t0\t0\t0\t0\t0\t0\t0\t0\t0\t0\t0\t0\t0\t0\t0\t0\t0\t0\t0\t0\t0\t\n",
      "0\t0\t0\t0\t0\t0\t0\t0\t0\t0\t0\t0\t0\t0\t0\t0\t0\t0\t0\t0\t0\t0\t0\t0\t0\t0\t0\t0\t\n",
      "0\t0\t0\t0\t0\t0\t0\t0\t0\t0\t0\t0\t0\t0\t0\t0\t0\t0\t0\t0\t0\t0\t0\t0\t0\t0\t0\t0\t\n"
     ]
    }
   ],
   "source": [
    "for x in xTrain[0]:\n",
    "    for i in x:\n",
    "        sys.stdout.write(\"%d\\t\"%i)\n",
    "    sys.stdout.write(\"\\n\")"
   ]
  },
  {
   "cell_type": "code",
   "execution_count": 48,
   "metadata": {},
   "outputs": [],
   "source": [
    "xTrain=xTrain.reshape(xTrain.shape[0],784)\n",
    "xTrain=xTrain.astype('float64')\n",
    "xTrain=xTrain/255\n",
    "xTest=xTest.reshape(xTest.shape[0],784).astype('float64')/255\n"
   ]
  },
  {
   "cell_type": "code",
   "execution_count": 19,
   "metadata": {},
   "outputs": [
    {
     "name": "stdout",
     "output_type": "stream",
     "text": [
      "5\n"
     ]
    }
   ],
   "source": [
    "print(yTrain[0])"
   ]
  },
  {
   "cell_type": "code",
   "execution_count": 49,
   "metadata": {},
   "outputs": [],
   "source": [
    "yTrain=np_utils.to_categorical(yTrain,10)\n",
    "yTest=np_utils.to_categorical(yTest,10)"
   ]
  },
  {
   "cell_type": "code",
   "execution_count": 21,
   "metadata": {},
   "outputs": [
    {
     "data": {
      "text/plain": [
       "array([0., 0., 0., 0., 0., 1., 0., 0., 0., 0.], dtype=float32)"
      ]
     },
     "execution_count": 21,
     "metadata": {},
     "output_type": "execute_result"
    }
   ],
   "source": [
    "yTrain[0]"
   ]
  },
  {
   "cell_type": "code",
   "execution_count": 23,
   "metadata": {},
   "outputs": [],
   "source": [
    "from keras.models import Sequential\n",
    "from keras.layers import Dense\n",
    "from keras.callbacks import ModelCheckpoint, EarlyStopping\n",
    "import numpy as np\n",
    "import tensorflow as tf\n",
    "import os"
   ]
  },
  {
   "cell_type": "code",
   "execution_count": 32,
   "metadata": {},
   "outputs": [],
   "source": [
    "#모델 구성\n",
    "model=Sequential()\n",
    "model.add(Dense(512,input_dim=784,activation='relu'))\n",
    "model.add(Dense(10,activation='softmax'))"
   ]
  },
  {
   "cell_type": "code",
   "execution_count": 33,
   "metadata": {},
   "outputs": [],
   "source": [
    "#모델 환경 설정\n",
    "model.compile(loss=\"categorical_crossentropy\",optimizer=\"adam\",metrics=['accuracy'])"
   ]
  },
  {
   "cell_type": "code",
   "execution_count": 34,
   "metadata": {},
   "outputs": [],
   "source": [
    "#모델 최적화\n",
    "modelDir='./myModel/'#.의 의미는 현재 디렉토리\n",
    "#만약 myModel 디렉토리가 존재하지 않는다면\n",
    "if not os.path.exists(modelDir):\n",
    "    modelPath=\"./myModel/{epoch:02d}-{val_loss:.4f}.hdf5\"\n",
    "    os.mkdir(modelDir)\n",
    "checkpointer=ModelCheckpoint(filepath=modelPath,monitor='val_loss',verbose=1,save_best_only=True)\n",
    "#ModelChekpint 콜백 함수: keras에서 모델을 학습할때마다 중간중간 \n",
    "#콜백 형태로 알려주는 역할\n",
    "#save_best_only : 모델의 정확도가 최고값을 갱신했을때만 저장\n",
    "es=EarlyStopping(monitor='val_loss',patience=10)"
   ]
  },
  {
   "cell_type": "code",
   "execution_count": 37,
   "metadata": {},
   "outputs": [
    {
     "name": "stdout",
     "output_type": "stream",
     "text": [
      "Train on 60000 samples, validate on 10000 samples\n",
      "Epoch 1/30\n",
      "60000/60000 [==============================] - 3s 49us/step - loss: 6.4946e-04 - accuracy: 1.0000 - val_loss: 0.0695 - val_accuracy: 0.9835\n",
      "\n",
      "Epoch 00001: val_loss did not improve from 0.06079\n",
      "Epoch 2/30\n",
      "60000/60000 [==============================] - 3s 48us/step - loss: 4.4505e-04 - accuracy: 1.0000 - val_loss: 0.0690 - val_accuracy: 0.9834\n",
      "\n",
      "Epoch 00002: val_loss did not improve from 0.06079\n",
      "Epoch 3/30\n",
      "60000/60000 [==============================] - 3s 48us/step - loss: 3.5356e-04 - accuracy: 1.0000 - val_loss: 0.0691 - val_accuracy: 0.9833\n",
      "\n",
      "Epoch 00003: val_loss did not improve from 0.06079\n",
      "Epoch 4/30\n",
      "60000/60000 [==============================] - 3s 48us/step - loss: 2.9993e-04 - accuracy: 1.0000 - val_loss: 0.0703 - val_accuracy: 0.9836\n",
      "\n",
      "Epoch 00004: val_loss did not improve from 0.06079\n",
      "Epoch 5/30\n",
      "60000/60000 [==============================] - 3s 48us/step - loss: 2.6448e-04 - accuracy: 1.0000 - val_loss: 0.0715 - val_accuracy: 0.9835\n",
      "\n",
      "Epoch 00005: val_loss did not improve from 0.06079\n",
      "Epoch 6/30\n",
      "60000/60000 [==============================] - 3s 49us/step - loss: 2.3876e-04 - accuracy: 1.0000 - val_loss: 0.0718 - val_accuracy: 0.9835\n",
      "\n",
      "Epoch 00006: val_loss did not improve from 0.06079\n",
      "Epoch 7/30\n",
      "60000/60000 [==============================] - 3s 48us/step - loss: 2.1321e-04 - accuracy: 1.0000 - val_loss: 0.0722 - val_accuracy: 0.9837\n",
      "\n",
      "Epoch 00007: val_loss did not improve from 0.06079\n",
      "Epoch 8/30\n",
      "60000/60000 [==============================] - 3s 48us/step - loss: 1.9664e-04 - accuracy: 1.0000 - val_loss: 0.0721 - val_accuracy: 0.9835\n",
      "\n",
      "Epoch 00008: val_loss did not improve from 0.06079\n",
      "Epoch 9/30\n",
      "60000/60000 [==============================] - 3s 48us/step - loss: 1.7237e-04 - accuracy: 1.0000 - val_loss: 0.0737 - val_accuracy: 0.9829\n",
      "\n",
      "Epoch 00009: val_loss did not improve from 0.06079\n",
      "Epoch 10/30\n",
      "60000/60000 [==============================] - 3s 49us/step - loss: 1.7062e-04 - accuracy: 1.0000 - val_loss: 0.0731 - val_accuracy: 0.9833\n",
      "\n",
      "Epoch 00010: val_loss did not improve from 0.06079\n",
      "Epoch 11/30\n",
      "60000/60000 [==============================] - 3s 49us/step - loss: 0.0254 - accuracy: 0.9920 - val_loss: 0.0872 - val_accuracy: 0.9790\n",
      "\n",
      "Epoch 00011: val_loss did not improve from 0.06079\n",
      "Epoch 12/30\n",
      "60000/60000 [==============================] - 3s 49us/step - loss: 0.0057 - accuracy: 0.9984 - val_loss: 0.0801 - val_accuracy: 0.9826\n",
      "\n",
      "Epoch 00012: val_loss did not improve from 0.06079\n"
     ]
    }
   ],
   "source": [
    "#모델 생성\n",
    "history=model.fit(xTrain,yTrain,validation_data=(xTest,yTest),\n",
    "                  epochs=30,batch_size=200,callbacks=[es,checkpointer])"
   ]
  },
  {
   "cell_type": "code",
   "execution_count": 36,
   "metadata": {},
   "outputs": [
    {
     "name": "stdout",
     "output_type": "stream",
     "text": [
      "10000/10000 [==============================] - 0s 42us/step\n",
      "테스트 정확도: 0.9821\n"
     ]
    }
   ],
   "source": [
    "print(\"테스트 정확도: %.4f\"%(model.evaluate(xTest,yTest)[1]))"
   ]
  },
  {
   "cell_type": "code",
   "execution_count": 38,
   "metadata": {},
   "outputs": [],
   "source": [
    "#테스트 셋의 오차\n",
    "yVloss=history.history['val_loss']\n",
    "#학습 셋의 오차\n",
    "yLoss=history.history['loss']"
   ]
  },
  {
   "cell_type": "code",
   "execution_count": 41,
   "metadata": {},
   "outputs": [
    {
     "data": {
      "image/png": "[encoded data removed]",
      "text/plain": [
       "<Figure size 432x288 with 1 Axes>"
      ]
     },
     "metadata": {
      "needs_background": "light"
     },
     "output_type": "display_data"
    }
   ],
   "source": [
    "xLen=np.arange(len(yLoss))\n",
    "plt.plot(xLen,yVloss,marker='.',c='red',label='testset_loss')\n",
    "plt.plot(xLen,yLoss,marker='.',c='blue',label='trainset_loss')\n",
    "plt.legend()\n",
    "plt.grid()\n",
    "plt.xlabel('epoch')\n",
    "plt.ylabel('loss')\n",
    "plt.show()"
   ]
  },
  {
   "cell_type": "code",
   "execution_count": null,
   "metadata": {},
   "outputs": [],
   "source": [
    "# CNN으로 MNIST 모델 만들기"
   ]
  },
  {
   "cell_type": "code",
   "execution_count": 43,
   "metadata": {},
   "outputs": [],
   "source": [
    "from keras.layers import *"
   ]
  },
  {
   "cell_type": "code",
   "execution_count": 44,
   "metadata": {},
   "outputs": [
    {
     "name": "stdout",
     "output_type": "stream",
     "text": [
      "WARNING:tensorflow:From C:\\Users\\student\\Anaconda3\\lib\\site-packages\\keras\\backend\\tensorflow_backend.py:4070: The name tf.nn.max_pool is deprecated. Please use tf.nn.max_pool2d instead.\n",
      "\n"
     ]
    }
   ],
   "source": [
    "#모델 구성\n",
    "model=Sequential()\n",
    "model.add(Conv2D(32,kernel_size=(3,3),input_shape=(28,28,1),activation='relu'))\n",
    "#Conv2D(필터개수,필터크기,(행,열,흑백),활성화함수)\n",
    "model.add(Conv2D(64,(3,3),activation='relu'))\n",
    "model.add(MaxPooling2D(pool_size=2))\n",
    "model.add(Dropout(0.25)) #드롭아웃 비율(25%)\n",
    "#Flatten():1차원으로 변경하는 함수\n",
    "model.add(Flatten())\n",
    "model.add(Dense(128,activation='relu'))\n",
    "model.add(Dropout(0.5))\n",
    "model.add(Dense(10,activation='softmax'))"
   ]
  },
  {
   "cell_type": "code",
   "execution_count": 45,
   "metadata": {},
   "outputs": [],
   "source": [
    "#모델 환경 설정\n",
    "model.compile(loss=\"categorical_crossentropy\",optimizer=\"adam\",metrics=['accuracy'])"
   ]
  },
  {
   "cell_type": "code",
   "execution_count": 46,
   "metadata": {},
   "outputs": [],
   "source": [
    "#모델 최적화\n",
    "modelDir='./myCnnModel/'#.의 의미는 현재 디렉토리\n",
    "#만약 myModel 디렉토리가 존재하지 않는다면\n",
    "if not os.path.exists(modelDir):\n",
    "    modelPath=\"./myCnnModel/{epoch:02d}-{val_loss:.4f}.hdf5\"\n",
    "    os.mkdir(modelDir)\n",
    "checkpointer=ModelCheckpoint(filepath=modelPath,monitor='val_loss',verbose=1,save_best_only=True)\n",
    "#ModelChekpint 콜백 함수: keras에서 모델을 학습할때마다 중간중간 \n",
    "#콜백 형태로 알려주는 역할\n",
    "#save_best_only : 모델의 정확도가 최고값을 갱신했을때만 저장\n",
    "es=EarlyStopping(monitor='val_loss',patience=10)"
   ]
  },
  {
   "cell_type": "code",
   "execution_count": 52,
   "metadata": {},
   "outputs": [],
   "source": [
    "(xTrain,yTrain),(xTest,yTest)=mnist.load_data()\n",
    "xTrain=xTrain.reshape(xTrain.shape[0],28,28,1).astype('float32')/255\n",
    "xTest=xTest.reshape(xTest.shape[0],28,28,1).astype('float32')/255\n",
    "yTrain=np_utils.to_categorical(yTrain)\n",
    "yTest=np_utils.to_categorical(yTest)"
   ]
  },
  {
   "cell_type": "code",
   "execution_count": 53,
   "metadata": {},
   "outputs": [
    {
     "name": "stdout",
     "output_type": "stream",
     "text": [
      "Train on 60000 samples, validate on 10000 samples\n",
      "Epoch 1/30\n",
      "60000/60000 [==============================] - 66s 1ms/step - loss: 0.2806 - accuracy: 0.9141 - val_loss: 0.0579 - val_accuracy: 0.9813\n",
      "\n",
      "Epoch 00001: val_loss improved from inf to 0.05792, saving model to ./myCnnModel/01-0.0579.hdf5\n",
      "Epoch 2/30\n",
      "60000/60000 [==============================] - 65s 1ms/step - loss: 0.0893 - accuracy: 0.9740 - val_loss: 0.0417 - val_accuracy: 0.9858\n",
      "\n",
      "Epoch 00002: val_loss improved from 0.05792 to 0.04169, saving model to ./myCnnModel/02-0.0417.hdf5\n",
      "Epoch 3/30\n",
      "60000/60000 [==============================] - 65s 1ms/step - loss: 0.0665 - accuracy: 0.9796 - val_loss: 0.0356 - val_accuracy: 0.9883\n",
      "\n",
      "Epoch 00003: val_loss improved from 0.04169 to 0.03559, saving model to ./myCnnModel/03-0.0356.hdf5\n",
      "Epoch 4/30\n",
      "60000/60000 [==============================] - 66s 1ms/step - loss: 0.0532 - accuracy: 0.9839 - val_loss: 0.0324 - val_accuracy: 0.9891\n",
      "\n",
      "Epoch 00004: val_loss improved from 0.03559 to 0.03243, saving model to ./myCnnModel/04-0.0324.hdf5\n",
      "Epoch 5/30\n",
      "60000/60000 [==============================] - 67s 1ms/step - loss: 0.0450 - accuracy: 0.9862 - val_loss: 0.0299 - val_accuracy: 0.9896\n",
      "\n",
      "Epoch 00005: val_loss improved from 0.03243 to 0.02989, saving model to ./myCnnModel/05-0.0299.hdf5\n",
      "Epoch 6/30\n",
      "60000/60000 [==============================] - 65s 1ms/step - loss: 0.0401 - accuracy: 0.9878 - val_loss: 0.0272 - val_accuracy: 0.9905\n",
      "\n",
      "Epoch 00006: val_loss improved from 0.02989 to 0.02724, saving model to ./myCnnModel/06-0.0272.hdf5\n",
      "Epoch 7/30\n",
      "60000/60000 [==============================] - 71s 1ms/step - loss: 0.0354 - accuracy: 0.9886 - val_loss: 0.0259 - val_accuracy: 0.9920\n",
      "\n",
      "Epoch 00007: val_loss improved from 0.02724 to 0.02587, saving model to ./myCnnModel/07-0.0259.hdf5\n",
      "Epoch 8/30\n",
      "60000/60000 [==============================] - 68s 1ms/step - loss: 0.0324 - accuracy: 0.9894 - val_loss: 0.0275 - val_accuracy: 0.9919\n",
      "\n",
      "Epoch 00008: val_loss did not improve from 0.02587\n",
      "Epoch 9/30\n",
      "60000/60000 [==============================] - 68s 1ms/step - loss: 0.0292 - accuracy: 0.9908 - val_loss: 0.0304 - val_accuracy: 0.9913\n",
      "\n",
      "Epoch 00009: val_loss did not improve from 0.02587\n",
      "Epoch 10/30\n",
      "60000/60000 [==============================] - 70s 1ms/step - loss: 0.0280 - accuracy: 0.9912 - val_loss: 0.0235 - val_accuracy: 0.9930\n",
      "\n",
      "Epoch 00010: val_loss improved from 0.02587 to 0.02346, saving model to ./myCnnModel/10-0.0235.hdf5\n",
      "Epoch 11/30\n",
      "60000/60000 [==============================] - 67s 1ms/step - loss: 0.0248 - accuracy: 0.9922 - val_loss: 0.0282 - val_accuracy: 0.9909\n",
      "\n",
      "Epoch 00011: val_loss did not improve from 0.02346\n",
      "Epoch 12/30\n",
      "60000/60000 [==============================] - 66s 1ms/step - loss: 0.0235 - accuracy: 0.9926 - val_loss: 0.0280 - val_accuracy: 0.9914\n",
      "\n",
      "Epoch 00012: val_loss did not improve from 0.02346\n",
      "Epoch 13/30\n",
      "60000/60000 [==============================] - 70s 1ms/step - loss: 0.0199 - accuracy: 0.9933 - val_loss: 0.0274 - val_accuracy: 0.9921\n",
      "\n",
      "Epoch 00013: val_loss did not improve from 0.02346\n",
      "Epoch 14/30\n",
      "60000/60000 [==============================] - 69s 1ms/step - loss: 0.0193 - accuracy: 0.9937 - val_loss: 0.0278 - val_accuracy: 0.9923\n",
      "\n",
      "Epoch 00014: val_loss did not improve from 0.02346\n",
      "Epoch 15/30\n",
      "60000/60000 [==============================] - 70s 1ms/step - loss: 0.0201 - accuracy: 0.9934 - val_loss: 0.0274 - val_accuracy: 0.9909\n",
      "\n",
      "Epoch 00015: val_loss did not improve from 0.02346\n",
      "Epoch 16/30\n",
      "60000/60000 [==============================] - 66s 1ms/step - loss: 0.0168 - accuracy: 0.9941 - val_loss: 0.0283 - val_accuracy: 0.9920\n",
      "\n",
      "Epoch 00016: val_loss did not improve from 0.02346\n",
      "Epoch 17/30\n",
      "60000/60000 [==============================] - 64s 1ms/step - loss: 0.0159 - accuracy: 0.9946 - val_loss: 0.0277 - val_accuracy: 0.9936\n",
      "\n",
      "Epoch 00017: val_loss did not improve from 0.02346\n",
      "Epoch 18/30\n",
      "60000/60000 [==============================] - 64s 1ms/step - loss: 0.0176 - accuracy: 0.9939 - val_loss: 0.0285 - val_accuracy: 0.9934\n",
      "\n",
      "Epoch 00018: val_loss did not improve from 0.02346\n",
      "Epoch 19/30\n",
      "60000/60000 [==============================] - 64s 1ms/step - loss: 0.0143 - accuracy: 0.9953 - val_loss: 0.0291 - val_accuracy: 0.9929\n",
      "\n",
      "Epoch 00019: val_loss did not improve from 0.02346\n",
      "Epoch 20/30\n",
      "60000/60000 [==============================] - 65s 1ms/step - loss: 0.0131 - accuracy: 0.9954 - val_loss: 0.0297 - val_accuracy: 0.9924\n",
      "\n",
      "Epoch 00020: val_loss did not improve from 0.02346\n"
     ]
    }
   ],
   "source": [
    "#모델 생성\n",
    "history=model.fit(xTrain,yTrain,validation_data=(xTest,yTest),\n",
    "                  epochs=30,batch_size=200,callbacks=[es,checkpointer])"
   ]
  },
  {
   "cell_type": "code",
   "execution_count": null,
   "metadata": {},
   "outputs": [],
   "source": [
    "# model.save(\"파일명.h5\")\n",
    "from keras.models import load_model\n",
    "model=load_model(\"모델파일명.h5\")\n",
    "model.summary()#모델 구조\n",
    "# 분류결과=model.predict_classes(테드스 데이터)"
   ]
  },
  {
   "cell_type": "code",
   "execution_count": 54,
   "metadata": {},
   "outputs": [],
   "source": [
    "#예측이 틀린 이미지를 8개 출력\n",
    "# ex) label:9, pred:4  ...  label:1, pred:4\n",
    "#         9 이미지               1이미지\n",
    "#     label:9, pred:4  ...  label:1, pred:4\n",
    "#         9 이미지               1이미지\n",
    "# 2*4 형태로 틀린 예측 결과 출력"
   ]
  },
  {
   "cell_type": "code",
   "execution_count": 55,
   "metadata": {},
   "outputs": [],
   "source": [
    "#이터레이터, 제너레이터\n",
    "#iterator:값을 차례대로 꺼낼 수 있는 객체\n",
    "#for i in range(100):\n",
    "#정확한 의미:0~99까지 값을 차례대로 꺼낼 수 있는 이터레이터 객체 생성"
   ]
  },
  {
   "cell_type": "code",
   "execution_count": 63,
   "metadata": {},
   "outputs": [
    {
     "ename": "StopIteration",
     "evalue": "",
     "output_type": "error",
     "traceback": [
      "\u001b[1;31m---------------------------------------------------------------------------\u001b[0m",
      "\u001b[1;31mStopIteration\u001b[0m                             Traceback (most recent call last)",
      "\u001b[1;32m<ipython-input-63-9bb36538a31d>\u001b[0m in \u001b[0;36m<module>\u001b[1;34m\u001b[0m\n\u001b[0;32m      6\u001b[0m \u001b[0mit\u001b[0m\u001b[1;33m.\u001b[0m\u001b[0m__next__\u001b[0m\u001b[1;33m(\u001b[0m\u001b[1;33m)\u001b[0m\u001b[1;33m\u001b[0m\u001b[1;33m\u001b[0m\u001b[0m\n\u001b[0;32m      7\u001b[0m \u001b[0mit\u001b[0m\u001b[1;33m.\u001b[0m\u001b[0m__next__\u001b[0m\u001b[1;33m(\u001b[0m\u001b[1;33m)\u001b[0m\u001b[1;33m\u001b[0m\u001b[1;33m\u001b[0m\u001b[0m\n\u001b[1;32m----> 8\u001b[1;33m \u001b[0mit\u001b[0m\u001b[1;33m.\u001b[0m\u001b[0m__next__\u001b[0m\u001b[1;33m(\u001b[0m\u001b[1;33m)\u001b[0m\u001b[1;33m\u001b[0m\u001b[1;33m\u001b[0m\u001b[0m\n\u001b[0m",
      "\u001b[1;31mStopIteration\u001b[0m: "
     ]
    }
   ],
   "source": [
    "#iterable(반복가능객체, 문자열, 딕셔너리, 리스트)\n",
    "#객체가 iter메서드를 포함 여부:객체가 반복 가능한지 확인\n",
    "dir([1,2,3]) #__iter__존재하면 for문 사용가능\n",
    "it=[1,2,3].__iter__()\n",
    "it.__next__()#1\n",
    "it.__next__()#2\n",
    "it.__next__()#3\n",
    "it.__next__()#error"
   ]
  },
  {
   "cell_type": "code",
   "execution_count": 64,
   "metadata": {},
   "outputs": [
    {
     "data": {
      "text/plain": [
       "<set_iterator at 0x1ebbef71f48>"
      ]
     },
     "execution_count": 64,
     "metadata": {},
     "output_type": "execute_result"
    }
   ],
   "source": [
    "\"hello\".__iter__()\n",
    "{'a':1,'b':2}.__iter__()\n",
    "{1,2,3}.__iter__()"
   ]
  },
  {
   "cell_type": "code",
   "execution_count": 65,
   "metadata": {},
   "outputs": [
    {
     "ename": "StopIteration",
     "evalue": "",
     "output_type": "error",
     "traceback": [
      "\u001b[1;31m---------------------------------------------------------------------------\u001b[0m",
      "\u001b[1;31mStopIteration\u001b[0m                             Traceback (most recent call last)",
      "\u001b[1;32m<ipython-input-65-bbdf816a37c2>\u001b[0m in \u001b[0;36m<module>\u001b[1;34m\u001b[0m\n\u001b[0;32m      3\u001b[0m \u001b[0mit\u001b[0m\u001b[1;33m.\u001b[0m\u001b[0m__next__\u001b[0m\u001b[1;33m(\u001b[0m\u001b[1;33m)\u001b[0m\u001b[1;31m#1\u001b[0m\u001b[1;33m\u001b[0m\u001b[1;33m\u001b[0m\u001b[0m\n\u001b[0;32m      4\u001b[0m \u001b[0mit\u001b[0m\u001b[1;33m.\u001b[0m\u001b[0m__next__\u001b[0m\u001b[1;33m(\u001b[0m\u001b[1;33m)\u001b[0m\u001b[1;31m#2\u001b[0m\u001b[1;33m\u001b[0m\u001b[1;33m\u001b[0m\u001b[0m\n\u001b[1;32m----> 5\u001b[1;33m \u001b[0mit\u001b[0m\u001b[1;33m.\u001b[0m\u001b[0m__next__\u001b[0m\u001b[1;33m(\u001b[0m\u001b[1;33m)\u001b[0m\u001b[1;31m#error\u001b[0m\u001b[1;33m\u001b[0m\u001b[1;33m\u001b[0m\u001b[0m\n\u001b[0m",
      "\u001b[1;31mStopIteration\u001b[0m: "
     ]
    }
   ],
   "source": [
    "it=range(3).__iter__()\n",
    "it.__next__()#0\n",
    "it.__next__()#1\n",
    "it.__next__()#2\n",
    "it.__next__()#error"
   ]
  },
  {
   "cell_type": "code",
   "execution_count": 66,
   "metadata": {},
   "outputs": [
    {
     "name": "stdout",
     "output_type": "stream",
     "text": [
      "0\n",
      "1\n",
      "2\n"
     ]
    }
   ],
   "source": [
    "for i in range(3):\n",
    "    print(i)\n",
    "#1.range에서 __iter__로 이터레이터 객체 생성\n",
    "#2.반복할때마다 이터레이터에서 __next__를 \n",
    "#호출해서 숫자를 꺼내서 i에 저장"
   ]
  },
  {
   "cell_type": "code",
   "execution_count": 67,
   "metadata": {},
   "outputs": [],
   "source": [
    "#내가 만든 클래스에 __iter__, __next__\n",
    "#두 메서드를 구현하면, 이터레이터 생성 가능"
   ]
  },
  {
   "cell_type": "code",
   "execution_count": 73,
   "metadata": {},
   "outputs": [],
   "source": [
    "class MyCounter:\n",
    "    def __getitem__(self,index):\n",
    "        if index<self.stop:\n",
    "            return index\n",
    "        else:\n",
    "            raise StopIteration\n",
    "            \n",
    "    def __init__(self,stop):\n",
    "        self.current=0\n",
    "        self.stop=stop\n",
    "#     def __iter__(self):\n",
    "#         return self\n",
    "#     def __next__(self):\n",
    "#         if self.current<self.stop:\n",
    "#             r=self.current\n",
    "#             self.current+=1\n",
    "#             return r\n",
    "#         else:\n",
    "#             raise StopIteration\n",
    "# for i in MyCounter(3):\n",
    "#     print(i)# 0 1 2 3 4"
   ]
  },
  {
   "cell_type": "code",
   "execution_count": 70,
   "metadata": {},
   "outputs": [
    {
     "name": "stdout",
     "output_type": "stream",
     "text": [
      "1 2 3\n"
     ]
    }
   ],
   "source": [
    "a,b,c=map(int,input().split())"
   ]
  },
  {
   "cell_type": "code",
   "execution_count": 71,
   "metadata": {},
   "outputs": [
    {
     "name": "stdout",
     "output_type": "stream",
     "text": [
      "1\n"
     ]
    }
   ],
   "source": [
    "print(a)"
   ]
  },
  {
   "cell_type": "code",
   "execution_count": 76,
   "metadata": {},
   "outputs": [
    {
     "name": "stdout",
     "output_type": "stream",
     "text": [
      "0\n",
      "1\n",
      "2\n"
     ]
    }
   ],
   "source": [
    "#MyCounter(3)[0]\n",
    "for i in MyCounter(3):\n",
    "    print(i)"
   ]
  },
  {
   "cell_type": "code",
   "execution_count": 79,
   "metadata": {},
   "outputs": [
    {
     "data": {
      "text/plain": [
       "2"
      ]
     },
     "execution_count": 79,
     "metadata": {},
     "output_type": "execute_result"
    }
   ],
   "source": [
    "#파이썬 iter함수:객체의 __iter__ 메서드를 호출\n",
    "#파이썬 iter함수:객체의 __next__ 메서드를 호출\n",
    "it=iter(range(3))\n",
    "next(it)#0\n",
    "next(it)#1\n",
    "next(it)#2"
   ]
  },
  {
   "cell_type": "code",
   "execution_count": 85,
   "metadata": {},
   "outputs": [
    {
     "ename": "StopIteration",
     "evalue": "",
     "output_type": "error",
     "traceback": [
      "\u001b[1;31m---------------------------------------------------------------------------\u001b[0m",
      "\u001b[1;31mStopIteration\u001b[0m                             Traceback (most recent call last)",
      "\u001b[1;32m<ipython-input-85-5133600d7928>\u001b[0m in \u001b[0;36m<module>\u001b[1;34m\u001b[0m\n\u001b[0;32m      6\u001b[0m \u001b[0mnext\u001b[0m\u001b[1;33m(\u001b[0m\u001b[0mit\u001b[0m\u001b[1;33m)\u001b[0m\u001b[1;33m\u001b[0m\u001b[1;33m\u001b[0m\u001b[0m\n\u001b[0;32m      7\u001b[0m \u001b[0mnext\u001b[0m\u001b[1;33m(\u001b[0m\u001b[0mit\u001b[0m\u001b[1;33m)\u001b[0m\u001b[1;33m\u001b[0m\u001b[1;33m\u001b[0m\u001b[0m\n\u001b[1;32m----> 8\u001b[1;33m \u001b[0mnext\u001b[0m\u001b[1;33m(\u001b[0m\u001b[0mit\u001b[0m\u001b[1;33m)\u001b[0m\u001b[1;33m\u001b[0m\u001b[1;33m\u001b[0m\u001b[0m\n\u001b[0m",
      "\u001b[1;31mStopIteration\u001b[0m: "
     ]
    }
   ],
   "source": [
    "# iter(객체,방복을 끝낼 값)\n",
    "import random\n",
    "# random.randint(0,5)#0~5까지 무작위 난수\n",
    "it=iter(lambda:random.randint(0,5),2)#2가 드면 stop\n",
    "next(it)\n",
    "next(it)\n",
    "next(it)\n",
    "next(it)"
   ]
  },
  {
   "cell_type": "code",
   "execution_count": 86,
   "metadata": {},
   "outputs": [],
   "source": [
    "#제너레이터:이터레이터를 생성하는 함수\n",
    "#함수 내부에 yield 키워드를 주면 이터레이터가 생성됨\n",
    "def myGen():\n",
    "    yield 0\n",
    "    yield 1\n",
    "    yield 2"
   ]
  },
  {
   "cell_type": "code",
   "execution_count": 87,
   "metadata": {},
   "outputs": [
    {
     "name": "stdout",
     "output_type": "stream",
     "text": [
      "0\n",
      "1\n",
      "2\n"
     ]
    }
   ],
   "source": [
    "for i in myGen():\n",
    "    print(i)"
   ]
  },
  {
   "cell_type": "code",
   "execution_count": 88,
   "metadata": {},
   "outputs": [
    {
     "data": {
      "text/plain": [
       "['__class__',\n",
       " '__del__',\n",
       " '__delattr__',\n",
       " '__dir__',\n",
       " '__doc__',\n",
       " '__eq__',\n",
       " '__format__',\n",
       " '__ge__',\n",
       " '__getattribute__',\n",
       " '__gt__',\n",
       " '__hash__',\n",
       " '__init__',\n",
       " '__init_subclass__',\n",
       " '__iter__',\n",
       " '__le__',\n",
       " '__lt__',\n",
       " '__name__',\n",
       " '__ne__',\n",
       " '__new__',\n",
       " '__next__',\n",
       " '__qualname__',\n",
       " '__reduce__',\n",
       " '__reduce_ex__',\n",
       " '__repr__',\n",
       " '__setattr__',\n",
       " '__sizeof__',\n",
       " '__str__',\n",
       " '__subclasshook__',\n",
       " 'close',\n",
       " 'gi_code',\n",
       " 'gi_frame',\n",
       " 'gi_running',\n",
       " 'gi_yieldfrom',\n",
       " 'send',\n",
       " 'throw']"
      ]
     },
     "execution_count": 88,
     "metadata": {},
     "output_type": "execute_result"
    }
   ],
   "source": [
    "mg=myGen()\n",
    "dir(mg)"
   ]
  },
  {
   "cell_type": "code",
   "execution_count": 89,
   "metadata": {},
   "outputs": [],
   "source": [
    "# keras.io->ImageDataGenerator"
   ]
  },
  {
   "cell_type": "code",
   "execution_count": 90,
   "metadata": {},
   "outputs": [],
   "source": [
    "#1.이미지제너레이터 클래스 객체 생성\n",
    "#2. flow_from_directory() 호출 -> 제너레이터 생성\n",
    "\n",
    "from keras.preprocessing.image import ImageDataGenerator"
   ]
  },
  {
   "cell_type": "code",
   "execution_count": 103,
   "metadata": {},
   "outputs": [
    {
     "name": "stdout",
     "output_type": "stream",
     "text": [
      "Found 45 images belonging to 3 classes.\n"
     ]
    }
   ],
   "source": [
    "trainDataGen=ImageDataGenerator(rescale=1./255)\n",
    "trainGenerator=trainDataGen.flow_from_directory(\n",
    "    'C:/Users/student/Downloads/Python_JP/do/train',\n",
    "    target_size=(24,24),\n",
    "    batch_size=3,\n",
    "    class_mode='categorical'\n",
    ")"
   ]
  },
  {
   "cell_type": "code",
   "execution_count": 104,
   "metadata": {},
   "outputs": [
    {
     "name": "stdout",
     "output_type": "stream",
     "text": [
      "Found 15 images belonging to 3 classes.\n"
     ]
    }
   ],
   "source": [
    "testDataGen=ImageDataGenerator(rescale=1./255)\n",
    "testGenerator=testDataGen.flow_from_directory(\n",
    "    'C:/Users/student/Downloads/Python_JP/do/test',\n",
    "    target_size=(24,24),\n",
    "    batch_size=3,\n",
    "    class_mode='categorical'\n",
    ")"
   ]
  },
  {
   "cell_type": "code",
   "execution_count": 105,
   "metadata": {},
   "outputs": [],
   "source": [
    "#크기(24,24), 채널:3, 필터:3*3, 필터개수:32, relu\n",
    "model=Sequential()\n",
    "model.add(Conv2D(32,kernel_size=(3,3),\n",
    "                activation='relu',\n",
    "                input_shape=(24,24,3)))\n",
    "#필터:3*3, 필터개수:64, relu\n",
    "model.add(Conv2D(64,kernel_size=(3,3),\n",
    "                activation='relu'))\n",
    "#maxpool:2*2\n",
    "model.add(MaxPooling2D(pool_size=(2,2)))\n",
    "#플래튼->Dense(128개 뉴런 출력)->Dense(softmax)\n",
    "model.add(Flatten())\n",
    "model.add(Dense(128,activation='relu'))\n",
    "model.add(Dense(3,activation='softmax'))"
   ]
  },
  {
   "cell_type": "code",
   "execution_count": 106,
   "metadata": {},
   "outputs": [
    {
     "name": "stdout",
     "output_type": "stream",
     "text": [
      "Model: \"sequential_7\"\n",
      "_________________________________________________________________\n",
      "Layer (type)                 Output Shape              Param #   \n",
      "=================================================================\n",
      "conv2d_5 (Conv2D)            (None, 22, 22, 32)        896       \n",
      "_________________________________________________________________\n",
      "conv2d_6 (Conv2D)            (None, 20, 20, 64)        18496     \n",
      "_________________________________________________________________\n",
      "max_pooling2d_3 (MaxPooling2 (None, 10, 10, 64)        0         \n",
      "_________________________________________________________________\n",
      "flatten_3 (Flatten)          (None, 6400)              0         \n",
      "_________________________________________________________________\n",
      "dense_10 (Dense)             (None, 128)               819328    \n",
      "_________________________________________________________________\n",
      "dense_11 (Dense)             (None, 3)                 387       \n",
      "=================================================================\n",
      "Total params: 839,107\n",
      "Trainable params: 839,107\n",
      "Non-trainable params: 0\n",
      "_________________________________________________________________\n"
     ]
    }
   ],
   "source": [
    "model.summary()\n",
    "#84만개의 파라미터 학습"
   ]
  },
  {
   "cell_type": "code",
   "execution_count": 107,
   "metadata": {},
   "outputs": [],
   "source": [
    "#모델 학습 설정\n",
    "model.compile(loss='categorical_crossentropy',\n",
    "             optimizer='adam',\n",
    "             metrics=['accuracy'])"
   ]
  },
  {
   "cell_type": "code",
   "execution_count": 108,
   "metadata": {},
   "outputs": [
    {
     "name": "stdout",
     "output_type": "stream",
     "text": [
      "Epoch 1/50\n",
      "15/15 [==============================] - 1s 42ms/step - loss: 1.1000 - accuracy: 0.5333 - val_loss: 0.7257 - val_accuracy: 1.0000\n",
      "Epoch 2/50\n",
      "15/15 [==============================] - 0s 16ms/step - loss: 0.3387 - accuracy: 0.9778 - val_loss: 0.0313 - val_accuracy: 0.9333\n",
      "Epoch 3/50\n",
      "15/15 [==============================] - 0s 19ms/step - loss: 0.0724 - accuracy: 0.9778 - val_loss: 0.0157 - val_accuracy: 0.9333\n",
      "Epoch 4/50\n",
      "15/15 [==============================] - 0s 18ms/step - loss: 0.0117 - accuracy: 1.0000 - val_loss: 0.0735 - val_accuracy: 1.0000\n",
      "Epoch 5/50\n",
      "15/15 [==============================] - 0s 18ms/step - loss: 0.0020 - accuracy: 1.0000 - val_loss: 8.7950e-04 - val_accuracy: 1.0000\n",
      "Epoch 6/50\n",
      "15/15 [==============================] - 0s 18ms/step - loss: 0.0014 - accuracy: 1.0000 - val_loss: 0.0028 - val_accuracy: 1.0000\n",
      "Epoch 7/50\n",
      "15/15 [==============================] - 0s 18ms/step - loss: 6.7148e-04 - accuracy: 1.0000 - val_loss: 0.0248 - val_accuracy: 1.0000\n",
      "Epoch 8/50\n",
      "15/15 [==============================] - 0s 18ms/step - loss: 4.9527e-04 - accuracy: 1.0000 - val_loss: 0.0275 - val_accuracy: 1.0000\n",
      "Epoch 9/50\n",
      "15/15 [==============================] - 0s 18ms/step - loss: 4.0839e-04 - accuracy: 1.0000 - val_loss: 0.0261 - val_accuracy: 1.0000\n",
      "Epoch 10/50\n",
      "15/15 [==============================] - 0s 18ms/step - loss: 3.6249e-04 - accuracy: 1.0000 - val_loss: 0.0047 - val_accuracy: 1.0000\n",
      "Epoch 11/50\n",
      "15/15 [==============================] - 0s 19ms/step - loss: 3.1160e-04 - accuracy: 1.0000 - val_loss: 8.1159e-04 - val_accuracy: 1.0000\n",
      "Epoch 12/50\n",
      "15/15 [==============================] - 0s 19ms/step - loss: 2.7960e-04 - accuracy: 1.0000 - val_loss: 9.3398e-04 - val_accuracy: 1.0000\n",
      "Epoch 13/50\n",
      "15/15 [==============================] - 0s 18ms/step - loss: 2.5165e-04 - accuracy: 1.0000 - val_loss: 0.0195 - val_accuracy: 1.0000\n",
      "Epoch 14/50\n",
      "15/15 [==============================] - 0s 18ms/step - loss: 2.2504e-04 - accuracy: 1.0000 - val_loss: 0.0859 - val_accuracy: 1.0000\n",
      "Epoch 15/50\n",
      "15/15 [==============================] - 0s 19ms/step - loss: 2.0301e-04 - accuracy: 1.0000 - val_loss: 2.8093e-04 - val_accuracy: 1.0000\n",
      "Epoch 16/50\n",
      "15/15 [==============================] - 0s 17ms/step - loss: 1.8610e-04 - accuracy: 1.0000 - val_loss: 8.0684e-04 - val_accuracy: 1.0000\n",
      "Epoch 17/50\n",
      "15/15 [==============================] - 0s 19ms/step - loss: 1.6840e-04 - accuracy: 1.0000 - val_loss: 7.8640e-04 - val_accuracy: 1.0000\n",
      "Epoch 18/50\n",
      "15/15 [==============================] - 0s 18ms/step - loss: 1.5444e-04 - accuracy: 1.0000 - val_loss: 1.6401e-04 - val_accuracy: 1.0000\n",
      "Epoch 19/50\n",
      "15/15 [==============================] - 0s 18ms/step - loss: 1.4145e-04 - accuracy: 1.0000 - val_loss: 0.1061 - val_accuracy: 1.0000\n",
      "Epoch 20/50\n",
      "15/15 [==============================] - 0s 19ms/step - loss: 1.3140e-04 - accuracy: 1.0000 - val_loss: 0.0177 - val_accuracy: 1.0000\n",
      "Epoch 21/50\n",
      "15/15 [==============================] - 0s 18ms/step - loss: 1.2222e-04 - accuracy: 1.0000 - val_loss: 0.0176 - val_accuracy: 1.0000\n",
      "Epoch 22/50\n",
      "15/15 [==============================] - 0s 19ms/step - loss: 1.1246e-04 - accuracy: 1.0000 - val_loss: 0.0162 - val_accuracy: 1.0000\n",
      "Epoch 23/50\n",
      "15/15 [==============================] - 0s 18ms/step - loss: 1.0411e-04 - accuracy: 1.0000 - val_loss: 0.0029 - val_accuracy: 1.0000\n",
      "Epoch 24/50\n",
      "15/15 [==============================] - 0s 17ms/step - loss: 9.6398e-05 - accuracy: 1.0000 - val_loss: 0.0154 - val_accuracy: 1.0000\n",
      "Epoch 25/50\n",
      "15/15 [==============================] - 0s 18ms/step - loss: 8.9949e-05 - accuracy: 1.0000 - val_loss: 4.6650e-04 - val_accuracy: 1.0000\n",
      "Epoch 26/50\n",
      "15/15 [==============================] - 0s 18ms/step - loss: 8.3850e-05 - accuracy: 1.0000 - val_loss: 4.7364e-05 - val_accuracy: 1.0000\n",
      "Epoch 27/50\n",
      "15/15 [==============================] - 0s 18ms/step - loss: 7.8243e-05 - accuracy: 1.0000 - val_loss: 0.0134 - val_accuracy: 1.0000\n",
      "Epoch 28/50\n",
      "15/15 [==============================] - 0s 18ms/step - loss: 7.2901e-05 - accuracy: 1.0000 - val_loss: 7.2476e-05 - val_accuracy: 1.0000\n",
      "Epoch 29/50\n",
      "15/15 [==============================] - 0s 18ms/step - loss: 6.8816e-05 - accuracy: 1.0000 - val_loss: 7.4224e-05 - val_accuracy: 1.0000\n",
      "Epoch 30/50\n",
      "15/15 [==============================] - 0s 19ms/step - loss: 6.4004e-05 - accuracy: 1.0000 - val_loss: 0.0861 - val_accuracy: 1.0000\n",
      "Epoch 31/50\n",
      "15/15 [==============================] - 0s 17ms/step - loss: 6.0264e-05 - accuracy: 1.0000 - val_loss: 0.0022 - val_accuracy: 1.0000\n",
      "Epoch 32/50\n",
      "15/15 [==============================] - 0s 18ms/step - loss: 5.6800e-05 - accuracy: 1.0000 - val_loss: 0.0112 - val_accuracy: 1.0000\n",
      "Epoch 33/50\n",
      "15/15 [==============================] - 0s 18ms/step - loss: 5.3092e-05 - accuracy: 1.0000 - val_loss: 0.0897 - val_accuracy: 1.0000\n",
      "Epoch 34/50\n",
      "15/15 [==============================] - 0s 18ms/step - loss: 4.9993e-05 - accuracy: 1.0000 - val_loss: 3.0100e-04 - val_accuracy: 1.0000\n",
      "Epoch 35/50\n",
      "15/15 [==============================] - 0s 18ms/step - loss: 4.7005e-05 - accuracy: 1.0000 - val_loss: 0.0117 - val_accuracy: 1.0000\n",
      "Epoch 36/50\n",
      "15/15 [==============================] - 0s 18ms/step - loss: 4.4714e-05 - accuracy: 1.0000 - val_loss: 5.4874e-05 - val_accuracy: 1.0000\n",
      "Epoch 37/50\n",
      "15/15 [==============================] - 0s 19ms/step - loss: 4.2401e-05 - accuracy: 1.0000 - val_loss: 0.0018 - val_accuracy: 1.0000\n",
      "Epoch 38/50\n",
      "15/15 [==============================] - 0s 18ms/step - loss: 4.0184e-05 - accuracy: 1.0000 - val_loss: 0.0799 - val_accuracy: 1.0000\n",
      "Epoch 39/50\n",
      "15/15 [==============================] - 0s 17ms/step - loss: 3.7986e-05 - accuracy: 1.0000 - val_loss: 0.0844 - val_accuracy: 1.0000\n",
      "Epoch 40/50\n",
      "15/15 [==============================] - 0s 18ms/step - loss: 3.5830e-05 - accuracy: 1.0000 - val_loss: 2.3456e-04 - val_accuracy: 1.0000\n",
      "Epoch 41/50\n",
      "15/15 [==============================] - 0s 18ms/step - loss: 3.3878e-05 - accuracy: 1.0000 - val_loss: 1.9868e-05 - val_accuracy: 1.0000\n",
      "Epoch 42/50\n",
      "15/15 [==============================] - 0s 18ms/step - loss: 3.2336e-05 - accuracy: 1.0000 - val_loss: 2.0511e-04 - val_accuracy: 1.0000\n",
      "Epoch 43/50\n",
      "15/15 [==============================] - 0s 18ms/step - loss: 3.0760e-05 - accuracy: 1.0000 - val_loss: 4.1245e-05 - val_accuracy: 1.0000\n",
      "Epoch 44/50\n",
      "15/15 [==============================] - 0s 18ms/step - loss: 2.9189e-05 - accuracy: 1.0000 - val_loss: 3.9729e-04 - val_accuracy: 1.0000\n",
      "Epoch 45/50\n",
      "15/15 [==============================] - 0s 18ms/step - loss: 2.7891e-05 - accuracy: 1.0000 - val_loss: 3.6389e-04 - val_accuracy: 1.0000\n",
      "Epoch 46/50\n",
      "15/15 [==============================] - 0s 18ms/step - loss: 2.7028e-05 - accuracy: 1.0000 - val_loss: 2.6424e-05 - val_accuracy: 1.0000\n",
      "Epoch 47/50\n",
      "15/15 [==============================] - 0s 18ms/step - loss: 2.5332e-05 - accuracy: 1.0000 - val_loss: 2.2888e-05 - val_accuracy: 1.0000\n",
      "Epoch 48/50\n",
      "15/15 [==============================] - 0s 17ms/step - loss: 2.4212e-05 - accuracy: 1.0000 - val_loss: 0.0111 - val_accuracy: 1.0000\n",
      "Epoch 49/50\n",
      "15/15 [==============================] - 0s 18ms/step - loss: 2.2993e-05 - accuracy: 1.0000 - val_loss: 0.0017 - val_accuracy: 1.0000\n",
      "Epoch 50/50\n",
      "15/15 [==============================] - 0s 17ms/step - loss: 2.2140e-05 - accuracy: 1.0000 - val_loss: 2.6504e-05 - val_accuracy: 1.0000\n"
     ]
    },
    {
     "data": {
      "text/plain": [
       "<keras.callbacks.callbacks.History at 0x1eb844718c8>"
      ]
     },
     "execution_count": 108,
     "metadata": {},
     "output_type": "execute_result"
    }
   ],
   "source": [
    "#fit_generator():제너레이터로 생성된 데이터 학습\n",
    "model.fit_generator(\n",
    "    trainGenerator,#훈련데이터 제너레이터 \n",
    "    steps_per_epoch=15,\n",
    "    epochs=50,\n",
    "    validation_data=testGenerator,\n",
    "    validation_steps=5\n",
    ")"
   ]
  },
  {
   "cell_type": "code",
   "execution_count": 111,
   "metadata": {},
   "outputs": [
    {
     "name": "stdout",
     "output_type": "stream",
     "text": [
      "[2.6503703338676132e-05, 1.0]\n"
     ]
    }
   ],
   "source": [
    "scores=model.evaluate_generator(\n",
    "    testGenerator,\n",
    "    steps=5\n",
    ")\n",
    "print(scores)"
   ]
  },
  {
   "cell_type": "code",
   "execution_count": 112,
   "metadata": {},
   "outputs": [
    {
     "name": "stdout",
     "output_type": "stream",
     "text": [
      "[[7.5996511e-02 7.9329872e-01 1.3070472e-01]\n",
      " [2.1834287e-10 5.1622578e-06 9.9999487e-01]\n",
      " [2.9969416e-09 1.9209038e-07 9.9999976e-01]\n",
      " [9.9946839e-01 1.7913061e-04 3.5253828e-04]\n",
      " [3.6596336e-06 3.2551974e-02 9.6744442e-01]\n",
      " [1.0671573e-07 4.0434385e-05 9.9995947e-01]\n",
      " [7.8261746e-07 4.7530374e-03 9.9524623e-01]\n",
      " [1.1764277e-05 9.9998367e-01 4.5594284e-06]\n",
      " [5.2326359e-06 9.9999475e-01 2.5787234e-08]\n",
      " [2.9889738e-06 9.9999678e-01 2.7635883e-07]\n",
      " [9.9956614e-01 4.2805800e-04 5.8008413e-06]\n",
      " [9.9996459e-01 3.5297591e-05 9.5731224e-08]\n",
      " [9.9999583e-01 4.1979306e-06 4.1153886e-08]\n",
      " [4.4970755e-05 9.9995458e-01 4.2975563e-07]\n",
      " [9.9997008e-01 2.9083028e-05 8.5008503e-07]]\n"
     ]
    }
   ],
   "source": [
    "res=model.predict_generator(\n",
    "    testGenerator,\n",
    "    steps=5\n",
    ")\n",
    "print(res)"
   ]
  },
  {
   "cell_type": "code",
   "execution_count": 113,
   "metadata": {},
   "outputs": [
    {
     "data": {
      "text/plain": [
       "'\\n-rotaion_range : 회전, 90(0~90도 사이 랜덤)\\n-width_shift_range : 이동, 0~1사이의 비율, 0.1(이미지 너비의 10% 좌/우 랜덤 이동)\\n막혀있으면 이미지 잘림\\n-height_shift_ragne : 이동, 0~1사이의 비율, 0.1(이미지 너비의 10% 상/하 랜덤 이동)\\n-shear_range : 변형, 라디안, 0.5(반시계방향 밀어서 변행) \\n-zoom_range : 축소, 0.3(0.7~1.3 사이의 크기로 랜덤하게...)\\n-horizontal_flip : 수평축으로 뒤집기\\n-vertical_flip : 수직축으로 뒤집기\\n'"
      ]
     },
     "execution_count": 113,
     "metadata": {},
     "output_type": "execute_result"
    }
   ],
   "source": [
    "\"\"\"\n",
    "-rotaion_range : 회전, 90(0~90도 사이 랜덤)\n",
    "-width_shift_range : 이동, 0~1사이의 비율, 0.1(이미지 너비의 10% 좌/우 랜덤 이동)\n",
    "막혀있으면 이미지 잘림\n",
    "-height_shift_ragne : 이동, 0~1사이의 비율, 0.1(이미지 너비의 10% 상/하 랜덤 이동)\n",
    "-shear_range : 변형, 라디안, 0.5(반시계방향 밀어서 변행) \n",
    "-zoom_range : 축소, 0.3(0.7~1.3 사이의 크기로 랜덤하게...)\n",
    "-horizontal_flip : 수평축으로 뒤집기\n",
    "-vertical_flip : 수직축으로 뒤집기\n",
    "\"\"\""
   ]
  },
  {
   "cell_type": "code",
   "execution_count": 114,
   "metadata": {},
   "outputs": [],
   "source": [
    "from keras.preprocessing.image import array_to_img, img_to_array,load_img"
   ]
  },
  {
   "cell_type": "code",
   "execution_count": 115,
   "metadata": {},
   "outputs": [],
   "source": [
    "augGen=ImageDataGenerator(rescale=1./255,\n",
    "                  rotation_range=15,\n",
    "                   width_shift_range=0.1,\n",
    "                   height_shift_range=0.1,\n",
    "                   shear_range=0.5,\n",
    "                   zoom_range=[0.8,2.0],#0.8배~2배 사이\n",
    "                   horizontal_flip=True,\n",
    "                   vertical_flip=True,\n",
    "                   fill_mode='nearest'#테두리가 옅은색상??                   \n",
    "                  )"
   ]
  },
  {
   "cell_type": "code",
   "execution_count": 116,
   "metadata": {},
   "outputs": [],
   "source": [
    "img=load_img('C:/Users/student/Downloads/Python_JP/do/train/triangle/triangle001.png')"
   ]
  },
  {
   "cell_type": "code",
   "execution_count": 121,
   "metadata": {},
   "outputs": [
    {
     "data": {
      "text/plain": [
       "(1, 24, 24, 3)"
      ]
     },
     "execution_count": 121,
     "metadata": {},
     "output_type": "execute_result"
    }
   ],
   "source": [
    "x=img_to_array(img)\n",
    "x.shape # 24,24,3\n",
    "x=x.reshape((1,)+x.shape)\n",
    "x.shape # 1, 24, 24, 3"
   ]
  },
  {
   "cell_type": "code",
   "execution_count": 122,
   "metadata": {},
   "outputs": [],
   "source": [
    "i=0\n",
    "for batch in augGen.flow(x,batch_size=1,\n",
    "                         save_to_dir='C:/Users/student/Downloads/Python_JP/store',\n",
    "                         save_prefix='tri',\n",
    "                         save_format='png'):\n",
    "    i+=1\n",
    "    if i>50:\n",
    "        break"
   ]
  },
  {
   "cell_type": "code",
   "execution_count": null,
   "metadata": {},
   "outputs": [],
   "source": []
  }
 ],
 "metadata": {
  "kernelspec": {
   "display_name": "Python 3",
   "language": "python",
   "name": "python3"
  },
  "language_info": {
   "codemirror_mode": {
    "name": "ipython",
    "version": 3
   },
   "file_extension": ".py",
   "mimetype": "text/x-python",
   "name": "python",
   "nbconvert_exporter": "python",
   "pygments_lexer": "ipython3",
   "version": "3.7.4"
  }
 },
 "nbformat": 4,
 "nbformat_minor": 2
}
