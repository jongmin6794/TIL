{
 "cells": [
  {
   "cell_type": "code",
   "execution_count": 100,
   "metadata": {
    "scrolled": true
   },
   "outputs": [
    {
     "name": "stdout",
     "output_type": "stream",
     "text": [
      "6 1\n",
      "3 2 1 1 2 3\n",
      "3 2 2 1 2 3\n",
      "3 2 2 2 3 3\n",
      "3 3 3 3 3 3\n",
      "3 3 3 3 2 2\n",
      "3 3 3 3 2 2\n",
      "[[3, 2, 1, 1, 2, 3], [3, 2, 2, 1, 2, 3], [3, 2, 2, 2, 3, 3], [3, 3, 3, 3, 3, 3], [3, 3, 3, 3, 2, 2], [3, 3, 3, 3, 2, 2]]\n"
     ]
    }
   ],
   "source": [
    "N,L=map(int, input().split())\n",
    "arr=[list(map(int,input().split())) for i in range(N)]\n",
    "print(arr)"
   ]
  },
  {
   "cell_type": "code",
   "execution_count": 114,
   "metadata": {},
   "outputs": [
    {
     "name": "stdout",
     "output_type": "stream",
     "text": [
      "11\n"
     ]
    }
   ],
   "source": [
    "cnt = 0\n",
    "bo = False\n",
    "listL = []\n",
    "for i in range(N):\n",
    "    for j in range(N - 1):\n",
    "        if L==1:\n",
    "            if arr[i][j] == arr[i][j + 1]:\n",
    "                bo = True\n",
    "            elif arr[i][j]-arr[i][j+1]==1:\n",
    "                k=j+1\n",
    "                if k+1<N and arr[i][k]-arr[i][k+1]<=-1:\n",
    "                    bo=False\n",
    "                    break\n",
    "            elif abs(arr[i][j]-arr[i][j+1])>1:\n",
    "                bo=False\n",
    "                break\n",
    "            bo=True\n",
    "        elif L>=2 and L<=N:\n",
    "            if arr[i][j] == arr[i][j + 1]:\n",
    "                bo = True\n",
    "            elif arr[i][j] - arr[i][j + 1] == -1:\n",
    "                k = j\n",
    "                for p in range(L):\n",
    "                    if p == L - 1:\n",
    "                        if k in listL:\n",
    "                            bo = False\n",
    "                            break\n",
    "                        continue\n",
    "                    if k - 1 >= 0 and arr[i][k] == arr[i][k - 1]:\n",
    "                        if k in listL:\n",
    "                            bo = False\n",
    "                            break\n",
    "                        bo = True\n",
    "                        k -= 1\n",
    "                    else:\n",
    "                        bo = False\n",
    "                        break\n",
    "                if bo == True:\n",
    "                    for _ in range(L):\n",
    "                        listL.append((k))\n",
    "                        k += 1\n",
    "            elif arr[i][j] - arr[i][j + 1] == 1:\n",
    "                k = j + 1\n",
    "                for p in range(L):\n",
    "                    if p == L - 1:\n",
    "                        if k in listL:\n",
    "                            bo = False\n",
    "                            break\n",
    "                        continue\n",
    "                    if k + 1 < N and arr[i][k] == arr[i][k + 1]:\n",
    "                        if k in listL:\n",
    "                            bo = False\n",
    "                            break\n",
    "                        bo = True\n",
    "                        k += 1\n",
    "                    else:\n",
    "                        bo = False\n",
    "                        break\n",
    "                if bo == True:\n",
    "                    for _ in range(L):\n",
    "                        listL.append((k))\n",
    "                        k -= 1\n",
    "            else:\n",
    "                bo = False\n",
    "            if bo == False:\n",
    "                break\n",
    "        else:\n",
    "            bo=False\n",
    "        if bo==False:\n",
    "            break\n",
    "    if bo == True:\n",
    "#         print(arr[i])\n",
    "        cnt += 1\n",
    "    for p in range(len(listL) - 1, -1, -1):\n",
    "        del listL[p]\n",
    "\n",
    "for i in range(N):\n",
    "    for j in range(N - 1):\n",
    "        if L==1:\n",
    "            if arr[j][i] == arr[j+1][i]:\n",
    "                bo = True\n",
    "            elif arr[j][i]-arr[j+1][i]==1:\n",
    "                k=j+1\n",
    "                if k+1<N and arr[k][i]-arr[k+1][i]<=-1:\n",
    "                    bo=False\n",
    "                    break\n",
    "            elif abs(arr[j][i]-arr[j+1][i])>1:\n",
    "                bo=False\n",
    "                break\n",
    "            bo=True\n",
    "        elif L>=2 and L<=N:\n",
    "            if arr[j][i] == arr[j + 1][i]:\n",
    "                bo = True\n",
    "            elif arr[j][i] - arr[j + 1][i] == -1:\n",
    "                k = j\n",
    "                for p in range(L):\n",
    "                    if p == L - 1:\n",
    "                        if k in listL:\n",
    "                            bo = False\n",
    "                            break\n",
    "                        continue\n",
    "                    if arr[k][i] == arr[k - 1][i] and k - 1 >= 0:\n",
    "                        if k in listL:\n",
    "                            bo = False\n",
    "                            break\n",
    "                        bo = True\n",
    "                        k -= 1\n",
    "                    else:\n",
    "                        bo = False\n",
    "                        break\n",
    "                if bo == True:\n",
    "                    for _ in range(L):\n",
    "                        listL.append((k))\n",
    "                        k += 1\n",
    "            elif arr[j][i] - arr[j + 1][i] == 1:\n",
    "                k = j + 1\n",
    "                for p in range(L):\n",
    "                    if p == L - 1:\n",
    "                        if k in listL:\n",
    "                            bo = False\n",
    "                            break\n",
    "                        continue\n",
    "                    if k + 1 < N and arr[k][i] == arr[k + 1][i]:\n",
    "                        if k in listL:\n",
    "                            bo = False\n",
    "                            break\n",
    "                        bo = True\n",
    "                        k += 1\n",
    "                    else:\n",
    "                        bo = False\n",
    "                        break\n",
    "                if bo == True:\n",
    "                    for _ in range(L):\n",
    "                        listL.append((k))\n",
    "                        k -= 1\n",
    "            else:\n",
    "                bo = False\n",
    "            if bo == False:\n",
    "                break\n",
    "        else:\n",
    "            bo=False\n",
    "        if bo==False:\n",
    "            break\n",
    "    if bo == True:\n",
    "#         print(i)\n",
    "        cnt += 1\n",
    "    for p in range(len(listL) - 1, -1, -1):\n",
    "        del listL[p]\n",
    "# print(listL)\n",
    "print(cnt)"
   ]
  },
  {
   "cell_type": "code",
   "execution_count": 64,
   "metadata": {},
   "outputs": [
    {
     "data": {
      "text/plain": [
       "[0, 1, 2, 3, 4]"
      ]
     },
     "execution_count": 64,
     "metadata": {},
     "output_type": "execute_result"
    }
   ],
   "source": [
    "a=[]\n",
    "for i in range(5):\n",
    "    a.append(i)\n",
    "a"
   ]
  },
  {
   "cell_type": "code",
   "execution_count": 65,
   "metadata": {},
   "outputs": [
    {
     "data": {
      "text/plain": [
       "[]"
      ]
     },
     "execution_count": 65,
     "metadata": {},
     "output_type": "execute_result"
    }
   ],
   "source": [
    "for i in range(len(a)-1,-1,-1):\n",
    "    del a[i]\n",
    "a"
   ]
  },
  {
   "cell_type": "code",
   "execution_count": 66,
   "metadata": {},
   "outputs": [
    {
     "data": {
      "text/plain": [
       "[0, 1, 2]"
      ]
     },
     "execution_count": 66,
     "metadata": {},
     "output_type": "execute_result"
    }
   ],
   "source": [
    "for i in range(3):\n",
    "    a.append(i)\n",
    "a"
   ]
  },
  {
   "cell_type": "code",
   "execution_count": 89,
   "metadata": {},
   "outputs": [
    {
     "name": "stdout",
     "output_type": "stream",
     "text": [
      "0\n",
      "1\n",
      "ㅇㅇ\n",
      "3\n",
      "4\n"
     ]
    }
   ],
   "source": [
    "for i in range(5):\n",
    "    if i==2:\n",
    "        print(\"ㅇㅇ\")\n",
    "        continue\n",
    "    print(i)"
   ]
  },
  {
   "cell_type": "code",
   "execution_count": null,
   "metadata": {},
   "outputs": [],
   "source": []
  }
 ],
 "metadata": {
  "kernelspec": {
   "display_name": "Python 3",
   "language": "python",
   "name": "python3"
  },
  "language_info": {
   "codemirror_mode": {
    "name": "ipython",
    "version": 3
   },
   "file_extension": ".py",
   "mimetype": "text/x-python",
   "name": "python",
   "nbconvert_exporter": "python",
   "pygments_lexer": "ipython3",
   "version": "3.7.4"
  }
 },
 "nbformat": 4,
 "nbformat_minor": 2
}
