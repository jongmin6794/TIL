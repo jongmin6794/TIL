{
 "cells": [
  {
   "cell_type": "code",
   "execution_count": 1,
   "metadata": {},
   "outputs": [],
   "source": [
    "import re\n",
    "from lxml import etree #파서\n",
    "from nltk.tokenize import word_tokenize, sent_tokenize"
   ]
  },
  {
   "cell_type": "code",
   "execution_count": 3,
   "metadata": {},
   "outputs": [],
   "source": [
    "targetText=etree.parse(open('C:/Users/student/Downloads/Python_JP/word2vec/\n",
    "                            ted_en-20160408.xml','r',encoding='utf-8'))"
   ]
  },
  {
   "cell_type": "code",
   "execution_count": 6,
   "metadata": {},
   "outputs": [],
   "source": [
    "parseText=\"\\n\".join(targetText.xpath(\"//content/text()\"))"
   ]
  },
  {
   "cell_type": "code",
   "execution_count": 7,
   "metadata": {},
   "outputs": [
    {
     "data": {
      "text/plain": [
       "\"Here are two reasons companies fail: they only do more of the same, or they only do what's new.\\nTo m\""
      ]
     },
     "execution_count": 7,
     "metadata": {},
     "output_type": "execute_result"
    }
   ],
   "source": [
    "parseText[:100]"
   ]
  },
  {
   "cell_type": "code",
   "execution_count": 8,
   "metadata": {},
   "outputs": [],
   "source": [
    "contentText=re.sub('\\([^)]*\\)','',parseText)\n",
    "#(배경음) 제거"
   ]
  },
  {
   "cell_type": "code",
   "execution_count": 10,
   "metadata": {},
   "outputs": [],
   "source": [
    "sentText=sent_tokenize(contentText)\n",
    "#문장 단위 토근화"
   ]
  },
  {
   "cell_type": "code",
   "execution_count": 12,
   "metadata": {},
   "outputs": [],
   "source": [
    "#대문자 => 소문자, 구두점 제거(영문, 숫자 제외)\n",
    "normalizedText=[]\n",
    "for sent in sentText:\n",
    "    tokens=re.sub(\"[^a-z0-9]+\",\" \",sent.lower())\n",
    "    normalizedText.append(tokens)\n",
    "result=[word_tokenize(s) for s in normalizedText]"
   ]
  },
  {
   "cell_type": "code",
   "execution_count": 13,
   "metadata": {},
   "outputs": [
    {
     "data": {
      "text/plain": [
       "273424"
      ]
     },
     "execution_count": 13,
     "metadata": {},
     "output_type": "execute_result"
    }
   ],
   "source": [
    "len(result)#27만여개의 문장으로 구성되어 있다."
   ]
  },
  {
   "cell_type": "code",
   "execution_count": 14,
   "metadata": {},
   "outputs": [
    {
     "name": "stdout",
     "output_type": "stream",
     "text": [
      "['here', 'are', 'two', 'reasons', 'companies', 'fail', 'they', 'only', 'do', 'more', 'of', 'the', 'same', 'or', 'they', 'only', 'do', 'what', 's', 'new']\n",
      "['to', 'me', 'the', 'real', 'real', 'solution', 'to', 'quality', 'growth', 'is', 'figuring', 'out', 'the', 'balance', 'between', 'two', 'activities', 'exploration', 'and', 'exploitation']\n",
      "['both', 'are', 'necessary', 'but', 'it', 'can', 'be', 'too', 'much', 'of', 'a', 'good', 'thing']\n",
      "['consider', 'facit']\n",
      "['i', 'm', 'actually', 'old', 'enough', 'to', 'remember', 'them']\n"
     ]
    }
   ],
   "source": [
    "for i in result[:5]:\n",
    "    print(i)"
   ]
  },
  {
   "cell_type": "code",
   "execution_count": 16,
   "metadata": {},
   "outputs": [],
   "source": [
    "from gensim.models import Word2Vec"
   ]
  },
  {
   "cell_type": "code",
   "execution_count": 19,
   "metadata": {},
   "outputs": [],
   "source": [
    "model=Word2Vec(sentences=result,size=100, window=5,min_count=5, workers=4, sg=0)\n",
    "# workers 사용 cpu 수"
   ]
  },
  {
   "cell_type": "code",
   "execution_count": 21,
   "metadata": {},
   "outputs": [
    {
     "data": {
      "text/plain": [
       "[('girl', 0.9269815683364868),\n",
       " ('kid', 0.8473111391067505),\n",
       " ('woman', 0.7955806255340576),\n",
       " ('lady', 0.769762396812439),\n",
       " ('man', 0.7537623643875122),\n",
       " ('mary', 0.7387893795967102),\n",
       " ('brother', 0.7174520492553711),\n",
       " ('baby', 0.7137607336044312),\n",
       " ('sister', 0.7119635939598083),\n",
       " ('daughter', 0.7047911882400513)]"
      ]
     },
     "execution_count": 21,
     "metadata": {},
     "output_type": "execute_result"
    }
   ],
   "source": [
    "# 임베딩 벡터 차원\n",
    "# window : 윈도우 크기\n",
    "# mincount : 최소 5번 이상 등장한 단어\n",
    "# sg : 스킵그램(1), CBOW(0)\n",
    "model.wv.most_similar(\"boy\")#코사인 유사도"
   ]
  },
  {
   "cell_type": "code",
   "execution_count": 22,
   "metadata": {},
   "outputs": [
    {
     "data": {
      "text/plain": [
       "[('machine', 0.72453373670578),\n",
       " ('robot', 0.7139339447021484),\n",
       " ('software', 0.7002605199813843),\n",
       " ('camera', 0.6882902383804321),\n",
       " ('device', 0.6759814023971558),\n",
       " ('program', 0.6723119020462036),\n",
       " ('chip', 0.6658679246902466),\n",
       " ('video', 0.6602218151092529),\n",
       " ('3d', 0.6443661451339722),\n",
       " ('simulation', 0.6402535438537598),\n",
       " ('printer', 0.6360318660736084),\n",
       " ('game', 0.6340721845626831),\n",
       " ('mri', 0.6296935081481934),\n",
       " ('film', 0.6255951523780823),\n",
       " ('keyboard', 0.6254303455352783),\n",
       " ('satellite', 0.6119908690452576),\n",
       " ('interface', 0.6109451055526733),\n",
       " ('mechanical', 0.604297935962677),\n",
       " ('prototype', 0.6041160821914673),\n",
       " ('laser', 0.6016864776611328)]"
      ]
     },
     "execution_count": 22,
     "metadata": {},
     "output_type": "execute_result"
    }
   ],
   "source": [
    "model.wv.most_similar(positive=[\"computer\"],topn=20)"
   ]
  },
  {
   "cell_type": "code",
   "execution_count": 26,
   "metadata": {
    "scrolled": true
   },
   "outputs": [
    {
     "data": {
      "text/plain": [
       "[('systems', 0.47946661710739136),\n",
       " ('produce', 0.43199098110198975),\n",
       " ('energy', 0.43111786246299744),\n",
       " ('patterns', 0.4256565272808075),\n",
       " ('resources', 0.42428404092788696),\n",
       " ('solutions', 0.4215591549873352),\n",
       " ('processes', 0.41838401556015015),\n",
       " ('changes', 0.41782963275909424),\n",
       " ('materials', 0.4142676293849945),\n",
       " ('plants', 0.4113004505634308),\n",
       " ('sustainable', 0.40496277809143066),\n",
       " ('adapt', 0.40224066376686096),\n",
       " ('create', 0.4010557532310486),\n",
       " ('manage', 0.39487361907958984),\n",
       " ('devices', 0.3931465744972229),\n",
       " ('complex', 0.3887389600276947),\n",
       " ('generate', 0.38739949464797974),\n",
       " ('improve', 0.38722285628318787),\n",
       " ('develop', 0.386164128780365),\n",
       " ('gain', 0.3859475255012512)]"
      ]
     },
     "execution_count": 26,
     "metadata": {},
     "output_type": "execute_result"
    }
   ],
   "source": [
    "model.wv.most_similar(negative=['king'],topn=20)"
   ]
  },
  {
   "cell_type": "code",
   "execution_count": 27,
   "metadata": {},
   "outputs": [],
   "source": [
    "import pandas as pd"
   ]
  },
  {
   "cell_type": "code",
   "execution_count": 28,
   "metadata": {},
   "outputs": [],
   "source": [
    "trainData=pd.read_table(\"C:/Users/student/Downloads/Python_JP/word2vec/ratings.txt\")\n",
    "#네이버 영화 리뷰 댓글"
   ]
  },
  {
   "cell_type": "code",
   "execution_count": 29,
   "metadata": {},
   "outputs": [
    {
     "data": {
      "text/html": [
       "<div>\n",
       "<style scoped>\n",
       "    .dataframe tbody tr th:only-of-type {\n",
       "        vertical-align: middle;\n",
       "    }\n",
       "\n",
       "    .dataframe tbody tr th {\n",
       "        vertical-align: top;\n",
       "    }\n",
       "\n",
       "    .dataframe thead th {\n",
       "        text-align: right;\n",
       "    }\n",
       "</style>\n",
       "<table border=\"1\" class=\"dataframe\">\n",
       "  <thead>\n",
       "    <tr style=\"text-align: right;\">\n",
       "      <th></th>\n",
       "      <th>id</th>\n",
       "      <th>document</th>\n",
       "      <th>label</th>\n",
       "    </tr>\n",
       "  </thead>\n",
       "  <tbody>\n",
       "    <tr>\n",
       "      <td>0</td>\n",
       "      <td>8112052</td>\n",
       "      <td>어릴때보고 지금다시봐도 재밌어요ㅋㅋ</td>\n",
       "      <td>1</td>\n",
       "    </tr>\n",
       "    <tr>\n",
       "      <td>1</td>\n",
       "      <td>8132799</td>\n",
       "      <td>디자인을 배우는 학생으로, 외국디자이너와 그들이 일군 전통을 통해 발전해가는 문화산...</td>\n",
       "      <td>1</td>\n",
       "    </tr>\n",
       "    <tr>\n",
       "      <td>2</td>\n",
       "      <td>4655635</td>\n",
       "      <td>폴리스스토리 시리즈는 1부터 뉴까지 버릴께 하나도 없음.. 최고.</td>\n",
       "      <td>1</td>\n",
       "    </tr>\n",
       "    <tr>\n",
       "      <td>3</td>\n",
       "      <td>9251303</td>\n",
       "      <td>와.. 연기가 진짜 개쩔구나.. 지루할거라고 생각했는데 몰입해서 봤다.. 그래 이런...</td>\n",
       "      <td>1</td>\n",
       "    </tr>\n",
       "    <tr>\n",
       "      <td>4</td>\n",
       "      <td>10067386</td>\n",
       "      <td>안개 자욱한 밤하늘에 떠 있는 초승달 같은 영화.</td>\n",
       "      <td>1</td>\n",
       "    </tr>\n",
       "    <tr>\n",
       "      <td>5</td>\n",
       "      <td>2190435</td>\n",
       "      <td>사랑을 해본사람이라면 처음부터 끝까지 웃을수 있는영화</td>\n",
       "      <td>1</td>\n",
       "    </tr>\n",
       "    <tr>\n",
       "      <td>6</td>\n",
       "      <td>9279041</td>\n",
       "      <td>완전 감동입니다 다시봐도 감동</td>\n",
       "      <td>1</td>\n",
       "    </tr>\n",
       "    <tr>\n",
       "      <td>7</td>\n",
       "      <td>7865729</td>\n",
       "      <td>개들의 전쟁2 나오나요? 나오면 1빠로 보고 싶음</td>\n",
       "      <td>1</td>\n",
       "    </tr>\n",
       "    <tr>\n",
       "      <td>8</td>\n",
       "      <td>7477618</td>\n",
       "      <td>굿</td>\n",
       "      <td>1</td>\n",
       "    </tr>\n",
       "    <tr>\n",
       "      <td>9</td>\n",
       "      <td>9250537</td>\n",
       "      <td>바보가 아니라 병 쉰 인듯</td>\n",
       "      <td>1</td>\n",
       "    </tr>\n",
       "  </tbody>\n",
       "</table>\n",
       "</div>"
      ],
      "text/plain": [
       "         id                                           document  label\n",
       "0   8112052                                어릴때보고 지금다시봐도 재밌어요ㅋㅋ      1\n",
       "1   8132799  디자인을 배우는 학생으로, 외국디자이너와 그들이 일군 전통을 통해 발전해가는 문화산...      1\n",
       "2   4655635               폴리스스토리 시리즈는 1부터 뉴까지 버릴께 하나도 없음.. 최고.      1\n",
       "3   9251303  와.. 연기가 진짜 개쩔구나.. 지루할거라고 생각했는데 몰입해서 봤다.. 그래 이런...      1\n",
       "4  10067386                        안개 자욱한 밤하늘에 떠 있는 초승달 같은 영화.      1\n",
       "5   2190435                      사랑을 해본사람이라면 처음부터 끝까지 웃을수 있는영화      1\n",
       "6   9279041                                   완전 감동입니다 다시봐도 감동      1\n",
       "7   7865729                        개들의 전쟁2 나오나요? 나오면 1빠로 보고 싶음      1\n",
       "8   7477618                                                  굿      1\n",
       "9   9250537                                     바보가 아니라 병 쉰 인듯      1"
      ]
     },
     "execution_count": 29,
     "metadata": {},
     "output_type": "execute_result"
    }
   ],
   "source": [
    "trainData[:10]"
   ]
  },
  {
   "cell_type": "code",
   "execution_count": 30,
   "metadata": {},
   "outputs": [
    {
     "data": {
      "text/plain": [
       "200000"
      ]
     },
     "execution_count": 30,
     "metadata": {},
     "output_type": "execute_result"
    }
   ],
   "source": [
    "len(trainData) #리뷰 20만개"
   ]
  },
  {
   "cell_type": "code",
   "execution_count": 36,
   "metadata": {},
   "outputs": [
    {
     "data": {
      "text/plain": [
       "id          0\n",
       "document    8\n",
       "label       0\n",
       "dtype: int64"
      ]
     },
     "execution_count": 36,
     "metadata": {},
     "output_type": "execute_result"
    }
   ],
   "source": [
    "#null 확인\n",
    "trainData.isnull().sum()\n",
    "# trainData.info()\n",
    "# trainData.isnull().values.any() # 단 하나라도 null이면 True"
   ]
  },
  {
   "cell_type": "code",
   "execution_count": 37,
   "metadata": {},
   "outputs": [],
   "source": [
    "#Null 값이 있는 행 전체 제거\n",
    "trainData=trainData.dropna(how='any')#null 행 제거"
   ]
  },
  {
   "cell_type": "code",
   "execution_count": 38,
   "metadata": {},
   "outputs": [
    {
     "data": {
      "text/plain": [
       "id          0\n",
       "document    0\n",
       "label       0\n",
       "dtype: int64"
      ]
     },
     "execution_count": 38,
     "metadata": {},
     "output_type": "execute_result"
    }
   ],
   "source": [
    "trainData.isnull().sum()"
   ]
  },
  {
   "cell_type": "code",
   "execution_count": 40,
   "metadata": {},
   "outputs": [],
   "source": [
    "trainData['document']=trainData['document'].str.replace(\"[^가-힣ㄱ-하-ㅣ]\" ,\"\")"
   ]
  },
  {
   "cell_type": "code",
   "execution_count": 42,
   "metadata": {},
   "outputs": [
    {
     "data": {
      "text/plain": [
       "0                                           어릴때보고지금다시봐도재밌어요\n",
       "1         디자인을배우는학생으로외국디자이너와그들이일군전통을통해발전해가는문화산업이부러웠는데사실우...\n",
       "2                                 폴리스스토리시리즈는부터뉴까지버릴께하나도없음최고\n",
       "3                     와연기가진짜개쩔구나지루할거라고생각했는데몰입해서봤다그래이런게진짜영화지\n",
       "4                                       안개자욱한밤하늘에떠있는초승달같은영화\n",
       "                                ...                        \n",
       "199995                                              포켓몬스터짜가\n",
       "199996                                                  쓰레기\n",
       "199997                            완전사이코영화마지막은더욱더이영화의질을떨어트린다\n",
       "199998                              왜난재미없었지라따뚜이보고나서스머프봐서그런가\n",
       "199999                                      포풍저그가나가신다영차영차영차\n",
       "Name: document, Length: 199992, dtype: object"
      ]
     },
     "execution_count": 42,
     "metadata": {},
     "output_type": "execute_result"
    }
   ],
   "source": [
    "trainData['document']"
   ]
  },
  {
   "cell_type": "code",
   "execution_count": 44,
   "metadata": {},
   "outputs": [],
   "source": [
    "stopwords=[\"하다\",\"한\",\"에\",\"와\",\"자\",\"과\",\"걍\",\"잘\",\"좀\",\"는\",\"의\",\"가\",\n",
    "          \"이\",\"은\",\"들\"]"
   ]
  },
  {
   "cell_type": "code",
   "execution_count": 45,
   "metadata": {},
   "outputs": [],
   "source": [
    "from konlpy.tag import Okt\n",
    "import matplotlib.pyplot as plt"
   ]
  },
  {
   "cell_type": "code",
   "execution_count": 46,
   "metadata": {},
   "outputs": [],
   "source": [
    "okt=Okt()\n",
    "tokenizedData=[]\n",
    "for sent in trainData['document']:\n",
    "    t=okt.morphs(sent,stem=True)#stem true 어근 추출?\n",
    "    t=[w for w in t if not w in stopwords]\n",
    "    # t 문장 댓글 하나하나를 형태소 단위로 분리, \n",
    "    # 각각의 w가 stopwords에 해당하지 않는다면\n",
    "    tokenizedData.append(t)"
   ]
  },
  {
   "cell_type": "code",
   "execution_count": 47,
   "metadata": {},
   "outputs": [
    {
     "name": "stdout",
     "output_type": "stream",
     "text": [
      "69\n",
      "10.768730749229968\n"
     ]
    },
    {
     "data": {
      "image/png": "[encoded data removed]",
      "text/plain": [
       "<Figure size 432x288 with 1 Axes>"
      ]
     },
     "metadata": {
      "needs_background": "light"
     },
     "output_type": "display_data"
    }
   ],
   "source": [
    "# tokenizedData에 저장된 리뷰에 대해,\n",
    "# 리뷰 최대 길이\n",
    "# 리뷰 평균 길이\n",
    "\n",
    "print(max(len(l) for l in tokenizedData))\n",
    "# stem : 어근, norm : 표준화\n",
    "# norm : 그래욬ㅋㅋ => 그래요\n",
    "print(sum(map(len,tokenizedData))/\n",
    "     len(tokenizedData))\n",
    "plt.hist([len(s) for s in tokenizedData],bins=50)\n",
    "plt.show()"
   ]
  },
  {
   "cell_type": "code",
   "execution_count": 48,
   "metadata": {},
   "outputs": [],
   "source": [
    "model=Word2Vec(sentences=tokenizedData,\n",
    "        size=100,\n",
    "        window=5,\n",
    "        min_count=5,\n",
    "        workers=4,\n",
    "        sg=0)"
   ]
  },
  {
   "cell_type": "code",
   "execution_count": 49,
   "metadata": {},
   "outputs": [
    {
     "data": {
      "text/plain": [
       "[('이정재', 0.8757122755050659),\n",
       " ('잭슨', 0.8595262765884399),\n",
       " ('조한선', 0.8383086919784546),\n",
       " ('크로우', 0.8367531895637512),\n",
       " ('유덕화', 0.830194354057312),\n",
       " ('최민수', 0.8294483423233032),\n",
       " ('이주연', 0.8278473615646362),\n",
       " ('스탤', 0.8192455172538757),\n",
       " ('김승우', 0.8152163028717041),\n",
       " ('윌리스', 0.8148146271705627)]"
      ]
     },
     "execution_count": 49,
     "metadata": {},
     "output_type": "execute_result"
    }
   ],
   "source": [
    "model.wv.most_similar(\"주윤발\")"
   ]
  },
  {
   "cell_type": "code",
   "execution_count": 52,
   "metadata": {},
   "outputs": [],
   "source": [
    "# 구글 word2vec모델:3백만개 단어벡터"
   ]
  },
  {
   "cell_type": "code",
   "execution_count": 54,
   "metadata": {},
   "outputs": [],
   "source": [
    "model=Word2Vec.load(\"C:/Users/student/Downloads/Python_JP/word2vec/ko.bin\")"
   ]
  },
  {
   "cell_type": "code",
   "execution_count": 60,
   "metadata": {},
   "outputs": [
    {
     "data": {
      "text/plain": [
       "[('컨버터블', 0.6268141269683838),\n",
       " ('차종', 0.6252385377883911),\n",
       " ('기종', 0.6187839508056641),\n",
       " ('고성능', 0.6137087345123291),\n",
       " ('제품군', 0.6077162027359009),\n",
       " ('니콘', 0.5926024913787842),\n",
       " ('모형', 0.591162919998169),\n",
       " ('라인업', 0.5850834846496582),\n",
       " ('세단', 0.5844414234161377),\n",
       " ('인텔', 0.5693677067756653)]"
      ]
     },
     "execution_count": 60,
     "metadata": {},
     "output_type": "execute_result"
    }
   ],
   "source": [
    "model.wv.most_similar(\"아저씨\")\n",
    "model.wv.most_similar(\"모델\")\n",
    "model.wv.most_similar(\"고객\")\n",
    "model.wv.most_similar(\"구매\")\n",
    "model.wv.most_similar(\"추천\")"
   ]
  },
  {
   "cell_type": "code",
   "execution_count": null,
   "metadata": {},
   "outputs": [],
   "source": []
  },
  {
   "cell_type": "code",
   "execution_count": null,
   "metadata": {},
   "outputs": [],
   "source": []
  }
 ],
 "metadata": {
  "kernelspec": {
   "display_name": "Python 3",
   "language": "python",
   "name": "python3"
  },
  "language_info": {
   "codemirror_mode": {
    "name": "ipython",
    "version": 3
   },
   "file_extension": ".py",
   "mimetype": "text/x-python",
   "name": "python",
   "nbconvert_exporter": "python",
   "pygments_lexer": "ipython3",
   "version": "3.7.4"
  }
 },
 "nbformat": 4,
 "nbformat_minor": 2
}
