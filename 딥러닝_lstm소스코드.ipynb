{
 "cells": [
  {
   "cell_type": "code",
   "execution_count": 52,
   "metadata": {},
   "outputs": [],
   "source": [
    "import tensorflow as tf\n",
    "import numpy as np"
   ]
  },
  {
   "cell_type": "code",
   "execution_count": 66,
   "metadata": {},
   "outputs": [],
   "source": [
    "tf.reset_default_graph()"
   ]
  },
  {
   "cell_type": "code",
   "execution_count": null,
   "metadata": {},
   "outputs": [],
   "source": []
  },
  {
   "cell_type": "code",
   "execution_count": 67,
   "metadata": {},
   "outputs": [],
   "source": [
    "idx2char=['h','i','e','l','o']\n",
    "#hihello 문자열, hihell -> ihello\n",
    "xdata=[[0,1,0,2,3,3]] #hihell (입력)\n",
    "# [None,sequence_length,input_dim]\n",
    "xOneHot=[[\n",
    "    [1,0,0,0,0], #h\n",
    "    [0,1,0,0,0], #i\n",
    "    [1,0,0,0,0], #h\n",
    "    [0,0,1,0,0], #e\n",
    "    [0,0,0,1,0], #l\n",
    "    [0,0,0,1,0]  #l\n",
    "]]\n",
    "ydata=[[1,0,2,3,3,4]]    #ihello (출력)"
   ]
  },
  {
   "cell_type": "code",
   "execution_count": 68,
   "metadata": {},
   "outputs": [
    {
     "data": {
      "text/plain": [
       "(1, 6, 5)"
      ]
     },
     "execution_count": 68,
     "metadata": {},
     "output_type": "execute_result"
    }
   ],
   "source": [
    "np.shape(xOneHot)"
   ]
  },
  {
   "cell_type": "code",
   "execution_count": 69,
   "metadata": {},
   "outputs": [],
   "source": [
    "num_classes=5\n",
    "input_dim=5     #원핫 크기\n",
    "hidden_size=5   #RNN(LSTM) CELL에서 출력 크기\n",
    "batch_size=1 #문장 1개\n",
    "sequence_length=6\n",
    "learning_rate=0.1"
   ]
  },
  {
   "cell_type": "code",
   "execution_count": 70,
   "metadata": {},
   "outputs": [],
   "source": [
    "x=tf.placeholder(tf.float32,\n",
    "                [None,sequence_length,input_dim])\n",
    "y=tf.placeholder(tf.int32,[None,sequence_length])"
   ]
  },
  {
   "cell_type": "code",
   "execution_count": 71,
   "metadata": {},
   "outputs": [],
   "source": [
    "cell=tf.contrib.rnn.BasicLSTMCell(num_units=hidden_size, state_is_tuple=True)\n",
    "initial_state=cell.zero_state(batch_size, tf.float32)\n",
    "outputs, _states=tf.nn.dynamic_rnn(\n",
    "cell, x,initial_state=initial_state, dtype=tf.float32\n",
    ")"
   ]
  },
  {
   "cell_type": "code",
   "execution_count": 72,
   "metadata": {},
   "outputs": [],
   "source": [
    "xForFc=tf.reshape(outputs,[-1, hidden_size])\n",
    "outputs=tf.contrib.layers.fully_connected(\n",
    "    inputs=xForFc, num_outputs=num_classes, \n",
    "    activation_fn=None\n",
    ")\n",
    "outputs=tf.reshape(outputs, \n",
    "                   [batch_size, \n",
    "                    sequence_length, \n",
    "                    num_classes])"
   ]
  },
  {
   "cell_type": "code",
   "execution_count": 73,
   "metadata": {},
   "outputs": [],
   "source": [
    "weights=tf.ones([batch_size, sequence_length])"
   ]
  },
  {
   "cell_type": "code",
   "execution_count": 74,
   "metadata": {},
   "outputs": [],
   "source": [
    "sequence_loss=tf.contrib.seq2seq.sequence_loss(logits=outputs, targets=y, weights=weights)"
   ]
  },
  {
   "cell_type": "code",
   "execution_count": 75,
   "metadata": {},
   "outputs": [],
   "source": [
    "loss=tf.reduce_mean(sequence_loss)\n",
    "train=tf.train.AdamOptimizer(learning_rate).minimize(loss)"
   ]
  },
  {
   "cell_type": "code",
   "execution_count": 76,
   "metadata": {},
   "outputs": [],
   "source": [
    "prediction=tf.argmax(outputs, axis=2)"
   ]
  },
  {
   "cell_type": "code",
   "execution_count": 77,
   "metadata": {},
   "outputs": [
    {
     "name": "stdout",
     "output_type": "stream",
     "text": [
      "0 cost: 1.5927576 prediction: [[0 0 0 0 4 4]] true Y : [[1, 0, 2, 3, 3, 4]]\n",
      "\n",
      "prediction str: hhhhoo\n",
      "1 cost: 1.5577682 prediction: [[0 0 0 4 4 4]] true Y : [[1, 0, 2, 3, 3, 4]]\n",
      "\n",
      "prediction str: hhhooo\n",
      "2 cost: 1.5068083 prediction: [[0 0 0 2 4 4]] true Y : [[1, 0, 2, 3, 3, 4]]\n",
      "\n",
      "prediction str: hhheoo\n",
      "3 cost: 1.4279814 prediction: [[2 0 2 2 4 4]] true Y : [[1, 0, 2, 3, 3, 4]]\n",
      "\n",
      "prediction str: eheeoo\n",
      "4 cost: 1.3525299 prediction: [[2 0 2 2 4 4]] true Y : [[1, 0, 2, 3, 3, 4]]\n",
      "\n",
      "prediction str: eheeoo\n",
      "5 cost: 1.283345 prediction: [[2 0 2 2 4 4]] true Y : [[1, 0, 2, 3, 3, 4]]\n",
      "\n",
      "prediction str: eheeoo\n",
      "6 cost: 1.223448 prediction: [[2 0 2 2 4 4]] true Y : [[1, 0, 2, 3, 3, 4]]\n",
      "\n",
      "prediction str: eheeoo\n",
      "7 cost: 1.1704919 prediction: [[2 0 2 2 4 4]] true Y : [[1, 0, 2, 3, 3, 4]]\n",
      "\n",
      "prediction str: eheeoo\n",
      "8 cost: 1.1176835 prediction: [[2 0 2 2 4 4]] true Y : [[1, 0, 2, 3, 3, 4]]\n",
      "\n",
      "prediction str: eheeoo\n",
      "9 cost: 1.0797019 prediction: [[2 0 2 0 4 4]] true Y : [[1, 0, 2, 3, 3, 4]]\n",
      "\n",
      "prediction str: ehehoo\n",
      "10 cost: 1.0392209 prediction: [[2 0 2 0 4 4]] true Y : [[1, 0, 2, 3, 3, 4]]\n",
      "\n",
      "prediction str: ehehoo\n",
      "11 cost: 1.0117077 prediction: [[2 0 2 0 4 4]] true Y : [[1, 0, 2, 3, 3, 4]]\n",
      "\n",
      "prediction str: ehehoo\n",
      "12 cost: 0.98953587 prediction: [[2 0 2 0 4 4]] true Y : [[1, 0, 2, 3, 3, 4]]\n",
      "\n",
      "prediction str: ehehoo\n",
      "13 cost: 0.963754 prediction: [[2 0 2 0 4 4]] true Y : [[1, 0, 2, 3, 3, 4]]\n",
      "\n",
      "prediction str: ehehoo\n",
      "14 cost: 0.9450888 prediction: [[2 0 2 0 4 4]] true Y : [[1, 0, 2, 3, 3, 4]]\n",
      "\n",
      "prediction str: ehehoo\n",
      "15 cost: 0.923162 prediction: [[2 0 2 0 0 4]] true Y : [[1, 0, 2, 3, 3, 4]]\n",
      "\n",
      "prediction str: ehehho\n",
      "16 cost: 0.90805316 prediction: [[2 0 2 0 4 4]] true Y : [[1, 0, 2, 3, 3, 4]]\n",
      "\n",
      "prediction str: ehehoo\n",
      "17 cost: 0.88151073 prediction: [[2 0 2 0 0 4]] true Y : [[1, 0, 2, 3, 3, 4]]\n",
      "\n",
      "prediction str: ehehho\n",
      "18 cost: 0.8625705 prediction: [[0 0 2 0 4 4]] true Y : [[1, 0, 2, 3, 3, 4]]\n",
      "\n",
      "prediction str: hhehoo\n",
      "19 cost: 0.8610899 prediction: [[0 0 2 0 0 4]] true Y : [[1, 0, 2, 3, 3, 4]]\n",
      "\n",
      "prediction str: hhehho\n",
      "20 cost: 0.8456897 prediction: [[0 0 2 1 0 4]] true Y : [[1, 0, 2, 3, 3, 4]]\n",
      "\n",
      "prediction str: hheiho\n",
      "21 cost: 0.8388024 prediction: [[0 0 2 2 0 4]] true Y : [[1, 0, 2, 3, 3, 4]]\n",
      "\n",
      "prediction str: hheeho\n",
      "22 cost: 0.8308293 prediction: [[0 0 2 0 4 4]] true Y : [[1, 0, 2, 3, 3, 4]]\n",
      "\n",
      "prediction str: hhehoo\n",
      "23 cost: 0.82617956 prediction: [[0 0 2 0 0 4]] true Y : [[1, 0, 2, 3, 3, 4]]\n",
      "\n",
      "prediction str: hhehho\n",
      "24 cost: 0.82196784 prediction: [[0 0 2 0 0 4]] true Y : [[1, 0, 2, 3, 3, 4]]\n",
      "\n",
      "prediction str: hhehho\n",
      "25 cost: 0.82188994 prediction: [[0 0 2 0 0 4]] true Y : [[1, 0, 2, 3, 3, 4]]\n",
      "\n",
      "prediction str: hhehho\n",
      "26 cost: 0.8184764 prediction: [[0 0 2 0 0 4]] true Y : [[1, 0, 2, 3, 3, 4]]\n",
      "\n",
      "prediction str: hhehho\n",
      "27 cost: 0.8166681 prediction: [[0 0 2 0 0 4]] true Y : [[1, 0, 2, 3, 3, 4]]\n",
      "\n",
      "prediction str: hhehho\n",
      "28 cost: 0.81502014 prediction: [[0 0 2 0 0 4]] true Y : [[1, 0, 2, 3, 3, 4]]\n",
      "\n",
      "prediction str: hhehho\n",
      "29 cost: 0.81365585 prediction: [[0 0 2 0 0 4]] true Y : [[1, 0, 2, 3, 3, 4]]\n",
      "\n",
      "prediction str: hhehho\n",
      "30 cost: 0.8125561 prediction: [[0 0 2 0 4 4]] true Y : [[1, 0, 2, 3, 3, 4]]\n",
      "\n",
      "prediction str: hhehoo\n",
      "31 cost: 0.81227803 prediction: [[0 0 2 2 0 4]] true Y : [[1, 0, 2, 3, 3, 4]]\n",
      "\n",
      "prediction str: hheeho\n",
      "32 cost: 0.8144302 prediction: [[0 0 2 2 0 4]] true Y : [[1, 0, 2, 3, 3, 4]]\n",
      "\n",
      "prediction str: hheeho\n",
      "33 cost: 0.8135107 prediction: [[0 0 2 0 0 4]] true Y : [[1, 0, 2, 3, 3, 4]]\n",
      "\n",
      "prediction str: hhehho\n",
      "34 cost: 0.8104279 prediction: [[0 0 2 0 0 4]] true Y : [[1, 0, 2, 3, 3, 4]]\n",
      "\n",
      "prediction str: hhehho\n",
      "35 cost: 0.80995744 prediction: [[0 0 2 0 0 4]] true Y : [[1, 0, 2, 3, 3, 4]]\n",
      "\n",
      "prediction str: hhehho\n",
      "36 cost: 0.8094912 prediction: [[0 0 2 0 0 4]] true Y : [[1, 0, 2, 3, 3, 4]]\n",
      "\n",
      "prediction str: hhehho\n",
      "37 cost: 0.8090424 prediction: [[0 0 2 0 0 4]] true Y : [[1, 0, 2, 3, 3, 4]]\n",
      "\n",
      "prediction str: hhehho\n",
      "38 cost: 0.8086193 prediction: [[0 0 2 0 0 4]] true Y : [[1, 0, 2, 3, 3, 4]]\n",
      "\n",
      "prediction str: hhehho\n",
      "39 cost: 0.80822784 prediction: [[0 0 2 0 0 4]] true Y : [[1, 0, 2, 3, 3, 4]]\n",
      "\n",
      "prediction str: hhehho\n",
      "40 cost: 0.80787617 prediction: [[0 0 2 0 0 4]] true Y : [[1, 0, 2, 3, 3, 4]]\n",
      "\n",
      "prediction str: hhehho\n",
      "41 cost: 0.80756086 prediction: [[0 0 2 0 0 4]] true Y : [[1, 0, 2, 3, 3, 4]]\n",
      "\n",
      "prediction str: hhehho\n",
      "42 cost: 0.8072807 prediction: [[0 0 2 0 0 4]] true Y : [[1, 0, 2, 3, 3, 4]]\n",
      "\n",
      "prediction str: hhehho\n",
      "43 cost: 0.8070354 prediction: [[0 0 2 0 0 4]] true Y : [[1, 0, 2, 3, 3, 4]]\n",
      "\n",
      "prediction str: hhehho\n",
      "44 cost: 0.8068223 prediction: [[0 0 2 0 0 4]] true Y : [[1, 0, 2, 3, 3, 4]]\n",
      "\n",
      "prediction str: hhehho\n",
      "45 cost: 0.80663824 prediction: [[0 0 2 0 0 4]] true Y : [[1, 0, 2, 3, 3, 4]]\n",
      "\n",
      "prediction str: hhehho\n",
      "46 cost: 0.80647963 prediction: [[0 0 2 0 0 4]] true Y : [[1, 0, 2, 3, 3, 4]]\n",
      "\n",
      "prediction str: hhehho\n",
      "47 cost: 0.80634373 prediction: [[0 0 2 0 0 4]] true Y : [[1, 0, 2, 3, 3, 4]]\n",
      "\n",
      "prediction str: hhehho\n",
      "48 cost: 0.8062272 prediction: [[0 0 2 0 0 4]] true Y : [[1, 0, 2, 3, 3, 4]]\n",
      "\n",
      "prediction str: hhehho\n",
      "49 cost: 0.8061261 prediction: [[0 0 2 0 0 4]] true Y : [[1, 0, 2, 3, 3, 4]]\n",
      "\n",
      "prediction str: hhehho\n",
      "50 cost: 0.8060379 prediction: [[0 0 2 0 0 4]] true Y : [[1, 0, 2, 3, 3, 4]]\n",
      "\n",
      "prediction str: hhehho\n",
      "51 cost: 0.8059607 prediction: [[0 0 2 0 0 4]] true Y : [[1, 0, 2, 3, 3, 4]]\n",
      "\n",
      "prediction str: hhehho\n",
      "52 cost: 0.80589277 prediction: [[0 0 2 0 0 4]] true Y : [[1, 0, 2, 3, 3, 4]]\n",
      "\n",
      "prediction str: hhehho\n",
      "53 cost: 0.8058326 prediction: [[0 0 2 0 0 4]] true Y : [[1, 0, 2, 3, 3, 4]]\n",
      "\n",
      "prediction str: hhehho\n",
      "54 cost: 0.80577916 prediction: [[0 0 2 0 2 4]] true Y : [[1, 0, 2, 3, 3, 4]]\n",
      "\n",
      "prediction str: hheheo\n",
      "55 cost: 0.8059307 prediction: [[0 0 2 0 0 4]] true Y : [[1, 0, 2, 3, 3, 4]]\n",
      "\n",
      "prediction str: hhehho\n",
      "56 cost: 0.80567044 prediction: [[0 0 2 0 0 4]] true Y : [[1, 0, 2, 3, 3, 4]]\n",
      "\n",
      "prediction str: hhehho\n",
      "57 cost: 0.8056378 prediction: [[0 0 2 0 4 4]] true Y : [[1, 0, 2, 3, 3, 4]]\n",
      "\n",
      "prediction str: hhehoo\n",
      "58 cost: 0.81294435 prediction: [[0 0 2 0 0 4]] true Y : [[1, 0, 2, 3, 3, 4]]\n",
      "\n",
      "prediction str: hhehho\n",
      "59 cost: 0.80563825 prediction: [[0 0 2 0 0 4]] true Y : [[1, 0, 2, 3, 3, 4]]\n",
      "\n",
      "prediction str: hhehho\n",
      "60 cost: 0.8056832 prediction: [[0 0 2 0 0 4]] true Y : [[1, 0, 2, 3, 3, 4]]\n",
      "\n",
      "prediction str: hhehho\n",
      "61 cost: 0.80578643 prediction: [[0 0 2 0 0 4]] true Y : [[1, 0, 2, 3, 3, 4]]\n",
      "\n",
      "prediction str: hhehho\n",
      "62 cost: 0.8060434 prediction: [[0 0 2 0 0 4]] true Y : [[1, 0, 2, 3, 3, 4]]\n",
      "\n",
      "prediction str: hhehho\n",
      "63 cost: 0.80668646 prediction: [[0 0 2 0 0 4]] true Y : [[1, 0, 2, 3, 3, 4]]\n",
      "\n",
      "prediction str: hhehho\n",
      "64 cost: 0.8078792 prediction: [[0 0 2 0 0 4]] true Y : [[1, 0, 2, 3, 3, 4]]\n",
      "\n",
      "prediction str: hhehho\n",
      "65 cost: 0.8086772 prediction: [[0 0 2 0 0 4]] true Y : [[1, 0, 2, 3, 3, 4]]\n",
      "\n",
      "prediction str: hhehho\n",
      "66 cost: 0.8079962 prediction: [[0 0 2 0 0 4]] true Y : [[1, 0, 2, 3, 3, 4]]\n",
      "\n",
      "prediction str: hhehho\n",
      "67 cost: 0.8068672 prediction: [[0 0 2 0 0 4]] true Y : [[1, 0, 2, 3, 3, 4]]\n",
      "\n",
      "prediction str: hhehho\n",
      "68 cost: 0.8061857 prediction: [[0 0 2 0 0 4]] true Y : [[1, 0, 2, 3, 3, 4]]\n",
      "\n",
      "prediction str: hhehho\n",
      "69 cost: 0.80586433 prediction: [[0 0 2 0 0 4]] true Y : [[1, 0, 2, 3, 3, 4]]\n",
      "\n",
      "prediction str: hhehho\n",
      "70 cost: 0.8057065 prediction: [[0 0 2 0 0 4]] true Y : [[1, 0, 2, 3, 3, 4]]\n",
      "\n",
      "prediction str: hhehho\n",
      "71 cost: 0.80561876 prediction: [[0 0 2 0 0 4]] true Y : [[1, 0, 2, 3, 3, 4]]\n",
      "\n",
      "prediction str: hhehho\n",
      "72 cost: 0.8055632 prediction: [[0 0 2 0 0 4]] true Y : [[1, 0, 2, 3, 3, 4]]\n",
      "\n",
      "prediction str: hhehho\n",
      "73 cost: 0.8055241 prediction: [[0 0 2 0 0 4]] true Y : [[1, 0, 2, 3, 3, 4]]\n",
      "\n",
      "prediction str: hhehho\n",
      "74 cost: 0.8054945 prediction: [[0 0 2 0 0 4]] true Y : [[1, 0, 2, 3, 3, 4]]\n",
      "\n",
      "prediction str: hhehho\n",
      "75 cost: 0.8054704 prediction: [[0 0 2 0 0 4]] true Y : [[1, 0, 2, 3, 3, 4]]\n",
      "\n",
      "prediction str: hhehho\n",
      "76 cost: 0.80545 prediction: [[0 0 2 0 0 4]] true Y : [[1, 0, 2, 3, 3, 4]]\n",
      "\n",
      "prediction str: hhehho\n",
      "77 cost: 0.80543226 prediction: [[0 0 2 0 0 4]] true Y : [[1, 0, 2, 3, 3, 4]]\n",
      "\n",
      "prediction str: hhehho\n",
      "78 cost: 0.80541635 prediction: [[0 0 2 0 0 4]] true Y : [[1, 0, 2, 3, 3, 4]]\n",
      "\n",
      "prediction str: hhehho\n",
      "79 cost: 0.80540186 prediction: [[0 0 2 0 0 4]] true Y : [[1, 0, 2, 3, 3, 4]]\n",
      "\n",
      "prediction str: hhehho\n",
      "80 cost: 0.80538845 prediction: [[0 0 2 0 0 4]] true Y : [[1, 0, 2, 3, 3, 4]]\n",
      "\n",
      "prediction str: hhehho\n",
      "81 cost: 0.8053759 prediction: [[0 0 2 0 0 4]] true Y : [[1, 0, 2, 3, 3, 4]]\n",
      "\n",
      "prediction str: hhehho\n",
      "82 cost: 0.8053641 prediction: [[0 0 2 0 0 4]] true Y : [[1, 0, 2, 3, 3, 4]]\n",
      "\n",
      "prediction str: hhehho\n",
      "83 cost: 0.8053529 prediction: [[0 0 2 0 0 4]] true Y : [[1, 0, 2, 3, 3, 4]]\n",
      "\n",
      "prediction str: hhehho\n",
      "84 cost: 0.80534226 prediction: [[0 0 2 0 0 4]] true Y : [[1, 0, 2, 3, 3, 4]]\n",
      "\n",
      "prediction str: hhehho\n",
      "85 cost: 0.8053321 prediction: [[0 0 2 0 0 4]] true Y : [[1, 0, 2, 3, 3, 4]]\n",
      "\n",
      "prediction str: hhehho\n"
     ]
    },
    {
     "name": "stdout",
     "output_type": "stream",
     "text": [
      "86 cost: 0.80532223 prediction: [[0 0 2 0 0 4]] true Y : [[1, 0, 2, 3, 3, 4]]\n",
      "\n",
      "prediction str: hhehho\n",
      "87 cost: 0.80531293 prediction: [[0 0 2 0 0 4]] true Y : [[1, 0, 2, 3, 3, 4]]\n",
      "\n",
      "prediction str: hhehho\n",
      "88 cost: 0.8053039 prediction: [[0 0 2 0 0 4]] true Y : [[1, 0, 2, 3, 3, 4]]\n",
      "\n",
      "prediction str: hhehho\n",
      "89 cost: 0.80529517 prediction: [[0 0 2 0 0 4]] true Y : [[1, 0, 2, 3, 3, 4]]\n",
      "\n",
      "prediction str: hhehho\n",
      "90 cost: 0.8052867 prediction: [[0 0 2 0 0 4]] true Y : [[1, 0, 2, 3, 3, 4]]\n",
      "\n",
      "prediction str: hhehho\n",
      "91 cost: 0.8052786 prediction: [[0 0 2 0 0 4]] true Y : [[1, 0, 2, 3, 3, 4]]\n",
      "\n",
      "prediction str: hhehho\n",
      "92 cost: 0.80527085 prediction: [[0 0 2 0 0 4]] true Y : [[1, 0, 2, 3, 3, 4]]\n",
      "\n",
      "prediction str: hhehho\n",
      "93 cost: 0.8052631 prediction: [[0 0 2 0 0 4]] true Y : [[1, 0, 2, 3, 3, 4]]\n",
      "\n",
      "prediction str: hhehho\n",
      "94 cost: 0.8052557 prediction: [[0 0 2 0 0 4]] true Y : [[1, 0, 2, 3, 3, 4]]\n",
      "\n",
      "prediction str: hhehho\n",
      "95 cost: 0.8052485 prediction: [[0 0 2 0 0 4]] true Y : [[1, 0, 2, 3, 3, 4]]\n",
      "\n",
      "prediction str: hhehho\n",
      "96 cost: 0.8052416 prediction: [[0 0 2 0 0 4]] true Y : [[1, 0, 2, 3, 3, 4]]\n",
      "\n",
      "prediction str: hhehho\n",
      "97 cost: 0.80523473 prediction: [[0 0 2 0 0 4]] true Y : [[1, 0, 2, 3, 3, 4]]\n",
      "\n",
      "prediction str: hhehho\n",
      "98 cost: 0.80522805 prediction: [[0 0 2 0 0 4]] true Y : [[1, 0, 2, 3, 3, 4]]\n",
      "\n",
      "prediction str: hhehho\n",
      "99 cost: 0.80522174 prediction: [[0 0 2 0 0 4]] true Y : [[1, 0, 2, 3, 3, 4]]\n",
      "\n",
      "prediction str: hhehho\n"
     ]
    }
   ],
   "source": [
    "with tf.Session() as sess:\n",
    "    sess.run(tf.global_variables_initializer())\n",
    "    for i in range(100):\n",
    "        lossv, _=sess.run([loss,train], feed_dict={x:xOneHot, y:ydata})\n",
    "        res=sess.run(prediction,feed_dict={x:xOneHot})\n",
    "        print(i, \"cost:\",lossv,\"prediction:\",res, \"true Y :\",ydata)\n",
    "        \n",
    "        s=[idx2char[c] for c in np.squeeze(res)]\n",
    "        print(\"\\nprediction str:\",\"\".join(s))\n",
    "        "
   ]
  },
  {
   "cell_type": "code",
   "execution_count": null,
   "metadata": {},
   "outputs": [],
   "source": []
  },
  {
   "cell_type": "code",
   "execution_count": 23,
   "metadata": {},
   "outputs": [
    {
     "data": {
      "text/plain": [
       "(1, 2)"
      ]
     },
     "execution_count": 23,
     "metadata": {},
     "output_type": "execute_result"
    }
   ],
   "source": [
    "x=np.array([1,2])\n",
    "x.shape\n",
    "y=np.expand_dims(x,axis=0)\n",
    "y.shape"
   ]
  },
  {
   "cell_type": "code",
   "execution_count": 24,
   "metadata": {},
   "outputs": [
    {
     "data": {
      "text/plain": [
       "array([[1, 2]])"
      ]
     },
     "execution_count": 24,
     "metadata": {},
     "output_type": "execute_result"
    }
   ],
   "source": [
    "y"
   ]
  },
  {
   "cell_type": "code",
   "execution_count": 26,
   "metadata": {},
   "outputs": [
    {
     "data": {
      "text/plain": [
       "(2, 1)"
      ]
     },
     "execution_count": 26,
     "metadata": {},
     "output_type": "execute_result"
    }
   ],
   "source": [
    "[1, 2]  => axis 0 => [[1,2]]\n",
    "[1, 2]  => axis 1 => [[1],[2]]\n",
    "\n",
    "x=np.array([1,2])\n",
    "x.shape\n",
    "y=np.expand_dims(x,axis=1)\n",
    "y.shape"
   ]
  },
  {
   "cell_type": "code",
   "execution_count": 27,
   "metadata": {},
   "outputs": [
    {
     "data": {
      "text/plain": [
       "array([[1],\n",
       "       [2]])"
      ]
     },
     "execution_count": 27,
     "metadata": {},
     "output_type": "execute_result"
    }
   ],
   "source": [
    "y"
   ]
  },
  {
   "cell_type": "code",
   "execution_count": 30,
   "metadata": {},
   "outputs": [
    {
     "data": {
      "text/plain": [
       "array([[[0],\n",
       "        [1],\n",
       "        [2]]])"
      ]
     },
     "execution_count": 30,
     "metadata": {},
     "output_type": "execute_result"
    }
   ],
   "source": [
    "x=np.array([[[0],[1],[2]]])\n",
    "x.shape\n",
    "x"
   ]
  },
  {
   "cell_type": "code",
   "execution_count": 29,
   "metadata": {},
   "outputs": [
    {
     "data": {
      "text/plain": [
       "array([0, 1, 2])"
      ]
     },
     "execution_count": 29,
     "metadata": {},
     "output_type": "execute_result"
    }
   ],
   "source": [
    "np.squeeze(x)"
   ]
  },
  {
   "cell_type": "code",
   "execution_count": 91,
   "metadata": {},
   "outputs": [],
   "source": [
    "tf.reset_default_graph()"
   ]
  },
  {
   "cell_type": "code",
   "execution_count": 92,
   "metadata": {},
   "outputs": [],
   "source": [
    "hidden_size=2\n",
    "cell=tf.contrib.rnn.BasicLSTMCell\n",
    "(num_units=hidden_size)\n",
    "#출력 shape=(1,1,2)"
   ]
  },
  {
   "cell_type": "code",
   "execution_count": 93,
   "metadata": {},
   "outputs": [],
   "source": [
    "xdata=np.array([[[1,0,0,0]]],\n",
    "               dtype=np.float32)\n",
    "#xdata shape=(1,1,4)"
   ]
  },
  {
   "cell_type": "code",
   "execution_count": 96,
   "metadata": {},
   "outputs": [
    {
     "name": "stdout",
     "output_type": "stream",
     "text": [
      "[[[-0.05735544  0.05741299]]]\n"
     ]
    }
   ],
   "source": [
    "sess=tf.Session()\n",
    "outputs,_states=tf.nn.dynamic_rnn\n",
    "(cell,xdata,dtype=tf.float32)\n",
    "sess.run(tf.global_variables_initializer())\n",
    "print(sess.run(outputs))"
   ]
  },
  {
   "cell_type": "code",
   "execution_count": null,
   "metadata": {},
   "outputs": [],
   "source": []
  },
  {
   "cell_type": "code",
   "execution_count": null,
   "metadata": {},
   "outputs": [],
   "source": []
  },
  {
   "cell_type": "code",
   "execution_count": 97,
   "metadata": {},
   "outputs": [],
   "source": [
    "tf.reset_default_graph()"
   ]
  },
  {
   "cell_type": "code",
   "execution_count": null,
   "metadata": {},
   "outputs": [],
   "source": [
    "#h -> [1, 0, 0, 0]\n",
    "xdata=np.array([[h, e, l, l, o],\n",
    "                [e, o, l, l, l],\n",
    "                [l, l, e, e, l]],\n",
    "               dtype=np.float32)\n",
    "hidden_size=2\n",
    "cell=tf.contrib.rnn.BasicLSTMCell(num_units=hidden_size)\n",
    "sess=tf.Session()\n",
    "outputs,_states=tf.nn.dynamic_rnn\n",
    "(cell,xdata,dtype=tf.float32)\n",
    "sess.run(tf.global_variables_initializer())\n",
    "print(sess.run(outputs))"
   ]
  },
  {
   "cell_type": "code",
   "execution_count": null,
   "metadata": {},
   "outputs": [],
   "source": []
  },
  {
   "cell_type": "code",
   "execution_count": null,
   "metadata": {},
   "outputs": [],
   "source": []
  },
  {
   "cell_type": "code",
   "execution_count": null,
   "metadata": {},
   "outputs": [],
   "source": []
  },
  {
   "cell_type": "code",
   "execution_count": null,
   "metadata": {},
   "outputs": [],
   "source": []
  },
  {
   "cell_type": "code",
   "execution_count": null,
   "metadata": {},
   "outputs": [],
   "source": []
  },
  {
   "cell_type": "code",
   "execution_count": null,
   "metadata": {},
   "outputs": [],
   "source": []
  },
  {
   "cell_type": "code",
   "execution_count": 98,
   "metadata": {},
   "outputs": [],
   "source": [
    "from tensorflow.examples.tutorials.mnist import input_data"
   ]
  },
  {
   "cell_type": "code",
   "execution_count": 99,
   "metadata": {},
   "outputs": [
    {
     "name": "stdout",
     "output_type": "stream",
     "text": [
      "WARNING:tensorflow:From <ipython-input-99-e0c2238e375b>:1: read_data_sets (from tensorflow.contrib.learn.python.learn.datasets.mnist) is deprecated and will be removed in a future version.\n",
      "Instructions for updating:\n",
      "Please use alternatives such as official/mnist/dataset.py from tensorflow/models.\n",
      "WARNING:tensorflow:From C:\\Users\\student\\Anaconda3\\lib\\site-packages\\tensorflow_core\\contrib\\learn\\python\\learn\\datasets\\mnist.py:260: maybe_download (from tensorflow.contrib.learn.python.learn.datasets.base) is deprecated and will be removed in a future version.\n",
      "Instructions for updating:\n",
      "Please write your own downloading logic.\n",
      "WARNING:tensorflow:From C:\\Users\\student\\Anaconda3\\lib\\site-packages\\tensorflow_core\\contrib\\learn\\python\\learn\\datasets\\base.py:252: _internal_retry.<locals>.wrap.<locals>.wrapped_fn (from tensorflow.contrib.learn.python.learn.datasets.base) is deprecated and will be removed in a future version.\n",
      "Instructions for updating:\n",
      "Please use urllib or similar directly.\n",
      "Successfully downloaded train-images-idx3-ubyte.gz 9912422 bytes.\n",
      "WARNING:tensorflow:From C:\\Users\\student\\Anaconda3\\lib\\site-packages\\tensorflow_core\\contrib\\learn\\python\\learn\\datasets\\mnist.py:262: extract_images (from tensorflow.contrib.learn.python.learn.datasets.mnist) is deprecated and will be removed in a future version.\n",
      "Instructions for updating:\n",
      "Please use tf.data to implement this functionality.\n",
      "Extracting ./mnist/data/train-images-idx3-ubyte.gz\n",
      "Successfully downloaded train-labels-idx1-ubyte.gz 28881 bytes.\n",
      "WARNING:tensorflow:From C:\\Users\\student\\Anaconda3\\lib\\site-packages\\tensorflow_core\\contrib\\learn\\python\\learn\\datasets\\mnist.py:267: extract_labels (from tensorflow.contrib.learn.python.learn.datasets.mnist) is deprecated and will be removed in a future version.\n",
      "Instructions for updating:\n",
      "Please use tf.data to implement this functionality.\n",
      "Extracting ./mnist/data/train-labels-idx1-ubyte.gz\n",
      "WARNING:tensorflow:From C:\\Users\\student\\Anaconda3\\lib\\site-packages\\tensorflow_core\\contrib\\learn\\python\\learn\\datasets\\mnist.py:110: dense_to_one_hot (from tensorflow.contrib.learn.python.learn.datasets.mnist) is deprecated and will be removed in a future version.\n",
      "Instructions for updating:\n",
      "Please use tf.one_hot on tensors.\n",
      "Successfully downloaded t10k-images-idx3-ubyte.gz 1648877 bytes.\n",
      "Extracting ./mnist/data/t10k-images-idx3-ubyte.gz\n",
      "Successfully downloaded t10k-labels-idx1-ubyte.gz 4542 bytes.\n",
      "Extracting ./mnist/data/t10k-labels-idx1-ubyte.gz\n",
      "WARNING:tensorflow:From C:\\Users\\student\\Anaconda3\\lib\\site-packages\\tensorflow_core\\contrib\\learn\\python\\learn\\datasets\\mnist.py:290: DataSet.__init__ (from tensorflow.contrib.learn.python.learn.datasets.mnist) is deprecated and will be removed in a future version.\n",
      "Instructions for updating:\n",
      "Please use alternatives such as official/mnist/dataset.py from tensorflow/models.\n"
     ]
    }
   ],
   "source": [
    "mnist=input_data.read_data_sets\n",
    "(\"./mnist/data/\", one_hot=True)"
   ]
  },
  {
   "cell_type": "code",
   "execution_count": 100,
   "metadata": {},
   "outputs": [],
   "source": [
    "lr=0.01\n",
    "total_epoch=30\n",
    "batch_size=128\n",
    "\n",
    "n_input=28 #한번에 입력받는 데이터 개수\n",
    "n_step=28 #28줄\n",
    "n_hidden=128 #셀에서 나가는 출력의 개수\n",
    "n_class=10 #숫자의 종류(0~9)"
   ]
  },
  {
   "cell_type": "code",
   "execution_count": 106,
   "metadata": {},
   "outputs": [],
   "source": [
    "w=tf.Variable(tf.random_normal([n_hidden, n_class]))\n",
    "b=tf.Variable(tf.random_normal([n_class]))"
   ]
  },
  {
   "cell_type": "code",
   "execution_count": 101,
   "metadata": {},
   "outputs": [],
   "source": [
    "x=tf.placeholder(tf.float32, [None, n_step, n_input])\n",
    "y=tf.placeholder(tf.float32, [None, n_class])"
   ]
  },
  {
   "cell_type": "code",
   "execution_count": 102,
   "metadata": {},
   "outputs": [],
   "source": [
    "#rnn 학습할 셀을 생성\n",
    "cell=tf.nn.rnn_cell.BasicLSTMCell(num_units=n_hidden)"
   ]
  },
  {
   "cell_type": "code",
   "execution_count": 104,
   "metadata": {},
   "outputs": [],
   "source": [
    "#rnn 망 구성\n",
    "outputs,states=tf.nn.dynamic_rnn(cell,x,dtype=tf.float32)\n",
    "#outputs : [batch_size,n_step,n_hidden]\n",
    "# => 구조 변경(y형태로) => y:[batch_size,n_class]\n",
    "\n",
    "#    0       ,   1 ,    2\n",
    "#[batch_size,n_step,n_hidden]-> \n",
    "#[n_step, batch_size, n_hidden]\n",
    "#    1,         0,        2\n",
    "outputs=tf.transpose(outputs, [1,0,2])\n",
    "outputs=outputs[-1]"
   ]
  },
  {
   "cell_type": "code",
   "execution_count": 107,
   "metadata": {},
   "outputs": [],
   "source": [
    "model=tf.matmul(outputs,w)+b\n",
    "cost=tf.reduce_mean(\n",
    "    tf.nn.softmax_cross_entropy_\n",
    "    with_logits_v2(logits=model, labels=y))\n",
    "opt=tf.train.AdamOptimizer(lr).minimize(cost)"
   ]
  },
  {
   "cell_type": "code",
   "execution_count": 108,
   "metadata": {},
   "outputs": [],
   "source": [
    "#신경망 모델 학습\n",
    "sess=tf.Session()\n",
    "sess.run(tf.global_variables_initializer())"
   ]
  },
  {
   "cell_type": "code",
   "execution_count": 109,
   "metadata": {},
   "outputs": [],
   "source": [
    "total_batch=int(mnist.train.num_examples/batch_size)"
   ]
  },
  {
   "cell_type": "code",
   "execution_count": 110,
   "metadata": {},
   "outputs": [
    {
     "name": "stdout",
     "output_type": "stream",
     "text": [
      "에폭:    1 cost 평균: 0.364\n",
      "에폭:    2 cost 평균: 0.092\n",
      "에폭:    3 cost 평균: 0.065\n",
      "에폭:    4 cost 평균: 0.054\n",
      "에폭:    5 cost 평균: 0.044\n",
      "에폭:    6 cost 평균: 0.040\n",
      "에폭:    7 cost 평균: 0.042\n",
      "에폭:    8 cost 평균: 0.036\n",
      "에폭:    9 cost 평균: 0.034\n",
      "에폭:   10 cost 평균: 0.031\n",
      "에폭:   11 cost 평균: 0.034\n",
      "에폭:   12 cost 평균: 0.032\n",
      "에폭:   13 cost 평균: 0.025\n",
      "에폭:   14 cost 평균: 0.028\n",
      "에폭:   15 cost 평균: 0.026\n",
      "에폭:   16 cost 평균: 0.028\n",
      "에폭:   17 cost 평균: 0.026\n",
      "에폭:   18 cost 평균: 0.026\n",
      "에폭:   19 cost 평균: 0.026\n",
      "에폭:   20 cost 평균: 0.030\n",
      "에폭:   21 cost 평균: 0.028\n",
      "에폭:   22 cost 평균: 0.023\n",
      "에폭:   23 cost 평균: 0.018\n",
      "에폭:   24 cost 평균: 0.022\n",
      "에폭:   25 cost 평균: 0.021\n",
      "에폭:   26 cost 평균: 0.026\n",
      "에폭:   27 cost 평균: 0.022\n",
      "에폭:   28 cost 평균: 0.024\n",
      "에폭:   29 cost 평균: 0.024\n",
      "에폭:   30 cost 평균: 0.025\n"
     ]
    }
   ],
   "source": [
    "for epoch in range(total_epoch):\n",
    "    total_cost=0\n",
    "    for i in range(total_batch):\n",
    "        batchX,batchY=mnist.train.next_batch(batch_size)\n",
    "        batchX=batchX.reshape((batch_size,n_step,n_input))\n",
    "        #128,784 -> 128,28,28\n",
    "        _,costv=sess.run([opt,cost],feed_dict={x:batchX,y:batchY})\n",
    "        total_cost+=costv\n",
    "    print(\"에폭:\", \"%4d\" % (epoch+1),\n",
    "         \"cost 평균:\", \"{:.3f}\".\n",
    "          format(total_cost/total_batch))\n"
   ]
  },
  {
   "cell_type": "code",
   "execution_count": 112,
   "metadata": {},
   "outputs": [
    {
     "name": "stdout",
     "output_type": "stream",
     "text": [
      "0.9837\n"
     ]
    }
   ],
   "source": [
    "isCorrect=tf.equal(tf.argmax(model,1), tf.argmax(y,1))\n",
    "accuracy=tf.reduce_mean(tf.cast(isCorrect,tf.float32))\n",
    "testSize=len(mnist.test.images)\n",
    "testX=mnist.test.images.reshape(testSize, n_step, n_input)\n",
    "testY=mnist.test.labels\n",
    "\n",
    "print(sess.run(accuracy,feed_dict={x:testX, y:testY}))"
   ]
  },
  {
   "cell_type": "code",
   "execution_count": null,
   "metadata": {},
   "outputs": [],
   "source": []
  }
 ],
 "metadata": {
  "kernelspec": {
   "display_name": "Python 3",
   "language": "python",
   "name": "python3"
  },
  "language_info": {
   "codemirror_mode": {
    "name": "ipython",
    "version": 3
   },
   "file_extension": ".py",
   "mimetype": "text/x-python",
   "name": "python",
   "nbconvert_exporter": "python",
   "pygments_lexer": "ipython3",
   "version": "3.7.4"
  }
 },
 "nbformat": 4,
 "nbformat_minor": 2
}
