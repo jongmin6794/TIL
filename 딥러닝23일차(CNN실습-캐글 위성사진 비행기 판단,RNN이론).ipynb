{
 "cells": [
  {
   "cell_type": "code",
   "execution_count": 1,
   "metadata": {},
   "outputs": [],
   "source": [
    "import json\n",
    "import pandas as pd\n",
    "import numpy as np\n",
    "import tensorflow as tf\n",
    "from tensorflow import keras\n",
    "from sklearn.model_selection import train_test_split\n",
    "from tensorflow.keras.utils import to_categorical\n",
    "import matplotlib.pyplot as plt"
   ]
  },
  {
   "cell_type": "code",
   "execution_count": 2,
   "metadata": {},
   "outputs": [
    {
     "data": {
      "text/plain": [
       "<_io.TextIOWrapper name='C:/Users/student/Downloads/Python_JP/planesnet/planesnet/planesnet.json' mode='r' encoding='cp949'>"
      ]
     },
     "execution_count": 2,
     "metadata": {},
     "output_type": "execute_result"
    }
   ],
   "source": [
    "f_plane=open(\"C:/Users/student/Downloads/Python_JP/planesnet/planesnet/planesnet.json\")\n",
    "f_plane"
   ]
  },
  {
   "cell_type": "code",
   "execution_count": 3,
   "metadata": {},
   "outputs": [],
   "source": [
    "plane_dataset=json.load(f_plane)\n",
    "f_plane.close()"
   ]
  },
  {
   "cell_type": "code",
   "execution_count": 6,
   "metadata": {},
   "outputs": [
    {
     "data": {
      "text/plain": [
       "dict_keys(['data', 'labels', 'locations', 'scene_ids'])"
      ]
     },
     "execution_count": 6,
     "metadata": {},
     "output_type": "execute_result"
    }
   ],
   "source": [
    "plane_dataset.keys()"
   ]
  },
  {
   "cell_type": "code",
   "execution_count": 8,
   "metadata": {},
   "outputs": [],
   "source": [
    "plane_x=np.array(plane_dataset['data']).astype('uint8')\n",
    "plane_y=np.array(plane_dataset['labels']).astype('uint8')\n",
    "#int8, 16, 32, 64, uint8, 16, 32, 64\n",
    "#int8:8비트로 정수를 표현(-128~127 부호1비트빼고 7비트)"
   ]
  },
  {
   "cell_type": "code",
   "execution_count": 11,
   "metadata": {},
   "outputs": [
    {
     "data": {
      "text/plain": [
       "(32000, 20, 20, 3)"
      ]
     },
     "execution_count": 11,
     "metadata": {},
     "output_type": "execute_result"
    }
   ],
   "source": [
    "plane_x.shape #20,20,3\n",
    "#plane_y.shape\n",
    "plane_x=plane_x.reshape([-1,3,20,20]).transpose([0,2,3,1])\n",
    "plane_x.shape # 3200,20,20,3"
   ]
  },
  {
   "cell_type": "code",
   "execution_count": 12,
   "metadata": {},
   "outputs": [],
   "source": [
    "shuffle_index=np.arange(32000)\n",
    "np.random.shuffle(shuffle_index)"
   ]
  },
  {
   "cell_type": "code",
   "execution_count": 14,
   "metadata": {},
   "outputs": [],
   "source": [
    "plane_x=plane_x[shuffle_index]\n",
    "plane_y=plane_y[shuffle_index]"
   ]
  },
  {
   "cell_type": "code",
   "execution_count": 15,
   "metadata": {},
   "outputs": [],
   "source": [
    "plane_x=plane_x/255.0"
   ]
  },
  {
   "cell_type": "code",
   "execution_count": 16,
   "metadata": {},
   "outputs": [
    {
     "data": {
      "text/plain": [
       "307200000"
      ]
     },
     "execution_count": 16,
     "metadata": {},
     "output_type": "execute_result"
    }
   ],
   "source": [
    "plane_x.nbytes #307200000 "
   ]
  },
  {
   "cell_type": "code",
   "execution_count": 17,
   "metadata": {},
   "outputs": [],
   "source": [
    "plane_classes={0:'No Plane', 1:'Plane'}"
   ]
  },
  {
   "cell_type": "code",
   "execution_count": 19,
   "metadata": {},
   "outputs": [
    {
     "data": {
      "text/plain": [
       "(20, 20, 3)"
      ]
     },
     "execution_count": 19,
     "metadata": {},
     "output_type": "execute_result"
    }
   ],
   "source": [
    "plane_x[0].shape# 20, 20, 3"
   ]
  },
  {
   "cell_type": "code",
   "execution_count": 20,
   "metadata": {
    "scrolled": true
   },
   "outputs": [
    {
     "data": {
      "image/png": "[encoded data removed]",
      "text/plain": [
       "<Figure size 1440x720 with 8 Axes>"
      ]
     },
     "metadata": {},
     "output_type": "display_data"
    }
   ],
   "source": [
    "plt.figure(figsize=(20,10))\n",
    "for i in range(8):\n",
    "    plt.subplot(1,8,i+1)\n",
    "    plt.xticks([])\n",
    "    plt.yticks([])\n",
    "    plt.imshow(plane_x[i],cmap=plt.cm.binary)\n",
    "    plt.xlabel(plane_classes[plane_y[i]])"
   ]
  },
  {
   "cell_type": "code",
   "execution_count": 21,
   "metadata": {},
   "outputs": [],
   "source": [
    "plane_x_train,plane_x_test,plane_y_train,plane_y_test=\n",
    "train_test_split(plane_x,plane_y,test_size=0.2)"
   ]
  },
  {
   "cell_type": "code",
   "execution_count": 38,
   "metadata": {},
   "outputs": [],
   "source": [
    "def cnn_model(inputshape):\n",
    "    model=tf.keras.Sequential([\n",
    "        keras.layers.Conv2D(32,(5,5),input_shape=inputshape,activation='relu',padding='same'),\n",
    "        keras.layers.Conv2D(64,(5,5),activation='relu'),\n",
    "        keras.layers.MaxPooling2D(2,2),\n",
    "        keras.layers.Dropout(0.25),\n",
    "        \n",
    "        keras.layers.Conv2D(128,(5,5),activation='relu'),\n",
    "        keras.layers.MaxPooling2D(2,2),\n",
    "        keras.layers.Dropout(0.25),\n",
    "        keras.layers.Flatten(),\n",
    "        \n",
    "        keras.layers.Dense(512,activation='relu'),\n",
    "        keras.layers.Dropout(0.35),\n",
    "        keras.layers.Dense(128,activation='relu'),\n",
    "        keras.layers.Dropout(0.35),\n",
    "        keras.layers.Dense(2,activation='softmax')\n",
    "    ])\n",
    "    model.summary()\n",
    "    return(model)"
   ]
  },
  {
   "cell_type": "code",
   "execution_count": 39,
   "metadata": {
    "scrolled": true
   },
   "outputs": [
    {
     "name": "stdout",
     "output_type": "stream",
     "text": [
      "Model: \"sequential_1\"\n",
      "_________________________________________________________________\n",
      "Layer (type)                 Output Shape              Param #   \n",
      "=================================================================\n",
      "conv2d_10 (Conv2D)           (None, 20, 20, 32)        2432      \n",
      "_________________________________________________________________\n",
      "conv2d_11 (Conv2D)           (None, 16, 16, 64)        51264     \n",
      "_________________________________________________________________\n",
      "max_pooling2d_3 (MaxPooling2 (None, 8, 8, 64)          0         \n",
      "_________________________________________________________________\n",
      "dropout_5 (Dropout)          (None, 8, 8, 64)          0         \n",
      "_________________________________________________________________\n",
      "conv2d_12 (Conv2D)           (None, 4, 4, 128)         204928    \n",
      "_________________________________________________________________\n",
      "max_pooling2d_4 (MaxPooling2 (None, 2, 2, 128)         0         \n",
      "_________________________________________________________________\n",
      "dropout_6 (Dropout)          (None, 2, 2, 128)         0         \n",
      "_________________________________________________________________\n",
      "flatten_1 (Flatten)          (None, 512)               0         \n",
      "_________________________________________________________________\n",
      "dense_3 (Dense)              (None, 512)               262656    \n",
      "_________________________________________________________________\n",
      "dropout_7 (Dropout)          (None, 512)               0         \n",
      "_________________________________________________________________\n",
      "dense_4 (Dense)              (None, 128)               65664     \n",
      "_________________________________________________________________\n",
      "dropout_8 (Dropout)          (None, 128)               0         \n",
      "_________________________________________________________________\n",
      "dense_5 (Dense)              (None, 2)                 258       \n",
      "=================================================================\n",
      "Total params: 587,202\n",
      "Trainable params: 587,202\n",
      "Non-trainable params: 0\n",
      "_________________________________________________________________\n"
     ]
    }
   ],
   "source": [
    "training_plane=cnn_model((20,20,3))"
   ]
  },
  {
   "cell_type": "code",
   "execution_count": 40,
   "metadata": {},
   "outputs": [],
   "source": [
    "import os\n",
    "checkpoint_path1=\"cp.ckpt\"\n",
    "checkpoint_dir1=os.path.dirname(checkpoint_path1)"
   ]
  },
  {
   "cell_type": "code",
   "execution_count": 41,
   "metadata": {},
   "outputs": [],
   "source": [
    "cp_callback1=tf.keras.callbacks.ModelCheckpoint(checkpoint_path1,\n",
    "                                                save_weights_only=True,verbose=1)"
   ]
  },
  {
   "cell_type": "code",
   "execution_count": 42,
   "metadata": {},
   "outputs": [],
   "source": [
    "training_plane.compile(optimizer=tf.keras.optimizers.Adam(),\n",
    "                       loss=tf.keras.losses.sparse_categorical_crossentropy,\n",
    "                      metrics=['accuracy'])"
   ]
  },
  {
   "cell_type": "code",
   "execution_count": 43,
   "metadata": {},
   "outputs": [],
   "source": [
    "import time"
   ]
  },
  {
   "cell_type": "code",
   "execution_count": 44,
   "metadata": {},
   "outputs": [
    {
     "name": "stdout",
     "output_type": "stream",
     "text": [
      "Train on 17152 samples, validate on 8448 samples\n",
      "Epoch 1/30\n",
      "16896/17152 [============================>.] - ETA: 0s - loss: 0.5473 - acc: 0.7511\n",
      "Epoch 00001: saving model to cp.ckpt\n",
      "17152/17152 [==============================] - 21s 1ms/sample - loss: 0.5453 - acc: 0.7522 - val_loss: 0.3583 - val_acc: 0.8142\n",
      "Epoch 2/30\n",
      "16896/17152 [============================>.] - ETA: 0s - loss: 0.3593 - acc: 0.8262\n",
      "Epoch 00002: saving model to cp.ckpt\n",
      "17152/17152 [==============================] - 21s 1ms/sample - loss: 0.3589 - acc: 0.8264 - val_loss: 0.3145 - val_acc: 0.8630\n",
      "Epoch 3/30\n",
      "16896/17152 [============================>.] - ETA: 0s - loss: 0.2482 - acc: 0.8956\n",
      "Epoch 00003: saving model to cp.ckpt\n",
      "17152/17152 [==============================] - 21s 1ms/sample - loss: 0.2478 - acc: 0.8958 - val_loss: 0.1809 - val_acc: 0.9214\n",
      "Epoch 4/30\n",
      "16896/17152 [============================>.] - ETA: 0s - loss: 0.1822 - acc: 0.9275\n",
      "Epoch 00004: saving model to cp.ckpt\n",
      "17152/17152 [==============================] - 22s 1ms/sample - loss: 0.1824 - acc: 0.9275 - val_loss: 0.1341 - val_acc: 0.9461\n",
      "Epoch 5/30\n",
      "16896/17152 [============================>.] - ETA: 0s - loss: 0.1564 - acc: 0.9392\n",
      "Epoch 00005: saving model to cp.ckpt\n",
      "17152/17152 [==============================] - 21s 1ms/sample - loss: 0.1573 - acc: 0.9387 - val_loss: 0.1055 - val_acc: 0.9611\n",
      "Epoch 6/30\n",
      "16896/17152 [============================>.] - ETA: 0s - loss: 0.1283 - acc: 0.9507\n",
      "Epoch 00006: saving model to cp.ckpt\n",
      "17152/17152 [==============================] - 21s 1ms/sample - loss: 0.1283 - acc: 0.9506 - val_loss: 0.0923 - val_acc: 0.9654\n",
      "Epoch 7/30\n",
      "16896/17152 [============================>.] - ETA: 0s - loss: 0.1304 - acc: 0.9500\n",
      "Epoch 00007: saving model to cp.ckpt\n",
      "17152/17152 [==============================] - 21s 1ms/sample - loss: 0.1299 - acc: 0.9502 - val_loss: 0.1039 - val_acc: 0.9598\n",
      "Epoch 8/30\n",
      "16896/17152 [============================>.] - ETA: 0s - loss: 0.0996 - acc: 0.9636\n",
      "Epoch 00008: saving model to cp.ckpt\n",
      "17152/17152 [==============================] - 21s 1ms/sample - loss: 0.0993 - acc: 0.9637 - val_loss: 0.1007 - val_acc: 0.9616\n",
      "Epoch 9/30\n",
      "16896/17152 [============================>.] - ETA: 0s - loss: 0.0978 - acc: 0.9636\n",
      "Epoch 00009: saving model to cp.ckpt\n",
      "17152/17152 [==============================] - 21s 1ms/sample - loss: 0.0980 - acc: 0.9637 - val_loss: 0.0780 - val_acc: 0.9714\n",
      "Epoch 10/30\n",
      "16896/17152 [============================>.] - ETA: 0s - loss: 0.1017 - acc: 0.9619\n",
      "Epoch 00010: saving model to cp.ckpt\n",
      "17152/17152 [==============================] - 20s 1ms/sample - loss: 0.1014 - acc: 0.9619 - val_loss: 0.0800 - val_acc: 0.9710\n",
      "Epoch 11/30\n",
      "16896/17152 [============================>.] - ETA: 0s - loss: 0.0837 - acc: 0.9682\n",
      "Epoch 00011: saving model to cp.ckpt\n",
      "17152/17152 [==============================] - 20s 1ms/sample - loss: 0.0837 - acc: 0.9681 - val_loss: 0.0677 - val_acc: 0.9753\n",
      "Epoch 12/30\n",
      "16896/17152 [============================>.] - ETA: 0s - loss: 0.0715 - acc: 0.9741\n",
      "Epoch 00012: saving model to cp.ckpt\n",
      "17152/17152 [==============================] - 21s 1ms/sample - loss: 0.0711 - acc: 0.9742 - val_loss: 0.0763 - val_acc: 0.9725\n",
      "Epoch 13/30\n",
      "16896/17152 [============================>.] - ETA: 0s - loss: 0.0767 - acc: 0.9715\n",
      "Epoch 00013: saving model to cp.ckpt\n",
      "17152/17152 [==============================] - 21s 1ms/sample - loss: 0.0764 - acc: 0.9718 - val_loss: 0.0707 - val_acc: 0.9744\n",
      "Epoch 14/30\n",
      "16896/17152 [============================>.] - ETA: 0s - loss: 0.0689 - acc: 0.9756\n",
      "Epoch 00014: saving model to cp.ckpt\n",
      "17152/17152 [==============================] - 20s 1ms/sample - loss: 0.0687 - acc: 0.9758 - val_loss: 0.0605 - val_acc: 0.9786\n",
      "Epoch 15/30\n",
      "16896/17152 [============================>.] - ETA: 0s - loss: 0.0673 - acc: 0.9746\n",
      "Epoch 00015: saving model to cp.ckpt\n",
      "17152/17152 [==============================] - 20s 1ms/sample - loss: 0.0670 - acc: 0.9746 - val_loss: 0.0531 - val_acc: 0.9814\n",
      "Epoch 16/30\n",
      "16896/17152 [============================>.] - ETA: 0s - loss: 0.0627 - acc: 0.9759\n",
      "Epoch 00016: saving model to cp.ckpt\n",
      "17152/17152 [==============================] - 21s 1ms/sample - loss: 0.0630 - acc: 0.9759 - val_loss: 0.0737 - val_acc: 0.9738\n",
      "Epoch 17/30\n",
      "16896/17152 [============================>.] - ETA: 0s - loss: 0.0604 - acc: 0.9777\n",
      "Epoch 00017: saving model to cp.ckpt\n",
      "17152/17152 [==============================] - 21s 1ms/sample - loss: 0.0603 - acc: 0.9778 - val_loss: 0.0730 - val_acc: 0.9740\n",
      "Epoch 18/30\n",
      "16896/17152 [============================>.] - ETA: 0s - loss: 0.0646 - acc: 0.9768\n",
      "Epoch 00018: saving model to cp.ckpt\n",
      "17152/17152 [==============================] - 21s 1ms/sample - loss: 0.0643 - acc: 0.9769 - val_loss: 0.0484 - val_acc: 0.9854\n",
      "Epoch 19/30\n",
      "16896/17152 [============================>.] - ETA: 0s - loss: 0.0515 - acc: 0.9821\n",
      "Epoch 00019: saving model to cp.ckpt\n",
      "17152/17152 [==============================] - 21s 1ms/sample - loss: 0.0514 - acc: 0.9822 - val_loss: 0.0488 - val_acc: 0.9834\n",
      "Epoch 20/30\n",
      "16896/17152 [============================>.] - ETA: 0s - loss: 0.0495 - acc: 0.9819\n",
      "Epoch 00020: saving model to cp.ckpt\n",
      "17152/17152 [==============================] - 20s 1ms/sample - loss: 0.0503 - acc: 0.9818 - val_loss: 0.0470 - val_acc: 0.9845\n",
      "Epoch 21/30\n",
      "16896/17152 [============================>.] - ETA: 0s - loss: 0.0521 - acc: 0.9811\n",
      "Epoch 00021: saving model to cp.ckpt\n",
      "17152/17152 [==============================] - 20s 1ms/sample - loss: 0.0522 - acc: 0.9810 - val_loss: 0.0495 - val_acc: 0.9826\n",
      "Epoch 22/30\n",
      "16896/17152 [============================>.] - ETA: 0s - loss: 0.0439 - acc: 0.9840\n",
      "Epoch 00022: saving model to cp.ckpt\n",
      "17152/17152 [==============================] - 22s 1ms/sample - loss: 0.0441 - acc: 0.9841 - val_loss: 0.0469 - val_acc: 0.9843\n",
      "Epoch 23/30\n",
      "16896/17152 [============================>.] - ETA: 0s - loss: 0.0430 - acc: 0.9848\n",
      "Epoch 00023: saving model to cp.ckpt\n",
      "17152/17152 [==============================] - 21s 1ms/sample - loss: 0.0426 - acc: 0.9850 - val_loss: 0.0470 - val_acc: 0.9843\n",
      "Epoch 24/30\n",
      "16896/17152 [============================>.] - ETA: 0s - loss: 0.0438 - acc: 0.9841\n",
      "Epoch 00024: saving model to cp.ckpt\n",
      "17152/17152 [==============================] - 22s 1ms/sample - loss: 0.0438 - acc: 0.9841 - val_loss: 0.0686 - val_acc: 0.9762\n",
      "Epoch 25/30\n",
      "16896/17152 [============================>.] - ETA: 0s - loss: 0.0433 - acc: 0.9847\n",
      "Epoch 00025: saving model to cp.ckpt\n",
      "17152/17152 [==============================] - 21s 1ms/sample - loss: 0.0433 - acc: 0.9847 - val_loss: 0.0576 - val_acc: 0.9806\n",
      "Epoch 26/30\n",
      "16896/17152 [============================>.] - ETA: 0s - loss: 0.0354 - acc: 0.9867\n",
      "Epoch 00026: saving model to cp.ckpt\n",
      "17152/17152 [==============================] - 21s 1ms/sample - loss: 0.0354 - acc: 0.9868 - val_loss: 0.0543 - val_acc: 0.9817\n",
      "Epoch 27/30\n",
      "16896/17152 [============================>.] - ETA: 0s - loss: 0.0400 - acc: 0.9849\n",
      "Epoch 00027: saving model to cp.ckpt\n",
      "17152/17152 [==============================] - 22s 1ms/sample - loss: 0.0401 - acc: 0.9850 - val_loss: 0.0486 - val_acc: 0.9833\n",
      "Epoch 28/30\n",
      "16896/17152 [============================>.] - ETA: 0s - loss: 0.0355 - acc: 0.9879\n",
      "Epoch 00028: saving model to cp.ckpt\n",
      "17152/17152 [==============================] - 21s 1ms/sample - loss: 0.0351 - acc: 0.9879 - val_loss: 0.0444 - val_acc: 0.9863\n",
      "Epoch 29/30\n",
      "16896/17152 [============================>.] - ETA: 0s - loss: 0.0335 - acc: 0.9883\n",
      "Epoch 00029: saving model to cp.ckpt\n",
      "17152/17152 [==============================] - 23s 1ms/sample - loss: 0.0334 - acc: 0.9883 - val_loss: 0.0496 - val_acc: 0.9828\n",
      "Epoch 30/30\n",
      "16896/17152 [============================>.] - ETA: 0s - loss: 0.0502 - acc: 0.9828\n",
      "Epoch 00030: saving model to cp.ckpt\n",
      "17152/17152 [==============================] - 23s 1ms/sample - loss: 0.0501 - acc: 0.9828 - val_loss: 0.0493 - val_acc: 0.9839\n"
     ]
    },
    {
     "data": {
      "text/plain": [
       "'\\nmodel.fit(...,validation_data(xVal,yVal)) - 검증데이터 따로 있는 경우\\nvalidation_split=0.33\\nxTrain,yTrain을 33% 분리하여 검증데이터로 사용\\n'"
      ]
     },
     "execution_count": 44,
     "metadata": {},
     "output_type": "execute_result"
    }
   ],
   "source": [
    "start_time_plane=time.time()\n",
    "training_plane=training_plane.fit(plane_x_train,plane_y_train,\n",
    "                   validation_split=0.33,epochs=30,\n",
    "                   callbacks=[cp_callback1],\n",
    "                   batch_size=256)\n",
    "\n",
    "training_time_plane=time.time()-start_time_plane\n",
    "\"\"\"\n",
    "model.fit(...,validation_data(xVal,yVal)) - 검증데이터 따로 있는 경우\n",
    "validation_split=0.33\n",
    "xTrain,yTrain을 33% 분리하여 검증데이터로 사용\n",
    "\"\"\""
   ]
  },
  {
   "cell_type": "code",
   "execution_count": null,
   "metadata": {},
   "outputs": [],
   "source": [
    "training_plane.evaluate(plane_x_test,plane_y_test)\n",
    "classification_plane=training_plane.predict(plane_x_test)"
   ]
  },
  {
   "cell_type": "code",
   "execution_count": 45,
   "metadata": {},
   "outputs": [],
   "source": [
    "#문제 1\n",
    "#loss, accuracy 그래프 작성\n",
    "#x축: epochs, y축 : loss or accuracy\n",
    "\n",
    "#문제 2\n",
    "#sonar 분류\n",
    "from sklearn.preprocessing import LabelEncoder"
   ]
  },
  {
   "cell_type": "code",
   "execution_count": null,
   "metadata": {},
   "outputs": [],
   "source": [
    "1.모델\n",
    "e=LabelEncoder()\n",
    "e.fit(ydata)\n",
    "y=e.transform(ydata)\n",
    "\n",
    "loss='mse', opt=adam,...\n",
    "\n",
    "과적합 발생\n",
    "\n",
    "2.\n",
    "학습셋과 테스트셋 분리\n",
    "ex) 데이터 100개\n",
    "\n",
    "70개 학습용      30개 테스트용\n",
    "70개 학습 -> 모델 -> 30개 테스트\n",
    "\n",
    "3. 모델 저장/불러오기\n",
    "from keras.models import load_model\n",
    "저장 : model.save(\"mymodel.h5\")\n",
    "불러오기 : model=load_model(\"mymodel.h5\")\n",
    "    \n",
    "4. k-fold cross validation\n",
    "5 fold 교차 검증 : 데이터를 5개로 나눔"
   ]
  }
 ],
 "metadata": {
  "kernelspec": {
   "display_name": "Python 3",
   "language": "python",
   "name": "python3"
  },
  "language_info": {
   "codemirror_mode": {
    "name": "ipython",
    "version": 3
   },
   "file_extension": ".py",
   "mimetype": "text/x-python",
   "name": "python",
   "nbconvert_exporter": "python",
   "pygments_lexer": "ipython3",
   "version": "3.7.4"
  }
 },
 "nbformat": 4,
 "nbformat_minor": 2
}
