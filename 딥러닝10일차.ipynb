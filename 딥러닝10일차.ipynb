{
 "cells": [
  {
   "cell_type": "code",
   "execution_count": 1,
   "metadata": {
    "scrolled": true
   },
   "outputs": [
    {
     "data": {
      "text/plain": [
       "'3.4.5'"
      ]
     },
     "execution_count": 1,
     "metadata": {},
     "output_type": "execute_result"
    }
   ],
   "source": [
    "import nltk\n",
    "nltk.__version__"
   ]
  },
  {
   "cell_type": "code",
   "execution_count": 2,
   "metadata": {},
   "outputs": [
    {
     "name": "stdout",
     "output_type": "stream",
     "text": [
      "showing info https://raw.githubusercontent.com/nltk/nltk_data/gh-pages/index.xml\n"
     ]
    },
    {
     "data": {
      "text/plain": [
       "True"
      ]
     },
     "execution_count": 2,
     "metadata": {},
     "output_type": "execute_result"
    }
   ],
   "source": [
    "nltk.download()\n",
    "#nltk.download('treebank') #treebank 별도 설치\n",
    "#github.com/nltk"
   ]
  },
  {
   "cell_type": "code",
   "execution_count": 3,
   "metadata": {},
   "outputs": [],
   "source": [
    "#pip install konlpy\n",
    "import konlpy"
   ]
  },
  {
   "cell_type": "code",
   "execution_count": 4,
   "metadata": {},
   "outputs": [
    {
     "data": {
      "text/plain": [
       "'0.5.2'"
      ]
     },
     "execution_count": 4,
     "metadata": {},
     "output_type": "execute_result"
    }
   ],
   "source": [
    "konlpy.__version__"
   ]
  },
  {
   "cell_type": "code",
   "execution_count": 5,
   "metadata": {},
   "outputs": [],
   "source": [
    "#JPype : 자바와 파이썬 연결"
   ]
  },
  {
   "cell_type": "code",
   "execution_count": 6,
   "metadata": {},
   "outputs": [],
   "source": [
    "#토큰화, 정제, 정규화\n",
    "#토큰(단어)화:어절, 단어, 문장, 문단\n",
    "#단어토큰화 : 구두점, 특수문자 제거\n",
    "from nltk.tokenize import word_tokenize"
   ]
  },
  {
   "cell_type": "code",
   "execution_count": 9,
   "metadata": {},
   "outputs": [
    {
     "name": "stdout",
     "output_type": "stream",
     "text": [
      "['Mr.', 'Jone', \"'s\", 'Do', \"n't\", 'be']\n"
     ]
    }
   ],
   "source": [
    "print(word_tokenize(\"Mr. Jone's Don't be \"))"
   ]
  },
  {
   "cell_type": "code",
   "execution_count": 29,
   "metadata": {
    "scrolled": true
   },
   "outputs": [
    {
     "name": "stdout",
     "output_type": "stream",
     "text": [
      "['Mr', '.', 'Jone', \"'\", 's', 'Don', \"'\", 't', 'be']\n"
     ]
    }
   ],
   "source": [
    "from nltk.tokenize import WordPunctTokenizer\n",
    "print(WordPunctTokenizer().tokenize(\"Mr. Jone's Don't be \"))"
   ]
  },
  {
   "cell_type": "code",
   "execution_count": 12,
   "metadata": {},
   "outputs": [],
   "source": [
    "from tensorflow.keras.preprocessing.text import text_to_word_sequence"
   ]
  },
  {
   "cell_type": "code",
   "execution_count": 13,
   "metadata": {},
   "outputs": [
    {
     "name": "stdout",
     "output_type": "stream",
     "text": [
      "['mr', \"jone's\", \"don't\", 'be']\n"
     ]
    }
   ],
   "source": [
    "print(text_to_word_sequence(\"Mr. Jone's Don't be \"))"
   ]
  },
  {
   "cell_type": "code",
   "execution_count": 15,
   "metadata": {},
   "outputs": [],
   "source": [
    "#중요한건 정규표현식"
   ]
  },
  {
   "cell_type": "code",
   "execution_count": 19,
   "metadata": {},
   "outputs": [],
   "source": [
    "from nltk.tokenize import TreebankWordTokenizer"
   ]
  },
  {
   "cell_type": "code",
   "execution_count": 22,
   "metadata": {},
   "outputs": [
    {
     "name": "stdout",
     "output_type": "stream",
     "text": [
      "['Mr.', 'Jone', \"'s\", 'Do', \"n't\", 'be']\n"
     ]
    }
   ],
   "source": [
    "twt=TreebankWordTokenizer()\n",
    "print(twt.tokenize(\"Mr. Jone's Don't be \"))"
   ]
  },
  {
   "cell_type": "code",
   "execution_count": 26,
   "metadata": {},
   "outputs": [],
   "source": [
    "from nltk.tokenize import sent_tokenize\n",
    "text=\"Python is an interpreted, high-level, general-purpose programming language. Created by Guido van Rossum and first released in 1991, Python's design philosophy emphasizes code readability with its notable use of significant whitespace. Its language constructs and object-oriented approach aim to help programmers write clear, logical code for small and large-scale projects.\""
   ]
  },
  {
   "cell_type": "code",
   "execution_count": 27,
   "metadata": {
    "scrolled": false
   },
   "outputs": [
    {
     "name": "stdout",
     "output_type": "stream",
     "text": [
      "['Python is an interpreted, high-level, general-purpose programming language.', \"Created by Guido van Rossum and first released in 1991, Python's design philosophy emphasizes code readability with its notable use of significant whitespace.\", 'Its language constructs and object-oriented approach aim to help programmers write clear, logical code for small and large-scale projects.']\n"
     ]
    }
   ],
   "source": [
    "print(sent_tokenize(text))\n",
    "#len(sent_tokenize(text)) #3"
   ]
  },
  {
   "cell_type": "code",
   "execution_count": 30,
   "metadata": {},
   "outputs": [
    {
     "name": "stdout",
     "output_type": "stream",
     "text": [
      "['Python is an interpreted, high-level, general-purpose programming language.', \"Created by Guido van Rossum and first released in 1991, Python's design philosophy emphasizes code readability with its notable use of significant whitespace.\", 'Its language constructs and object-oriented approach aim to help programmers write clear, logical code for small and large-scale projects.']\n"
     ]
    }
   ],
   "source": [
    "print(sent_tokenize(text))\n",
    "# 조사:she her 그녀가(에게, 를, 와, 는....)\n",
    "# 아버지가방에 들어가...\n",
    "# 한국어(형태소) 토큰화 작업 : \n",
    "# 형태소(가장 작은 말의 단위) 고려\n",
    "# 자립형태소(길동이)/의존형태소\n",
    "# ex)길동이가 파이썬을 합니다."
   ]
  },
  {
   "cell_type": "code",
   "execution_count": 33,
   "metadata": {
    "scrolled": true
   },
   "outputs": [
    {
     "name": "stdout",
     "output_type": "stream",
     "text": [
      "['Python', 'is', 'an', 'interpreted', ',', 'high-level', ',', 'general-purpose', 'programming', 'language', '.']\n"
     ]
    },
    {
     "data": {
      "text/plain": [
       "[('Python', 'NNP'),\n",
       " ('is', 'VBZ'),\n",
       " ('an', 'DT'),\n",
       " ('interpreted', 'JJ'),\n",
       " (',', ','),\n",
       " ('high-level', 'JJ'),\n",
       " (',', ','),\n",
       " ('general-purpose', 'JJ'),\n",
       " ('programming', 'NN'),\n",
       " ('language', 'NN'),\n",
       " ('.', '.')]"
      ]
     },
     "execution_count": 33,
     "metadata": {},
     "output_type": "execute_result"
    }
   ],
   "source": [
    "#토큰화 과정에서 단어가 어떤 품사로 쓰였는지\n",
    "#품사 태깅(tagging), fly\n",
    "text=\"Python is an interpreted, high-level, general-purpose programming language.\"\n",
    "print(word_tokenize(text))\n",
    "from nltk.tag import pos_tag\n",
    "pos_tag(word_tokenize(text))"
   ]
  },
  {
   "cell_type": "code",
   "execution_count": 34,
   "metadata": {},
   "outputs": [],
   "source": [
    "# 형태소 분석기: Okt, Mecab, Kkma,...\n",
    "# Okt가 괜찮은듯하다고 함\n",
    "# 단어 토큰화가 아님. 형태소 토큰화를 하는 것임\n",
    "from konlpy.tag import Okt"
   ]
  },
  {
   "cell_type": "code",
   "execution_count": 36,
   "metadata": {},
   "outputs": [
    {
     "name": "stdout",
     "output_type": "stream",
     "text": [
      "['오늘', '은', '수요일', ',', '내일', '은', '목요일', '입니다']\n",
      "[('오늘', 'Noun'), ('은', 'Josa'), ('수요일', 'Noun'), (',', 'Punctuation'), ('내일', 'Noun'), ('은', 'Josa'), ('목요일', 'Noun'), ('입니다', 'Adjective')]\n",
      "['오늘', '수요일', '내일', '목요일']\n"
     ]
    }
   ],
   "source": [
    "okt=Okt()\n",
    "#Okt와 JPye1 버전 \n",
    "#pip install jpype1==0.7.0\n",
    "\n",
    "#morphs : 형태소 추출\n",
    "print(okt.morphs(\"오늘은 수요일, 내일은 목요일입니다\"))\n",
    "#pos : 품사\n",
    "print(okt.pos(\"오늘은 수요일, 내일은 목요일입니다\"))\n",
    "#nouns : 명사\n",
    "print(okt.nouns(\"오늘은 수요일, 내일은 목요일입니다\"))\n",
    "#konlpy.org 사이트 참고"
   ]
  },
  {
   "cell_type": "code",
   "execution_count": 37,
   "metadata": {},
   "outputs": [],
   "source": [
    "#데이터 정제(전처리):불필요한 형태소 제거, 단어\n",
    "#정규표현식을 이용. "
   ]
  },
  {
   "cell_type": "code",
   "execution_count": 38,
   "metadata": {},
   "outputs": [],
   "source": [
    "#LSA"
   ]
  },
  {
   "cell_type": "code",
   "execution_count": 79,
   "metadata": {},
   "outputs": [
    {
     "data": {
      "text/plain": [
       "(4, 9)"
      ]
     },
     "execution_count": 79,
     "metadata": {},
     "output_type": "execute_result"
    }
   ],
   "source": [
    "import numpy as np\n",
    "#A 행렬은 DTM\n",
    "A=np.array([[0,0,0,1,0,1,1,0,0],\n",
    "            [0,0,0,1,1,0,1,0,0],\n",
    "            [0,1,1,0,2,0,0,0,0],\n",
    "            [1,0,0,0,0,0,0,1,1]])\n",
    "np.shape(A)"
   ]
  },
  {
   "cell_type": "code",
   "execution_count": 80,
   "metadata": {},
   "outputs": [],
   "source": [
    "U,s, VT=np.linalg.svd(A,full_matrices=True)#full SVD, truncated SVD"
   ]
  },
  {
   "cell_type": "code",
   "execution_count": 81,
   "metadata": {},
   "outputs": [
    {
     "data": {
      "text/plain": [
       "array([[-2.39751712e-01,  7.51083898e-01,  5.48519247e-17,\n",
       "        -6.15135834e-01],\n",
       "       [-5.06077194e-01,  4.44029376e-01, -8.22778870e-17,\n",
       "         7.39407727e-01],\n",
       "       [-8.28495619e-01, -4.88580485e-01, -7.47642703e-17,\n",
       "        -2.73649629e-01],\n",
       "       [-9.04299898e-17, -4.11929620e-17,  1.00000000e+00,\n",
       "         7.41190750e-17]])"
      ]
     },
     "execution_count": 81,
     "metadata": {},
     "output_type": "execute_result"
    }
   ],
   "source": [
    "U"
   ]
  },
  {
   "cell_type": "code",
   "execution_count": 82,
   "metadata": {},
   "outputs": [
    {
     "data": {
      "text/plain": [
       "array([[-0.24,  0.75,  0.  , -0.62],\n",
       "       [-0.51,  0.44, -0.  ,  0.74],\n",
       "       [-0.83, -0.49, -0.  , -0.27],\n",
       "       [-0.  , -0.  ,  1.  ,  0.  ]])"
      ]
     },
     "execution_count": 82,
     "metadata": {},
     "output_type": "execute_result"
    }
   ],
   "source": [
    "U.round(2)#직교행렬 4*4"
   ]
  },
  {
   "cell_type": "code",
   "execution_count": 83,
   "metadata": {},
   "outputs": [
    {
     "name": "stdout",
     "output_type": "stream",
     "text": [
      "[2.69 2.05 1.73 0.77]\n"
     ]
    }
   ],
   "source": [
    "print(s.round(2))#4"
   ]
  },
  {
   "cell_type": "code",
   "execution_count": 84,
   "metadata": {},
   "outputs": [
    {
     "name": "stdout",
     "output_type": "stream",
     "text": [
      "[[2.69 0.   0.   0.   0.   0.   0.   0.   0.  ]\n",
      " [0.   2.05 0.   0.   0.   0.   0.   0.   0.  ]\n",
      " [0.   0.   1.73 0.   0.   0.   0.   0.   0.  ]\n",
      " [0.   0.   0.   0.77 0.   0.   0.   0.   0.  ]]\n"
     ]
    }
   ],
   "source": [
    "S=np.zeros((4,9))\n",
    "S[:4,:4]=np.diag(s)\n",
    "print(S.round(2))"
   ]
  },
  {
   "cell_type": "code",
   "execution_count": 85,
   "metadata": {},
   "outputs": [
    {
     "data": {
      "text/plain": [
       "array([[2., 2., 2., 2., 2., 2., 2., 2., 2.],\n",
       "       [2., 2., 2., 2., 2., 2., 2., 2., 2.],\n",
       "       [2., 2., 2., 2., 2., 2., 2., 2., 2.],\n",
       "       [2., 2., 2., 2., 2., 2., 2., 2., 2.]])"
      ]
     },
     "execution_count": 85,
     "metadata": {},
     "output_type": "execute_result"
    }
   ],
   "source": [
    "np.ones((4,9))*2"
   ]
  },
  {
   "cell_type": "code",
   "execution_count": 86,
   "metadata": {},
   "outputs": [
    {
     "name": "stdout",
     "output_type": "stream",
     "text": [
      "[[-0.   -0.31 -0.31 -0.28 -0.8  -0.09 -0.28 -0.   -0.  ]\n",
      " [ 0.   -0.24 -0.24  0.58 -0.26  0.37  0.58 -0.   -0.  ]\n",
      " [ 0.58 -0.    0.    0.   -0.    0.   -0.    0.58  0.58]\n",
      " [ 0.   -0.35 -0.35  0.16  0.25 -0.8   0.16 -0.   -0.  ]\n",
      " [-0.   -0.78 -0.01 -0.2   0.4   0.4  -0.2   0.    0.  ]\n",
      " [-0.29  0.31 -0.78 -0.24  0.23  0.23  0.01  0.14  0.14]\n",
      " [-0.29 -0.1   0.26 -0.59 -0.08 -0.08  0.66  0.14  0.14]\n",
      " [-0.5  -0.06  0.15  0.24 -0.05 -0.05 -0.19  0.75 -0.25]\n",
      " [-0.5  -0.06  0.15  0.24 -0.05 -0.05 -0.19 -0.25  0.75]]\n"
     ]
    }
   ],
   "source": [
    "print(VT.round(2))"
   ]
  },
  {
   "cell_type": "code",
   "execution_count": 87,
   "metadata": {},
   "outputs": [
    {
     "data": {
      "text/plain": [
       "array([[ 0.,  0.,  0.,  1., -0.,  1.,  1.,  0.,  0.],\n",
       "       [ 0., -0., -0.,  1.,  1., -0.,  1., -0., -0.],\n",
       "       [ 0.,  1.,  1., -0.,  2., -0., -0.,  0.,  0.],\n",
       "       [ 1., -0.,  0.,  0., -0.,  0., -0.,  1.,  1.]])"
      ]
     },
     "execution_count": 87,
     "metadata": {},
     "output_type": "execute_result"
    }
   ],
   "source": [
    "np.dot(np.dot(U,S),VT).round(2)#기존 A와 같음"
   ]
  },
  {
   "cell_type": "code",
   "execution_count": 88,
   "metadata": {},
   "outputs": [
    {
     "data": {
      "text/plain": [
       "True"
      ]
     },
     "execution_count": 88,
     "metadata": {},
     "output_type": "execute_result"
    }
   ],
   "source": [
    "np.allclose(A,np.dot(np.dot(U,S),VT).round(2))"
   ]
  },
  {
   "cell_type": "code",
   "execution_count": 89,
   "metadata": {},
   "outputs": [
    {
     "name": "stdout",
     "output_type": "stream",
     "text": [
      "[[2.69 0.  ]\n",
      " [0.   2.05]]\n"
     ]
    }
   ],
   "source": [
    "## 절단된(truncated) SVD\n",
    "## 토픽 2개\n",
    "## 대각선 위에 순서대로 가장 강한 토픽 의미\n",
    "S=S[:2,:2]\n",
    "print(S.round(2))"
   ]
  },
  {
   "cell_type": "code",
   "execution_count": 91,
   "metadata": {},
   "outputs": [
    {
     "data": {
      "text/plain": [
       "array([[-0.24,  0.75],\n",
       "       [-0.51,  0.44],\n",
       "       [-0.83, -0.49],\n",
       "       [-0.  , -0.  ]])"
      ]
     },
     "execution_count": 91,
     "metadata": {},
     "output_type": "execute_result"
    }
   ],
   "source": [
    "U.shape #4,4\n",
    "U=U[:,:2] #4,2 문서4개, 토픽2\n",
    "#U의 의미는 4개 문서 각각에 대한 잠재된 의미를 표현\n",
    "#하고 있는 수치 문서 벡터\n",
    "U.round(2)"
   ]
  },
  {
   "cell_type": "code",
   "execution_count": 93,
   "metadata": {},
   "outputs": [
    {
     "data": {
      "text/plain": [
       "array([[-0.  , -0.31, -0.31, -0.28, -0.8 , -0.09, -0.28, -0.  , -0.  ],\n",
       "       [ 0.  , -0.24, -0.24,  0.58, -0.26,  0.37,  0.58, -0.  , -0.  ]])"
      ]
     },
     "execution_count": 93,
     "metadata": {},
     "output_type": "execute_result"
    }
   ],
   "source": [
    "VT.shape #(9,9)\n",
    "VT=VT[:2,:]#(2,9) 토픽*단어개수\n",
    "#VT의 각 열은 잠재 의미를 나타내기 위한 수치화된 \n",
    "#단어 벡터\n",
    "\n",
    "VT.round(2)\n",
    "#U*S*VT != A"
   ]
  },
  {
   "cell_type": "code",
   "execution_count": 94,
   "metadata": {
    "scrolled": true
   },
   "outputs": [
    {
     "name": "stdout",
     "output_type": "stream",
     "text": [
      "[[ 0.   -0.17 -0.17  1.08  0.12  0.62  1.08 -0.   -0.  ]\n",
      " [ 0.    0.2   0.2   0.91  0.86  0.45  0.91  0.    0.  ]\n",
      " [ 0.    0.93  0.93  0.03  2.05 -0.17  0.03  0.    0.  ]\n",
      " [ 0.    0.    0.    0.    0.   -0.    0.    0.    0.  ]]\n",
      "[[0 0 0 1 0 1 1 0 0]\n",
      " [0 0 0 1 1 0 1 0 0]\n",
      " [0 1 1 0 2 0 0 0 0]\n",
      " [1 0 0 0 0 0 0 1 1]]\n"
     ]
    }
   ],
   "source": [
    "Aprime=np.dot(np.dot(U,S),VT)\n",
    "print(Aprime.round(2))\n",
    "print(A)"
   ]
  },
  {
   "cell_type": "code",
   "execution_count": 97,
   "metadata": {},
   "outputs": [
    {
     "data": {
      "text/plain": [
       "array([[-0.  , -0.83, -0.83, -0.75, -2.16, -0.24, -0.75, -0.  , -0.  ],\n",
       "       [ 0.  , -0.49, -0.49,  1.2 , -0.53,  0.75,  1.2 , -0.  , -0.  ]])"
      ]
     },
     "execution_count": 97,
     "metadata": {},
     "output_type": "execute_result"
    }
   ],
   "source": [
    "np.dot(S,VT).round(2)"
   ]
  },
  {
   "cell_type": "code",
   "execution_count": 98,
   "metadata": {},
   "outputs": [],
   "source": [
    "## 캐글 데이터 영화 유사도 "
   ]
  },
  {
   "cell_type": "code",
   "execution_count": 99,
   "metadata": {},
   "outputs": [],
   "source": [
    "\"\"\"\n",
    "          돈    사랑    저는    좋아요\n",
    "줄거리1    0      1      1        1\n",
    "줄거리2    1      0      1        1\n",
    "줄거리3    2      0      2        2\n",
    "\"\"\"\n",
    "#norm 벡터의 크기 구하는 함수\n",
    "from numpy.linalg import norm"
   ]
  },
  {
   "cell_type": "code",
   "execution_count": 100,
   "metadata": {},
   "outputs": [],
   "source": [
    "mov1=np.array([0,1,1,1])\n",
    "mov2=np.array([1,0,1,1])\n",
    "mov3=np.array([2,0,2,2])"
   ]
  },
  {
   "cell_type": "code",
   "execution_count": 103,
   "metadata": {},
   "outputs": [],
   "source": [
    "np.dot(mov1,mov2)#두 벡터의 내적\n",
    "np.dot(mov1,mov2)/(norm(mov1)*norm(mov2))#코사인 유사도\n",
    "\n",
    "def cos_sim(X,Y):\n",
    "    return np.dot(X,Y)/(norm(X)*norm(Y))"
   ]
  },
  {
   "cell_type": "code",
   "execution_count": 104,
   "metadata": {},
   "outputs": [
    {
     "name": "stdout",
     "output_type": "stream",
     "text": [
      "0.6666666666666667\n",
      "1.0000000000000002\n",
      "0.6666666666666667\n"
     ]
    }
   ],
   "source": [
    "print(cos_sim(mov1,mov2))\n",
    "print(cos_sim(mov2,mov3))\n",
    "print(cos_sim(mov1,mov3))"
   ]
  },
  {
   "cell_type": "code",
   "execution_count": 130,
   "metadata": {},
   "outputs": [
    {
     "name": "stderr",
     "output_type": "stream",
     "text": [
      "C:\\Users\\student\\Anaconda3\\lib\\site-packages\\IPython\\core\\interactiveshell.py:3058: DtypeWarning: Columns (10) have mixed types. Specify dtype option on import or set low_memory=False.\n",
      "  interactivity=interactivity, compiler=compiler, result=result)\n"
     ]
    },
    {
     "data": {
      "text/plain": [
       "(20000, 24)"
      ]
     },
     "execution_count": 130,
     "metadata": {},
     "output_type": "execute_result"
    }
   ],
   "source": [
    "import pandas as pd\n",
    "data=pd.read_csv(\"C:/Users/student/Downloads/Python_JP/the-movies-dataset/movies_metadata.csv\")\n",
    "data=data.head(20000)\n",
    "data.shape"
   ]
  },
  {
   "cell_type": "code",
   "execution_count": 131,
   "metadata": {},
   "outputs": [],
   "source": [
    "data['overview'].isnull().sum() #954\n",
    "data['overview']=data['overview'].fillna('')"
   ]
  },
  {
   "cell_type": "code",
   "execution_count": 132,
   "metadata": {},
   "outputs": [
    {
     "data": {
      "text/plain": [
       "(20000, 47487)"
      ]
     },
     "execution_count": 132,
     "metadata": {},
     "output_type": "execute_result"
    }
   ],
   "source": [
    "from sklearn.feature_extraction.text import TfidfVectorizer\n",
    "tfidf=TfidfVectorizer(stop_words='english')\n",
    "tfidf_mat=tfidf.fit_transform(data['overview'])\n",
    "tfidf_mat.shape"
   ]
  },
  {
   "cell_type": "code",
   "execution_count": 125,
   "metadata": {},
   "outputs": [
    {
     "data": {
      "text/plain": [
       "0                                                Toy Story\n",
       "1                                                  Jumanji\n",
       "2                                         Grumpier Old Men\n",
       "3                                        Waiting to Exhale\n",
       "4                              Father of the Bride Part II\n",
       "                               ...                        \n",
       "19995                                            Rebellion\n",
       "19996                                           Versailles\n",
       "19997                                      Two in the Wave\n",
       "19998    Lotte Reiniger: Homage to the Inventor of the ...\n",
       "19999    RKO Production 601: The Making of 'Kong, the E...\n",
       "Name: title, Length: 20000, dtype: object"
      ]
     },
     "execution_count": 125,
     "metadata": {},
     "output_type": "execute_result"
    }
   ],
   "source": [
    "data['title']\n",
    "#Toy Story와 가장 코사인 유사도가 큰\n",
    "#영화 10편을 추출 -> 영화의 제목과 유사도 추출"
   ]
  },
  {
   "cell_type": "code",
   "execution_count": 126,
   "metadata": {},
   "outputs": [
    {
     "data": {
      "text/plain": [
       "0    Led by Woody, Andy's toys live happily in his ...\n",
       "1    When siblings Judy and Peter discover an encha...\n",
       "2    A family wedding reignites the ancient feud be...\n",
       "3    Cheated on, mistreated and stepped on, the wom...\n",
       "4    Just when George Banks has recovered from his ...\n",
       "Name: overview, dtype: object"
      ]
     },
     "execution_count": 126,
     "metadata": {},
     "output_type": "execute_result"
    }
   ],
   "source": [
    "data['overview'].head()"
   ]
  },
  {
   "cell_type": "code",
   "execution_count": 134,
   "metadata": {},
   "outputs": [
    {
     "name": "stdout",
     "output_type": "stream",
     "text": [
      "  (0, 11645)\t0.13942792746208266\n",
      "  (0, 2811)\t0.1524688231743182\n",
      "  (0, 24325)\t0.10272285889754121\n",
      "  (0, 14393)\t0.10323587624822204\n",
      "  (0, 12920)\t0.13359137839416452\n",
      "  (0, 30780)\t0.10362949000778948\n",
      "  (0, 37778)\t0.13329592929044795\n",
      "  (0, 7974)\t0.13030575543855816\n",
      "  (0, 32424)\t0.13359137839416452\n",
      "  (0, 19047)\t0.10485920860731182\n",
      "  (0, 32291)\t0.09637786759647918\n",
      "  (0, 25229)\t0.12052668500637997\n",
      "  (0, 1254)\t0.1489611323980068\n",
      "  (0, 37166)\t0.11699407550916606\n",
      "  (0, 24759)\t0.19553422928903877\n",
      "  (0, 6290)\t0.5036643709879097\n",
      "  (0, 5775)\t0.10961099833635705\n",
      "  (0, 4736)\t0.12600776612424489\n",
      "  (0, 36185)\t0.11514050233158798\n",
      "  (0, 18727)\t0.13359137839416452\n",
      "  (0, 24957)\t0.09146351035625488\n",
      "  (0, 43131)\t0.15491381382108724\n",
      "  (0, 2051)\t0.4159373110833513\n",
      "  (0, 46617)\t0.46474144146326174\n",
      "  (0, 24361)\t0.10943293956646011\n",
      "  :\t:\n",
      "  (19997, 13221)\t0.17897321248705433\n",
      "  (19997, 37592)\t0.15166031585027698\n",
      "  (19997, 45919)\t0.1821847673691749\n",
      "  (19997, 46772)\t0.14244710628029003\n",
      "  (19997, 21552)\t0.15423289582259722\n",
      "  (19997, 2517)\t0.19144340456445616\n",
      "  (19997, 35018)\t0.12079430955239955\n",
      "  (19997, 15493)\t0.08950278201939495\n",
      "  (19997, 29263)\t0.08327821667314726\n",
      "  (19997, 22125)\t0.15561995376233795\n",
      "  (19998, 34978)\t0.5686453250841403\n",
      "  (19998, 25239)\t0.5300420112528954\n",
      "  (19998, 2123)\t0.4914386974216504\n",
      "  (19998, 15959)\t0.2634131459925457\n",
      "  (19998, 46646)\t0.24224167485285572\n",
      "  (19998, 24713)\t0.16161204387743677\n",
      "  (19999, 21100)\t0.37141985908973846\n",
      "  (19999, 11225)\t0.3967094056723883\n",
      "  (19999, 17084)\t0.42580907795020684\n",
      "  (19999, 24392)\t0.3547620606044795\n",
      "  (19999, 23527)\t0.3198603932842145\n",
      "  (19999, 33267)\t0.29959318467784873\n",
      "  (19999, 23261)\t0.25876343109753314\n",
      "  (19999, 15506)\t0.27438105359261933\n",
      "  (19999, 25155)\t0.2513746643446116\n"
     ]
    }
   ],
   "source": [
    "print(tfidf_mat)"
   ]
  },
  {
   "cell_type": "code",
   "execution_count": null,
   "metadata": {},
   "outputs": [],
   "source": []
  }
 ],
 "metadata": {
  "kernelspec": {
   "display_name": "Python 3",
   "language": "python",
   "name": "python3"
  },
  "language_info": {
   "codemirror_mode": {
    "name": "ipython",
    "version": 3
   },
   "file_extension": ".py",
   "mimetype": "text/x-python",
   "name": "python",
   "nbconvert_exporter": "python",
   "pygments_lexer": "ipython3",
   "version": "3.7.4"
  }
 },
 "nbformat": 4,
 "nbformat_minor": 2
}
