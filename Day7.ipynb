{
 "cells": [
  {
   "cell_type": "code",
   "execution_count": 5,
   "metadata": {},
   "outputs": [
    {
     "name": "stdout",
     "output_type": "stream",
     "text": [
      "[1, 2]\n",
      "[1, 2]\n"
     ]
    }
   ],
   "source": [
    "\"\"\"\n",
    "filter(함수,반복가능자료형:반복가능 자료형 요소가 첫번째 인수인\n",
    "함수에 대해서 변환 값이 참인 경우에 대해서만 필터링 해주는 함수 )\n",
    "\"\"\"\n",
    "def positive(p):\n",
    "    res=[]\n",
    "    for i in p:\n",
    "        if i>0:\n",
    "            res.append(i)\n",
    "    return res\n",
    "print(positive([1,-3,2,-5]))\n",
    "\n",
    "print(list(filter(lambda x:x>0,[1,-3,2,-5])))"
   ]
  },
  {
   "cell_type": "code",
   "execution_count": 10,
   "metadata": {},
   "outputs": [
    {
     "name": "stdout",
     "output_type": "stream",
     "text": [
      "[2, 3, 4, 5]\n",
      "[2, 3, 4, 5]\n",
      "[2, 3, 4, 5]\n",
      "['1', '2', '3', '4']\n"
     ]
    }
   ],
   "source": [
    "target=[1,2,3,4]\n",
    "res=[]\n",
    "def add1(n):\n",
    "    return n+1\n",
    "for v in target:\n",
    "    res.append(add1(v))\n",
    "print(res)\n",
    "print(list(map(add1,target)))\n",
    "print(list(map(lambda x:x+1,target)))\n",
    "\n",
    "print(list(map(str,target)))"
   ]
  },
  {
   "cell_type": "code",
   "execution_count": 12,
   "metadata": {},
   "outputs": [
    {
     "name": "stdout",
     "output_type": "stream",
     "text": [
      "[2, 4, 6, 8, 10]\n"
     ]
    }
   ],
   "source": [
    "target=list(range(1,11))\n",
    "res=[]\n",
    "def is_even(n):\n",
    "    return True if n%2==0 else False\n",
    "res=filter(is_even, target)\n",
    "# for v in target:\n",
    "#     if is_even(v):\n",
    "#         res.append(v)\n",
    "#print(res)\n",
    "print(list(res))"
   ]
  },
  {
   "cell_type": "code",
   "execution_count": 15,
   "metadata": {},
   "outputs": [
    {
     "name": "stdout",
     "output_type": "stream",
     "text": [
      "[2, 4, 6, 8, 10]\n"
     ]
    }
   ],
   "source": [
    "target=list(range(1,11))\n",
    "res=[]\n",
    "res=filter(lambda x:x%2==0, target)\n",
    "print(list(res))"
   ]
  },
  {
   "cell_type": "code",
   "execution_count": 16,
   "metadata": {},
   "outputs": [
    {
     "name": "stdout",
     "output_type": "stream",
     "text": [
      "[1, 3]\n"
     ]
    }
   ],
   "source": [
    "target=[1,3,-2,-5]\n",
    "res=[]\n",
    "res=filter(lambda x:x>0,target)\n",
    "print(list(res))"
   ]
  },
  {
   "cell_type": "code",
   "execution_count": 17,
   "metadata": {},
   "outputs": [
    {
     "data": {
      "text/plain": [
       "'0xfe'"
      ]
     },
     "execution_count": 17,
     "metadata": {},
     "output_type": "execute_result"
    }
   ],
   "source": [
    "#정수 -> 16진수\n",
    "hex(254)"
   ]
  },
  {
   "cell_type": "code",
   "execution_count": 23,
   "metadata": {},
   "outputs": [
    {
     "name": "stdout",
     "output_type": "stream",
     "text": [
      "140711586079184\n",
      "140711586079216\n"
     ]
    }
   ],
   "source": [
    "a=4 #3이 저장된 메모리상의 주소를 a가 갖고 있다는 의미\n",
    "print(id(3))\n",
    "print(id(a))\n",
    "#id(객체)객체의 메모리 주소 값을 돌려주는 함수\n"
   ]
  },
  {
   "cell_type": "code",
   "execution_count": 27,
   "metadata": {},
   "outputs": [
    {
     "data": {
      "text/plain": [
       "5"
      ]
     },
     "execution_count": 27,
     "metadata": {},
     "output_type": "execute_result"
    }
   ],
   "source": [
    "int('3')\n",
    "int(3.14)\n",
    "int(\"FA\",16)#16진수 FA에 대한 10진수 값\n",
    "int(\"101\",2)#2진수 101에 대한 10진수 값"
   ]
  },
  {
   "cell_type": "code",
   "execution_count": 29,
   "metadata": {},
   "outputs": [
    {
     "name": "stdout",
     "output_type": "stream",
     "text": [
      "True\n",
      "False\n"
     ]
    }
   ],
   "source": [
    "#클래스(붕어빵기계)->객체(인스턴스,붕어빵)\n",
    "#붕어빵 isinstance 붕어빵기계 => True\n",
    "#꽃게빵 isinstance 붕어빵기계 => False\n",
    "class 붕어빵기계:\n",
    "    pass\n",
    "class 꽃게빵기계:\n",
    "    pass\n",
    "꽃게빵=꽃게빵기계()\n",
    "붕어빵=붕어빵기계()\n",
    "print(isinstance(붕어빵,붕어빵기계))\n",
    "print(isinstance(꽃게빵,붕어빵기계))"
   ]
  },
  {
   "cell_type": "code",
   "execution_count": 34,
   "metadata": {},
   "outputs": [
    {
     "data": {
      "text/plain": [
       "[1, 2, 3, 4, 5, 6, 7, 8, 9]"
      ]
     },
     "execution_count": 34,
     "metadata": {},
     "output_type": "execute_result"
    }
   ],
   "source": [
    "list(\"test\") #=>['t','e','s','t']\n",
    "list((1,2,3))\n",
    "list(range(1,10))"
   ]
  },
  {
   "cell_type": "code",
   "execution_count": 43,
   "metadata": {},
   "outputs": [
    {
     "name": "stdout",
     "output_type": "stream",
     "text": [
      "[2, 4, 6]\n",
      "[2, 4, 6]\n"
     ]
    }
   ],
   "source": [
    "#1.일반적 함수로 구현\n",
    "def two_times(num):\n",
    "    res=[]\n",
    "    for n in num:\n",
    "        res.append(n*2)\n",
    "    return res\n",
    "    #구현부분\n",
    "res=two_times([1,2,3])\n",
    "print(res)#[2,4,6]\n",
    "\n",
    "#2.map함수구현\n",
    "def two_times(x):\n",
    "    return x*2\n",
    "print(list(map(two_times,[1,2,3])))"
   ]
  },
  {
   "cell_type": "code",
   "execution_count": 45,
   "metadata": {},
   "outputs": [
    {
     "name": "stdout",
     "output_type": "stream",
     "text": [
      "[2, 4, 6]\n"
     ]
    }
   ],
   "source": [
    "#3.lambda함수로\n",
    "print(list(map(lambda x:x*2,[1,2,3])))"
   ]
  },
  {
   "cell_type": "code",
   "execution_count": 51,
   "metadata": {},
   "outputs": [
    {
     "data": {
      "text/plain": [
       "16"
      ]
     },
     "execution_count": 51,
     "metadata": {},
     "output_type": "execute_result"
    }
   ],
   "source": [
    "max([1,2,3])\n",
    "max(\"test\")#아스키 코드값이 가장 큰 문자\n",
    "min([1,2,3])\n",
    "min(\"test\")#아스키 코드값이 가장 작은 문자\n",
    "oct(8) #10진수 8 -> 8진수 10\n",
    "chr(97)#ord함수의 반대\n",
    "ord('a')\n",
    "pow(2,4)#2의 4승"
   ]
  },
  {
   "cell_type": "code",
   "execution_count": 53,
   "metadata": {},
   "outputs": [
    {
     "data": {
      "text/plain": [
       "3.46"
      ]
     },
     "execution_count": 53,
     "metadata": {},
     "output_type": "execute_result"
    }
   ],
   "source": [
    "#반올림 함수\n",
    "round(4.6)\n",
    "round(3.4567,2)"
   ]
  },
  {
   "cell_type": "code",
   "execution_count": 54,
   "metadata": {},
   "outputs": [],
   "source": [
    "#list.sort(), sorted(list)\n",
    "#list.sort():리스트를 정렬, 반환값은 None\n",
    "#리스트 순서가 변경\n",
    "\n",
    "#sorted(list) : 정렬된 새로운 리스를 반환\n",
    "#원본 리스트에는 영향 없음\n",
    "\n",
    "#두 함수 차이점 정리\n",
    "#sort\n",
    "#순서는 sorted가 약간 더 느림 추가적으로 사본 리스트가 생성되기때문"
   ]
  },
  {
   "cell_type": "code",
   "execution_count": 58,
   "metadata": {},
   "outputs": [
    {
     "data": {
      "text/plain": [
       "['a', 'b', 'c']"
      ]
     },
     "execution_count": 58,
     "metadata": {},
     "output_type": "execute_result"
    }
   ],
   "source": [
    "sorted(['a','c','b'])"
   ]
  },
  {
   "cell_type": "code",
   "execution_count": 61,
   "metadata": {},
   "outputs": [
    {
     "name": "stdout",
     "output_type": "stream",
     "text": [
      "3\n",
      "6\n"
     ]
    }
   ],
   "source": [
    "print(sum([1,2]))\n",
    "print(sum((1,2,3)))"
   ]
  },
  {
   "cell_type": "code",
   "execution_count": 64,
   "metadata": {},
   "outputs": [
    {
     "data": {
      "text/plain": [
       "[('a', 'd', 'g'), ('b', 'e', 'h'), ('c', 'f', 'i')]"
      ]
     },
     "execution_count": 64,
     "metadata": {},
     "output_type": "execute_result"
    }
   ],
   "source": [
    "list(zip(\"abc\",\"def\"))\n",
    "list(zip(\"abc\",\"defg\"))#g가 버려짐\n",
    "list(zip(\"abc\",\"de\"))#c가 버려림\n",
    "list(zip(\"abc\",\"def\",\"ghi\"))"
   ]
  },
  {
   "cell_type": "code",
   "execution_count": 63,
   "metadata": {},
   "outputs": [
    {
     "data": {
      "text/plain": [
       "'HI'"
      ]
     },
     "execution_count": 63,
     "metadata": {},
     "output_type": "execute_result"
    }
   ],
   "source": [
    "str(3)\n",
    "str('hi')\n",
    "str('hi').upper()"
   ]
  },
  {
   "cell_type": "code",
   "execution_count": 69,
   "metadata": {},
   "outputs": [],
   "source": [
    "#pickle:객체 상태 그대로 저장/불러오기 모듈\n",
    "import pickle\n",
    "f=open('test.txt',\"wb\")# wb <- 바이너리 형식으로 저장할때\n",
    "data={1:'python',2:'java'}#객체\n",
    "pickle.dump(data,f) #객체상태 그대로 저장할 수 있는 함수\n",
    "f.close()"
   ]
  },
  {
   "cell_type": "code",
   "execution_count": 71,
   "metadata": {},
   "outputs": [
    {
     "name": "stdout",
     "output_type": "stream",
     "text": [
      "{1: 'python', 2: 'java'}\n"
     ]
    }
   ],
   "source": [
    "f=open(\"test.txt\",\"rb\")\n",
    "data=pickle.load(f)\n",
    "print(data)"
   ]
  },
  {
   "cell_type": "code",
   "execution_count": 72,
   "metadata": {},
   "outputs": [
    {
     "data": {
      "text/plain": [
       "'test2.txt'"
      ]
     },
     "execution_count": 72,
     "metadata": {},
     "output_type": "execute_result"
    }
   ],
   "source": [
    "import shutil#파일복사\n",
    "shutil.copy(\"test.txt\",\"test2.txt\")"
   ]
  },
  {
   "cell_type": "code",
   "execution_count": 75,
   "metadata": {},
   "outputs": [
    {
     "data": {
      "text/plain": [
       "['c:/windows\\\\addins',\n",
       " 'c:/windows\\\\appcompat',\n",
       " 'c:/windows\\\\apppatch',\n",
       " 'c:/windows\\\\AppReadiness',\n",
       " 'c:/windows\\\\assembly',\n",
       " 'c:/windows\\\\bcastdvr',\n",
       " 'c:/windows\\\\bfsvc.exe',\n",
       " 'c:/windows\\\\BitLockerDiscoveryVolumeContents',\n",
       " 'c:/windows\\\\Boot',\n",
       " 'c:/windows\\\\bootstat.dat',\n",
       " 'c:/windows\\\\Branding',\n",
       " 'c:/windows\\\\CbsTemp',\n",
       " 'c:/windows\\\\Containers',\n",
       " 'c:/windows\\\\CSC',\n",
       " 'c:/windows\\\\Cursors',\n",
       " 'c:/windows\\\\debug',\n",
       " 'c:/windows\\\\diagnostics',\n",
       " 'c:/windows\\\\DiagTrack',\n",
       " 'c:/windows\\\\DigitalLocker',\n",
       " 'c:/windows\\\\Downloaded Program Files',\n",
       " 'c:/windows\\\\Education.xml',\n",
       " 'c:/windows\\\\ELAMBKUP',\n",
       " 'c:/windows\\\\en-US',\n",
       " 'c:/windows\\\\Enterprise.xml',\n",
       " 'c:/windows\\\\explorer.exe',\n",
       " 'c:/windows\\\\Fonts',\n",
       " 'c:/windows\\\\GameBarPresenceWriter',\n",
       " 'c:/windows\\\\Globalization',\n",
       " 'c:/windows\\\\Help',\n",
       " 'c:/windows\\\\HelpPane.exe',\n",
       " 'c:/windows\\\\hh.exe',\n",
       " 'c:/windows\\\\IdentityCRL',\n",
       " 'c:/windows\\\\IME',\n",
       " 'c:/windows\\\\ImmersiveControlPanel',\n",
       " 'c:/windows\\\\INF',\n",
       " 'c:/windows\\\\InputMethod',\n",
       " 'c:/windows\\\\Installer',\n",
       " 'c:/windows\\\\ko-KR',\n",
       " 'c:/windows\\\\L2Schemas',\n",
       " 'c:/windows\\\\LanguageOverlayCache',\n",
       " 'c:/windows\\\\LiveKernelReports',\n",
       " 'c:/windows\\\\Logs',\n",
       " 'c:/windows\\\\Media',\n",
       " 'c:/windows\\\\mib.bin',\n",
       " 'c:/windows\\\\Microsoft.NET',\n",
       " 'c:/windows\\\\Migration',\n",
       " 'c:/windows\\\\minidump',\n",
       " 'c:/windows\\\\ModemLogs',\n",
       " 'c:/windows\\\\notepad.exe',\n",
       " 'c:/windows\\\\OCR',\n",
       " 'c:/windows\\\\Offline Web Pages',\n",
       " 'c:/windows\\\\Panther',\n",
       " 'c:/windows\\\\PCHEALTH',\n",
       " 'c:/windows\\\\Performance',\n",
       " 'c:/windows\\\\PFRO.log',\n",
       " 'c:/windows\\\\PLA',\n",
       " 'c:/windows\\\\PolicyDefinitions',\n",
       " 'c:/windows\\\\Prefetch',\n",
       " 'c:/windows\\\\PrintDialog',\n",
       " 'c:/windows\\\\Professional.xml',\n",
       " 'c:/windows\\\\ProfessionalEducation.xml',\n",
       " 'c:/windows\\\\ProfessionalWorkstation.xml',\n",
       " 'c:/windows\\\\Provisioning',\n",
       " 'c:/windows\\\\regedit.exe',\n",
       " 'c:/windows\\\\Registration',\n",
       " 'c:/windows\\\\RemotePackages',\n",
       " 'c:/windows\\\\rescache',\n",
       " 'c:/windows\\\\Resources',\n",
       " 'c:/windows\\\\SchCache',\n",
       " 'c:/windows\\\\schemas',\n",
       " 'c:/windows\\\\security',\n",
       " 'c:/windows\\\\ServerRdsh.xml',\n",
       " 'c:/windows\\\\ServiceProfiles',\n",
       " 'c:/windows\\\\ServiceState',\n",
       " 'c:/windows\\\\servicing',\n",
       " 'c:/windows\\\\Setup',\n",
       " 'c:/windows\\\\setuperr.log',\n",
       " 'c:/windows\\\\ShellComponents',\n",
       " 'c:/windows\\\\ShellExperiences',\n",
       " 'c:/windows\\\\SHELLNEW',\n",
       " 'c:/windows\\\\SKB',\n",
       " 'c:/windows\\\\SoftwareDistribution',\n",
       " 'c:/windows\\\\Speech',\n",
       " 'c:/windows\\\\Speech_OneCore',\n",
       " 'c:/windows\\\\splwow64.exe',\n",
       " 'c:/windows\\\\System',\n",
       " 'c:/windows\\\\system.ini',\n",
       " 'c:/windows\\\\System32',\n",
       " 'c:/windows\\\\SystemApps',\n",
       " 'c:/windows\\\\SystemResources',\n",
       " 'c:/windows\\\\SysWOW64',\n",
       " 'c:/windows\\\\TAPI',\n",
       " 'c:/windows\\\\Tasks',\n",
       " 'c:/windows\\\\Temp',\n",
       " 'c:/windows\\\\TextInput',\n",
       " 'c:/windows\\\\tracing',\n",
       " 'c:/windows\\\\twain_32',\n",
       " 'c:/windows\\\\twain_32.dll',\n",
       " 'c:/windows\\\\Vss',\n",
       " 'c:/windows\\\\WaaS',\n",
       " 'c:/windows\\\\Web',\n",
       " 'c:/windows\\\\win.ini',\n",
       " 'c:/windows\\\\WindowsShell.Manifest',\n",
       " 'c:/windows\\\\WindowsUpdate.log',\n",
       " 'c:/windows\\\\winhlp32.exe',\n",
       " 'c:/windows\\\\WinSxS',\n",
       " 'c:/windows\\\\WMSysPr9.prx',\n",
       " 'c:/windows\\\\write.exe']"
      ]
     },
     "execution_count": 75,
     "metadata": {},
     "output_type": "execute_result"
    }
   ],
   "source": [
    "import glob\n",
    "glob.glob(\"c:/windows/*\")"
   ]
  },
  {
   "cell_type": "code",
   "execution_count": 77,
   "metadata": {},
   "outputs": [
    {
     "data": {
      "text/plain": [
       "True"
      ]
     },
     "execution_count": 77,
     "metadata": {},
     "output_type": "execute_result"
    }
   ],
   "source": [
    "import webbrowser\n",
    "webbrowser.open(\"www.google.com\")"
   ]
  },
  {
   "cell_type": "code",
   "execution_count": 87,
   "metadata": {},
   "outputs": [
    {
     "name": "stdout",
     "output_type": "stream",
     "text": [
      "p1:30 20\n",
      "p2:50 40\n",
      "28.284271247461902\n"
     ]
    }
   ],
   "source": [
    "#2차원 평면에서 위치를 나타내는 클래스\n",
    "class Point2D:\n",
    "    def __init__(self,x,y):\n",
    "        self.x=x\n",
    "        self.y=y\n",
    "p1=Point2D(x=30, y=20) #점1 (x=30,y=20)\n",
    "p2=Point2D(x=50, y=40) #점2 (x=50, y=40)\n",
    "print(\"p1:{} {}\".format(p1.x, p1.y))\n",
    "print(\"p2:{} {}\".format(p2.x, p2.y))\n",
    "import math\n",
    "#두 점 사이의 거리 출력(피타고라스 정리)\n",
    "#dis=(p1.x-p2.x)*(p1.x-p2.x)+(p1.y-p2.y)*(p1.y-p2.y)\n",
    "dis=pow(p1.x-p2.x,2)+pow(p1.y-p2.y,2)\n",
    "dis=math.sqrt(dis)\n",
    "#dis=dis**0.5\n",
    "\n",
    "print(dis)"
   ]
  },
  {
   "cell_type": "code",
   "execution_count": 88,
   "metadata": {},
   "outputs": [
    {
     "data": {
      "text/plain": [
       "['__add__',\n",
       " '__class__',\n",
       " '__contains__',\n",
       " '__delattr__',\n",
       " '__delitem__',\n",
       " '__dir__',\n",
       " '__doc__',\n",
       " '__eq__',\n",
       " '__format__',\n",
       " '__ge__',\n",
       " '__getattribute__',\n",
       " '__getitem__',\n",
       " '__gt__',\n",
       " '__hash__',\n",
       " '__iadd__',\n",
       " '__imul__',\n",
       " '__init__',\n",
       " '__init_subclass__',\n",
       " '__iter__',\n",
       " '__le__',\n",
       " '__len__',\n",
       " '__lt__',\n",
       " '__mul__',\n",
       " '__ne__',\n",
       " '__new__',\n",
       " '__reduce__',\n",
       " '__reduce_ex__',\n",
       " '__repr__',\n",
       " '__reversed__',\n",
       " '__rmul__',\n",
       " '__setattr__',\n",
       " '__setitem__',\n",
       " '__sizeof__',\n",
       " '__str__',\n",
       " '__subclasshook__',\n",
       " 'append',\n",
       " 'clear',\n",
       " 'copy',\n",
       " 'count',\n",
       " 'extend',\n",
       " 'index',\n",
       " 'insert',\n",
       " 'pop',\n",
       " 'remove',\n",
       " 'reverse',\n",
       " 'sort']"
      ]
     },
     "execution_count": 88,
     "metadata": {},
     "output_type": "execute_result"
    }
   ],
   "source": [
    "\"\"\"\n",
    "이터레이터(iterator) 반복자:데이터를 차례대로 꺼낼 수 있는 객체\n",
    "for i in range(10)\n",
    "->숫자 0~9까지를 차례대로 꺼내는 이터레이터가 있음.\n",
    "이터레이터에 의해서 0~9까지의 수가 생성\n",
    "\n",
    "이터러블(iterable, 반복 가능한 객체)\n",
    "-문자열, 튜플, 리스트\n",
    "\n",
    "\"\"\"\n",
    "#dir():데이터가 이터러블 한지 확인\n",
    "#dir(객체)\n",
    "dir([1,2,3]) #반복가능:__iter__가 포함"
   ]
  },
  {
   "cell_type": "code",
   "execution_count": 95,
   "metadata": {},
   "outputs": [
    {
     "name": "stdout",
     "output_type": "stream",
     "text": [
      "1\n",
      "2\n",
      "3\n"
     ]
    }
   ],
   "source": [
    "it=[1,2,3].__iter__()\n",
    "\n",
    "# for i in [1,2,3]:\n",
    "#     print(i)\n",
    "\n",
    "print(it.__next__())\n",
    "print(it.__next__())\n",
    "print(it.__next__())\n",
    "#print(it.__next__())"
   ]
  },
  {
   "cell_type": "code",
   "execution_count": 96,
   "metadata": {},
   "outputs": [
    {
     "data": {
      "text/plain": [
       "'                     1. __iter__()호출\\n                        2. __next__()호출 -> i변수에 1저장\\n                        3. __next__()호출 -> i변수에 2저장\\n                        4. __next__()호출 -> 에러발생\\n\\nfor i in range(3):\\n    print (i)\\n\\n\\n\\n'"
      ]
     },
     "execution_count": 96,
     "metadata": {},
     "output_type": "execute_result"
    }
   ],
   "source": [
    "\"\"\"                     1. __iter__()호출\n",
    "                        2. __next__()호출 -> i변수에 1저장\n",
    "                        3. __next__()호출 -> i변수에 2저장\n",
    "                        4. __next__()호출 -> 에러발생\n",
    "\n",
    "for i in range(3):\n",
    "    print (i)\n",
    "\n",
    "\n",
    "\n",
    "\"\"\""
   ]
  },
  {
   "cell_type": "code",
   "execution_count": 113,
   "metadata": {},
   "outputs": [
    {
     "name": "stdout",
     "output_type": "stream",
     "text": [
      "\n",
      "950101-*******\n",
      "970202-*******\n",
      "\n"
     ]
    }
   ],
   "source": [
    "\"\"\"\n",
    "데이터수집(정규표현식) -> 전처리 -> 분석...\n",
    "정규표현식 : 문자열을 규칙에 맞춰 정리\n",
    "010-1234-1234\n",
    "\n",
    "텍스트 수집 -> 주민번호 -> 뒷자리를 *로 변경\n",
    "\n",
    "\"\"\"\n",
    "data=\"\"\"\n",
    "kim 950101-1234567\n",
    "lee 970202-2345678\n",
    "\"\"\"\n",
    "result=[]\n",
    "for line in data.split(\"\\n\"):\n",
    "    word_res=[]\n",
    "    for word in line.split(\" \"):\n",
    "        if len(word)==14 and word[:6].isdigit() and word[7:].isdigit():\n",
    "                        #isdigit숫자인지 판독\n",
    "            w=word[0:6]+\"-\"+\"*******\"\n",
    "            word_res.append(w)\n",
    "    result.append(\" \".join(word_res))\n",
    "print(\"\\n\".join(result))\n",
    "#         print(word)\n",
    "#         print(len(word))\n",
    "\n"
   ]
  },
  {
   "cell_type": "code",
   "execution_count": 114,
   "metadata": {},
   "outputs": [
    {
     "name": "stdout",
     "output_type": "stream",
     "text": [
      "\n",
      "kim 950101-*******\n",
      "lee 970202-*******\n",
      "\n"
     ]
    }
   ],
   "source": [
    "import re #정규표현식 모듈\n",
    "pattern=re.compile(\"(\\d{6})[-]\\d{7}\")\n",
    "print(pattern.sub(\"\\g<1>-*******\",data))"
   ]
  },
  {
   "cell_type": "code",
   "execution_count": 109,
   "metadata": {},
   "outputs": [
    {
     "name": "stdout",
     "output_type": "stream",
     "text": [
      "<re.Match object; span=(0, 5), match='hello'>\n",
      "None\n"
     ]
    }
   ],
   "source": [
    "#정규표현식 작성방법\n",
    "#re.match(\"패턴\", \"문자열\") : 문자열에 패턴이 있는지\n",
    "#여부를 확인\n",
    "print(re.match(\"hello\", \"hello, world\"))\n",
    "print(re.match(\"hi\", \"hello, world\"))"
   ]
  },
  {
   "cell_type": "code",
   "execution_count": 126,
   "metadata": {},
   "outputs": [
    {
     "name": "stdout",
     "output_type": "stream",
     "text": [
      "<re.Match object; span=(0, 1), match='a'>\n",
      "None\n",
      "<re.Match object; span=(0, 1), match='a'>\n",
      "None\n",
      "<re.Match object; span=(0, 1), match='b'>\n",
      "<re.Match object; span=(0, 1), match='f'>\n",
      "None\n",
      "<re.Match object; span=(0, 1), match='A'>\n",
      "<re.Match object; span=(0, 1), match='A'>\n",
      "<re.Match object; span=(0, 1), match='1'>\n",
      "None\n",
      "<re.Match object; span=(0, 1), match='1'>\n"
     ]
    }
   ],
   "source": [
    "\"\"\"\n",
    "정규표현식 메타문자(문자의 본래 의미가 아닌,\n",
    "특정 의미를 갖는 문자) : () {} [] \\ | ? + * $ ^...\n",
    "1.[] 메타문자 : 문자와 관련된 정규표현식에서 사용.\n",
    "[] 대괄호 사이에는 어떤 문자도 올 수 있음.\n",
    "정규표현식 : [abcdef]\n",
    "의미 : a,b,c,d,e,f문자 중에서 한 개의 문자와 매치\n",
    "\"a\"는 정규식에 일치하는 문자가 있으므로 0>매치됨\n",
    "\n",
    "\"\"\"\n",
    "print(re.match(\"[abcdef]\",\"a\"))\n",
    "print(re.match(\"[abcdef]\",\"z\"))\n",
    "print(re.match(\"[abcdef]\",\"all\"))\n",
    "print(re.match(\"[abcdef]\",\"sky\"))\n",
    "print(re.match(\"[abcdef]\",\"best\"))\n",
    "print(re.match(\"[abcdef]\",\"fgha\"))\n",
    "\n",
    "print(re.match(\"[a-z]\",\"ABC\")) #[a-z]:알파벳 소문자 모두\n",
    "print(re.match(\"[A-Z]\",\"ABC\")) \n",
    "print(re.match(\"[a-zA-Z]\",\"ABC\"))\n",
    "\n",
    "print(re.match(\"[0-9]\",\"11dd=C\"))\n",
    "print(re.match(\"\\D\",\"199\"))#\\D숫자가 아닌 모든것과 매치\n",
    "print(re.match(\"\\d\",\"199\"))#\\d:숫자와 매치됨. [0-9]과 같음"
   ]
  },
  {
   "cell_type": "code",
   "execution_count": 132,
   "metadata": {},
   "outputs": [
    {
     "name": "stdout",
     "output_type": "stream",
     "text": [
      "None\n",
      "<re.Match object; span=(0, 1), match='대'>\n",
      "None\n",
      "None\n"
     ]
    }
   ],
   "source": [
    "#print(re.match(\"\\w\", \"119\"))\n",
    "#print(re.match(\"\\w\", \"test\"))\n",
    "# \\w:숫자+문자 매치\n",
    "print(re.match(\"[0-9a-zA-Z]\", \"대한민국\"))\n",
    "print(re.match(\"[^0-9a-zA-Z]\", \"대한민국\"))# ^는 반대\n",
    "print(re.match(\"[가~핳]\", \"대한민국\"))\n",
    "print(re.match(\"\\W\", \"test\"))\n",
    "# \\W : 숫자+영문자가 아닌 나머지"
   ]
  },
  {
   "cell_type": "code",
   "execution_count": 134,
   "metadata": {},
   "outputs": [
    {
     "name": "stdout",
     "output_type": "stream",
     "text": [
      "None\n",
      "<re.Match object; span=(7, 9), match='hi'>\n"
     ]
    }
   ],
   "source": [
    "\"\"\"\n",
    "^문자열 : 문자열이 맨 앞에 오는지 판단\n",
    "문자열$ : 문자열이 맨 뒤에 오는지 판단\n",
    "search함수에서 사용됨\n",
    "\"\"\"\n",
    "print(re.search(\"^hi\",\"hello, hi\"))\n",
    "print(re.search(\"hi$\",\"hello, hi\"))"
   ]
  },
  {
   "cell_type": "code",
   "execution_count": 137,
   "metadata": {},
   "outputs": [
    {
     "name": "stdout",
     "output_type": "stream",
     "text": [
      "<re.Match object; span=(0, 2), match='hi'>\n",
      "None\n",
      "<re.Match object; span=(0, 5), match='hello'>\n"
     ]
    }
   ],
   "source": [
    "print(re.match(\"hello|hi|good\",\"hi\"))\n",
    "# |(bar) 기호는 '또는' 의미\n",
    "print(re.match(\"hello|hi|good\",\"goo\"))\n",
    "print(re.match(\"hello|hi|good\",\"hello\"))"
   ]
  },
  {
   "cell_type": "code",
   "execution_count": 138,
   "metadata": {},
   "outputs": [
    {
     "data": {
      "text/plain": [
       "'\\n정규식:[abc]\\n의미? a,b,c 중에서 한 개의 문자와 매치\\na문자 - 매치, before - 매치, kick - 매치x (앞글자만)\\n'"
      ]
     },
     "execution_count": 138,
     "metadata": {},
     "output_type": "execute_result"
    }
   ],
   "source": [
    "# []사이의 문자들과 매치\n",
    "\"\"\"\n",
    "정규식:[abc]\n",
    "의미? a,b,c 중에서 한 개의 문자와 매치\n",
    "a문자 - 매치, before - 매치, kick - 매치x (앞글자만)\n",
    "\"\"\""
   ]
  },
  {
   "cell_type": "code",
   "execution_count": 146,
   "metadata": {
    "scrolled": true
   },
   "outputs": [
    {
     "name": "stdout",
     "output_type": "stream",
     "text": [
      "<re.Match object; span=(0, 1), match='1'>\n",
      "<re.Match object; span=(0, 3), match='123'>\n",
      "<re.Match object; span=(0, 2), match='12'>\n",
      "<re.Match object; span=(0, 0), match=''>\n"
     ]
    }
   ],
   "source": [
    "print(re.match(\"[0-9]\",\"123\"))\n",
    "#                패턴, 문자열\n",
    "# 패턴이 문자열에 있는지 확인\n",
    "# span=(0,1)패턴이 매치되는 문자열의 위치\n",
    "\n",
    "print(re.match(\"[0-9]*\",\"123\"))\n",
    "#                패턴, 문자열\n",
    "# *은 숫자가 0개 이상 있는지 판단\n",
    "# 위 코드에서는 숫자가 3개가 매치됨\n",
    "print(re.match(\"[0-9]*\",\"12a3\")) #2개 매치\n",
    "print(re.match(\"[0-9]*\",\"x12a3\")) # 0개 이상이라 none이 아님"
   ]
  },
  {
   "cell_type": "code",
   "execution_count": 149,
   "metadata": {},
   "outputs": [
    {
     "name": "stdout",
     "output_type": "stream",
     "text": [
      "<re.Match object; span=(0, 0), match=''>\n",
      "None\n",
      "<re.Match object; span=(0, 3), match='abc'>\n"
     ]
    }
   ],
   "source": [
    "print(re.match(\"[a-z]*\",\"12a3bc\"))\n",
    "print(re.match(\"[a-z]+\",\"12a3bc\"))\n",
    "print(re.match(\"[a-z]+\",\"abc123def\"))\n",
    "# + 문자가 1개 이상 있는지 판단\n",
    "# * 은 문자가 0개 이상 있는지 판단"
   ]
  },
  {
   "cell_type": "code",
   "execution_count": 150,
   "metadata": {},
   "outputs": [
    {
     "name": "stdout",
     "output_type": "stream",
     "text": [
      "None\n"
     ]
    }
   ],
   "source": [
    "print(re.match(\"[a-z]+\",\"9abc123def\"))"
   ]
  },
  {
   "cell_type": "code",
   "execution_count": 156,
   "metadata": {},
   "outputs": [
    {
     "name": "stdout",
     "output_type": "stream",
     "text": [
      "<re.Match object; span=(0, 3), match='aaa'>\n",
      "<re.Match object; span=(0, 1), match='b'>\n",
      "None\n",
      "<re.Match object; span=(0, 3), match='aab'>\n",
      "None\n"
     ]
    }
   ],
   "source": [
    "print(re.match(\"a*\",\"aaab\")) #(\"패턴\", \"문자열\"):문자열에 패턴이 있는지?\n",
    "print(re.match(\"a*b\",\"b\"))\n",
    "# a가 0개 이상 있으면서 b로 이어진다면 매치\n",
    "print(re.match(\"a+b\",\"b\"))\n",
    "print(re.match(\"a+b\",\"aab\"))\n",
    "print(re.match(\"a+b\",\"aacb\"))"
   ]
  },
  {
   "cell_type": "code",
   "execution_count": 158,
   "metadata": {},
   "outputs": [
    {
     "name": "stdout",
     "output_type": "stream",
     "text": [
      "<re.Match object; span=(0, 6), match='aaaaaa'>\n",
      "<re.Match object; span=(0, 7), match='aaaaaab'>\n",
      "<re.Match object; span=(0, 7), match='aaaaaab'>\n",
      "<re.Match object; span=(0, 7), match='aaaaaab'>\n"
     ]
    }
   ],
   "source": [
    "print(re.match(\"a*\",\"aaaaaab\"))\n",
    "#패턴이 문자열에 있는지 확인\n",
    "print(re.match(\"a+b\", \"aaaaaab\"))\n",
    "print(re.match(\"a+b\", \"aaaaaabcc\"))\n",
    "print(re.match(\"a+b*\", \"aaaaaabcc\"))"
   ]
  },
  {
   "cell_type": "code",
   "execution_count": 165,
   "metadata": {},
   "outputs": [
    {
     "name": "stdout",
     "output_type": "stream",
     "text": [
      "<re.Match object; span=(0, 5), match='aabbc'>\n",
      "None\n"
     ]
    }
   ],
   "source": [
    "# print(re.match(\"a*b\",\"aab\"))\n",
    "# print(re.match(\"a*b\",\"aabc\"))\n",
    "# print(re.match(\"a*b\",\"aabbc\"))\n",
    "# print(re.match(\"a*b+\",\"aabbc\"))\n",
    "# print(re.match(\"a*b*\",\"aabbc\"))\n",
    "print(re.match(\"a*b*c\",\"aabbc\"))\n",
    "print(re.match(\"a*b*c+b\",\"aabbc\"))\n",
    "print(re.match(\"a*b*c+b\",\"aabbc\"))"
   ]
  },
  {
   "cell_type": "code",
   "execution_count": 172,
   "metadata": {},
   "outputs": [
    {
     "name": "stdout",
     "output_type": "stream",
     "text": [
      "<re.Match object; span=(0, 1), match='h'>\n",
      "<re.Match object; span=(0, 1), match='h'>\n",
      "<re.Match object; span=(0, 1), match='h'>\n",
      "<re.Match object; span=(0, 0), match=''>\n",
      "<re.Match object; span=(0, 1), match='h'>\n"
     ]
    }
   ],
   "source": [
    "print(re.match(\"h?\", \"h\"))\n",
    "print(re.match(\"h?\", \"hi\"))\n",
    "print(re.match(\"h?\", \"hello\"))\n",
    "# ?는 문자가 0개 또는 1개\n",
    "print(re.match(\"h?\", \"ello\"))\n",
    "print(re.match(\"h?\", \"hello\"))\n",
    "\n"
   ]
  },
  {
   "cell_type": "code",
   "execution_count": 176,
   "metadata": {},
   "outputs": [
    {
     "name": "stdout",
     "output_type": "stream",
     "text": [
      "<re.Match object; span=(0, 2), match='he'>\n",
      "<re.Match object; span=(0, 3), match='hel'>\n",
      "None\n",
      "<re.Match object; span=(0, 3), match='acb'>\n",
      "None\n"
     ]
    }
   ],
   "source": [
    "# .은 문자가 1개 있으면 매치됨\n",
    "# h. 은 h문자 다음에 문자가 1개 있으면 매치됨\n",
    "print(re.match(\"h.\",\"hello\"))\n",
    "print(re.match(\"h.l\",\"hello\"))\n",
    "print(re.match(\"a.b\",\"ab\"))\n",
    "print(re.match(\"a.b\",\"acb\"))\n",
    "print(re.match(\"a.b\",\"acccb\"))"
   ]
  },
  {
   "cell_type": "code",
   "execution_count": 183,
   "metadata": {},
   "outputs": [
    {
     "name": "stdout",
     "output_type": "stream",
     "text": [
      "<re.Match object; span=(0, 3), match='dog'>\n",
      "None\n",
      "<re.Match object; span=(0, 2), match='dg'>\n",
      "<re.Match object; span=(0, 2), match='dg'>\n",
      "<re.Match object; span=(0, 8), match='dggggggg'>\n"
     ]
    }
   ],
   "source": [
    "print(re.match('do*g',\"dog\"))\n",
    "print(re.match('do*g',\"dokg\"))\n",
    "print(re.match('do*g',\"dg\"))\n",
    "print(re.match('do*g',\"dggggggg\"))\n",
    "print(re.match('do*g+',\"dggggggg\"))"
   ]
  },
  {
   "cell_type": "code",
   "execution_count": 198,
   "metadata": {},
   "outputs": [
    {
     "name": "stdout",
     "output_type": "stream",
     "text": [
      "<re.Match object; span=(0, 3), match='aaa'>\n",
      "<re.Match object; span=(0, 6), match='aaabbb'>\n",
      "<re.Match object; span=(0, 6), match='aaabbb'>\n",
      "<re.Match object; span=(0, 7), match='aaabbbc'>\n",
      "<re.Match object; span=(0, 9), match='aaabbbccc'>\n",
      "<re.Match object; span=(0, 3), match='aaa'>\n",
      "None\n",
      "None\n",
      "None\n",
      "<re.Match object; span=(0, 3), match='hii'>\n",
      "<re.Match object; span=(0, 4), match='hihi'>\n",
      "<re.Match object; span=(0, 8), match='hihihehe'>\n"
     ]
    }
   ],
   "source": [
    "# a{3}:a가 3개 있는지?\n",
    "print(re.match(\"a{3}\",\"aaabbbccc\"))\n",
    "print(re.match(\"a{3}b*\",\"aaabbbccc\"))\n",
    "print(re.match(\"a{3}b+\",\"aaabbbccc\"))\n",
    "print(re.match(\"a{3}b+c\",\"aaabbbccc\"))\n",
    "print(re.match(\"a{3}b+c*\",\"aaabbbccc\"))\n",
    "print(re.match(\"a{3}\",\"aaaaaaaaaaaabbbccc\"))\n",
    "print(re.match(\"hellohi\",\"hello\"))\n",
    "print(re.match(\"a{3}\",\"aabbbccc\"))\n",
    "#문자{횟수} : 문자가 지정된 횟수만큼 반복\n",
    "# (문자열){횟수} : 문자열이 지정된 횟수만큼 반복\n",
    "print(re.match(\"hi{2}\",\"hi\"))\n",
    "print(re.match(\"hi{2}\",\"hii\"))\n",
    "print(re.match(\"(hi){2}\",\"hihikik\"))\n",
    "print(re.match(\"(hi){2}(he){2}\",\"hihihehefag\"))"
   ]
  },
  {
   "cell_type": "code",
   "execution_count": 211,
   "metadata": {},
   "outputs": [
    {
     "name": "stdout",
     "output_type": "stream",
     "text": [
      "<re.Match object; span=(0, 13), match='010-1234-5678'>\n",
      "None\n",
      "<re.Match object; span=(0, 12), match='02-1234-5678'>\n",
      "<re.Match object; span=(0, 13), match='010-1234-5678'>\n",
      "<re.Match object; span=(0, 14), match='990101-1234567'>\n",
      "정상 번호\n"
     ]
    }
   ],
   "source": [
    "# a.b ==> a + 모든 문자 + b\n",
    "# abc는 매치안됨\n",
    "# 주의사항 a[.]b => a + 점(.) + b\n",
    "#\n",
    "# \"[a-z]+[.][a-z]+[.]+com\"\n",
    "# test.abc.com\n",
    "tel1=\"010-1234-5678\"\n",
    "tel2=\"02-1234-5678\"\n",
    "print(re.match(\"[0-9]{3}-[0-9]{4}-[0-9]{4}\",tel1))\n",
    "print(re.match(\"[0-9]{3}-[0-9]{4}-[0-9]{4}\",tel2))\n",
    "print(re.match(\"[0-9]{2,3}-[0-9]{4}-[0-9]{4}\",tel2))\n",
    "print(re.match(\"[0-9]{2,3}-[0-9]{4}-[0-9]{4}\",tel1))\n",
    "# {2,3} 숫자가 최소 2개 ~ 최대 3개 매치될 수 있음\n",
    "\n",
    "jm=\"990101-1234567\"\n",
    "print(re.match(\"[0-9]{6}-[0-9]{7}\",jm))\n",
    "check = re.match(\"[0-9]{6}-[0-9]{7}\",jm)\n",
    "if check:\n",
    "    print(\"정상 번호\")\n",
    "else:\n",
    "    print(\"비정상 번호\")\n",
    "\n",
    "\n"
   ]
  },
  {
   "cell_type": "code",
   "execution_count": 3,
   "metadata": {},
   "outputs": [
    {
     "name": "stdout",
     "output_type": "stream",
     "text": [
      "Step1_선택하세요 : \n",
      " 1.관리자 모드, 2.사용자 모드, 3.종료1\n",
      "Step2_선택하세요 : \n",
      " 1.커피 재료, 2.동전 투입, 3.종료2\n",
      "동전을 투입해주세요:\n",
      " ex)20 30 10 -> 1000원10장, 500원30개, 100원10개 입니다.20 30 10\n",
      "20 30 10\n",
      "Step2_선택하세요 : \n",
      " 1.커피 재료, 2.동전 투입, 3.종료2\n",
      "동전을 투입해주세요:\n",
      " ex)20 30 10 -> 1000원10장, 500원30개, 100원10개 입니다.20 30 10\n",
      "40 60 20\n",
      "Step2_선택하세요 : \n",
      " 1.커피 재료, 2.동전 투입, 3.종료3\n"
     ]
    }
   ],
   "source": [
    "#문제1\n",
    "mode_step1=input(\"Step1_선택하세요 : \\n 1.관리자 모드, 2.사용자 모드, 3.종료\")\n",
    "money1000=0\n",
    "money500=0\n",
    "money100=0\n",
    "while True:\n",
    "    if mode_step1 ==\"1\" : #관리자 모드\n",
    "        mode_step2=input(\"Step2_선택하세요 : \\n 1.커피 재료, 2.동전 투입, 3.종료\")\n",
    "        if mode_step2==\"1\": #커피 재료(10잔 입력)\n",
    "            res_coffee=input(\"커피 재료를 입력하세요(10잔투입) :\")\n",
    "        elif mode_step2==\"2\":\n",
    "            ad_money=input(\"동전을 투입해주세요:\\n ex)20 30 10 -> 1000원10장, 500원30개, 100원10개 입니다.\")\n",
    "            ad_money=ad_money.split(\" \")\n",
    "            money1000=money1000+int(ad_money[0])\n",
    "            money500=money500+int(ad_money[1])\n",
    "            money100=money100+int(ad_money[2])\n",
    "            print(money1000,money500,money100)\n",
    "        else:\n",
    "            break\n",
    "    elif mode_step1==\"2\":#사용자 모드\n",
    "        inputMoney=input(\"금액을 투입하세요:\")\n",
    "        inputMoney=int(inputMoney)\n",
    "        selectCoffe=input(\"커피를 고르세요. \\n 1.아메리카노 1500원 2.믹스커피 200원, 3.프리미엄원두 4000원\")\n",
    "        if selectCoffe ==\"1\":\n",
    "            if inputMoney<1500:\n",
    "                print(\"요금이 모자릅니다. 잔액 출금\",inputMoney,\"안녕히가세요.\")\n",
    "                break\n",
    "            else:\n",
    "                restMoney=inputMoney-1500\n",
    "                restMoney1000=restMoney//1000\n",
    "                restMoney500=(restMoney%1000)//500\n",
    "                restMoney100=((restMoney%1000)%500)//100\n",
    "                print(restMoney1000,restMoney500,restMoney100)\n",
    "                if money1000>=restMoney1000 and money500>=restMoney500 and money100>=restMoney100:\n",
    "                    \n",
    "    else:\n",
    "        break\n",
    "# coffee = 10 # 10잔 커피, 1잔=200원\n",
    "# money=1100 #5천원\n",
    "# # 잔액이 200원 미만이면 판매가 안되도록\n",
    "# while money>=200:\n",
    "#     print(\"커피가 나옵니다\")\n",
    "#     coffee=coffee-1\n",
    "#     money=money-200\n",
    "#     print(\"남은 커피는 %d잔 입니다\" % coffee)\n",
    "#     print(\"잔액은 %d원 입니다.\"% money)\n",
    "#     if coffee==0:\n",
    "#         print(\"커피가 떨어졌습니다. 판매중지\")\n",
    "#         break\n",
    "#     if money < 200:\n",
    "#         print(\"남은 잔액이 부족합니다. 판매중지\")"
   ]
  },
  {
   "cell_type": "code",
   "execution_count": null,
   "metadata": {},
   "outputs": [],
   "source": []
  }
 ],
 "metadata": {
  "kernelspec": {
   "display_name": "Python 3",
   "language": "python",
   "name": "python3"
  },
  "language_info": {
   "codemirror_mode": {
    "name": "ipython",
    "version": 3
   },
   "file_extension": ".py",
   "mimetype": "text/x-python",
   "name": "python",
   "nbconvert_exporter": "python",
   "pygments_lexer": "ipython3",
   "version": "3.7.4"
  }
 },
 "nbformat": 4,
 "nbformat_minor": 2
}
