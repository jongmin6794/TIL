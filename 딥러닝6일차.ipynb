{
 "cells": [
  {
   "cell_type": "code",
   "execution_count": 1,
   "metadata": {},
   "outputs": [],
   "source": [
    "snack=100\n",
    "snack_num=2\n",
    "tax=1.1"
   ]
  },
  {
   "cell_type": "code",
   "execution_count": 17,
   "metadata": {},
   "outputs": [],
   "source": [
    "class BackTest:\n",
    "    def __init__(self):\n",
    "        self.x=None\n",
    "        self.y=None\n",
    "        print(\"초기화 함수\")\n",
    "    def forward(self,x,y):\n",
    "        self.x=x\n",
    "        self.y=y\n",
    "        out=x*y\n",
    "        return out\n",
    "    def backward(self,dout):\n",
    "        dx=dout*self.y#구문\n",
    "        dy=dout*self.x#구문\n",
    "        return dx,dy#"
   ]
  },
  {
   "cell_type": "code",
   "execution_count": 27,
   "metadata": {},
   "outputs": [
    {
     "name": "stdout",
     "output_type": "stream",
     "text": [
      "초기화 함수\n"
     ]
    }
   ],
   "source": [
    "mul_snack_layer=BackTest()#객체 생성->생성자(초기화) 함수 호출"
   ]
  },
  {
   "cell_type": "code",
   "execution_count": 28,
   "metadata": {},
   "outputs": [
    {
     "name": "stdout",
     "output_type": "stream",
     "text": [
      "200\n"
     ]
    }
   ],
   "source": [
    "snack_price=mul_snack_layer.forward(snack,snack_num)\n",
    "print(snack_price)"
   ]
  },
  {
   "cell_type": "code",
   "execution_count": 29,
   "metadata": {},
   "outputs": [
    {
     "name": "stdout",
     "output_type": "stream",
     "text": [
      "초기화 함수\n",
      "220.00000000000003\n"
     ]
    }
   ],
   "source": [
    "mul_tax_layer=BackTest()\n",
    "price=mul_tax_layer.forward(snack_price,tax)\n",
    "print(price)"
   ]
  },
  {
   "cell_type": "code",
   "execution_count": 30,
   "metadata": {},
   "outputs": [
    {
     "name": "stdout",
     "output_type": "stream",
     "text": [
      "1.1 200\n",
      "2.2 110.00000000000001\n"
     ]
    }
   ],
   "source": [
    "dprice=1\n",
    "dsnack_price,dtax=mul_tax_layer.backward(dprice)\n",
    "print(dsnack_price,dtax)#1.1, 200v\n",
    "dsnack,dsnack_num=mul_snack_layer.backward(dsnack_price)\n",
    "print(dsnack,dsnack_num)"
   ]
  },
  {
   "cell_type": "code",
   "execution_count": null,
   "metadata": {},
   "outputs": [],
   "source": []
  }
 ],
 "metadata": {
  "kernelspec": {
   "display_name": "Python 3",
   "language": "python",
   "name": "python3"
  },
  "language_info": {
   "codemirror_mode": {
    "name": "ipython",
    "version": 3
   },
   "file_extension": ".py",
   "mimetype": "text/x-python",
   "name": "python",
   "nbconvert_exporter": "python",
   "pygments_lexer": "ipython3",
   "version": "3.7.4"
  }
 },
 "nbformat": 4,
 "nbformat_minor": 2
}
