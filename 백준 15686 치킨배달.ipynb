{
 "cells": [
  {
   "cell_type": "code",
   "execution_count": 2,
   "metadata": {},
   "outputs": [
    {
     "data": {
      "text/plain": [
       "'\\n5 2\\n0 2 0 1 0\\n1 0 1 0 0\\n0 0 0 0 0\\n2 0 0 1 1\\n2 2 0 1 2\\n10\\n'"
      ]
     },
     "execution_count": 2,
     "metadata": {},
     "output_type": "execute_result"
    }
   ],
   "source": [
    "\"\"\"\n",
    "5 2\n",
    "0 2 0 1 0\n",
    "1 0 1 0 0\n",
    "0 0 0 0 0\n",
    "2 0 0 1 1\n",
    "2 2 0 1 2\n",
    "10\n",
    "\"\"\""
   ]
  },
  {
   "cell_type": "code",
   "execution_count": 51,
   "metadata": {},
   "outputs": [
    {
     "name": "stdout",
     "output_type": "stream",
     "text": [
      "5 2\n",
      "0 2 0 1 0\n",
      "1 0 1 0 0\n",
      "0 0 0 0 0\n",
      "2 0 0 1 1\n",
      "2 2 0 1 2\n"
     ]
    }
   ],
   "source": [
    "N,M=map(int,input().split())\n",
    "arr=[list(map(int, input().split())) for i in range(N)]"
   ]
  },
  {
   "cell_type": "code",
   "execution_count": 73,
   "metadata": {},
   "outputs": [
    {
     "data": {
      "text/plain": [
       "[[0, 2, 0, 1, 0],\n",
       " [1, 0, 1, 0, 0],\n",
       " [0, 0, 0, 0, 0],\n",
       " [2, 0, 0, 1, 1],\n",
       " [2, 2, 0, 1, 2]]"
      ]
     },
     "execution_count": 73,
     "metadata": {},
     "output_type": "execute_result"
    }
   ],
   "source": [
    "arr"
   ]
  },
  {
   "cell_type": "code",
   "execution_count": 53,
   "metadata": {
    "scrolled": true
   },
   "outputs": [
    {
     "data": {
      "text/plain": [
       "[((1, 2), (4, 1)),\n",
       " ((1, 2), (5, 1)),\n",
       " ((1, 2), (5, 2)),\n",
       " ((1, 2), (5, 5)),\n",
       " ((4, 1), (5, 1)),\n",
       " ((4, 1), (5, 2)),\n",
       " ((4, 1), (5, 5)),\n",
       " ((5, 1), (5, 2)),\n",
       " ((5, 1), (5, 5)),\n",
       " ((5, 2), (5, 5))]"
      ]
     },
     "execution_count": 53,
     "metadata": {},
     "output_type": "execute_result"
    }
   ],
   "source": [
    "b=list(it.combinations(list2Position,2))\n",
    "b"
   ]
  },
  {
   "cell_type": "code",
   "execution_count": 69,
   "metadata": {},
   "outputs": [
    {
     "name": "stdout",
     "output_type": "stream",
     "text": [
      "[(1, 4), (2, 1), (2, 3), (4, 4), (4, 5), (5, 4)]\n",
      "[(1, 2), (4, 1), (5, 1), (5, 2), (5, 5)]\n",
      "[[2, 2, 2, 5, 6, 6], [6, 2, 4, 3, 4, 4], [7, 3, 5, 4, 5, 3], [6, 4, 4, 3, 4, 2], [5, 7, 5, 2, 1, 1]]\n",
      "10\n"
     ]
    }
   ],
   "source": [
    "# import itertools as it\n",
    "# N,M=map(int,input().split())\n",
    "# arr=[list(map(int, input().split())) for i in range(N)]\n",
    "listDistance=[]\n",
    "list1Position=[]\n",
    "list2Position=[]\n",
    "\n",
    "for i in range(N):\n",
    "    for j in range(N):\n",
    "        if arr[i][j]==1:\n",
    "            list1Position.append((i+1,j+1))\n",
    "        if arr[i][j]==2:\n",
    "            list2Position.append((i+1,j+1))\n",
    "print(list1Position)\n",
    "print(list2Position)\n",
    "\n",
    "# print(c2p)\n",
    "totalList=[]\n",
    "listDistance=[]\n",
    "for i in range(len(list2Position)):\n",
    "    eachDistance=[]\n",
    "    for j in range(len(list1Position)):\n",
    "        d=0\n",
    "        d=abs(list2Position[i][0]-list1Position[j][0])+abs(list2Position[i][1]-list1Position[j][1])\n",
    "        eachDistance.append(d)\n",
    "    listDistance.append(eachDistance)\n",
    "print(listDistance)\n",
    "c2p=list(it.combinations(listDistance,M))\n",
    "resultList=[]\n",
    "for i in range(len(c2p)):\n",
    "    d=0\n",
    "    for k in range(len(list1Position)):\n",
    "        temp=0\n",
    "        for j in range(M):\n",
    "            if j==0:\n",
    "                temp=c2p[i][j][k]\n",
    "            if temp>c2p[i][j][k]:\n",
    "                temp=c2p[i][j][k]\n",
    "        d+=temp\n",
    "    resultList.append(d)\n",
    "result=min(resultList)\n",
    "print(result)"
   ]
  },
  {
   "cell_type": "code",
   "execution_count": null,
   "metadata": {},
   "outputs": [],
   "source": []
  }
 ],
 "metadata": {
  "kernelspec": {
   "display_name": "Python 3",
   "language": "python",
   "name": "python3"
  },
  "language_info": {
   "codemirror_mode": {
    "name": "ipython",
    "version": 3
   },
   "file_extension": ".py",
   "mimetype": "text/x-python",
   "name": "python",
   "nbconvert_exporter": "python",
   "pygments_lexer": "ipython3",
   "version": "3.7.4"
  }
 },
 "nbformat": 4,
 "nbformat_minor": 2
}
