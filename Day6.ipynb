{
 "cells": [
  {
   "cell_type": "markdown",
   "metadata": {},
   "source": [
    "# 1226 6일차"
   ]
  },
  {
   "cell_type": "markdown",
   "metadata": {},
   "source": [
    "### 1. Class : 객체를 표현하기 위한 개념\n",
    "\n",
    "ex) 게임 - 기사, 궁수, 마법사 등 직업별로 클래스가 생성\n",
    "\n",
    "    웹브라우저 - 스크롤바, 버튼, 체크박스 등 구성요소가 모두가 클래스\n",
    "\n",
    "1. 기사 클래스로 홍길동 객체(캐릭터)를 생성\n",
    "2. 체력, 마나, 공격력,... 초기값 설정 = 속성(속성이 필요)\n",
    "3. 달리기, 베기, 찌르기,....동작 스킬 = 메서드\n",
    "\n",
    "**=> 클래스는 속성과 메서드로 구성된다**"
   ]
  },
  {
   "cell_type": "code",
   "execution_count": 7,
   "metadata": {},
   "outputs": [
    {
     "name": "stdout",
     "output_type": "stream",
     "text": [
      "3\n",
      "7\n"
     ]
    }
   ],
   "source": [
    "res = 0\n",
    "def add(num):\n",
    "    global res\n",
    "    res += num\n",
    "    return res\n",
    "\n",
    "print(add(3))\n",
    "print(add(4))"
   ]
  },
  {
   "cell_type": "code",
   "execution_count": 8,
   "metadata": {},
   "outputs": [
    {
     "name": "stdout",
     "output_type": "stream",
     "text": [
      "3\n",
      "4\n"
     ]
    }
   ],
   "source": [
    "def add(num):\n",
    "    res = 0\n",
    "    res += num\n",
    "    return res\n",
    "\n",
    "print(add(3))\n",
    "print(add(4))"
   ]
  },
  {
   "cell_type": "code",
   "execution_count": 9,
   "metadata": {},
   "outputs": [
    {
     "name": "stdout",
     "output_type": "stream",
     "text": [
      "3\n",
      "7\n",
      "3\n",
      "10\n"
     ]
    }
   ],
   "source": [
    "# 계산기 2대\n",
    "res1 = 0\n",
    "res2 = 0\n",
    "\n",
    "def add1(num):\n",
    "    global res1\n",
    "    res1 += num\n",
    "    return res1\n",
    "\n",
    "def add2(num):\n",
    "    global res2\n",
    "    res2 += num\n",
    "    return res2\n",
    "\n",
    "print(add1(3))\n",
    "print(add1(4))\n",
    "print(add2(3))\n",
    "print(add2(7))"
   ]
  },
  {
   "cell_type": "code",
   "execution_count": 10,
   "metadata": {},
   "outputs": [],
   "source": [
    "# 메모리에 만들어짐\n",
    "class Calc: # 변수이름 규치과 같음\n",
    "    def __init__(self): # 객체를 초기화하는 역할(객체가 만들어진 시점으로)\n",
    "        self.res = 0\n",
    "        print('초기화')\n",
    "    def add(self,num):\n",
    "        self.res += num\n",
    "        return self.res\n",
    "    def sub(self,num):\n",
    "        self.res -= num\n",
    "        return self.res"
   ]
  },
  {
   "cell_type": "code",
   "execution_count": 11,
   "metadata": {},
   "outputs": [
    {
     "name": "stdout",
     "output_type": "stream",
     "text": [
      "초기화\n",
      "초기화\n",
      "3\n",
      "7\n",
      "3\n",
      "10\n"
     ]
    }
   ],
   "source": [
    "# hgd = Calc() # 객체 = 클래스()\n",
    "cal1 = Calc() # 꼐산기1\n",
    "cal2 = Calc() # 계산기2\n",
    "\n",
    "print(cal1.add(3))\n",
    "print(cal1.add(4))\n",
    "\n",
    "print(cal2.add(3))\n",
    "print(cal2.add(7))"
   ]
  },
  {
   "cell_type": "code",
   "execution_count": 12,
   "metadata": {},
   "outputs": [
    {
     "data": {
      "text/plain": [
       "'\\n붕어빵 기계 = class, 속성(특징)과 메서드(동작)\\n붕어빠 = 객체(object)\\n\\n'"
      ]
     },
     "execution_count": 12,
     "metadata": {},
     "output_type": "execute_result"
    }
   ],
   "source": [
    "'''\n",
    "붕어빵 기계 = class, 속성(특징)과 메서드(동작)\n",
    "붕어빠 = 객체(object)\n",
    "\n",
    "'''"
   ]
  },
  {
   "cell_type": "code",
   "execution_count": 13,
   "metadata": {},
   "outputs": [],
   "source": [
    "class FishBread:\n",
    "    pass # 아무기능도없는 클래스 정의 가능"
   ]
  },
  {
   "cell_type": "code",
   "execution_count": 5,
   "metadata": {},
   "outputs": [
    {
     "name": "stdout",
     "output_type": "stream",
     "text": [
      "<class '__main__.FishBread'>\n"
     ]
    }
   ],
   "source": [
    "a = FishBread()\n",
    "print(type(a))"
   ]
  },
  {
   "cell_type": "code",
   "execution_count": 16,
   "metadata": {},
   "outputs": [],
   "source": [
    "# 사칙연사 클래스\n",
    "class FourCal:\n",
    "    def __init__(self):\n",
    "        self.res = 0\n",
    "    def setData(self,first,second):\n",
    "        self.first = first\n",
    "        self.second = second\n",
    "# self : 지금 만들어진 객체\n",
    "# self.first : 지금 만들어지고 있는 객체의 first 속성\n",
    "    \n",
    "    def add(self):\n",
    "        self.res = self.first + self.second\n",
    "        return self.res\n",
    "    def sub(self):\n",
    "            self.res = self.first - self.second\n",
    "            return self.res\n",
    "    def mul(self):\n",
    "        self.res = self.first * self.second\n",
    "        return self.res\n",
    "    def div(self):\n",
    "        self.res = self.first / self.second\n",
    "        return self.res"
   ]
  },
  {
   "cell_type": "code",
   "execution_count": 17,
   "metadata": {},
   "outputs": [
    {
     "name": "stdout",
     "output_type": "stream",
     "text": [
      "6\n",
      "3\n"
     ]
    }
   ],
   "source": [
    "# 변수 = 클래스명()\n",
    "# 변수는 클래스로부터 만들어진 객체를 나타냄\n",
    "\n",
    "# 붕어빵 = 붕어빵기계()\n",
    "a = FourCal() # FourCal클래스로부터 객체 생성\n",
    "b = FourCal()\n",
    "\n",
    "# 붕어빵.내용물을 정한다(단팥)\n",
    "a.setData(4,2) # 숫자 4,2를 a에 지정 : first에 4, second에 2 저장\n",
    "b.setData(1,2)\n",
    "\n",
    "\n",
    "print(a.add()) # 6 리턴\n",
    "print(b.add())\n",
    "# print(a.sub())\n",
    "# print(a.mul())\n",
    "# print(a.div())"
   ]
  },
  {
   "cell_type": "code",
   "execution_count": 18,
   "metadata": {},
   "outputs": [],
   "source": [
    "class MoreFourCal(FourCal):\n",
    "    def pow(self):\n",
    "        res=self.first**self.second # 별 두개 제곱!! 2**3 => 8\n",
    "        return res\n",
    "# 상속 => class 자식 클래스명(부모클래스명):\n",
    "# MoreFourCal클래스는 FourCal클래스를 상속했으므로, FourCal클래스의 모든 기능을 사용할 수 있음"
   ]
  },
  {
   "cell_type": "code",
   "execution_count": 20,
   "metadata": {},
   "outputs": [
    {
     "name": "stdout",
     "output_type": "stream",
     "text": [
      "16\n"
     ]
    }
   ],
   "source": [
    "a = MoreFourCal()\n",
    "a.setData(4,2)\n",
    "print(a.pow())\n",
    "#a.add()"
   ]
  },
  {
   "cell_type": "code",
   "execution_count": 23,
   "metadata": {},
   "outputs": [
    {
     "name": "stdout",
     "output_type": "stream",
     "text": [
      "2.0\n",
      "2.0\n"
     ]
    }
   ],
   "source": [
    "#메소드 오버라이딩(overriding):부모 클래스로부터 상속받은\n",
    "#메소드를 자식이 변경한 것\n",
    "myObj=FourCal()\n",
    "myObj.setData(4,2)\n",
    "print(myObj.div())\n",
    "\n",
    "myObj2=MoreFourCal()\n",
    "myObj2.setData(4,2)\n",
    "print(myObj2.div())"
   ]
  },
  {
   "cell_type": "code",
   "execution_count": 36,
   "metadata": {},
   "outputs": [],
   "source": [
    "class SafeFourCal(FourCal):\n",
    "    def div(self):\n",
    "        if self.second==1:\n",
    "            print(\"1로 나누지 마세요!\")\n",
    "            return 0\n",
    "        else:\n",
    "            return self.first/self.second"
   ]
  },
  {
   "cell_type": "code",
   "execution_count": 37,
   "metadata": {},
   "outputs": [
    {
     "name": "stdout",
     "output_type": "stream",
     "text": [
      "4.0\n",
      "1로 나누지 마세요!\n",
      "0\n"
     ]
    }
   ],
   "source": [
    "sfc=SafeFourCal()\n",
    "sfc.setData(4,1)\n",
    "myObj2.setData(4,1)\n",
    "print(myObj2.div())\n",
    "print(sfc.div())"
   ]
  },
  {
   "cell_type": "code",
   "execution_count": 11,
   "metadata": {},
   "outputs": [
    {
     "name": "stdout",
     "output_type": "stream",
     "text": [
      "안녕하세요 나는 홍길동 입니다.\n",
      "이름: 홍길동\n",
      "나이: 25\n",
      "사는곳: 서울시 역삼동\n"
     ]
    }
   ],
   "source": [
    "class Person:\n",
    "    def __init__(self,na, ag, ad):\n",
    "        self.name=na\n",
    "        self.age=ag\n",
    "        self.addr=ad\n",
    "        #완성\n",
    "    def greeting(self):\n",
    "        #완성\n",
    "        print(\"안녕하세요 나는 {0} 입니다.\".format(self.name))\n",
    "    def setData(self,name,age,addr):\n",
    "        self.name = name\n",
    "        self.age = age\n",
    "        self.addr = addr\n",
    "\n",
    "ps=Person(\"홍길동\", 25, \"서울시 역삼동\")\n",
    "ps.greeting()#안녕하세요. 나는 홍길동입니다.\n",
    "print(\"이름:\",ps.name)#홍길동\n",
    "print(\"나이:\",ps.age)#25\n",
    "print(\"사는곳:\",ps.addr)#역삼동"
   ]
  },
  {
   "cell_type": "code",
   "execution_count": 43,
   "metadata": {},
   "outputs": [
    {
     "name": "stdout",
     "output_type": "stream",
     "text": [
      "안녕하세요 나는 홍길동 입니다.\n",
      "이름: 홍길동\n",
      "나이: 25\n",
      "사는곳: 서울시 역삼동\n"
     ]
    }
   ],
   "source": [
    "class Person:\n",
    "    def __init__(self, *args):\n",
    "        self.name=args[0]\n",
    "        self.age=args[1]\n",
    "        self.addr=args[2]\n",
    "        #완성\n",
    "    def greeting(self):\n",
    "        #완성\n",
    "        print(\"안녕하세요 나는 {0} 입니다.\".format(self.name))\n",
    "    def setData(self,name,age,addr):\n",
    "        self.name = name\n",
    "        self.age = age\n",
    "        self.addr = addr\n",
    "\n",
    "ps=Person(\"홍길동\", 25, \"서울시 역삼동\")\n",
    "ps.greeting()#안녕하세요. 나는 홍길동입니다.\n",
    "print(\"이름:\",ps.name)#홍길동\n",
    "print(\"나이:\",ps.age)#25\n",
    "print(\"사는곳:\",ps.addr)#역삼동"
   ]
  },
  {
   "cell_type": "code",
   "execution_count": 44,
   "metadata": {},
   "outputs": [],
   "source": [
    "# www.jetbrains.com <-- 파이참 다운"
   ]
  },
  {
   "cell_type": "code",
   "execution_count": 45,
   "metadata": {},
   "outputs": [
    {
     "data": {
      "text/plain": [
       "3"
      ]
     },
     "execution_count": 45,
     "metadata": {},
     "output_type": "execute_result"
    }
   ],
   "source": [
    "#내장함수:import가 필요없음 <- 자주쓰임\n",
    "#외장함수:import가 필요있음\n",
    "abs(3)"
   ]
  },
  {
   "cell_type": "code",
   "execution_count": 47,
   "metadata": {},
   "outputs": [
    {
     "data": {
      "text/plain": [
       "False"
      ]
     },
     "execution_count": 47,
     "metadata": {},
     "output_type": "execute_result"
    }
   ],
   "source": [
    "all([-1,1,2,-2]) # 모두가 참일때 참\n",
    "# 0 : 거짓, 0이 아닌 숫자는 모두 참\n",
    "all([-1,0,1]) # 0이 거짓 -> 거짓"
   ]
  },
  {
   "cell_type": "code",
   "execution_count": 51,
   "metadata": {},
   "outputs": [
    {
     "data": {
      "text/plain": [
       "False"
      ]
     },
     "execution_count": 51,
     "metadata": {},
     "output_type": "execute_result"
    }
   ],
   "source": [
    "any([1,2,3,0])\n",
    "# 하나라도 참이면 참 출력\n",
    "# 모두 거짓인 경우에만 거짓 출력\n",
    "#any([0,0])\n",
    "any([\"\",None,0]) #거짓\n"
   ]
  },
  {
   "cell_type": "code",
   "execution_count": 54,
   "metadata": {},
   "outputs": [
    {
     "data": {
      "text/plain": [
       "(1, 2)"
      ]
     },
     "execution_count": 54,
     "metadata": {},
     "output_type": "execute_result"
    }
   ],
   "source": [
    "chr(65) #아스키 코드 입력바다 해당 문자를 출력\n",
    "divmod(6,4)#몫과 나머지 출력"
   ]
  },
  {
   "cell_type": "code",
   "execution_count": 58,
   "metadata": {
    "scrolled": true
   },
   "outputs": [
    {
     "name": "stdout",
     "output_type": "stream",
     "text": [
      "0 test\n",
      "1 text\n",
      "2 body\n"
     ]
    }
   ],
   "source": [
    "#enumerate() #순서가 있는 자료형(리스트, 튜플, 문자열)을 입력\n",
    "#받아서 인덱스와 함께 자료를 리턴해주는 함수\n",
    "for idx, name in enumerate(['test','text','body']):\n",
    "    print(idx,name)"
   ]
  },
  {
   "cell_type": "code",
   "execution_count": 60,
   "metadata": {},
   "outputs": [
    {
     "name": "stdout",
     "output_type": "stream",
     "text": [
      "(0, 'test')\n",
      "0 test\n",
      "(1, 'text')\n",
      "1 text\n",
      "(2, 'body')\n",
      "2 body\n"
     ]
    }
   ],
   "source": [
    "for data in enumerate(['test','text','body']):\n",
    "    print(data)\n",
    "    print(data[0], data[1])"
   ]
  },
  {
   "cell_type": "code",
   "execution_count": 71,
   "metadata": {},
   "outputs": [
    {
     "data": {
      "text/plain": [
       "(1, 2)"
      ]
     },
     "execution_count": 71,
     "metadata": {},
     "output_type": "execute_result"
    }
   ],
   "source": [
    "#eval 함수 : 실행 가능한 문자열에 대해 실행한 결과를 리턴\n",
    "1+2\n",
    "\"1+2\"\n",
    "eval(\"1+2\")\n",
    "\"'hi'+'hello'\"\n",
    "eval(\"'hi'+'hello'\")\n",
    "\"divmod(6,4)\"\n",
    "eval(\"divmod(6,4)\")"
   ]
  },
  {
   "cell_type": "code",
   "execution_count": 74,
   "metadata": {},
   "outputs": [
    {
     "name": "stdout",
     "output_type": "stream",
     "text": [
      "division by zero\n",
      "0으로 나누시면 아니되옵니다\n"
     ]
    }
   ],
   "source": [
    "try:\n",
    "    print(2/0)\n",
    "\n",
    "except ZeroDivisionError as e:\n",
    "    print(e)\n",
    "    print(\"0으로 나누시면 아니되옵니다\")"
   ]
  },
  {
   "cell_type": "code",
   "execution_count": 151,
   "metadata": {},
   "outputs": [
    {
     "name": "stdout",
     "output_type": "stream",
     "text": [
      "['Life is too short\\n', 'you need python']\n",
      "['Life is too short\\n', 'you need java']\n"
     ]
    }
   ],
   "source": [
    "#문제1 txt 파일 안의 일정 문자 고쳐 저장\n",
    "f=open(\"C:/Users/student/Downloads/Python_JP/test.txt\",\"r\")\n",
    "lines=f.readlines()\n",
    "print(lines)\n",
    "for i in range(0,2):\n",
    "    if 'java' in lines[i]:\n",
    "        lines[i]=lines[i].replace(\"java\",\"python\")\n",
    "    else:#실행할때마다 바꿔주기,매번 txt고쳐주기 귀찮...\n",
    "        lines[i]=lines[i].replace(\"python\",\"java\")\n",
    "print(lines)\n",
    "f.close()\n",
    "f=open(\"C:/Users/student/Downloads/Python_JP/test.txt\",\"w\")\n",
    "for i in range(0,2):\n",
    "    f.write(lines[i])\n",
    "f.close()"
   ]
  },
  {
   "cell_type": "code",
   "execution_count": 9,
   "metadata": {},
   "outputs": [
    {
     "name": "stdout",
     "output_type": "stream",
     "text": [
      "hgaophgapowehgapoghag\n"
     ]
    }
   ],
   "source": [
    "#문제2 사용자가 입력한대로 파일 저장\n",
    "\n",
    "f=open(\"c:/da/test.txt\",\"a\")\n",
    "data=input()\n",
    "data=data+\"\\n\"\n",
    "f.write(data)\n",
    "f.close()"
   ]
  },
  {
   "cell_type": "code",
   "execution_count": 15,
   "metadata": {},
   "outputs": [
    {
     "name": "stdout",
     "output_type": "stream",
     "text": [
      "3\n"
     ]
    }
   ],
   "source": [
    "#문제3\n",
    "class Calculator:\n",
    "    def __init__(self):\n",
    "        self.value=0\n",
    "    def add(self,val):\n",
    "        self.value+=val\n",
    "        \n",
    "class UpgradeCalculator(Calculator):\n",
    "    def minus(self,val):\n",
    "        self.value-=val\n",
    "    def value(self):\n",
    "        return self\n",
    "cal=UpgradeCalculator()\n",
    "cal.add(10)\n",
    "cal.minus(7)\n",
    "print(cal.value)"
   ]
  },
  {
   "cell_type": "code",
   "execution_count": null,
   "metadata": {},
   "outputs": [],
   "source": [
    "#문제4"
   ]
  }
 ],
 "metadata": {
  "kernelspec": {
   "display_name": "Python 3",
   "language": "python",
   "name": "python3"
  },
  "language_info": {
   "codemirror_mode": {
    "name": "ipython",
    "version": 3
   },
   "file_extension": ".py",
   "mimetype": "text/x-python",
   "name": "python",
   "nbconvert_exporter": "python",
   "pygments_lexer": "ipython3",
   "version": "3.7.4"
  }
 },
 "nbformat": 4,
 "nbformat_minor": 2
}
