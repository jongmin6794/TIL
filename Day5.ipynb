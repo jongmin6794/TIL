{
 "cells": [
  {
   "cell_type": "code",
   "execution_count": 2,
   "metadata": {},
   "outputs": [
    {
     "name": "stdout",
     "output_type": "stream",
     "text": [
      "7\n"
     ]
    }
   ],
   "source": [
    "#함수\n",
    "#y=2x+3\n",
    "#def 함수명(매개변수):\n",
    "#    수행문장\n",
    "#    수행문장\n",
    "#    ...\n",
    "#    return\n",
    "#함수명(10)\n",
    "\n",
    "def add(a,b):\n",
    "    return a+b\n",
    "a=3\n",
    "b=4\n",
    "sum=add(a,b)\n",
    "print(sum)\n"
   ]
  },
  {
   "cell_type": "code",
   "execution_count": 5,
   "metadata": {},
   "outputs": [],
   "source": [
    "def say():\n",
    "    return 'bye'"
   ]
  },
  {
   "cell_type": "code",
   "execution_count": 6,
   "metadata": {},
   "outputs": [
    {
     "name": "stdout",
     "output_type": "stream",
     "text": [
      "bye\n"
     ]
    }
   ],
   "source": [
    "res=say()\n",
    "print(res)"
   ]
  },
  {
   "cell_type": "code",
   "execution_count": 11,
   "metadata": {},
   "outputs": [
    {
     "name": "stdout",
     "output_type": "stream",
     "text": [
      "3 4 합은 7입니다\n",
      "7\n"
     ]
    }
   ],
   "source": [
    "def add(a,b):\n",
    "    print(\"%d %d 합은 %d입니다\" % (a,b,a+b))\n",
    "    return a+b\n",
    "print(add(3,4))"
   ]
  },
  {
   "cell_type": "code",
   "execution_count": 12,
   "metadata": {},
   "outputs": [],
   "source": [
    "def add(a,b):\n",
    "    return a+b"
   ]
  },
  {
   "cell_type": "code",
   "execution_count": 13,
   "metadata": {},
   "outputs": [
    {
     "name": "stdout",
     "output_type": "stream",
     "text": [
      "10\n"
     ]
    }
   ],
   "source": [
    "res=add(b=3,a=7)\n",
    "print(res)"
   ]
  },
  {
   "cell_type": "code",
   "execution_count": 23,
   "metadata": {},
   "outputs": [
    {
     "name": "stdout",
     "output_type": "stream",
     "text": [
      "6\n",
      "21\n"
     ]
    }
   ],
   "source": [
    "#여러개의 입력값을 전달 받는 함수!!!\n",
    "#def 함수명(*매개변수):\n",
    "#    수행문장\n",
    "def add_many(*args):\n",
    "    res=0\n",
    "    for i in args:\n",
    "        res+=i\n",
    "    return res\n",
    "    #수행문장\n",
    "\n",
    "print(add_many(1,2,3))\n",
    "\n",
    "res=add_many(1,2,3,4,5,6)\n",
    "print(res)\n",
    "\n",
    "#res=add_many(input())\n",
    "#print(res)\n"
   ]
  },
  {
   "cell_type": "code",
   "execution_count": 22,
   "metadata": {},
   "outputs": [
    {
     "name": "stdout",
     "output_type": "stream",
     "text": [
      "add 10\n",
      "mul 24\n"
     ]
    }
   ],
   "source": [
    "def add_mul(ch, *args):#첫 인자만 ch에, 두번째부터 마지막까지 args에\n",
    "    if ch=='add':\n",
    "        res=0\n",
    "        for i in args:\n",
    "            res+=i\n",
    "            \n",
    "    elif ch=='mul':\n",
    "        res=1\n",
    "        for i in args:\n",
    "            res*=i\n",
    "    return res\n",
    "\n",
    "print(\"add\",add_mul('add',1,2,3,4))\n",
    "print(\"mul\",add_mul('mul',1,2,3,4))\n"
   ]
  },
  {
   "cell_type": "code",
   "execution_count": 24,
   "metadata": {},
   "outputs": [],
   "source": [
    "# *별두개??!!\n",
    "def dict_args(**args): #딕셔너리로 변형해줌\n",
    "    print(args) #args변수는 딕셔너리!!"
   ]
  },
  {
   "cell_type": "code",
   "execution_count": 26,
   "metadata": {},
   "outputs": [
    {
     "name": "stdout",
     "output_type": "stream",
     "text": [
      "{'height': 180, 'weight': 70}\n"
     ]
    }
   ],
   "source": [
    "dict_args(height=180, weight=70)"
   ]
  },
  {
   "cell_type": "code",
   "execution_count": 27,
   "metadata": {},
   "outputs": [],
   "source": [
    "def a_and_m(a,b):\n",
    "    return a+b, a*b"
   ]
  },
  {
   "cell_type": "code",
   "execution_count": 28,
   "metadata": {},
   "outputs": [
    {
     "name": "stdout",
     "output_type": "stream",
     "text": [
      "(3, 2)\n"
     ]
    }
   ],
   "source": [
    "res=a_and_m(1,2)\n",
    "print(res)"
   ]
  },
  {
   "cell_type": "code",
   "execution_count": 30,
   "metadata": {},
   "outputs": [
    {
     "name": "stdout",
     "output_type": "stream",
     "text": [
      "3\n",
      "2\n"
     ]
    }
   ],
   "source": [
    "res_add, res_mul=a_and_m(1,2)\n",
    "print(res_add)\n",
    "print(res_mul)"
   ]
  },
  {
   "cell_type": "code",
   "execution_count": 31,
   "metadata": {},
   "outputs": [],
   "source": [
    "def a_and_m(a,b):\n",
    "    return a+b\n",
    "    return a*b #수행 안함."
   ]
  },
  {
   "cell_type": "code",
   "execution_count": 32,
   "metadata": {},
   "outputs": [
    {
     "name": "stdout",
     "output_type": "stream",
     "text": [
      "3\n"
     ]
    }
   ],
   "source": [
    "res=a_and_m(1,2)\n",
    "print(res)"
   ]
  },
  {
   "cell_type": "code",
   "execution_count": 40,
   "metadata": {},
   "outputs": [],
   "source": [
    "def sn(nick):\n",
    "    if nick==\"바보\":\n",
    "        return #함수를 호출한 위치로 되돌아 가라\n",
    "    print(\"별명은 %s 입니다\"% nick)"
   ]
  },
  {
   "cell_type": "code",
   "execution_count": 39,
   "metadata": {},
   "outputs": [],
   "source": [
    "#sn(\"천재\")\n",
    "sn(\"바보\")"
   ]
  },
  {
   "cell_type": "code",
   "execution_count": 45,
   "metadata": {},
   "outputs": [
    {
     "name": "stdout",
     "output_type": "stream",
     "text": [
      "홍길동 20 True\n",
      "홍갑순 20 False\n"
     ]
    }
   ],
   "source": [
    "def test(name, old, man=True):#3번째 인자 값 넣지 않으면 디폴트 true\n",
    "    print(name,old,man)\n",
    "test(\"홍길동\",20)\n",
    "test(\"홍갑순\",20,False)"
   ]
  },
  {
   "cell_type": "code",
   "execution_count": 1,
   "metadata": {},
   "outputs": [],
   "source": [
    "import turtle as t\n",
    "t.shape('turtle')"
   ]
  },
  {
   "cell_type": "code",
   "execution_count": 55,
   "metadata": {},
   "outputs": [],
   "source": [
    "t.forward(100)"
   ]
  },
  {
   "cell_type": "code",
   "execution_count": 59,
   "metadata": {},
   "outputs": [],
   "source": [
    "t.right(90)"
   ]
  },
  {
   "cell_type": "code",
   "execution_count": 58,
   "metadata": {},
   "outputs": [],
   "source": [
    "t.forward(100)"
   ]
  },
  {
   "cell_type": "code",
   "execution_count": 62,
   "metadata": {},
   "outputs": [],
   "source": [
    "t.right(90)\n",
    "t.backward(100)\n",
    "t.right(90)\n",
    "t.forward(100)"
   ]
  },
  {
   "cell_type": "code",
   "execution_count": 3,
   "metadata": {},
   "outputs": [],
   "source": [
    "t.shape('turtle')\n",
    "for i in range(4):\n",
    "    t.forward(100)\n",
    "    t.right(90)"
   ]
  },
  {
   "cell_type": "code",
   "execution_count": 4,
   "metadata": {},
   "outputs": [],
   "source": [
    "t.shape('turtle')\n",
    "for i in range(5):\n",
    "    t.forward(100)\n",
    "    t.right(72)"
   ]
  },
  {
   "cell_type": "code",
   "execution_count": 16,
   "metadata": {},
   "outputs": [],
   "source": [
    "t.clear()"
   ]
  },
  {
   "cell_type": "code",
   "execution_count": 17,
   "metadata": {},
   "outputs": [
    {
     "name": "stdout",
     "output_type": "stream",
     "text": [
      "9\n"
     ]
    }
   ],
   "source": [
    "n=int(input())\n",
    "for i in range(n):\n",
    "    t.forward(100)\n",
    "    t.right(360/n)"
   ]
  },
  {
   "cell_type": "code",
   "execution_count": 22,
   "metadata": {},
   "outputs": [
    {
     "name": "stdout",
     "output_type": "stream",
     "text": [
      "15\n",
      "15\n",
      "15\n",
      "7\n"
     ]
    }
   ],
   "source": [
    "#lambda 익명 함수\n",
    "#lambda 함수 형식 => lambda 매개변수들:식\n",
    "def p_ten(x):\n",
    "    return x+10\n",
    "print(p_ten(5))\n",
    "\n",
    "p_ten2=lambda x:x+10\n",
    "print(p_ten2(5))\n",
    "print((lambda x:x+10)(5))\n",
    "#(lambda 매개변수들:식)(5)\n",
    "#람다표현식 내부에는 변수를 선언할 수 없다.\n",
    "#print((lambda x:y=2;x+y)(5))\n",
    "#에러발생, 아래와 같은 형식으로 작성 가능\n",
    "y=2\n",
    "print((lambda x: x+y)(5))"
   ]
  },
  {
   "cell_type": "code",
   "execution_count": 30,
   "metadata": {},
   "outputs": [
    {
     "name": "stdout",
     "output_type": "stream",
     "text": [
      "[11, 12, 13]\n"
     ]
    },
    {
     "data": {
      "text/plain": [
       "[11, 12, 13]"
      ]
     },
     "execution_count": 30,
     "metadata": {},
     "output_type": "execute_result"
    }
   ],
   "source": [
    "#map함수?\n",
    "#map(함수, 자료)#자료에 대해 함수를 수행한 결과가 출력\n",
    "#함수자리에 람다함수 쓰는 경우가 많다\n",
    "#print(list(map(int,[3.14])))\n",
    "def pten(x):\n",
    "    return x+10\n",
    "res=list(map(pten, [1,2,3]))\n",
    "print(res)\n",
    "\n",
    "list(map(lambda x: x+10,[1,2,3]))"
   ]
  },
  {
   "cell_type": "code",
   "execution_count": 33,
   "metadata": {},
   "outputs": [
    {
     "name": "stdout",
     "output_type": "stream",
     "text": [
      "1\n",
      "5\n"
     ]
    }
   ],
   "source": [
    "#print((lambda x:x+1)(5))\n",
    "print((lambda : 1)()) #전달 인수는 없으며 1 출력해라\n",
    "x=5\n",
    "print((lambda : x)())"
   ]
  },
  {
   "cell_type": "code",
   "execution_count": 37,
   "metadata": {},
   "outputs": [
    {
     "name": "stdout",
     "output_type": "stream",
     "text": [
      "5\n",
      "5\n"
     ]
    }
   ],
   "source": [
    "def add(x,y):\n",
    "    return x+y\n",
    "res=add(2,3)\n",
    "print(res)\n",
    "#위 함수를 람다표현식으로 바꾸시오\n",
    "add2=lambda x,y:x+y\n",
    "res=add2(2,3)\n",
    "print(res)"
   ]
  },
  {
   "cell_type": "code",
   "execution_count": 50,
   "metadata": {},
   "outputs": [
    {
     "name": "stdout",
     "output_type": "stream",
     "text": [
      "[1, 2, '3', 4, 5, '6', 7, 8, '9', 10]\n"
     ]
    }
   ],
   "source": [
    "#람다표현식에 조건부 표현식 적용\n",
    "a=list(range(1,11))\n",
    "#a에 저장된 요소값들 중에서 3의 배수는 100을 더해서 출력\n",
    "#[1, 2, 103, 4, 5, 106, 7, 8, 109, 10]\n",
    "#for i in range(0,10):\n",
    "#    if a[i]%3==0:\n",
    "       # a[i]+=100\n",
    "#        a[i]=str(a[i])\n",
    "#print(a)\n",
    "\n",
    "#위 문장을 람다표현식으로 바꿔보자\n",
    "#map(람다표현식, a)\n",
    "print(list(map(lambda x:str(x) if x%3==0 else x, a)))\n",
    "#람다식에 if문이 있으면 반드시 else 사용해야 함\n",
    "#람다식에는 elif를 사용 못함"
   ]
  },
  {
   "cell_type": "code",
   "execution_count": 51,
   "metadata": {},
   "outputs": [],
   "source": [
    "#식1 if 조건식1 else 식2 if 조건식2 else 식3\n",
    "#if 조건식:\n",
    "#    식1\n",
    "#elif 조건식:\n",
    "#    식2\n",
    "#else:\n",
    "#    식3\n"
   ]
  },
  {
   "cell_type": "code",
   "execution_count": 56,
   "metadata": {},
   "outputs": [
    {
     "name": "stdout",
     "output_type": "stream",
     "text": [
      "['1', 2.0, 13, 14, 15, 16, 17, 18, 19, 20]\n"
     ]
    }
   ],
   "source": [
    "#a에 저장되어있는 데이터에 대해, 1은 문자열로 변환, 2는 실수로 변환\n",
    "#나머지 3이상은 모두 10을 더해서 출력\n",
    "def fun(x):\n",
    "    if x==1:\n",
    "        return str(x)\n",
    "    elif x==2:\n",
    "        return float(x)\n",
    "    else:\n",
    "        return x+10\n",
    "    \n",
    "print(list(map(fun,a)))"
   ]
  },
  {
   "cell_type": "code",
   "execution_count": 57,
   "metadata": {},
   "outputs": [
    {
     "data": {
      "text/plain": [
       "['1', 2.0, 13, 14, 15, 16, 17, 18, 19, 20]"
      ]
     },
     "execution_count": 57,
     "metadata": {},
     "output_type": "execute_result"
    }
   ],
   "source": [
    "(list(map(lambda x:str(x) if x==1 else float(x) if x==2 else x+10, a)))"
   ]
  },
  {
   "cell_type": "code",
   "execution_count": 58,
   "metadata": {},
   "outputs": [
    {
     "data": {
      "text/plain": [
       "[36, 49, 64, 81, 100]"
      ]
     },
     "execution_count": 58,
     "metadata": {},
     "output_type": "execute_result"
    }
   ],
   "source": [
    "#람다함수의 매개변수가 여러개인 경우\n",
    "a=[1,2,3,4,5]\n",
    "b=[6,7,8,9,10]\n",
    "\n",
    "#a*b=[6,14,...,50]\n",
    "#map(함수, 매개변수)\n",
    "list(map(lambda x,y:y*y,a,b,))"
   ]
  },
  {
   "cell_type": "code",
   "execution_count": 60,
   "metadata": {},
   "outputs": [
    {
     "name": "stdout",
     "output_type": "stream",
     "text": [
      "[True, False, False, True, True, True, False]\n",
      "[7, 4, 9, 6]\n"
     ]
    }
   ],
   "source": [
    "a=[7,3,1,4,9,6,2]\n",
    "def fun2(x):\n",
    "    return x>3 and x<10\n",
    "print(list(map(fun2, a)))\n",
    "print(list(filter(fun2,a)))"
   ]
  },
  {
   "cell_type": "raw",
   "metadata": {},
   "source": []
  },
  {
   "cell_type": "code",
   "execution_count": 64,
   "metadata": {},
   "outputs": [],
   "source": [
    "#reduce\n",
    "from functools import reduce"
   ]
  },
  {
   "cell_type": "code",
   "execution_count": 65,
   "metadata": {},
   "outputs": [],
   "source": [
    "def fun3(x,y):\n",
    "    return x+y"
   ]
  },
  {
   "cell_type": "code",
   "execution_count": 66,
   "metadata": {},
   "outputs": [
    {
     "name": "stdout",
     "output_type": "stream",
     "text": [
      "15\n"
     ]
    }
   ],
   "source": [
    "a=[1,2,3,4,5]\n",
    "print(reduce(fun3,a))\n",
    "#reduce는 각 요소를 함수로 처리한 다음,\n",
    "#이전 결과와 누적해서 변환하는 함수"
   ]
  },
  {
   "cell_type": "code",
   "execution_count": 68,
   "metadata": {},
   "outputs": [
    {
     "name": "stdout",
     "output_type": "stream",
     "text": [
      "15\n",
      "15\n"
     ]
    }
   ],
   "source": [
    "#람다식으로 변환하면...\n",
    "print(reduce(lambda x,y:x+y, a))\n",
    "\n",
    "a=[1,2,3,4,5]\n",
    "x=a[0]\n",
    "for i in range( len(a)-1 ): #range(4)=0~3\n",
    "    x=x+a[i+1]\n",
    "print(x)"
   ]
  },
  {
   "cell_type": "code",
   "execution_count": 69,
   "metadata": {},
   "outputs": [
    {
     "name": "stdout",
     "output_type": "stream",
     "text": [
      "1\n",
      "1\n"
     ]
    }
   ],
   "source": [
    "x=1 #전역변수 : 함수 바깥에 선언된 변수,\n",
    "# 함수 내/외부에서 모두 접근 가능 변수\n",
    "def f():\n",
    "    print(x)\n",
    "f()\n",
    "print(x)"
   ]
  },
  {
   "cell_type": "code",
   "execution_count": 72,
   "metadata": {},
   "outputs": [
    {
     "name": "stdout",
     "output_type": "stream",
     "text": [
      "2\n"
     ]
    },
    {
     "ename": "NameError",
     "evalue": "name 'x2' is not defined",
     "output_type": "error",
     "traceback": [
      "\u001b[1;31m---------------------------------------------------------------------------\u001b[0m",
      "\u001b[1;31mNameError\u001b[0m                                 Traceback (most recent call last)",
      "\u001b[1;32m<ipython-input-72-fff0c05ed6ec>\u001b[0m in \u001b[0;36m<module>\u001b[1;34m\u001b[0m\n\u001b[0;32m      4\u001b[0m     \u001b[0mprint\u001b[0m\u001b[1;33m(\u001b[0m\u001b[0mx2\u001b[0m\u001b[1;33m)\u001b[0m\u001b[1;33m\u001b[0m\u001b[1;33m\u001b[0m\u001b[0m\n\u001b[0;32m      5\u001b[0m \u001b[0mf2\u001b[0m\u001b[1;33m(\u001b[0m\u001b[1;33m)\u001b[0m\u001b[1;33m\u001b[0m\u001b[1;33m\u001b[0m\u001b[0m\n\u001b[1;32m----> 6\u001b[1;33m \u001b[0mprint\u001b[0m\u001b[1;33m(\u001b[0m\u001b[0mx2\u001b[0m\u001b[1;33m)\u001b[0m\u001b[1;33m\u001b[0m\u001b[1;33m\u001b[0m\u001b[0m\n\u001b[0m",
      "\u001b[1;31mNameError\u001b[0m: name 'x2' is not defined"
     ]
    }
   ],
   "source": [
    "# 함수 내부에서 변수 선언\n",
    "# 함수 내부에서만 접근 가능, 함수 외부에서 접근 못함. 지역범위\n",
    "def f2():\n",
    "    x2=2\n",
    "    print(x2)\n",
    "f2()\n",
    "print(x2)"
   ]
  },
  {
   "cell_type": "code",
   "execution_count": 74,
   "metadata": {},
   "outputs": [
    {
     "name": "stdout",
     "output_type": "stream",
     "text": [
      "20\n",
      "10\n"
     ]
    }
   ],
   "source": [
    "x=10\n",
    "def f3():\n",
    "    x=20\n",
    "    print(x)\n",
    "f3()\n",
    "print(x)"
   ]
  },
  {
   "cell_type": "code",
   "execution_count": 77,
   "metadata": {},
   "outputs": [
    {
     "name": "stdout",
     "output_type": "stream",
     "text": [
      "20\n",
      "20\n"
     ]
    }
   ],
   "source": [
    "x=10 #전역변수\n",
    "def f3():\n",
    "    #global : 함수 내부에ㅓㅅ 전역변수 값을 변경하고자 하는 경우\n",
    "    #global 뒤에 전역변수 이름을 지정\n",
    "    global x\n",
    "    x=20\n",
    "    print(x)\n",
    "f3()\n",
    "print(x)"
   ]
  },
  {
   "cell_type": "code",
   "execution_count": 81,
   "metadata": {},
   "outputs": [
    {
     "name": "stdout",
     "output_type": "stream",
     "text": [
      "20\n",
      "20\n"
     ]
    }
   ],
   "source": [
    "def f4():\n",
    "    global x4 #x4 변수를 전역변수화\n",
    "    x4=20\n",
    "    print(x4)\n",
    "f4()\n",
    "print(x4)"
   ]
  },
  {
   "cell_type": "code",
   "execution_count": 84,
   "metadata": {},
   "outputs": [
    {
     "name": "stdout",
     "output_type": "stream",
     "text": [
      "hello\n"
     ]
    }
   ],
   "source": [
    "#함수 내부에 함수 정의\n",
    "\"\"\"\n",
    "def 함수1():\n",
    "    문장\n",
    "    def 함수2():\n",
    "        문장\n",
    "\"\"\"\n",
    "def outer():\n",
    "    msg=\"hello\"\n",
    "    def inner():\n",
    "        print(msg)\n",
    "    inner()\n",
    "outer()"
   ]
  },
  {
   "cell_type": "code",
   "execution_count": 87,
   "metadata": {},
   "outputs": [
    {
     "name": "stdout",
     "output_type": "stream",
     "text": [
      "10\n"
     ]
    }
   ],
   "source": [
    "def f5():\n",
    "    x=10\n",
    "    def f6():\n",
    "        x=20\n",
    "    f6()\n",
    "    print(x)\n",
    "f5()"
   ]
  },
  {
   "cell_type": "code",
   "execution_count": 3,
   "metadata": {},
   "outputs": [],
   "source": [
    "f=open(\"c:/da/newFile.txt\",\"w\") #열기 모드(쓰기(w)/읽기(r))\n",
    "#파일 내용 작성\n",
    "for i in range(1,11):\n",
    "    data=\"%d번줄 입니다.\\n\" %i\n",
    "    f.write(data)\n",
    "f.close()\n",
    "#파일을 쓰기 모드로 열게 되면, 기존에 파일이 존재할 경우\n",
    "#기존 내용이 사라짐"
   ]
  },
  {
   "cell_type": "code",
   "execution_count": 4,
   "metadata": {
    "scrolled": true
   },
   "outputs": [
    {
     "name": "stdout",
     "output_type": "stream",
     "text": [
      "2번줄 입니다.\n",
      "\n",
      "3번줄 입니다.\n",
      "\n",
      "4번줄 입니다.\n",
      "\n",
      "5번줄 입니다.\n",
      "\n",
      "6번줄 입니다.\n",
      "\n",
      "7번줄 입니다.\n",
      "\n",
      "8번줄 입니다.\n",
      "\n",
      "9번줄 입니다.\n",
      "\n",
      "10번줄 입니다.\n",
      "\n"
     ]
    },
    {
     "data": {
      "text/plain": [
       "<function TextIOWrapper.close()>"
      ]
     },
     "execution_count": 4,
     "metadata": {},
     "output_type": "execute_result"
    }
   ],
   "source": [
    "#readline 함수\n",
    "f=open(\"c:/da/newFile.txt\", \"r\")\n",
    "line=f.readline()\n",
    "while True:\n",
    "    line=f.readline()\n",
    "    if not line: break#더이상 읽어들인 줄이 업으면 None을 출력\n",
    "        \n",
    "    print(line)\n",
    "f.close"
   ]
  },
  {
   "cell_type": "code",
   "execution_count": 7,
   "metadata": {},
   "outputs": [
    {
     "name": "stdout",
     "output_type": "stream",
     "text": [
      "['1번줄 입니다.\\n', '2번줄 입니다.\\n', '3번줄 입니다.\\n', '4번줄 입니다.\\n', '5번줄 입니다.\\n', '6번줄 입니다.\\n', '7번줄 입니다.\\n', '8번줄 입니다.\\n', '9번줄 입니다.\\n', '10번줄 입니다.\\n']\n"
     ]
    }
   ],
   "source": [
    "f=open(\"c:/da/newFile.txt\",\"r\")\n",
    "lines=f.readlines()\n",
    "print(lines)"
   ]
  },
  {
   "cell_type": "code",
   "execution_count": 8,
   "metadata": {},
   "outputs": [
    {
     "name": "stdout",
     "output_type": "stream",
     "text": [
      "\n"
     ]
    }
   ],
   "source": [
    "data=f.read()\n",
    "print(data)\n",
    "f.close()"
   ]
  },
  {
   "cell_type": "code",
   "execution_count": 10,
   "metadata": {},
   "outputs": [],
   "source": [
    "#파일에 새로운 내용 추가 - 추가모드(append)\n",
    "f=open(\"c:/da/newFile.txt\",\"a\")\n",
    "for i in range(11,20):\n",
    "    data=\"%d번째 줄입니다.\\n\" % i\n",
    "    f.write(data)\n",
    "f.close()"
   ]
  },
  {
   "cell_type": "code",
   "execution_count": 17,
   "metadata": {},
   "outputs": [],
   "source": [
    "#파일을 닫기 위한 구문 없이 생성\n",
    "with open(\"c:/da/newFile.txt\",\"w\") as f:\n",
    "    f.write(\"Life is too short\")"
   ]
  },
  {
   "cell_type": "code",
   "execution_count": 43,
   "metadata": {},
   "outputs": [
    {
     "name": "stdout",
     "output_type": "stream",
     "text": [
      "hello\n",
      "False\n"
     ]
    }
   ],
   "source": [
    "#문제1_회문 판별하기\n",
    "input_data=input()\n",
    "for i in range(len(input_data)//2):#첫글자와 끝글자 비교\n",
    "    if input_data[i] != input_data[-i-1]:#비교 자리 하나씩 증가\n",
    "        print(False)\n",
    "        break\n",
    "    elif i==len(input_data)//2-1:\n",
    "        print(True)"
   ]
  },
  {
   "cell_type": "code",
   "execution_count": 51,
   "metadata": {},
   "outputs": [
    {
     "name": "stdout",
     "output_type": "stream",
     "text": [
      "he\n",
      "el\n",
      "ll\n",
      "lo\n"
     ]
    }
   ],
   "source": [
    "#문제2 n-gram 만들기\n",
    "input_data='hello'\n",
    "n=2\n",
    "for i in range(0,len(input_data)-n+1):\n",
    "    for j in range(i,i+n):\n",
    "        print(input_data[j],sep=\"\",end=\"\")\n",
    "    print()"
   ]
  },
  {
   "cell_type": "code",
   "execution_count": 63,
   "metadata": {},
   "outputs": [
    {
     "name": "stdout",
     "output_type": "stream",
     "text": [
      "['001.jgp', '010.jpg', '002.jpg']\n"
     ]
    }
   ],
   "source": [
    "#문제3 파일명 포매팅\n",
    "input_data='1.jpg 10.jpg 2.jpg'\n",
    "input_list=[]\n",
    "input_list=list(input_data.split(\" \"))\n",
    "for i in range(3):\n",
    "    if '1.' in input_list[i]:\n",
    "        input_list[i]='001.jgp'\n",
    "    if '10.' in input_list[i]:\n",
    "        input_list[i]='010.jpg'\n",
    "    if '2.' in input_list[i]:\n",
    "        input_list[i]='002.jpg'\n",
    "print(input_list)\n",
    "#if "
   ]
  },
  {
   "cell_type": "code",
   "execution_count": 69,
   "metadata": {},
   "outputs": [
    {
     "ename": "IndexError",
     "evalue": "pop index out of range",
     "output_type": "error",
     "traceback": [
      "\u001b[1;31m---------------------------------------------------------------------------\u001b[0m",
      "\u001b[1;31mIndexError\u001b[0m                                Traceback (most recent call last)",
      "\u001b[1;32m<ipython-input-69-14ae5ce97b0c>\u001b[0m in \u001b[0;36m<module>\u001b[1;34m\u001b[0m\n\u001b[0;32m      4\u001b[0m \u001b[0msList\u001b[0m\u001b[1;33m=\u001b[0m\u001b[1;33m[\u001b[0m\u001b[1;36m1\u001b[0m\u001b[1;33m,\u001b[0m\u001b[1;36m2\u001b[0m\u001b[1;33m,\u001b[0m\u001b[1;36m3\u001b[0m\u001b[1;33m,\u001b[0m\u001b[1;36m4\u001b[0m\u001b[1;33m,\u001b[0m\u001b[1;36m5\u001b[0m\u001b[1;33m,\u001b[0m\u001b[1;36m6\u001b[0m\u001b[1;33m,\u001b[0m\u001b[1;36m7\u001b[0m\u001b[1;33m,\u001b[0m\u001b[1;36m8\u001b[0m\u001b[1;33m,\u001b[0m\u001b[1;36m9\u001b[0m\u001b[1;33m,\u001b[0m\u001b[1;36m10\u001b[0m\u001b[1;33m]\u001b[0m\u001b[1;33m\u001b[0m\u001b[1;33m\u001b[0m\u001b[0m\n\u001b[0;32m      5\u001b[0m \u001b[1;32mfor\u001b[0m \u001b[0mi\u001b[0m \u001b[1;32min\u001b[0m \u001b[0mrange\u001b[0m\u001b[1;33m(\u001b[0m\u001b[1;36m2\u001b[0m\u001b[1;33m,\u001b[0m\u001b[0mlen\u001b[0m\u001b[1;33m(\u001b[0m\u001b[0msList\u001b[0m\u001b[1;33m)\u001b[0m\u001b[1;33m,\u001b[0m\u001b[1;36m3\u001b[0m\u001b[1;33m)\u001b[0m\u001b[1;33m:\u001b[0m\u001b[1;33m\u001b[0m\u001b[1;33m\u001b[0m\u001b[0m\n\u001b[1;32m----> 6\u001b[1;33m     \u001b[0msList\u001b[0m\u001b[1;33m.\u001b[0m\u001b[0mpop\u001b[0m\u001b[1;33m(\u001b[0m\u001b[0msList\u001b[0m\u001b[1;33m[\u001b[0m\u001b[0mi\u001b[0m\u001b[1;33m-\u001b[0m\u001b[1;36m1\u001b[0m\u001b[1;33m]\u001b[0m\u001b[1;33m)\u001b[0m\u001b[1;33m\u001b[0m\u001b[1;33m\u001b[0m\u001b[0m\n\u001b[0m\u001b[0;32m      7\u001b[0m \u001b[0mprint\u001b[0m\u001b[1;33m(\u001b[0m\u001b[0msList\u001b[0m\u001b[1;33m)\u001b[0m\u001b[1;33m\u001b[0m\u001b[1;33m\u001b[0m\u001b[0m\n",
      "\u001b[1;31mIndexError\u001b[0m: pop index out of range"
     ]
    }
   ],
   "source": [
    "#문제4 \n",
    "n=10\n",
    "k=3\n",
    "sList=[1,2,3,4,5,6,7,8,9,10]\n",
    "for i in range(2,len(sList),3):\n",
    "    sList.pop(sList[i])\n",
    "print(sList)"
   ]
  },
  {
   "cell_type": "code",
   "execution_count": null,
   "metadata": {},
   "outputs": [],
   "source": []
  }
 ],
 "metadata": {
  "kernelspec": {
   "display_name": "Python 3",
   "language": "python",
   "name": "python3"
  },
  "language_info": {
   "codemirror_mode": {
    "name": "ipython",
    "version": 3
   },
   "file_extension": ".py",
   "mimetype": "text/x-python",
   "name": "python",
   "nbconvert_exporter": "python",
   "pygments_lexer": "ipython3",
   "version": "3.7.4"
  }
 },
 "nbformat": 4,
 "nbformat_minor": 2
}
