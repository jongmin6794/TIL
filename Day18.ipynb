{
 "cells": [
  {
   "cell_type": "code",
   "execution_count": 1,
   "metadata": {},
   "outputs": [],
   "source": [
    "import pandas as pd\n",
    "import numpy as np"
   ]
  },
  {
   "cell_type": "code",
   "execution_count": null,
   "metadata": {},
   "outputs": [],
   "source": [
    "#결측값 심화\n",
    "#정규분포 표준화 작업\n",
    "#표준화= ( 데이터-(각 열,행 데이터 평균) )/각 열,행 표준편차"
   ]
  },
  {
   "cell_type": "code",
   "execution_count": 8,
   "metadata": {},
   "outputs": [],
   "source": [
    "import warnings\n",
    "warnings.filterwarnings(action='ignore')"
   ]
  },
  {
   "cell_type": "code",
   "execution_count": 9,
   "metadata": {},
   "outputs": [
    {
     "data": {
      "text/html": [
       "<div>\n",
       "<style scoped>\n",
       "    .dataframe tbody tr th:only-of-type {\n",
       "        vertical-align: middle;\n",
       "    }\n",
       "\n",
       "    .dataframe tbody tr th {\n",
       "        vertical-align: top;\n",
       "    }\n",
       "\n",
       "    .dataframe thead th {\n",
       "        text-align: right;\n",
       "    }\n",
       "</style>\n",
       "<table border=\"1\" class=\"dataframe\">\n",
       "  <thead>\n",
       "    <tr style=\"text-align: right;\">\n",
       "      <th></th>\n",
       "      <th>c1</th>\n",
       "      <th>c2</th>\n",
       "      <th>c3</th>\n",
       "    </tr>\n",
       "  </thead>\n",
       "  <tbody>\n",
       "    <tr>\n",
       "      <td>0</td>\n",
       "      <td>NaN</td>\n",
       "      <td>-1.150740</td>\n",
       "      <td>0.315921</td>\n",
       "    </tr>\n",
       "    <tr>\n",
       "      <td>1</td>\n",
       "      <td>2.524589</td>\n",
       "      <td>0.332164</td>\n",
       "      <td>2.805467</td>\n",
       "    </tr>\n",
       "    <tr>\n",
       "      <td>2</td>\n",
       "      <td>-0.542391</td>\n",
       "      <td>-1.355333</td>\n",
       "      <td>-0.043084</td>\n",
       "    </tr>\n",
       "    <tr>\n",
       "      <td>3</td>\n",
       "      <td>-0.385352</td>\n",
       "      <td>0.170322</td>\n",
       "      <td>-0.284678</td>\n",
       "    </tr>\n",
       "    <tr>\n",
       "      <td>4</td>\n",
       "      <td>0.247034</td>\n",
       "      <td>-0.447652</td>\n",
       "      <td>1.102286</td>\n",
       "    </tr>\n",
       "  </tbody>\n",
       "</table>\n",
       "</div>"
      ],
      "text/plain": [
       "         c1        c2        c3\n",
       "0       NaN -1.150740  0.315921\n",
       "1  2.524589  0.332164  2.805467\n",
       "2 -0.542391 -1.355333 -0.043084\n",
       "3 -0.385352  0.170322 -0.284678\n",
       "4  0.247034 -0.447652  1.102286"
      ]
     },
     "execution_count": 9,
     "metadata": {},
     "output_type": "execute_result"
    }
   ],
   "source": [
    "df=pd.DataFrame(np.random.randn(5,3),\n",
    "               columns=[\"c1\",\"c2\",\"c3\"])\n",
    "df.ix[0,0]=np.nan\n",
    "df.ix[2,[\"c2\"]]=None\n",
    "df"
   ]
  },
  {
   "cell_type": "code",
   "execution_count": 10,
   "metadata": {},
   "outputs": [
    {
     "data": {
      "text/html": [
       "<div>\n",
       "<style scoped>\n",
       "    .dataframe tbody tr th:only-of-type {\n",
       "        vertical-align: middle;\n",
       "    }\n",
       "\n",
       "    .dataframe tbody tr th {\n",
       "        vertical-align: top;\n",
       "    }\n",
       "\n",
       "    .dataframe thead th {\n",
       "        text-align: right;\n",
       "    }\n",
       "</style>\n",
       "<table border=\"1\" class=\"dataframe\">\n",
       "  <thead>\n",
       "    <tr style=\"text-align: right;\">\n",
       "      <th></th>\n",
       "      <th>c1</th>\n",
       "      <th>c2</th>\n",
       "      <th>c3</th>\n",
       "    </tr>\n",
       "  </thead>\n",
       "  <tbody>\n",
       "    <tr>\n",
       "      <td>0</td>\n",
       "      <td>NaN</td>\n",
       "      <td>-1.150740</td>\n",
       "      <td>0.315921</td>\n",
       "    </tr>\n",
       "    <tr>\n",
       "      <td>1</td>\n",
       "      <td>NaN</td>\n",
       "      <td>0.332164</td>\n",
       "      <td>NaN</td>\n",
       "    </tr>\n",
       "    <tr>\n",
       "      <td>2</td>\n",
       "      <td>-0.542391</td>\n",
       "      <td>-1.355333</td>\n",
       "      <td>-0.043084</td>\n",
       "    </tr>\n",
       "    <tr>\n",
       "      <td>3</td>\n",
       "      <td>-0.385352</td>\n",
       "      <td>0.170322</td>\n",
       "      <td>-0.284678</td>\n",
       "    </tr>\n",
       "    <tr>\n",
       "      <td>4</td>\n",
       "      <td>0.247034</td>\n",
       "      <td>-0.447652</td>\n",
       "      <td>1.102286</td>\n",
       "    </tr>\n",
       "  </tbody>\n",
       "</table>\n",
       "</div>"
      ],
      "text/plain": [
       "         c1        c2        c3\n",
       "0       NaN -1.150740  0.315921\n",
       "1       NaN  0.332164       NaN\n",
       "2 -0.542391 -1.355333 -0.043084\n",
       "3 -0.385352  0.170322 -0.284678\n",
       "4  0.247034 -0.447652  1.102286"
      ]
     },
     "execution_count": 10,
     "metadata": {},
     "output_type": "execute_result"
    }
   ],
   "source": [
    "df.ix[1,[\"c1\",'c3']]=np.nan\n",
    "df"
   ]
  },
  {
   "cell_type": "code",
   "execution_count": 12,
   "metadata": {},
   "outputs": [
    {
     "data": {
      "text/html": [
       "<div>\n",
       "<style scoped>\n",
       "    .dataframe tbody tr th:only-of-type {\n",
       "        vertical-align: middle;\n",
       "    }\n",
       "\n",
       "    .dataframe tbody tr th {\n",
       "        vertical-align: top;\n",
       "    }\n",
       "\n",
       "    .dataframe thead th {\n",
       "        text-align: right;\n",
       "    }\n",
       "</style>\n",
       "<table border=\"1\" class=\"dataframe\">\n",
       "  <thead>\n",
       "    <tr style=\"text-align: right;\">\n",
       "      <th></th>\n",
       "      <th>c1</th>\n",
       "      <th>c2</th>\n",
       "      <th>c3</th>\n",
       "    </tr>\n",
       "  </thead>\n",
       "  <tbody>\n",
       "    <tr>\n",
       "      <td>0</td>\n",
       "      <td>NaN</td>\n",
       "      <td>-1.150740</td>\n",
       "      <td>0.315921</td>\n",
       "    </tr>\n",
       "    <tr>\n",
       "      <td>1</td>\n",
       "      <td>NaN</td>\n",
       "      <td>0.332164</td>\n",
       "      <td>NaN</td>\n",
       "    </tr>\n",
       "    <tr>\n",
       "      <td>2</td>\n",
       "      <td>-0.542391</td>\n",
       "      <td>NaN</td>\n",
       "      <td>-0.043084</td>\n",
       "    </tr>\n",
       "    <tr>\n",
       "      <td>3</td>\n",
       "      <td>-0.385352</td>\n",
       "      <td>NaN</td>\n",
       "      <td>-0.284678</td>\n",
       "    </tr>\n",
       "    <tr>\n",
       "      <td>4</td>\n",
       "      <td>0.247034</td>\n",
       "      <td>-0.447652</td>\n",
       "      <td>NaN</td>\n",
       "    </tr>\n",
       "  </tbody>\n",
       "</table>\n",
       "</div>"
      ],
      "text/plain": [
       "         c1        c2        c3\n",
       "0       NaN -1.150740  0.315921\n",
       "1       NaN  0.332164       NaN\n",
       "2 -0.542391       NaN -0.043084\n",
       "3 -0.385352       NaN -0.284678\n",
       "4  0.247034 -0.447652       NaN"
      ]
     },
     "execution_count": 12,
     "metadata": {},
     "output_type": "execute_result"
    }
   ],
   "source": [
    "df.ix[2,[\"c2\"]]=None\n",
    "df.ix[3,[\"c2\"]]=None\n",
    "df.ix[4,[\"c3\"]]=None\n",
    "df"
   ]
  },
  {
   "cell_type": "code",
   "execution_count": 18,
   "metadata": {},
   "outputs": [
    {
     "data": {
      "text/html": [
       "<div>\n",
       "<style scoped>\n",
       "    .dataframe tbody tr th:only-of-type {\n",
       "        vertical-align: middle;\n",
       "    }\n",
       "\n",
       "    .dataframe tbody tr th {\n",
       "        vertical-align: top;\n",
       "    }\n",
       "\n",
       "    .dataframe thead th {\n",
       "        text-align: right;\n",
       "    }\n",
       "</style>\n",
       "<table border=\"1\" class=\"dataframe\">\n",
       "  <thead>\n",
       "    <tr style=\"text-align: right;\">\n",
       "      <th></th>\n",
       "      <th>c1</th>\n",
       "      <th>c2</th>\n",
       "      <th>c3</th>\n",
       "    </tr>\n",
       "  </thead>\n",
       "  <tbody>\n",
       "    <tr>\n",
       "      <td>0</td>\n",
       "      <td>0.000000</td>\n",
       "      <td>-1.150740</td>\n",
       "      <td>0.315921</td>\n",
       "    </tr>\n",
       "    <tr>\n",
       "      <td>1</td>\n",
       "      <td>0.000000</td>\n",
       "      <td>0.332164</td>\n",
       "      <td>0.000000</td>\n",
       "    </tr>\n",
       "    <tr>\n",
       "      <td>2</td>\n",
       "      <td>-0.542391</td>\n",
       "      <td>0.000000</td>\n",
       "      <td>-0.043084</td>\n",
       "    </tr>\n",
       "    <tr>\n",
       "      <td>3</td>\n",
       "      <td>-0.385352</td>\n",
       "      <td>0.000000</td>\n",
       "      <td>-0.284678</td>\n",
       "    </tr>\n",
       "    <tr>\n",
       "      <td>4</td>\n",
       "      <td>0.247034</td>\n",
       "      <td>-0.447652</td>\n",
       "      <td>0.000000</td>\n",
       "    </tr>\n",
       "  </tbody>\n",
       "</table>\n",
       "</div>"
      ],
      "text/plain": [
       "         c1        c2        c3\n",
       "0  0.000000 -1.150740  0.315921\n",
       "1  0.000000  0.332164  0.000000\n",
       "2 -0.542391  0.000000 -0.043084\n",
       "3 -0.385352  0.000000 -0.284678\n",
       "4  0.247034 -0.447652  0.000000"
      ]
     },
     "execution_count": 18,
     "metadata": {},
     "output_type": "execute_result"
    }
   ],
   "source": [
    "#nan자리 다 0으로\n",
    "# df.fillna(0)\n",
    "# df.fillna(method=\"ffill\")"
   ]
  },
  {
   "cell_type": "code",
   "execution_count": 47,
   "metadata": {},
   "outputs": [
    {
     "data": {
      "text/html": [
       "<div>\n",
       "<style scoped>\n",
       "    .dataframe tbody tr th:only-of-type {\n",
       "        vertical-align: middle;\n",
       "    }\n",
       "\n",
       "    .dataframe tbody tr th {\n",
       "        vertical-align: top;\n",
       "    }\n",
       "\n",
       "    .dataframe thead th {\n",
       "        text-align: right;\n",
       "    }\n",
       "</style>\n",
       "<table border=\"1\" class=\"dataframe\">\n",
       "  <thead>\n",
       "    <tr style=\"text-align: right;\">\n",
       "      <th></th>\n",
       "      <th>c1</th>\n",
       "      <th>c2</th>\n",
       "      <th>c3</th>\n",
       "    </tr>\n",
       "  </thead>\n",
       "  <tbody>\n",
       "    <tr>\n",
       "      <td>0</td>\n",
       "      <td>-0.226903</td>\n",
       "      <td>-1.150740</td>\n",
       "      <td>0.315921</td>\n",
       "    </tr>\n",
       "    <tr>\n",
       "      <td>1</td>\n",
       "      <td>-0.226903</td>\n",
       "      <td>0.332164</td>\n",
       "      <td>-0.003947</td>\n",
       "    </tr>\n",
       "    <tr>\n",
       "      <td>2</td>\n",
       "      <td>-0.542391</td>\n",
       "      <td>-0.422076</td>\n",
       "      <td>-0.043084</td>\n",
       "    </tr>\n",
       "    <tr>\n",
       "      <td>3</td>\n",
       "      <td>-0.385352</td>\n",
       "      <td>-0.422076</td>\n",
       "      <td>-0.284678</td>\n",
       "    </tr>\n",
       "    <tr>\n",
       "      <td>4</td>\n",
       "      <td>0.247034</td>\n",
       "      <td>-0.447652</td>\n",
       "      <td>-0.003947</td>\n",
       "    </tr>\n",
       "  </tbody>\n",
       "</table>\n",
       "</div>"
      ],
      "text/plain": [
       "         c1        c2        c3\n",
       "0 -0.226903 -1.150740  0.315921\n",
       "1 -0.226903  0.332164 -0.003947\n",
       "2 -0.542391 -0.422076 -0.043084\n",
       "3 -0.385352 -0.422076 -0.284678\n",
       "4  0.247034 -0.447652 -0.003947"
      ]
     },
     "execution_count": 47,
     "metadata": {},
     "output_type": "execute_result"
    }
   ],
   "source": [
    "df.fillna(df.mean())\n",
    "df.where(pd.notnull(df),df.mean(),axis=\"columns\")"
   ]
  },
  {
   "cell_type": "code",
   "execution_count": 43,
   "metadata": {},
   "outputs": [
    {
     "data": {
      "text/plain": [
       "array([1. , 2. , 3. , 0. , 0. , 0. , 0.1, 0.2])"
      ]
     },
     "execution_count": 43,
     "metadata": {},
     "output_type": "execute_result"
    }
   ],
   "source": [
    "arr=np.array([1,2,3,10,20,30,0.1,0.2])\n",
    "np.min(arr)\n",
    "np.argmin(arr)#최소값 위치가나온다.\n",
    "np.max(arr)\n",
    "np.argmax(arr)#최대값의 index\n",
    "np.where(arr<1)\n",
    "#where함수는 조건문 사용 -> 출력값:인덱스\n",
    "np.where(arr>=10,0,arr)\n",
    "#np.where(조건, 참, 거짓)"
   ]
  },
  {
   "cell_type": "code",
   "execution_count": 51,
   "metadata": {},
   "outputs": [
    {
     "data": {
      "text/html": [
       "<div>\n",
       "<style scoped>\n",
       "    .dataframe tbody tr th:only-of-type {\n",
       "        vertical-align: middle;\n",
       "    }\n",
       "\n",
       "    .dataframe tbody tr th {\n",
       "        vertical-align: top;\n",
       "    }\n",
       "\n",
       "    .dataframe thead th {\n",
       "        text-align: right;\n",
       "    }\n",
       "</style>\n",
       "<table border=\"1\" class=\"dataframe\">\n",
       "  <thead>\n",
       "    <tr style=\"text-align: right;\">\n",
       "      <th></th>\n",
       "      <th>c1</th>\n",
       "      <th>c2</th>\n",
       "      <th>c3</th>\n",
       "    </tr>\n",
       "  </thead>\n",
       "  <tbody>\n",
       "    <tr>\n",
       "      <td>0</td>\n",
       "      <td>-0.226903</td>\n",
       "      <td>-1.150740</td>\n",
       "      <td>0.315921</td>\n",
       "    </tr>\n",
       "    <tr>\n",
       "      <td>1</td>\n",
       "      <td>-0.226903</td>\n",
       "      <td>0.332164</td>\n",
       "      <td>NaN</td>\n",
       "    </tr>\n",
       "    <tr>\n",
       "      <td>2</td>\n",
       "      <td>-0.542391</td>\n",
       "      <td>-0.422076</td>\n",
       "      <td>-0.043084</td>\n",
       "    </tr>\n",
       "    <tr>\n",
       "      <td>3</td>\n",
       "      <td>-0.385352</td>\n",
       "      <td>-0.422076</td>\n",
       "      <td>-0.284678</td>\n",
       "    </tr>\n",
       "    <tr>\n",
       "      <td>4</td>\n",
       "      <td>0.247034</td>\n",
       "      <td>-0.447652</td>\n",
       "      <td>NaN</td>\n",
       "    </tr>\n",
       "  </tbody>\n",
       "</table>\n",
       "</div>"
      ],
      "text/plain": [
       "         c1        c2        c3\n",
       "0 -0.226903 -1.150740  0.315921\n",
       "1 -0.226903  0.332164       NaN\n",
       "2 -0.542391 -0.422076 -0.043084\n",
       "3 -0.385352 -0.422076 -0.284678\n",
       "4  0.247034 -0.447652       NaN"
      ]
     },
     "execution_count": 51,
     "metadata": {},
     "output_type": "execute_result"
    }
   ],
   "source": [
    "df.fillna(df.mean()['c1'])\n",
    "df.fillna(df.mean()['c1':'c2'])"
   ]
  },
  {
   "cell_type": "code",
   "execution_count": 69,
   "metadata": {},
   "outputs": [
    {
     "data": {
      "text/html": [
       "<div>\n",
       "<style scoped>\n",
       "    .dataframe tbody tr th:only-of-type {\n",
       "        vertical-align: middle;\n",
       "    }\n",
       "\n",
       "    .dataframe tbody tr th {\n",
       "        vertical-align: top;\n",
       "    }\n",
       "\n",
       "    .dataframe thead th {\n",
       "        text-align: right;\n",
       "    }\n",
       "</style>\n",
       "<table border=\"1\" class=\"dataframe\">\n",
       "  <thead>\n",
       "    <tr style=\"text-align: right;\">\n",
       "      <th></th>\n",
       "      <th>c1</th>\n",
       "      <th>c2</th>\n",
       "      <th>c2p</th>\n",
       "    </tr>\n",
       "  </thead>\n",
       "  <tbody>\n",
       "    <tr>\n",
       "      <td>0</td>\n",
       "      <td>1</td>\n",
       "      <td>6.0</td>\n",
       "      <td>6.0</td>\n",
       "    </tr>\n",
       "    <tr>\n",
       "      <td>1</td>\n",
       "      <td>2</td>\n",
       "      <td>NaN</td>\n",
       "      <td>2.0</td>\n",
       "    </tr>\n",
       "    <tr>\n",
       "      <td>2</td>\n",
       "      <td>3</td>\n",
       "      <td>8.0</td>\n",
       "      <td>8.0</td>\n",
       "    </tr>\n",
       "    <tr>\n",
       "      <td>3</td>\n",
       "      <td>4</td>\n",
       "      <td>NaN</td>\n",
       "      <td>4.0</td>\n",
       "    </tr>\n",
       "    <tr>\n",
       "      <td>4</td>\n",
       "      <td>5</td>\n",
       "      <td>10.0</td>\n",
       "      <td>10.0</td>\n",
       "    </tr>\n",
       "  </tbody>\n",
       "</table>\n",
       "</div>"
      ],
      "text/plain": [
       "   c1    c2   c2p\n",
       "0   1   6.0   6.0\n",
       "1   2   NaN   2.0\n",
       "2   3   8.0   8.0\n",
       "3   4   NaN   4.0\n",
       "4   5  10.0  10.0"
      ]
     },
     "execution_count": 69,
     "metadata": {},
     "output_type": "execute_result"
    }
   ],
   "source": [
    "df=pd.DataFrame({'c1':[1,2,3,4,5],\n",
    "             'c2':[6,7,8,9,10]})\n",
    "df.ix[[1,3],['c2']]=np.nan\n",
    "df\n",
    "#c2p 열에는 c2열 값이 notnull이면 c2열 값을,\n",
    "#c2열 값이 null이면 c1열 값으로 채우고자 함\n",
    "from numpy import NaN,NAN,nan\n",
    "df['c2p']=np.where(pd.notnull(df['c2'])==True,\n",
    "                   df['c2'],df['c1'])\n",
    "for i in df.index:\n",
    "    if pd.notnull(df.ix[i,'c2'])==True:\n",
    "        df.ix[i,'c2p']=df.ix[i,'c2']\n",
    "    else:\n",
    "        df.ix[i,'c2p']=df.ix[i,'c1']\n",
    "df"
   ]
  },
  {
   "cell_type": "code",
   "execution_count": 70,
   "metadata": {},
   "outputs": [
    {
     "data": {
      "text/html": [
       "<div>\n",
       "<style scoped>\n",
       "    .dataframe tbody tr th:only-of-type {\n",
       "        vertical-align: middle;\n",
       "    }\n",
       "\n",
       "    .dataframe tbody tr th {\n",
       "        vertical-align: top;\n",
       "    }\n",
       "\n",
       "    .dataframe thead th {\n",
       "        text-align: right;\n",
       "    }\n",
       "</style>\n",
       "<table border=\"1\" class=\"dataframe\">\n",
       "  <thead>\n",
       "    <tr style=\"text-align: right;\">\n",
       "      <th></th>\n",
       "      <th>c1</th>\n",
       "      <th>c2</th>\n",
       "    </tr>\n",
       "  </thead>\n",
       "  <tbody>\n",
       "    <tr>\n",
       "      <td>0</td>\n",
       "      <td>1</td>\n",
       "      <td>6.0</td>\n",
       "    </tr>\n",
       "    <tr>\n",
       "      <td>1</td>\n",
       "      <td>2</td>\n",
       "      <td>NaN</td>\n",
       "    </tr>\n",
       "    <tr>\n",
       "      <td>2</td>\n",
       "      <td>3</td>\n",
       "      <td>8.0</td>\n",
       "    </tr>\n",
       "    <tr>\n",
       "      <td>3</td>\n",
       "      <td>4</td>\n",
       "      <td>NaN</td>\n",
       "    </tr>\n",
       "    <tr>\n",
       "      <td>4</td>\n",
       "      <td>5</td>\n",
       "      <td>10.0</td>\n",
       "    </tr>\n",
       "  </tbody>\n",
       "</table>\n",
       "</div>"
      ],
      "text/plain": [
       "   c1    c2\n",
       "0   1   6.0\n",
       "1   2   NaN\n",
       "2   3   8.0\n",
       "3   4   NaN\n",
       "4   5  10.0"
      ]
     },
     "execution_count": 70,
     "metadata": {},
     "output_type": "execute_result"
    }
   ],
   "source": [
    "#dropna 메서드 : 열(axis=1)/행(axis=0) 제거\n",
    "df=pd.DataFrame({'c1':[1,2,3,4,5],\n",
    "             'c2':[6,7,8,9,10]})\n",
    "df.ix[[1,3],['c2']]=np.nan\n",
    "df"
   ]
  },
  {
   "cell_type": "code",
   "execution_count": 73,
   "metadata": {},
   "outputs": [
    {
     "data": {
      "text/html": [
       "<div>\n",
       "<style scoped>\n",
       "    .dataframe tbody tr th:only-of-type {\n",
       "        vertical-align: middle;\n",
       "    }\n",
       "\n",
       "    .dataframe tbody tr th {\n",
       "        vertical-align: top;\n",
       "    }\n",
       "\n",
       "    .dataframe thead th {\n",
       "        text-align: right;\n",
       "    }\n",
       "</style>\n",
       "<table border=\"1\" class=\"dataframe\">\n",
       "  <thead>\n",
       "    <tr style=\"text-align: right;\">\n",
       "      <th></th>\n",
       "      <th>c1</th>\n",
       "      <th>c2</th>\n",
       "    </tr>\n",
       "  </thead>\n",
       "  <tbody>\n",
       "    <tr>\n",
       "      <td>0</td>\n",
       "      <td>1</td>\n",
       "      <td>6.0</td>\n",
       "    </tr>\n",
       "    <tr>\n",
       "      <td>2</td>\n",
       "      <td>3</td>\n",
       "      <td>8.0</td>\n",
       "    </tr>\n",
       "    <tr>\n",
       "      <td>4</td>\n",
       "      <td>5</td>\n",
       "      <td>10.0</td>\n",
       "    </tr>\n",
       "  </tbody>\n",
       "</table>\n",
       "</div>"
      ],
      "text/plain": [
       "   c1    c2\n",
       "0   1   6.0\n",
       "2   3   8.0\n",
       "4   5  10.0"
      ]
     },
     "execution_count": 73,
     "metadata": {},
     "output_type": "execute_result"
    }
   ],
   "source": [
    "df.dropna(axis=0)#결측값이 있는 행 전체 제거\n",
    "df.dropna(axis=1)#결측값이 있는 열 전체 제거\n",
    "df[['c1','c2']].dropna()"
   ]
  },
  {
   "cell_type": "code",
   "execution_count": 89,
   "metadata": {},
   "outputs": [
    {
     "data": {
      "text/plain": [
       "DatetimeIndex(['2020-01-13', '2020-01-16', '2020-01-17', '2020-01-20'], dtype='datetime64[ns]', freq=None)"
      ]
     },
     "execution_count": 89,
     "metadata": {},
     "output_type": "execute_result"
    }
   ],
   "source": [
    "#결측값 보간(interpolate)\n",
    "\"\"\"\n",
    "1)시계열데이터에 대해 선형적으로 비례하는 값\n",
    "이미지 보간 : 그라데이션과 비슷\n",
    "0\n",
    "2\n",
    "4\n",
    "na <- 6 넣어주기\n",
    "8\n",
    "\"\"\"\n",
    "from datetime import datetime\n",
    "#datetime모듈에 있는 datetime 함수\n",
    "dateStr=['01-13-2020','1.16.2020',\n",
    "        '1/17/2020','1/20/2020']\n",
    "dates=pd.to_datetime(dateStr)\n",
    "dates"
   ]
  },
  {
   "cell_type": "code",
   "execution_count": 90,
   "metadata": {},
   "outputs": [
    {
     "data": {
      "text/plain": [
       "2020-01-13     1.0\n",
       "2020-01-16     NaN\n",
       "2020-01-17     NaN\n",
       "2020-01-20    10.0\n",
       "dtype: float64"
      ]
     },
     "execution_count": 90,
     "metadata": {},
     "output_type": "execute_result"
    }
   ],
   "source": [
    "ts=pd.Series([1,np.nan,np.nan,10],index=dates)\n",
    "ts"
   ]
  },
  {
   "cell_type": "code",
   "execution_count": 91,
   "metadata": {},
   "outputs": [
    {
     "data": {
      "text/plain": [
       "2020-01-13     1.0\n",
       "2020-01-16     4.0\n",
       "2020-01-17     7.0\n",
       "2020-01-20    10.0\n",
       "dtype: float64"
      ]
     },
     "execution_count": 91,
     "metadata": {},
     "output_type": "execute_result"
    }
   ],
   "source": [
    "tslr=ts.interpolate()#method='values' default\n",
    "#method=values:선형적으로 비례하게 결측값 보간\n",
    "tslr"
   ]
  },
  {
   "cell_type": "code",
   "execution_count": 93,
   "metadata": {},
   "outputs": [
    {
     "data": {
      "text/plain": [
       "2020-01-13     1.000000\n",
       "2020-01-16     4.857143\n",
       "2020-01-17          NaN\n",
       "2020-01-20    10.000000\n",
       "dtype: float64"
      ]
     },
     "execution_count": 93,
     "metadata": {},
     "output_type": "execute_result"
    }
   ],
   "source": [
    "tsTime=ts.interpolate(method='time',limit=1)\n",
    "tsTime"
   ]
  },
  {
   "cell_type": "code",
   "execution_count": null,
   "metadata": {},
   "outputs": [],
   "source": [
    "#na를 대체 : fillna, replace \n",
    "#fillna : na를 다른 값으로 대체\n",
    "#replace : na 뿐만 아니라 다른 모든 값에 대해서도 대체 가능\n",
    "#결측값/실측값 대상 데이터 교체"
   ]
  },
  {
   "cell_type": "code",
   "execution_count": 113,
   "metadata": {},
   "outputs": [
    {
     "data": {
      "text/plain": [
       "0    10.0\n",
       "1    20.0\n",
       "2    30.0\n",
       "3    10.0\n",
       "4    99.0\n",
       "dtype: float64"
      ]
     },
     "execution_count": 113,
     "metadata": {},
     "output_type": "execute_result"
    }
   ],
   "source": [
    "s=pd.Series([1,2,3,4,np.nan])\n",
    "s\n",
    "#replace : 결측값/실측값 변경\n",
    "s.replace(3,9)\n",
    "s.replace(np.nan,5) #nan -> 5\n",
    "s=pd.Series([1,2,3,1,np.nan])\n",
    "s.replace([1,2,3],[6,7,8])\n",
    "s.replace([1,2,3,np.nan],[10,20,30,99])"
   ]
  },
  {
   "cell_type": "code",
   "execution_count": 115,
   "metadata": {},
   "outputs": [
    {
     "data": {
      "text/plain": [
       "0     5.0\n",
       "1     2.0\n",
       "2    30.0\n",
       "3     5.0\n",
       "4    99.0\n",
       "dtype: float64"
      ]
     },
     "execution_count": 115,
     "metadata": {},
     "output_type": "execute_result"
    }
   ],
   "source": [
    "s\n",
    "s.replace({1:5,3:30,np.nan:99}) #{원래값:변경값}"
   ]
  },
  {
   "cell_type": "code",
   "execution_count": 123,
   "metadata": {},
   "outputs": [
    {
     "data": {
      "text/html": [
       "<div>\n",
       "<style scoped>\n",
       "    .dataframe tbody tr th:only-of-type {\n",
       "        vertical-align: middle;\n",
       "    }\n",
       "\n",
       "    .dataframe tbody tr th {\n",
       "        vertical-align: top;\n",
       "    }\n",
       "\n",
       "    .dataframe thead th {\n",
       "        text-align: right;\n",
       "    }\n",
       "</style>\n",
       "<table border=\"1\" class=\"dataframe\">\n",
       "  <thead>\n",
       "    <tr style=\"text-align: right;\">\n",
       "      <th></th>\n",
       "      <th>c1</th>\n",
       "      <th>c2</th>\n",
       "      <th>c4</th>\n",
       "    </tr>\n",
       "  </thead>\n",
       "  <tbody>\n",
       "    <tr>\n",
       "      <td>0</td>\n",
       "      <td>aaa</td>\n",
       "      <td>1</td>\n",
       "      <td>aaa</td>\n",
       "    </tr>\n",
       "    <tr>\n",
       "      <td>1</td>\n",
       "      <td>b</td>\n",
       "      <td>2</td>\n",
       "      <td>b</td>\n",
       "    </tr>\n",
       "    <tr>\n",
       "      <td>2</td>\n",
       "      <td>c</td>\n",
       "      <td>3</td>\n",
       "      <td>c</td>\n",
       "    </tr>\n",
       "    <tr>\n",
       "      <td>3</td>\n",
       "      <td>d</td>\n",
       "      <td>4</td>\n",
       "      <td>d</td>\n",
       "    </tr>\n",
       "  </tbody>\n",
       "</table>\n",
       "</div>"
      ],
      "text/plain": [
       "    c1  c2   c4\n",
       "0  aaa   1  aaa\n",
       "1    b   2    b\n",
       "2    c   3    c\n",
       "3    d   4    d"
      ]
     },
     "execution_count": 123,
     "metadata": {},
     "output_type": "execute_result"
    }
   ],
   "source": [
    "#데이터프레임에서 replace 적용\n",
    "df=pd.DataFrame({'c1':['aaa','b','c','d'],\n",
    "                       'c2':[1,2,3,4],\n",
    "                       'c4':['aaa','b','c','d']\n",
    "                })\n",
    "df.replace({'c1':'aaa'},{'c1':'bbb'})\n",
    "df.replace({'c3':np.nan},{'c3':99})"
   ]
  },
  {
   "cell_type": "code",
   "execution_count": 124,
   "metadata": {},
   "outputs": [],
   "source": [
    "#병합 : 중복 데이터 발생\n",
    "#중복데이터 여부:duplicated()\n",
    "#중복데이터 처리:drop_duplicates()한개만 남겨놓고 나머지는 제거"
   ]
  },
  {
   "cell_type": "code",
   "execution_count": 125,
   "metadata": {},
   "outputs": [
    {
     "data": {
      "text/html": [
       "<div>\n",
       "<style scoped>\n",
       "    .dataframe tbody tr th:only-of-type {\n",
       "        vertical-align: middle;\n",
       "    }\n",
       "\n",
       "    .dataframe tbody tr th {\n",
       "        vertical-align: top;\n",
       "    }\n",
       "\n",
       "    .dataframe thead th {\n",
       "        text-align: right;\n",
       "    }\n",
       "</style>\n",
       "<table border=\"1\" class=\"dataframe\">\n",
       "  <thead>\n",
       "    <tr style=\"text-align: right;\">\n",
       "      <th></th>\n",
       "      <th>k1</th>\n",
       "      <th>k2</th>\n",
       "      <th>cool</th>\n",
       "    </tr>\n",
       "  </thead>\n",
       "  <tbody>\n",
       "    <tr>\n",
       "      <td>0</td>\n",
       "      <td>a</td>\n",
       "      <td>x</td>\n",
       "      <td>10</td>\n",
       "    </tr>\n",
       "    <tr>\n",
       "      <td>1</td>\n",
       "      <td>b</td>\n",
       "      <td>y</td>\n",
       "      <td>20</td>\n",
       "    </tr>\n",
       "    <tr>\n",
       "      <td>2</td>\n",
       "      <td>b</td>\n",
       "      <td>y</td>\n",
       "      <td>30</td>\n",
       "    </tr>\n",
       "    <tr>\n",
       "      <td>3</td>\n",
       "      <td>c</td>\n",
       "      <td>x</td>\n",
       "      <td>40</td>\n",
       "    </tr>\n",
       "    <tr>\n",
       "      <td>4</td>\n",
       "      <td>c</td>\n",
       "      <td>z</td>\n",
       "      <td>50</td>\n",
       "    </tr>\n",
       "  </tbody>\n",
       "</table>\n",
       "</div>"
      ],
      "text/plain": [
       "  k1 k2  cool\n",
       "0  a  x    10\n",
       "1  b  y    20\n",
       "2  b  y    30\n",
       "3  c  x    40\n",
       "4  c  z    50"
      ]
     },
     "execution_count": 125,
     "metadata": {},
     "output_type": "execute_result"
    }
   ],
   "source": [
    "df=pd.DataFrame({\n",
    "    'k1':['a','b','b','c','c'],\n",
    "    'k2':['x','y','y','x','z'],\n",
    "    'cool':[10,20,30,40,50]\n",
    "})\n",
    "df"
   ]
  },
  {
   "cell_type": "code",
   "execution_count": 135,
   "metadata": {},
   "outputs": [
    {
     "data": {
      "text/plain": [
       "0    False\n",
       "1     True\n",
       "2     True\n",
       "3     True\n",
       "4     True\n",
       "dtype: bool"
      ]
     },
     "execution_count": 135,
     "metadata": {},
     "output_type": "execute_result"
    }
   ],
   "source": [
    "df.duplicated(['k1'])\n",
    "df.duplicated(['k2'])\n",
    "df.duplicated(['k1','k2'])\n",
    "df.duplicated(['k1'],keep='first')#keep='first' 디폴트\n",
    "df.duplicated(['k1'],keep='last')\n",
    "df.duplicated(['k1'],keep=False)#중복은 모두 True"
   ]
  },
  {
   "cell_type": "code",
   "execution_count": 143,
   "metadata": {},
   "outputs": [
    {
     "data": {
      "text/html": [
       "<div>\n",
       "<style scoped>\n",
       "    .dataframe tbody tr th:only-of-type {\n",
       "        vertical-align: middle;\n",
       "    }\n",
       "\n",
       "    .dataframe tbody tr th {\n",
       "        vertical-align: top;\n",
       "    }\n",
       "\n",
       "    .dataframe thead th {\n",
       "        text-align: right;\n",
       "    }\n",
       "</style>\n",
       "<table border=\"1\" class=\"dataframe\">\n",
       "  <thead>\n",
       "    <tr style=\"text-align: right;\">\n",
       "      <th></th>\n",
       "      <th>k1</th>\n",
       "      <th>k2</th>\n",
       "      <th>cool</th>\n",
       "    </tr>\n",
       "  </thead>\n",
       "  <tbody>\n",
       "    <tr>\n",
       "      <td>0</td>\n",
       "      <td>a</td>\n",
       "      <td>x</td>\n",
       "      <td>10</td>\n",
       "    </tr>\n",
       "  </tbody>\n",
       "</table>\n",
       "</div>"
      ],
      "text/plain": [
       "  k1 k2  cool\n",
       "0  a  x    10"
      ]
     },
     "execution_count": 143,
     "metadata": {},
     "output_type": "execute_result"
    }
   ],
   "source": [
    "#중복값 제거(1개만 살리고 나머지 중복은 제거)\n",
    "df\n",
    "df.drop_duplicates(['k1'],keep='first')\n",
    "df.drop_duplicates(['k1'],keep='last')\n",
    "df.drop_duplicates(['k1'],keep=False)"
   ]
  },
  {
   "cell_type": "code",
   "execution_count": 144,
   "metadata": {},
   "outputs": [],
   "source": [
    "# 유일한값 : unique()\n",
    "# 유일한값 개수 세기 : values_counts()"
   ]
  },
  {
   "cell_type": "code",
   "execution_count": 149,
   "metadata": {},
   "outputs": [
    {
     "data": {
      "text/plain": [
       "array(['b1', 'b2', nan], dtype=object)"
      ]
     },
     "execution_count": 149,
     "metadata": {},
     "output_type": "execute_result"
    }
   ],
   "source": [
    "df=pd.DataFrame({\n",
    "    'a':['a1','a1','a2','a2','a3'],\n",
    "    'b':['b1','b1','b2','b2',np.nan],\n",
    "    'c':[1,1,3,4,4]\n",
    "})\n",
    "df['b'].unique()\n",
    "# help(pd.Series.unique)"
   ]
  },
  {
   "cell_type": "code",
   "execution_count": 161,
   "metadata": {},
   "outputs": [
    {
     "data": {
      "text/plain": [
       "a3    1\n",
       "a1    2\n",
       "a2    2\n",
       "Name: a, dtype: int64"
      ]
     },
     "execution_count": 161,
     "metadata": {},
     "output_type": "execute_result"
    }
   ],
   "source": [
    "#유일값 개수 세기\n",
    "# help(pd.Series.value_counts)\n",
    "#normalize=디폴트(False):개수, True:상대비율\n",
    "df['a'].value_counts(normalize=True)\n",
    "#sort=True:개수 기준 정렬\n",
    "df['a'].value_counts(normalize=False,\n",
    "                     sort=True,\n",
    "                     ascending=True)#개수기준 오름 차순 False 내림차순\n",
    "\n"
   ]
  },
  {
   "cell_type": "code",
   "execution_count": 168,
   "metadata": {},
   "outputs": [
    {
     "data": {
      "text/plain": [
       "1    2\n",
       "3    1\n",
       "4    2\n",
       "Name: c, dtype: int64"
      ]
     },
     "execution_count": 168,
     "metadata": {},
     "output_type": "execute_result"
    }
   ],
   "source": [
    "df['c'].value_counts(sort=True,ascending=False)\n",
    "#default:sort=True, ascending=False\n",
    "#유일한 값의 개수를 기준으로 내림차순\n",
    "df['c'].value_counts(sort=True,ascending=True)\n",
    "#유일한 값의 개수를 기준으로 오름차순\n",
    "df['c'].value_counts(sort=False)\n",
    "#정렬 기준이 없음"
   ]
  },
  {
   "cell_type": "code",
   "execution_count": 169,
   "metadata": {},
   "outputs": [
    {
     "data": {
      "text/html": [
       "<div>\n",
       "<style scoped>\n",
       "    .dataframe tbody tr th:only-of-type {\n",
       "        vertical-align: middle;\n",
       "    }\n",
       "\n",
       "    .dataframe tbody tr th {\n",
       "        vertical-align: top;\n",
       "    }\n",
       "\n",
       "    .dataframe thead th {\n",
       "        text-align: right;\n",
       "    }\n",
       "</style>\n",
       "<table border=\"1\" class=\"dataframe\">\n",
       "  <thead>\n",
       "    <tr style=\"text-align: right;\">\n",
       "      <th></th>\n",
       "      <th>a</th>\n",
       "      <th>b</th>\n",
       "      <th>c</th>\n",
       "    </tr>\n",
       "  </thead>\n",
       "  <tbody>\n",
       "    <tr>\n",
       "      <td>0</td>\n",
       "      <td>a1</td>\n",
       "      <td>b1</td>\n",
       "      <td>1</td>\n",
       "    </tr>\n",
       "    <tr>\n",
       "      <td>1</td>\n",
       "      <td>a1</td>\n",
       "      <td>b1</td>\n",
       "      <td>1</td>\n",
       "    </tr>\n",
       "    <tr>\n",
       "      <td>2</td>\n",
       "      <td>a2</td>\n",
       "      <td>b2</td>\n",
       "      <td>3</td>\n",
       "    </tr>\n",
       "    <tr>\n",
       "      <td>3</td>\n",
       "      <td>a2</td>\n",
       "      <td>b2</td>\n",
       "      <td>4</td>\n",
       "    </tr>\n",
       "    <tr>\n",
       "      <td>4</td>\n",
       "      <td>a3</td>\n",
       "      <td>NaN</td>\n",
       "      <td>4</td>\n",
       "    </tr>\n",
       "  </tbody>\n",
       "</table>\n",
       "</div>"
      ],
      "text/plain": [
       "    a    b  c\n",
       "0  a1   b1  1\n",
       "1  a1   b1  1\n",
       "2  a2   b2  3\n",
       "3  a2   b2  4\n",
       "4  a3  NaN  4"
      ]
     },
     "execution_count": 169,
     "metadata": {},
     "output_type": "execute_result"
    }
   ],
   "source": [
    "df"
   ]
  },
  {
   "cell_type": "code",
   "execution_count": 178,
   "metadata": {},
   "outputs": [
    {
     "data": {
      "text/plain": [
       "(3, 4]    2\n",
       "(0, 1]    2\n",
       "(2, 3]    1\n",
       "(4, 5]    0\n",
       "(1, 2]    0\n",
       "Name: c, dtype: int64"
      ]
     },
     "execution_count": 178,
     "metadata": {},
     "output_type": "execute_result"
    }
   ],
   "source": [
    "df['b'].value_counts()\n",
    "#default : dropna=True (na는 제외된 체로 계산)\n",
    "df['b'].value_counts(dropna=False)\n",
    "df['c']#1 1 3 4 4\n",
    "#group별 데이터 개수 세기\n",
    "df['c'].value_counts(bins=[0,1,2,3,4,5],sort=False)\n",
    "#():개구간, []:폐구간\n",
    "# res=pd.cut(df['c'],bins=[0,1,2,3,4,5])\n",
    "# pd.value_counts(res)"
   ]
  },
  {
   "cell_type": "code",
   "execution_count": 179,
   "metadata": {},
   "outputs": [
    {
     "data": {
      "text/plain": [
       "'\\n모수적방법\\n중심극한정리 : 무작위로 복원추출하면, 연속형 자료의 평균에 대한 분포는 정규분포를 띈다면\\n-30개 이상의 표본의 경우에 정규분포를 따른다.\\n\\n비모수적방법\\n-10개 미만의 표본의 경우네는 모수적 방법을 시작하여\\n-자료를 크기로 나열->순위에\\n'"
      ]
     },
     "execution_count": 179,
     "metadata": {},
     "output_type": "execute_result"
    }
   ],
   "source": [
    "#변수들 간 척도가 다른 경우 데이터 표준화\n",
    "#모집단 : 전체 집단, \n",
    "#모집단에서 표본 추출 -> 표본집단 평균, 표준편차...\n",
    "#->통계량=>모평균, 모분산(모수, parameter) 추정\n",
    "\"\"\"\n",
    "모수적방법\n",
    "중심극한정리 : 무작위로 복원추출하면, 연속형 자료의 평균에 대한 분포는\n",
    "정규분포를 띈다면\n",
    "-30개 이상의 표본의 경우에 정규분포를 따른다. 가정\n",
    "\n",
    "비모수적방법\n",
    "-10개 미만의 표본의 경우에는 모수적 방법을 사용 못함\n",
    "-자료를 크기로 나열->순위 매김 => 차이 비교\n",
    "\n",
    "표준화 : (각데이터-평균) / 표준편차\n",
    "모집단이 정규분포를 따르는 경우에,\n",
    "평균:0, 표준편차:1인 표준정규분포로 표준화하는 작업\n",
    "1)numpy 2) scipy.stats:zscore\n",
    "3)sklearn.preprocessing\n",
    "\"\"\""
   ]
  },
  {
   "cell_type": "code",
   "execution_count": null,
   "metadata": {},
   "outputs": [],
   "source": [
    "#표준화;(각데이터-평균)"
   ]
  },
  {
   "cell_type": "code",
   "execution_count": 205,
   "metadata": {},
   "outputs": [
    {
     "data": {
      "text/plain": [
       "array([[20, 26,  2,  0,  8],\n",
       "       [18,  4, 15, 10,  9],\n",
       "       [ 8, 27, 28,  1, 11],\n",
       "       [22,  5,  5, 28,  2],\n",
       "       [ 2,  3,  8,  1, 11],\n",
       "       [20, 21, 21, 19, 25]])"
      ]
     },
     "execution_count": 205,
     "metadata": {},
     "output_type": "execute_result"
    }
   ],
   "source": [
    "from numpy import*\n",
    "data=np.random.randint(30, size=(6,5))\n",
    "data"
   ]
  },
  {
   "cell_type": "code",
   "execution_count": 209,
   "metadata": {},
   "outputs": [
    {
     "name": "stdout",
     "output_type": "stream",
     "text": [
      "[[20 26  2  0  8]\n",
      " [18  4 15 10  9]\n",
      " [ 8 27 28  1 11]\n",
      " [22  5  5 28  2]\n",
      " [ 2  3  8  1 11]\n",
      " [20 21 21 19 25]]\n",
      "==============================\n",
      "[15.         14.33333333 13.16666667  9.83333333 11.        ]\n",
      "==============================\n",
      "[[  5.          11.66666667 -11.16666667  -9.83333333  -3.        ]\n",
      " [  3.         -10.33333333   1.83333333   0.16666667  -2.        ]\n",
      " [ -7.          12.66666667  14.83333333  -8.83333333   0.        ]\n",
      " [  7.          -9.33333333  -8.16666667  18.16666667  -9.        ]\n",
      " [-13.         -11.33333333  -5.16666667  -8.83333333   0.        ]\n",
      " [  5.           6.66666667   7.83333333   9.16666667  14.        ]]\n",
      "[[ 0.67832345  1.10957459 -1.21979584 -0.93275532 -0.43151697]\n",
      " [ 0.40699407 -0.98276607  0.20026499  0.01580941 -0.28767798]\n",
      " [-0.94965283  1.20468099  1.62032582 -0.83789885  0.        ]\n",
      " [ 0.94965283 -0.88765967 -0.89208949  1.72322594 -1.29455091]\n",
      " [-1.76364096 -1.07787246 -0.56438315 -0.83789885  0.        ]\n",
      " [ 0.67832345  0.63404262  0.85567768  0.86951767  2.01374587]]\n",
      "[ 3.70074342e-17 -5.55111512e-17  7.40148683e-17 -5.55111512e-17\n",
      "  0.00000000e+00]\n",
      "[1. 1. 1. 1. 1.]\n"
     ]
    }
   ],
   "source": [
    "data_std=np.std(data,axis=0)\n",
    "#표준편차 : np.std()\n",
    "data_std\n",
    "#np.mean(data, axis=0)#각 열 평균\n",
    "#np.mean(data, axis=1)#각 행 평균\n",
    "print(data)\n",
    "print(\"=\"*30)\n",
    "print(np.mean(data, axis=0))\n",
    "print(\"=\"*30)\n",
    "print(data-np.mean(data,axis=0))\n",
    "#np.std(data)전체 data에 대한 표준편차\n",
    "#표준화=(각 데이터 - 평큔(각 열))/std(각 열)\n",
    "np.std(data,axis=0)#각 열에 대한 표준편차\n",
    "std_data=((data-np.mean(data,axis=0))/np.std(data,axis=0))\n",
    "print(std_data)\n",
    "print(np.mean(std_data,axis=0))\n",
    "print(np.std(std_data, axis=0))"
   ]
  },
  {
   "cell_type": "code",
   "execution_count": 210,
   "metadata": {},
   "outputs": [],
   "source": [
    "import scipy.stats as ss"
   ]
  },
  {
   "cell_type": "code",
   "execution_count": 211,
   "metadata": {},
   "outputs": [
    {
     "data": {
      "text/plain": [
       "array([[ 0.67832345,  1.10957459, -1.21979584, -0.93275532, -0.43151697],\n",
       "       [ 0.40699407, -0.98276607,  0.20026499,  0.01580941, -0.28767798],\n",
       "       [-0.94965283,  1.20468099,  1.62032582, -0.83789885,  0.        ],\n",
       "       [ 0.94965283, -0.88765967, -0.89208949,  1.72322594, -1.29455091],\n",
       "       [-1.76364096, -1.07787246, -0.56438315, -0.83789885,  0.        ],\n",
       "       [ 0.67832345,  0.63404262,  0.85567768,  0.86951767,  2.01374587]])"
      ]
     },
     "execution_count": 211,
     "metadata": {},
     "output_type": "execute_result"
    }
   ],
   "source": [
    "data_ss=ss.zscore(data)\n",
    "data_ss"
   ]
  },
  {
   "cell_type": "code",
   "execution_count": 212,
   "metadata": {},
   "outputs": [],
   "source": [
    "from sklearn.preprocessing import*"
   ]
  },
  {
   "cell_type": "code",
   "execution_count": 214,
   "metadata": {},
   "outputs": [
    {
     "data": {
      "text/plain": [
       "array([[ 0.67832345,  1.10957459, -1.21979584, -0.93275532, -0.43151697],\n",
       "       [ 0.40699407, -0.98276607,  0.20026499,  0.01580941, -0.28767798],\n",
       "       [-0.94965283,  1.20468099,  1.62032582, -0.83789885,  0.        ],\n",
       "       [ 0.94965283, -0.88765967, -0.89208949,  1.72322594, -1.29455091],\n",
       "       [-1.76364096, -1.07787246, -0.56438315, -0.83789885,  0.        ],\n",
       "       [ 0.67832345,  0.63404262,  0.85567768,  0.86951767,  2.01374587]])"
      ]
     },
     "execution_count": 214,
     "metadata": {},
     "output_type": "execute_result"
    }
   ],
   "source": [
    "ss_data=StandardScaler().fit_transform(data)\n",
    "ss_data"
   ]
  },
  {
   "cell_type": "code",
   "execution_count": null,
   "metadata": {},
   "outputs": [],
   "source": [
    "#예외적인 값(이상치, 특이값, outlier)이 들어있는 데이터 표준화\n",
    "#표준정규분포로의 표준화:이상치, 특이값(값이 크게 벗어나는)이 \n",
    "#없어야 한다는 전제 가정\n",
    "# z = (x - mean) / std\n",
    "\n",
    "#이상치가 데이터에 포함되어 있는 경우에는\n",
    "#표준화를 어떻게?\n",
    "#1)이상치, 특이값을 찾아서 제거\n",
    "#2) 표준화 식에서 평균값과 표준편차 값이 이상치에 영향을 많이 받으므로\n",
    "#이들 대신에 중앙값(median), IQR(3사분위수-1사분위수)을 이용하여 스케일링\n"
   ]
  },
  {
   "cell_type": "code",
   "execution_count": null,
   "metadata": {},
   "outputs": [],
   "source": [
    "#RobustScaler():이상치가 있는 데이터 표준화"
   ]
  },
  {
   "cell_type": "code",
   "execution_count": 216,
   "metadata": {},
   "outputs": [],
   "source": [
    "from sklearn.preprocessing import StandardScaler, RobustScaler\n",
    "import matplotlib.pyplot as plt"
   ]
  },
  {
   "cell_type": "code",
   "execution_count": 219,
   "metadata": {},
   "outputs": [],
   "source": [
    "mu, sigma=5,2"
   ]
  },
  {
   "cell_type": "code",
   "execution_count": 220,
   "metadata": {},
   "outputs": [
    {
     "data": {
      "text/plain": [
       "array([ 8.43650131,  7.12180995,  7.17494253,  1.57905289,  3.2823568 ,\n",
       "       10.70170605, 10.61219871,  5.79872049,  3.6060293 ,  4.01384166,\n",
       "        6.52654602,  2.50941596,  6.03971567,  4.8238445 ,  4.8786036 ,\n",
       "        1.98261169,  5.54467056,  4.73231864,  3.81128652,  4.65978841,\n",
       "        7.94392712,  5.34584887,  7.65948052,  6.00345912,  6.40759213,\n",
       "        4.59919803,  4.65660759,  7.12264292,  4.68034899,  4.51715311,\n",
       "        4.29972226,  8.75254962,  9.10649051,  3.21067473,  9.28315922,\n",
       "        4.30932259,  5.50719641,  7.07424056,  3.07752517,  5.65872256,\n",
       "        2.91346097,  2.71167224,  5.85549753,  2.71710742,  3.24898726,\n",
       "        6.46819668,  7.00280007,  7.5982099 ,  4.75339377,  7.47976933,\n",
       "        7.02501495,  7.28676291,  3.03513944,  8.15049326,  4.02248744,\n",
       "        5.18822179,  3.16429102,  6.87863463,  3.81507145,  4.17808845,\n",
       "        5.39324275,  5.22191329,  6.92487881,  5.40258599,  0.53908083,\n",
       "        8.23624074,  3.91150258,  3.11353101,  7.69817984,  2.69349295,\n",
       "        6.74337444,  3.65970268,  3.17526327,  3.07194315,  6.6080239 ,\n",
       "        3.04692464,  1.74800249,  1.50180535,  3.0451049 ,  4.38558392,\n",
       "        3.15601289, 10.91954304,  1.67258959,  4.50959831,  4.65494881,\n",
       "        5.2837294 ,  8.44439054,  3.19763795,  6.19857214,  4.42012534,\n",
       "        5.85702851,  0.47120605,  2.80967197,  3.66236758,  3.1319209 ,\n",
       "        4.74765787,  7.5729444 ,  7.51956146,  7.07331348,  0.94162425])"
      ]
     },
     "execution_count": 220,
     "metadata": {},
     "output_type": "execute_result"
    }
   ],
   "source": [
    "x=mu+sigma*np.random.randn(100)\n",
    "x"
   ]
  },
  {
   "cell_type": "code",
   "execution_count": 224,
   "metadata": {},
   "outputs": [
    {
     "data": {
      "text/plain": [
       "2.254378507933812"
      ]
     },
     "execution_count": 224,
     "metadata": {},
     "output_type": "execute_result"
    },
    {
     "data": {
      "image/png": "[encoded data removed]",
      "text/plain": [
       "<Figure size 432x288 with 1 Axes>"
      ]
     },
     "metadata": {
      "needs_background": "light"
     },
     "output_type": "display_data"
    }
   ],
   "source": [
    "plt.hist(x)\n",
    "np.mean(x)\n",
    "np.std(x)"
   ]
  },
  {
   "cell_type": "code",
   "execution_count": 225,
   "metadata": {},
   "outputs": [
    {
     "data": {
      "text/plain": [
       "array([  8.43650131,   7.12180995,   7.17494253,   1.57905289,\n",
       "         3.2823568 ,  10.70170605,  10.61219871,   5.79872049,\n",
       "         3.6060293 ,   4.01384166,   6.52654602,   2.50941596,\n",
       "         6.03971567,   4.8238445 ,   4.8786036 ,   1.98261169,\n",
       "         5.54467056,   4.73231864,   3.81128652,   4.65978841,\n",
       "         7.94392712,   5.34584887,   7.65948052,   6.00345912,\n",
       "         6.40759213,   4.59919803,   4.65660759,   7.12264292,\n",
       "         4.68034899,   4.51715311,   4.29972226,   8.75254962,\n",
       "         9.10649051,   3.21067473,   9.28315922,   4.30932259,\n",
       "         5.50719641,   7.07424056,   3.07752517,   5.65872256,\n",
       "         2.91346097,   2.71167224,   5.85549753,   2.71710742,\n",
       "         3.24898726,   6.46819668,   7.00280007,   7.5982099 ,\n",
       "         4.75339377,   7.47976933,   7.02501495,   7.28676291,\n",
       "         3.03513944,   8.15049326,   4.02248744,   5.18822179,\n",
       "         3.16429102,   6.87863463,   3.81507145,   4.17808845,\n",
       "         5.39324275,   5.22191329,   6.92487881,   5.40258599,\n",
       "         0.53908083,   8.23624074,   3.91150258,   3.11353101,\n",
       "         7.69817984,   2.69349295,   6.74337444,   3.65970268,\n",
       "         3.17526327,   3.07194315,   6.6080239 ,   3.04692464,\n",
       "         1.74800249,   1.50180535,   3.0451049 ,   4.38558392,\n",
       "         3.15601289,  10.91954304,   1.67258959,   4.50959831,\n",
       "         4.65494881,   5.2837294 ,   8.44439054,   3.19763795,\n",
       "         6.19857214,   4.42012534,   5.85702851,   0.47120605,\n",
       "         2.80967197,   3.66236758,   3.1319209 ,   4.74765787,\n",
       "         7.5729444 ,   7.51956146, 100.        , 100.        ])"
      ]
     },
     "execution_count": 225,
     "metadata": {},
     "output_type": "execute_result"
    }
   ],
   "source": [
    "x[98:100]=100\n",
    "x"
   ]
  },
  {
   "cell_type": "code",
   "execution_count": 230,
   "metadata": {},
   "outputs": [
    {
     "data": {
      "text/plain": [
       "(array([ 7., 26., 31., 24.,  7.,  3.,  0.,  0.,  0.,  0.,  0.,  0.,  0.,\n",
       "         0.,  0.,  0.,  0.,  0.,  0.,  0.,  0.,  0.,  0.,  0.,  0.,  0.,\n",
       "         0.,  0.,  0.,  0.,  0.,  0.,  0.,  0.,  0.,  0.,  0.,  0.,  0.,\n",
       "         0.,  0.,  0.,  0.,  0.,  0.,  0.,  0.,  0.,  0.,  2.]),\n",
       " array([  0,   2,   4,   6,   8,  10,  12,  14,  16,  18,  20,  22,  24,\n",
       "         26,  28,  30,  32,  34,  36,  38,  40,  42,  44,  46,  48,  50,\n",
       "         52,  54,  56,  58,  60,  62,  64,  66,  68,  70,  72,  74,  76,\n",
       "         78,  80,  82,  84,  86,  88,  90,  92,  94,  96,  98, 100]),\n",
       " <a list of 50 Patch objects>)"
      ]
     },
     "execution_count": 230,
     "metadata": {},
     "output_type": "execute_result"
    },
    {
     "data": {
      "image/png": "[encoded data removed]",
      "text/plain": [
       "<Figure size 432x288 with 1 Axes>"
      ]
     },
     "metadata": {
      "needs_background": "light"
     },
     "output_type": "display_data"
    }
   ],
   "source": [
    "np.mean(x)\n",
    "np.std(x)\n",
    "plt.hist(x)\n",
    "plt.hist(x,bins=np.arange(0,102,2))"
   ]
  },
  {
   "cell_type": "code",
   "execution_count": 244,
   "metadata": {},
   "outputs": [
    {
     "data": {
      "text/plain": [
       "(array([95.,  3.,  0.,  0.,  0.,  0.,  0.,  0.,  0.,  2.]),\n",
       " array([-0.4886594 ,  0.25073819,  0.99013578,  1.72953337,  2.46893096,\n",
       "         3.20832855,  3.94772614,  4.68712373,  5.42652132,  6.16591891,\n",
       "         6.9053165 ]),\n",
       " <a list of 10 Patch objects>)"
      ]
     },
     "execution_count": 244,
     "metadata": {},
     "output_type": "execute_result"
    },
    {
     "data": {
      "image/png": "[encoded data removed]",
      "text/plain": [
       "<Figure size 432x288 with 1 Axes>"
      ]
     },
     "metadata": {
      "needs_background": "light"
     },
     "output_type": "display_data"
    }
   ],
   "source": [
    "x=x.reshape(-1,1) #(100,) -> (100,1)\n",
    "#reshape(-1,1) 앞에 -1은 뒤에 숫자에 맞추어 데이터 알아서 계산\n",
    "x.shape\n",
    "ss_x=StandardScaler().fit_transform(x)\n",
    "np.mean(ss_x)\n",
    "np.std(ss_x)\n",
    "plt.hist(ss_x)"
   ]
  },
  {
   "cell_type": "code",
   "execution_count": 247,
   "metadata": {},
   "outputs": [
    {
     "data": {
      "text/plain": [
       "(array([ 0.,  0.,  0.,  0.,  0.,  4.,  9., 25., 23., 15., 14.,  5.,  3.,\n",
       "         0.,  0.,  0.,  0.,  0.,  0.]),\n",
       " array([-1.00000000e+00, -9.00000000e-01, -8.00000000e-01, -7.00000000e-01,\n",
       "        -6.00000000e-01, -5.00000000e-01, -4.00000000e-01, -3.00000000e-01,\n",
       "        -2.00000000e-01, -1.00000000e-01, -2.22044605e-16,  1.00000000e-01,\n",
       "         2.00000000e-01,  3.00000000e-01,  4.00000000e-01,  5.00000000e-01,\n",
       "         6.00000000e-01,  7.00000000e-01,  8.00000000e-01,  9.00000000e-01]),\n",
       " <a list of 19 Patch objects>)"
      ]
     },
     "execution_count": 247,
     "metadata": {},
     "output_type": "execute_result"
    },
    {
     "data": {
      "image/png": "[encoded data removed]",
      "text/plain": [
       "<Figure size 432x288 with 1 Axes>"
      ]
     },
     "metadata": {
      "needs_background": "light"
     },
     "output_type": "display_data"
    }
   ],
   "source": [
    "ss_x_z=ss_x[ss_x<5]#이상치 제거\n",
    "plt.hist(ss_x_z,bins=np.arange(-1,1,0.1))"
   ]
  },
  {
   "cell_type": "code",
   "execution_count": 256,
   "metadata": {},
   "outputs": [
    {
     "data": {
      "text/plain": [
       "3.7689446690808714"
      ]
     },
     "execution_count": 256,
     "metadata": {},
     "output_type": "execute_result"
    }
   ],
   "source": [
    "#이상치 포함 데이터의 중앙값, IQR을 이용->표준화\n",
    "np.median(x)\n",
    "x\n",
    "q1=np.percentile(x,25)#1사분위수 3.239\n",
    "q3=np.percentile(x,75)#3사분위수 7.008\n",
    "iqr=q3-q1# 3.7689\n",
    "iqr"
   ]
  },
  {
   "cell_type": "code",
   "execution_count": 266,
   "metadata": {},
   "outputs": [
    {
     "data": {
      "text/plain": [
       "(array([ 0.,  4.,  1.,  1.,  4., 14.,  2.,  7.,  4., 11.,  2.,  7.,  5.,\n",
       "         3.,  4.,  5.,  5.,  6.,  2.]),\n",
       " array([-1.00000000e+00, -9.00000000e-01, -8.00000000e-01, -7.00000000e-01,\n",
       "        -6.00000000e-01, -5.00000000e-01, -4.00000000e-01, -3.00000000e-01,\n",
       "        -2.00000000e-01, -1.00000000e-01, -2.22044605e-16,  1.00000000e-01,\n",
       "         2.00000000e-01,  3.00000000e-01,  4.00000000e-01,  5.00000000e-01,\n",
       "         6.00000000e-01,  7.00000000e-01,  8.00000000e-01,  9.00000000e-01]),\n",
       " <a list of 19 Patch objects>)"
      ]
     },
     "execution_count": 266,
     "metadata": {},
     "output_type": "execute_result"
    },
    {
     "data": {
      "image/png": "[encoded data removed]",
      "text/plain": [
       "<Figure size 432x288 with 1 Axes>"
      ]
     },
     "metadata": {
      "needs_background": "light"
     },
     "output_type": "display_data"
    }
   ],
   "source": [
    "x_rs=RobustScaler().fit_transform(x)\n",
    "x_rs\n",
    "np.median(x_rs)#0\n",
    "np.mean(x_rs)#0.59\n",
    "np.std(x_rs)#4.71\n",
    "# plt.hist(x_rs)\n",
    "x_rs_z=x_rs[x_rs<10]\n",
    "plt.hist(x_rs_z,bins=np.arange(-1,1,0.1))"
   ]
  },
  {
   "cell_type": "code",
   "execution_count": 269,
   "metadata": {},
   "outputs": [
    {
     "data": {
      "text/plain": [
       "array([[10, 20, 30, 40],\n",
       "       [50, 60, 70, 80]])"
      ]
     },
     "execution_count": 269,
     "metadata": {},
     "output_type": "execute_result"
    }
   ],
   "source": [
    "#문제1\n",
    "import numpy as np\n",
    "arr=np.array([[10, 20, 30, 40],\n",
    "            [50, 60, 70, 80]])\n",
    "arr"
   ]
  },
  {
   "cell_type": "code",
   "execution_count": 279,
   "metadata": {},
   "outputs": [
    {
     "name": "stdout",
     "output_type": "stream",
     "text": [
      "7\n",
      "14\n",
      "[6 7]\n",
      "[ 7 12]\n",
      "[[3 4]\n",
      " [8 9]]\n"
     ]
    }
   ],
   "source": [
    "#문제2\n",
    "import numpy as np\n",
    "m = np.array([[ 0,  1,  2,  3,  4],\n",
    "              [ 5,  6,  7,  8,  9],\n",
    "              [10, 11, 12, 13, 14]])\n",
    "print(m[1,2])\n",
    "print(m[-1,-1])\n",
    "print(m[1,1:3])\n",
    "print(m[1:3,2])\n",
    "print(m[0:2,3:5])"
   ]
  },
  {
   "cell_type": "code",
   "execution_count": 287,
   "metadata": {},
   "outputs": [
    {
     "name": "stdout",
     "output_type": "stream",
     "text": [
      "3 6 9 12 15 18 \n",
      "1 5 9 13 17 \n",
      "9 "
     ]
    }
   ],
   "source": [
    "#문제3\n",
    "import numpy as np\n",
    "x = np.array([1, 2, 3, 4, 5, 6, 7, 8, 9, 10,\n",
    "              11, 12, 13, 14, 15, 16, 17, 18, 19, 20])\n",
    "for i in range(0,len(x)):\n",
    "    if x[i]%3==0:\n",
    "        print(x[i],end=\" \")\n",
    "print()\n",
    "for i in range(0,len(x)):\n",
    "    if x[i]%4==1:\n",
    "        print(x[i],end=\" \")\n",
    "print()\n",
    "for i in range(0,len(x)):\n",
    "    if x[i]%3==0 and x[i]%4==1:\n",
    "        print(x[i],end=\" \")"
   ]
  },
  {
   "cell_type": "code",
   "execution_count": 326,
   "metadata": {
    "scrolled": false
   },
   "outputs": [
    {
     "name": "stdout",
     "output_type": "stream",
     "text": [
      "[[-0.5924806   0.43279337 -0.47367361 -0.50244517]\n",
      " [ 0.63878901  0.43279337 -0.47367361  0.78684529]\n",
      " [-0.2846632  -0.4745452  -0.47367361 -0.48885426]\n",
      " ...\n",
      " [ 0.          0.43279337  2.00893337 -0.17626324]\n",
      " [-0.2846632  -0.4745452  -0.47367361 -0.04438104]\n",
      " [ 0.17706291 -0.4745452  -0.47367361 -0.49237783]]\n"
     ]
    },
    {
     "data": {
      "text/plain": [
       "([array([ 83., 522., 188.,  83.,  14.,   1.,   0.,   0.,   0.,   0.]),\n",
       "  array([  0., 608., 209.,  44.,  18.,   5.,   0.,   7.,   0.,   0.]),\n",
       "  array([  0., 678., 118.,  80.,   5.,   4.,   5.,   1.,   0.,   0.]),\n",
       "  array([  0., 702., 136.,  31.,   6.,  13.,   0.,   0.,   0.,   3.])],\n",
       " array([-2.25315549, -1.06112329,  0.13090891,  1.32294112,  2.51497332,\n",
       "         3.70700552,  4.89903772,  6.09106992,  7.28310212,  8.47513432,\n",
       "         9.66716653]),\n",
       " <a list of 4 Lists of Patches objects>)"
      ]
     },
     "execution_count": 326,
     "metadata": {},
     "output_type": "execute_result"
    },
    {
     "data": {
      "image/png": "[encoded data removed]",
      "text/plain": [
       "<Figure size 432x288 with 1 Axes>"
      ]
     },
     "metadata": {
      "needs_background": "light"
     },
     "output_type": "display_data"
    }
   ],
   "source": [
    "#문제4\n",
    "import numpy as np\n",
    "import pandas as pd\n",
    "from sklearn.preprocessing import*\n",
    "import matplotlib.pyplot as plt\n",
    "df=pd.read_csv(\"train.csv\")\n",
    "df2=df.loc[:,[\"Age\",\"SibSp\",\"Parch\",\"Fare\"]]\n",
    "df2\n",
    "df2=df2.fillna(df2.mean()['Age'])\n",
    "df2=df2.fillna(df2.max()['SibSp'])\n",
    "df2=df2.fillna(df2.min()['Parch'])\n",
    "df2=df2.fillna(df2.mean()['Fare'])\n",
    "df_data=StandardScaler().fit_transform(df2.loc[:,[\"Age\",\"SibSp\",\"Parch\",\"Fare\"]])\n",
    "print(df_data)\n",
    "plt.hist(df_data)\n"
   ]
  },
  {
   "cell_type": "code",
   "execution_count": null,
   "metadata": {},
   "outputs": [],
   "source": []
  },
  {
   "cell_type": "code",
   "execution_count": null,
   "metadata": {},
   "outputs": [],
   "source": []
  }
 ],
 "metadata": {
  "kernelspec": {
   "display_name": "Python 3",
   "language": "python",
   "name": "python3"
  },
  "language_info": {
   "codemirror_mode": {
    "name": "ipython",
    "version": 3
   },
   "file_extension": ".py",
   "mimetype": "text/x-python",
   "name": "python",
   "nbconvert_exporter": "python",
   "pygments_lexer": "ipython3",
   "version": "3.7.4"
  }
 },
 "nbformat": 4,
 "nbformat_minor": 2
}
