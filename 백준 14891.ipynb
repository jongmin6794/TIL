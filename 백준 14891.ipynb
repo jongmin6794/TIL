{
 "cells": [
  {
   "cell_type": "code",
   "execution_count": 30,
   "metadata": {},
   "outputs": [
    {
     "name": "stdout",
     "output_type": "stream",
     "text": [
      "10101111\n",
      "01111101\n",
      "11001110\n",
      "00000010\n",
      "2\n"
     ]
    }
   ],
   "source": [
    "import copy\n",
    "jarr=[input()for i in range(4)]\n",
    "jK=int(input())\n",
    "# for i in range(jK):\n",
    "#     jN,jP=list(map(int, input().split()))"
   ]
  },
  {
   "cell_type": "code",
   "execution_count": 59,
   "metadata": {},
   "outputs": [],
   "source": [
    "arr=copy.deepcopy(jarr)\n",
    "K=jK\n",
    "N=3\n",
    "D=-1"
   ]
  },
  {
   "cell_type": "code",
   "execution_count": 51,
   "metadata": {},
   "outputs": [],
   "source": [
    "N=1\n",
    "D=1"
   ]
  },
  {
   "cell_type": "code",
   "execution_count": 52,
   "metadata": {},
   "outputs": [
    {
     "name": "stdout",
     "output_type": "stream",
     "text": [
      "['10101111', '01111101', '10011101', '00000010'] 2\n",
      "['10101111', '01111101', '11001110', '00000010']\n",
      "0\n"
     ]
    }
   ],
   "source": [
    "# arr=[list(map(int, input().split()))for i in range(4)]\n",
    "# K=int(input())\n",
    "# 왼 2 오른 6 다른 극 -> 움직임\n",
    "print(arr,K)\n",
    "print(jarr)"
   ]
  },
  {
   "cell_type": "code",
   "execution_count": 61,
   "metadata": {},
   "outputs": [
    {
     "name": "stdout",
     "output_type": "stream",
     "text": [
      "10010011\n",
      "01010011\n",
      "11100011\n",
      "01010101\n",
      "8\n",
      "1 1\n",
      "2 1\n",
      "3 1\n",
      "4 1\n",
      "1 -1\n",
      "2 -1\n",
      "3 -1\n",
      "4 -1\n",
      "['10010011', '10101001', '11000111', '10101010'] 15\n"
     ]
    }
   ],
   "source": [
    "arr=[input()for i in range(4)]\n",
    "K=int(input())\n",
    "\n",
    "result=0\n",
    "def rotationDown(arr, d, i):\n",
    "    global direct\n",
    "    if d == -1:\n",
    "        if arr[i][1] != arr[i + 1][6]:\n",
    "            arr[i + 1] = arr[i + 1][-1] + arr[i + 1][:-1]\n",
    "            direct = 1\n",
    "            return\n",
    "    if d == 1:\n",
    "        if arr[i][3] != arr[i + 1][6]:\n",
    "            arr[i + 1] = arr[i + 1][1:] + arr[i + 1][0]\n",
    "            direct = -1\n",
    "            return\n",
    "    direct = 0\n",
    "\n",
    "def rotationUp(arr, d, i):\n",
    "    global direct\n",
    "    if d == -1:\n",
    "        if arr[i][5] != arr[i - 1][2]:\n",
    "            arr[i - 1] = arr[i - 1][-1] + arr[i - 1][:-1]\n",
    "            direct = 1\n",
    "            return\n",
    "    if d == 1:\n",
    "        if arr[i][7] != arr[i - 1][2]:\n",
    "            arr[i - 1] = arr[i - 1][1:] + arr[i - 1][0]\n",
    "            direct = -1\n",
    "            return\n",
    "    direct = 0\n",
    "\n",
    "for o in range(K):\n",
    "    N, D = map(int, input().split())\n",
    "    N = N - 1\n",
    "    direct = D\n",
    "    if D == 1:\n",
    "        arr[N] = arr[N][-1] + arr[N][:-1]\n",
    "    if D==-1:\n",
    "        arr[N] = arr[N][1:] + arr[N][0]\n",
    "        \n",
    "    if N == 0:\n",
    "        for i in range(0, 3):\n",
    "            ### 아래로만(톱니 우측만)\n",
    "            if direct == 0:\n",
    "                break\n",
    "            if direct == 1:\n",
    "                rotationDown(arr, 1, N)\n",
    "            if direct == -1:\n",
    "                rotationDown(arr, -1, N)\n",
    "    if N == 3:\n",
    "        for i in range(3, 0, -1):\n",
    "            ### 위로만(톱니 좌측만)\n",
    "            if direct == 0:\n",
    "                break\n",
    "            if direct == 1:\n",
    "                rotationUp(arr, 1, N)\n",
    "            if direct == -1:\n",
    "                rotationUp(arr, -1, N)\n",
    "    else:\n",
    "        for i in range(N, 0, -1):\n",
    "            ## 위로(톱니 좌측)\n",
    "            if direct == 0:\n",
    "                break\n",
    "            if direct == 1:\n",
    "                rotationUp(arr, 1, N)\n",
    "            if direct == -1:\n",
    "                rotationUp(arr, -1, N)\n",
    "        for i in range(N, 3):\n",
    "            ## 아래로(톱니 우측)\n",
    "            if direct == 0:\n",
    "                break\n",
    "            if direct == 1:\n",
    "                rotationDown(arr, 1, N)\n",
    "            if direct == -1:\n",
    "                rotationDown(arr, -1, N)\n",
    "\n",
    "if arr[0][0]=='1':\n",
    "    result+=1\n",
    "if arr[1][0]=='1':\n",
    "    result+=2\n",
    "if arr[2][0]=='1':\n",
    "    result+=4\n",
    "if arr[3][0]=='1':\n",
    "    result+=8\n",
    "print(arr,result)"
   ]
  },
  {
   "cell_type": "code",
   "execution_count": 13,
   "metadata": {},
   "outputs": [],
   "source": []
  },
  {
   "cell_type": "code",
   "execution_count": null,
   "metadata": {},
   "outputs": [],
   "source": [
    "\n",
    "if D==-1:\n",
    "    arr[N]=arr[N][1:]+arr[N][0]\n",
    "    if N+1<=4:\n",
    "        if arr[N][1]!=arr[N+1][6]:\n",
    "            arr[N+1]=arr[N+1][-1]+arr[N+1][:-1]\n",
    "    if N-1>=0:\n",
    "        if arr[N][5]!=arr[N-1][2]:\n",
    "            arr[N-1]=arr[N-1][-1]+arr[N-1][:-1]\n",
    "else:\n",
    "    arr[N]=arr[N][-1]+arr[N][:-1]\n",
    "    if N+1<=4:\n",
    "        if arr[N][3]!=arr[N+1][6]:\n",
    "            arr[N+1]=arr[N+1][1:]+arr[N+1][0]\n",
    "    if N-1>=0:\n",
    "        if arr[N][7]!=arr[N-1][2]:\n",
    "            arr[N-1]=arr[N-1][1:]+arr[N-1][0]"
   ]
  },
  {
   "cell_type": "code",
   "execution_count": 39,
   "metadata": {},
   "outputs": [
    {
     "name": "stdout",
     "output_type": "stream",
     "text": [
      "2\n",
      "1\n"
     ]
    }
   ],
   "source": [
    "for i in range(2,0,-1):\n",
    "    print(i)"
   ]
  },
  {
   "cell_type": "code",
   "execution_count": null,
   "metadata": {},
   "outputs": [],
   "source": [
    "if N ==0:\n",
    "    if D==-1:\n",
    "        arr[0]=arr[1:]+a[0]\n",
    "    else:\n",
    "        arr[0]=arr[:-1]+a[-1]"
   ]
  },
  {
   "cell_type": "code",
   "execution_count": null,
   "metadata": {},
   "outputs": [],
   "source": [
    "a='12345'"
   ]
  },
  {
   "cell_type": "code",
   "execution_count": null,
   "metadata": {},
   "outputs": [],
   "source": [
    "b=a[-1]+a[:-1]\n",
    "b"
   ]
  },
  {
   "cell_type": "code",
   "execution_count": null,
   "metadata": {},
   "outputs": [],
   "source": [
    "c=a[1:]+a[0]\n",
    "c"
   ]
  },
  {
   "cell_type": "code",
   "execution_count": null,
   "metadata": {},
   "outputs": [],
   "source": [
    "ar=[[1,1,1,1],[2,2,2,2]]\n",
    "def test(a):\n",
    "    a[0][0]-=1\n",
    "test(ar)\n",
    "ar"
   ]
  },
  {
   "cell_type": "code",
   "execution_count": 10,
   "metadata": {},
   "outputs": [
    {
     "name": "stdout",
     "output_type": "stream",
     "text": [
      "1\n",
      "2\n",
      "3\n"
     ]
    }
   ],
   "source": [
    "for i in range(1,4):\n",
    "    print(i)"
   ]
  },
  {
   "cell_type": "code",
   "execution_count": null,
   "metadata": {},
   "outputs": [],
   "source": [
    "b+=1\n",
    "print(a,b)"
   ]
  },
  {
   "cell_type": "code",
   "execution_count": null,
   "metadata": {},
   "outputs": [],
   "source": []
  }
 ],
 "metadata": {
  "kernelspec": {
   "display_name": "Python 3",
   "language": "python",
   "name": "python3"
  },
  "language_info": {
   "codemirror_mode": {
    "name": "ipython",
    "version": 3
   },
   "file_extension": ".py",
   "mimetype": "text/x-python",
   "name": "python",
   "nbconvert_exporter": "python",
   "pygments_lexer": "ipython3",
   "version": "3.7.4"
  }
 },
 "nbformat": 4,
 "nbformat_minor": 2
}
